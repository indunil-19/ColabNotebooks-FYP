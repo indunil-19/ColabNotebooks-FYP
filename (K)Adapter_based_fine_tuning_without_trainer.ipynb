{
  "cells": [
    {
      "cell_type": "markdown",
      "metadata": {
        "id": "view-in-github",
        "colab_type": "text"
      },
      "source": [
        "<a href=\"https://colab.research.google.com/github/indunil-19/ColabNotebooks-FYP/blob/main/(K)Adapter_based_fine_tuning_without_trainer.ipynb\" target=\"_parent\"><img src=\"https://colab.research.google.com/assets/colab-badge.svg\" alt=\"Open In Colab\"/></a>"
      ]
    },
    {
      "cell_type": "markdown",
      "metadata": {
        "id": "eoL8-pXx9z7c"
      },
      "source": [
        "## Training Single Task Adapters\n",
        "For Bert SinBert and XLM-R Models"
      ]
    },
    {
      "cell_type": "code",
      "execution_count": 130,
      "metadata": {
        "colab": {
          "base_uri": "https://localhost:8080/",
          "height": 52
        },
        "id": "KSLx_mnliOvH",
        "outputId": "aa6fa442-09ed-40ce-b957-2e943fccadbf"
      },
      "outputs": [
        {
          "output_type": "stream",
          "name": "stdout",
          "text": [
            "GPU Device name\n"
          ]
        },
        {
          "output_type": "execute_result",
          "data": {
            "text/plain": [
              "'Tesla T4'"
            ],
            "application/vnd.google.colaboratory.intrinsic+json": {
              "type": "string"
            }
          },
          "metadata": {},
          "execution_count": 130
        }
      ],
      "source": [
        "import torch\n",
        "print(\"GPU Device name\")\n",
        "torch.cuda.get_device_name(0)"
      ]
    },
    {
      "cell_type": "code",
      "execution_count": 131,
      "metadata": {
        "colab": {
          "base_uri": "https://localhost:8080/"
        },
        "id": "qGOfIYJ3Tnm-",
        "outputId": "626441ca-196c-4dc0-c7c8-1f293aec2b07"
      },
      "outputs": [
        {
          "output_type": "stream",
          "name": "stdout",
          "text": [
            "Drive already mounted at /content/drive; to attempt to forcibly remount, call drive.mount(\"/content/drive\", force_remount=True).\n"
          ]
        }
      ],
      "source": [
        "from google.colab import drive\n",
        "drive.mount('/content/drive')"
      ]
    },
    {
      "cell_type": "markdown",
      "metadata": {
        "id": "CCdvw5JNlygg"
      },
      "source": [
        "### **Parameters**"
      ]
    },
    {
      "cell_type": "code",
      "execution_count": 132,
      "metadata": {
        "id": "6LjxhVXklun6"
      },
      "outputs": [],
      "source": [
        "technique = \"Sentiment\" #@param [\"Sentiment\", \"Humor\", \"Hate-Speech\"]\n",
        "experiment_no = \"1\"\n",
        "oversample_dataset = False\n",
        "over_sampling_technique = \"ROS\"\n",
        "sampling_strategy = \"1:0.25:0.25\"\n",
        "validation_size = (1/9)\n",
        "test_size = 0.1\n",
        "split_random_state = 42\n",
        "training_seed = 8 #@param [ 8, 42, 77]\n",
        "NO_OUTPUT_LAYERS = 4 #Sentiment:4, Humor:2, Hate-Speech:3\n",
        "id2label={ 0: 'Positive', 1: 'Not-Kannada',2:'Neutral', 3:'Conflict' }\n",
        "tag_set = ['Positive', 'Not-Kannada', 'Neutral', 'Negative', 'Conflict']\n",
        "script=\"Char-Script-1.0\"\n",
        "\n",
        "\n",
        "load_adapter = False #@param {type:\"boolean\"}\n",
        "unfreeze_model = False #@param {type:\"boolean\"}\n",
        "save_adapter = False #@param {type:\"boolean\"}\n",
        "lang_adapter_setting = \"none\" #@param [\"none\", \"stack\", \"parallel\"]\n",
        "adapter_config = \"houlsby\" #@param [\"houlsby\", \"pfeiffer\"]"
      ]
    },
    {
      "cell_type": "code",
      "execution_count": 133,
      "metadata": {
        "id": "Z5zzz0_5IxVc"
      },
      "outputs": [],
      "source": [
        "MAX_LEN = 128\n",
        "BATCH_SIZE = 32\n",
        "LEARNING_RATE = 5e-4\n",
        "EPOCHS = 20"
      ]
    },
    {
      "cell_type": "code",
      "execution_count": 134,
      "metadata": {
        "id": "KanOOHjzWI7b"
      },
      "outputs": [],
      "source": [
        "# technique=\"hate\"\n",
        "pretrained_adapter_path = \"/content/drive/Shareddrives/Lingua/Final/\"+technique #+ \"_\" + str(random_state)"
      ]
    },
    {
      "cell_type": "markdown",
      "metadata": {
        "id": "3L9gYpCV28OA"
      },
      "source": [
        "### Installation"
      ]
    },
    {
      "cell_type": "code",
      "execution_count": 135,
      "metadata": {
        "colab": {
          "base_uri": "https://localhost:8080/"
        },
        "id": "qL3Sq1HQynCq",
        "outputId": "1b920ec8-2e5a-48d3-e87f-aceb92aa9eef"
      },
      "outputs": [
        {
          "output_type": "stream",
          "name": "stdout",
          "text": [
            "Looking in indexes: https://pypi.org/simple, https://us-python.pkg.dev/colab-wheels/public/simple/\n",
            "Requirement already satisfied: adapter-transformers==3.1.0 in /usr/local/lib/python3.10/dist-packages (3.1.0)\n",
            "Requirement already satisfied: filelock in /usr/local/lib/python3.10/dist-packages (from adapter-transformers==3.1.0) (3.12.0)\n",
            "Requirement already satisfied: huggingface-hub<1.0,>=0.1.0 in /usr/local/lib/python3.10/dist-packages (from adapter-transformers==3.1.0) (0.15.1)\n",
            "Requirement already satisfied: numpy>=1.17 in /usr/local/lib/python3.10/dist-packages (from adapter-transformers==3.1.0) (1.22.4)\n",
            "Requirement already satisfied: packaging>=20.0 in /usr/local/lib/python3.10/dist-packages (from adapter-transformers==3.1.0) (23.1)\n",
            "Requirement already satisfied: pyyaml>=5.1 in /usr/local/lib/python3.10/dist-packages (from adapter-transformers==3.1.0) (6.0)\n",
            "Requirement already satisfied: regex!=2019.12.17 in /usr/local/lib/python3.10/dist-packages (from adapter-transformers==3.1.0) (2022.10.31)\n",
            "Requirement already satisfied: requests in /usr/local/lib/python3.10/dist-packages (from adapter-transformers==3.1.0) (2.27.1)\n",
            "Requirement already satisfied: tokenizers!=0.11.3,<0.13,>=0.11.1 in /usr/local/lib/python3.10/dist-packages (from adapter-transformers==3.1.0) (0.12.1)\n",
            "Requirement already satisfied: tqdm>=4.27 in /usr/local/lib/python3.10/dist-packages (from adapter-transformers==3.1.0) (4.65.0)\n",
            "Requirement already satisfied: fsspec in /usr/local/lib/python3.10/dist-packages (from huggingface-hub<1.0,>=0.1.0->adapter-transformers==3.1.0) (2023.4.0)\n",
            "Requirement already satisfied: typing-extensions>=3.7.4.3 in /usr/local/lib/python3.10/dist-packages (from huggingface-hub<1.0,>=0.1.0->adapter-transformers==3.1.0) (4.5.0)\n",
            "Requirement already satisfied: urllib3<1.27,>=1.21.1 in /usr/local/lib/python3.10/dist-packages (from requests->adapter-transformers==3.1.0) (1.26.15)\n",
            "Requirement already satisfied: certifi>=2017.4.17 in /usr/local/lib/python3.10/dist-packages (from requests->adapter-transformers==3.1.0) (2022.12.7)\n",
            "Requirement already satisfied: charset-normalizer~=2.0.0 in /usr/local/lib/python3.10/dist-packages (from requests->adapter-transformers==3.1.0) (2.0.12)\n",
            "Requirement already satisfied: idna<4,>=2.5 in /usr/local/lib/python3.10/dist-packages (from requests->adapter-transformers==3.1.0) (3.4)\n",
            "Looking in indexes: https://pypi.org/simple, https://us-python.pkg.dev/colab-wheels/public/simple/\n",
            "Requirement already satisfied: datasets in /usr/local/lib/python3.10/dist-packages (2.13.0)\n",
            "Requirement already satisfied: numpy>=1.17 in /usr/local/lib/python3.10/dist-packages (from datasets) (1.22.4)\n",
            "Requirement already satisfied: pyarrow>=8.0.0 in /usr/local/lib/python3.10/dist-packages (from datasets) (9.0.0)\n",
            "Requirement already satisfied: dill<0.3.7,>=0.3.0 in /usr/local/lib/python3.10/dist-packages (from datasets) (0.3.6)\n",
            "Requirement already satisfied: pandas in /usr/local/lib/python3.10/dist-packages (from datasets) (1.5.3)\n",
            "Requirement already satisfied: requests>=2.19.0 in /usr/local/lib/python3.10/dist-packages (from datasets) (2.27.1)\n",
            "Requirement already satisfied: tqdm>=4.62.1 in /usr/local/lib/python3.10/dist-packages (from datasets) (4.65.0)\n",
            "Requirement already satisfied: xxhash in /usr/local/lib/python3.10/dist-packages (from datasets) (3.2.0)\n",
            "Requirement already satisfied: multiprocess in /usr/local/lib/python3.10/dist-packages (from datasets) (0.70.14)\n",
            "Requirement already satisfied: fsspec[http]>=2021.11.1 in /usr/local/lib/python3.10/dist-packages (from datasets) (2023.4.0)\n",
            "Requirement already satisfied: aiohttp in /usr/local/lib/python3.10/dist-packages (from datasets) (3.8.4)\n",
            "Requirement already satisfied: huggingface-hub<1.0.0,>=0.11.0 in /usr/local/lib/python3.10/dist-packages (from datasets) (0.15.1)\n",
            "Requirement already satisfied: packaging in /usr/local/lib/python3.10/dist-packages (from datasets) (23.1)\n",
            "Requirement already satisfied: pyyaml>=5.1 in /usr/local/lib/python3.10/dist-packages (from datasets) (6.0)\n",
            "Requirement already satisfied: attrs>=17.3.0 in /usr/local/lib/python3.10/dist-packages (from aiohttp->datasets) (23.1.0)\n",
            "Requirement already satisfied: charset-normalizer<4.0,>=2.0 in /usr/local/lib/python3.10/dist-packages (from aiohttp->datasets) (2.0.12)\n",
            "Requirement already satisfied: multidict<7.0,>=4.5 in /usr/local/lib/python3.10/dist-packages (from aiohttp->datasets) (6.0.4)\n",
            "Requirement already satisfied: async-timeout<5.0,>=4.0.0a3 in /usr/local/lib/python3.10/dist-packages (from aiohttp->datasets) (4.0.2)\n",
            "Requirement already satisfied: yarl<2.0,>=1.0 in /usr/local/lib/python3.10/dist-packages (from aiohttp->datasets) (1.9.2)\n",
            "Requirement already satisfied: frozenlist>=1.1.1 in /usr/local/lib/python3.10/dist-packages (from aiohttp->datasets) (1.3.3)\n",
            "Requirement already satisfied: aiosignal>=1.1.2 in /usr/local/lib/python3.10/dist-packages (from aiohttp->datasets) (1.3.1)\n",
            "Requirement already satisfied: filelock in /usr/local/lib/python3.10/dist-packages (from huggingface-hub<1.0.0,>=0.11.0->datasets) (3.12.0)\n",
            "Requirement already satisfied: typing-extensions>=3.7.4.3 in /usr/local/lib/python3.10/dist-packages (from huggingface-hub<1.0.0,>=0.11.0->datasets) (4.5.0)\n",
            "Requirement already satisfied: urllib3<1.27,>=1.21.1 in /usr/local/lib/python3.10/dist-packages (from requests>=2.19.0->datasets) (1.26.15)\n",
            "Requirement already satisfied: certifi>=2017.4.17 in /usr/local/lib/python3.10/dist-packages (from requests>=2.19.0->datasets) (2022.12.7)\n",
            "Requirement already satisfied: idna<4,>=2.5 in /usr/local/lib/python3.10/dist-packages (from requests>=2.19.0->datasets) (3.4)\n",
            "Requirement already satisfied: python-dateutil>=2.8.1 in /usr/local/lib/python3.10/dist-packages (from pandas->datasets) (2.8.2)\n",
            "Requirement already satisfied: pytz>=2020.1 in /usr/local/lib/python3.10/dist-packages (from pandas->datasets) (2022.7.1)\n",
            "Requirement already satisfied: six>=1.5 in /usr/local/lib/python3.10/dist-packages (from python-dateutil>=2.8.1->pandas->datasets) (1.16.0)\n",
            "Looking in indexes: https://pypi.org/simple, https://us-python.pkg.dev/colab-wheels/public/simple/\n",
            "Requirement already satisfied: sentencepiece in /usr/local/lib/python3.10/dist-packages (0.1.99)\n"
          ]
        }
      ],
      "source": [
        "!pip install -U adapter-transformers==3.1.0\n",
        "!pip install datasets\n",
        "!pip install sentencepiece"
      ]
    },
    {
      "cell_type": "markdown",
      "metadata": {
        "id": "LUHpDE_Gtyen"
      },
      "source": [
        "### Dependencies"
      ]
    },
    {
      "cell_type": "code",
      "execution_count": 135,
      "metadata": {
        "id": "mUcFdH0HIxVe"
      },
      "outputs": [],
      "source": []
    },
    {
      "cell_type": "code",
      "execution_count": 136,
      "metadata": {
        "id": "xJZ6z8bJl25l"
      },
      "outputs": [],
      "source": [
        "import re\n",
        "import time\n",
        "import torch\n",
        "from torch.utils.data import TensorDataset, DataLoader, RandomSampler, SequentialSampler\n",
        "from google.colab import drive\n",
        "from tqdm import tqdm\n",
        "from sklearn.metrics import classification_report\n",
        "import io\n",
        "import seaborn as sns\n",
        "from sklearn.model_selection import train_test_split\n",
        "import numpy as np\n",
        "import pandas as pd\n",
        "from transformers import AutoAdapterModel ,AutoTokenizer, AdapterConfig,AutoConfig, AutoModelWithHeads, TrainingArguments, AdapterTrainer, EvalPrediction, AdamW, get_scheduler, TextClassificationPipeline, EarlyStoppingCallback, Trainer,set_seed\n",
        "from transformers import  AdamW, get_linear_schedule_with_warmup,set_seed\n",
        "from transformers.adapters.composition import Fuse, Stack, Parallel\n",
        "from datasets import load_metric\n",
        "from collections import Counter\n",
        "from imblearn.over_sampling import RandomOverSampler, SMOTE, ADASYN, BorderlineSMOTE\n",
        "import matplotlib.pyplot as plt\n",
        "%matplotlib inline\n"
      ]
    },
    {
      "cell_type": "markdown",
      "metadata": {
        "id": "EzrDM6Ua-jo_"
      },
      "source": [
        "### Dataset Preprocessing"
      ]
    },
    {
      "cell_type": "code",
      "execution_count": 137,
      "metadata": {
        "id": "BB8pw1RDuDaA"
      },
      "outputs": [],
      "source": [
        "def apply_oversampling(x, y):\n",
        "\n",
        "  (unique, counts) = np.unique(y, axis=0, return_counts=True)\n",
        "  print(\"Class Distribution Without Oversampling\", counts)\n",
        "\n",
        "  # define oversampling strategy\n",
        "  if (over_sampling_technique == \"\"):\n",
        "    return x, y\n",
        "  elif (over_sampling_technique == \"ROS\"):\n",
        "    if (technique==\"humor\"):\n",
        "      oversample = RandomOverSampler(sampling_strategy = float(sampling_strategy))\n",
        "    else:\n",
        "      sampling_ratio = sampling_strategy.split(\":\");\n",
        "      oversample = RandomOverSampler(sampling_strategy = {\n",
        "          0:int(counts[0]*float(sampling_ratio[0])),\n",
        "          1:int(counts[0]*float(sampling_ratio[1])),\n",
        "          2:int(counts[0]*float(sampling_ratio[2]))\n",
        "          })\n",
        "  elif (over_sampling_technique == \"ADASYN\"):\n",
        "    oversample = ADASYN(sampling_strategy=\"minority\")\n",
        "  elif (over_sampling_technique == \"SMOTE\"):\n",
        "    oversample = SMOTE()\n",
        "  elif (over_sampling_technique == \"BorderlineSMOTE\"):\n",
        "    oversample = BorderlineSMOTE()\n",
        "\n",
        "  # fit and apply the transform\n",
        "  X_over, y_over = oversample.fit_resample(x, y)\n",
        "\n",
        "  (unique, counts) = np.unique(y_over, axis=0, return_counts=True)\n",
        "  print(\"Class Distribution After Oversampling\", counts)\n",
        "\n",
        "  return X_over, y_over"
      ]
    },
    {
      "cell_type": "code",
      "execution_count": 138,
      "metadata": {
        "id": "0MUpioPlmvMh"
      },
      "outputs": [],
      "source": [
        "dataset_path = \"/content/drive/Shareddrives/Lingua/Dravidian-English Datasets/kannada-english-sentiment-hate-speech.csv\"\n",
        "model_save_path = \"/kaggle/working/\"+technique+\"/\"+experiment_no"
      ]
    },
    {
      "cell_type": "code",
      "execution_count": 139,
      "metadata": {
        "id": "yq5AMmjelqlj"
      },
      "outputs": [],
      "source": [
        "df = pd.read_csv(dataset_path)\n",
        "df = df[['Sentence', technique, script]]\n",
        "df.columns = ['Sentence', 'Label', script]\n",
        "df = df[df[\"Label\"] != \"Not-Kannada\"]\n",
        "df['Label'], uniq = pd.factorize(df['Label'])\n",
        "\n",
        "X, y = df[['Sentence', script]], df[['Label']]\n",
        "stratifying_col = y[\"Label\"]\n",
        "X_rem, X_test, y_rem, y_test = train_test_split(X, y, test_size=test_size, stratify=stratifying_col, random_state=split_random_state)\n",
        "stratifying_col = y_rem[\"Label\"]\n",
        "X_train, X_validation, y_train, y_validation = train_test_split(X_rem, y_rem, test_size=validation_size, stratify=stratifying_col, random_state=split_random_state)"
      ]
    },
    {
      "cell_type": "code",
      "execution_count": 140,
      "metadata": {
        "id": "Ppy0Sj5NIxVg"
      },
      "outputs": [],
      "source": [
        "del df, X, y, stratifying_col, X_rem, y_rem"
      ]
    },
    {
      "cell_type": "code",
      "execution_count": 141,
      "metadata": {
        "colab": {
          "base_uri": "https://localhost:8080/"
        },
        "id": "oHELisZ0ufPM",
        "outputId": "be160abe-683a-4eff-e4a0-77b0cc3c476d"
      },
      "outputs": [
        {
          "output_type": "execute_result",
          "data": {
            "text/plain": [
              "Index(['Positive', 'Neutral', 'Negative', 'Conflict'], dtype='object')"
            ]
          },
          "metadata": {},
          "execution_count": 141
        }
      ],
      "source": [
        "uniq"
      ]
    },
    {
      "cell_type": "code",
      "execution_count": 142,
      "metadata": {
        "colab": {
          "base_uri": "https://localhost:8080/"
        },
        "id": "dkRs6oJvIxVh",
        "outputId": "2edd4db9-1c45-4e99-f03e-54268e682ea6"
      },
      "outputs": [
        {
          "output_type": "stream",
          "name": "stdout",
          "text": [
            "X_train : Rows = 5016 , Columns =  2\n",
            "y_train : Rows = 5016 , Columns =  1\n",
            "X_validation : Rows = 627 , Columns =  2\n",
            "y_validation : Rows = 627 , Columns =  1\n",
            "X_test : Rows = 627 , Columns =  2\n",
            "y_test : Rows = 627 , Columns =  1\n"
          ]
        }
      ],
      "source": [
        "print(\"X_train : Rows =\", X_train.shape[0], \", Columns = \", X_train.shape[1])\n",
        "print(\"y_train : Rows =\", y_train.shape[0], \", Columns = \", y_train.shape[1])\n",
        "print(\"X_validation : Rows =\", X_validation.shape[0], \", Columns = \", X_validation.shape[1])\n",
        "print(\"y_validation : Rows =\", y_validation.shape[0], \", Columns = \", y_validation.shape[1])\n",
        "print(\"X_test : Rows =\", X_test.shape[0], \", Columns = \", X_test.shape[1])\n",
        "print(\"y_test : Rows =\", y_test.shape[0], \", Columns = \", y_test.shape[1])"
      ]
    },
    {
      "cell_type": "code",
      "execution_count": 143,
      "metadata": {
        "colab": {
          "base_uri": "https://localhost:8080/"
        },
        "id": "UaUlvhRwIxVh",
        "outputId": "b8c40870-3d82-438b-f6e4-54a79928726b"
      },
      "outputs": [
        {
          "output_type": "stream",
          "name": "stdout",
          "text": [
            "Labels : ['Positive', 'Not-Kannada', 'Neutral', 'Negative', 'Conflict']\n",
            "Train : [2633, 656, 1185, 542]\n",
            "Validation : [329, 82, 148, 68]\n",
            "Test : [329, 82, 148, 68]\n"
          ]
        }
      ],
      "source": [
        "print(\"Labels :\",['Positive', 'Not-Kannada', 'Neutral', 'Negative', 'Conflict'])\n",
        "print(\"Train :\", y_train.groupby('Label').size().tolist())\n",
        "print(\"Validation :\", y_validation.groupby('Label').size().tolist())\n",
        "print(\"Test :\", y_test.groupby('Label').size().tolist())"
      ]
    },
    {
      "cell_type": "code",
      "execution_count": 144,
      "metadata": {
        "id": "7tCiiAeuIxVi"
      },
      "outputs": [],
      "source": [
        "if oversample_dataset:\n",
        "  X_train = np.array(X_train).reshape(-1, 1)\n",
        "  X_train, y_train = apply_oversampling(X_train, y_train)\n",
        "  X_train = [x[0] for x in X_train.tolist()]\n",
        "# y_train = y_train.tolist()"
      ]
    },
    {
      "cell_type": "markdown",
      "metadata": {
        "id": "Xw-aKg9RIxVi"
      },
      "source": [
        "##### **Preprocess Data**"
      ]
    },
    {
      "cell_type": "code",
      "execution_count": 145,
      "metadata": {
        "id": "T_2iifBVIxVi"
      },
      "outputs": [],
      "source": [
        "set_seed(training_seed)"
      ]
    },
    {
      "cell_type": "code",
      "execution_count": 146,
      "metadata": {
        "id": "SxzzTXwZIxVj"
      },
      "outputs": [],
      "source": [
        "X_train, y_train = X_train.values.tolist(), y_train.values.tolist()\n",
        "X_validation, y_validation = X_validation.values.tolist(), y_validation.values.tolist()\n",
        "X_test, y_test = X_test.values.tolist(), y_test.values.tolist()"
      ]
    },
    {
      "cell_type": "code",
      "execution_count": 147,
      "metadata": {
        "id": "oQbG0JmQIxVj"
      },
      "outputs": [],
      "source": [
        "X_train_arr=[]\n",
        "y_train_arr=[]\n",
        "\n",
        "for i in range(len(X_train)):\n",
        "    X_train_arr.append(X_train[i][0])\n",
        "    y_train_arr.append(y_train[i][0])\n",
        "\n",
        "\n",
        "X_validation_arr=[]\n",
        "y_validation_arr=[]\n",
        "for i in range(len(X_validation)):\n",
        "    X_validation_arr.append(X_validation[i][0])\n",
        "    y_validation_arr.append(y_validation[i][0])\n",
        "\n",
        "\n",
        "X_test_arr=[]\n",
        "y_test_arr=[]\n",
        "X_test_latin=[]\n",
        "y_test_latin=[]\n",
        "\n",
        "X_test_Sinhala=[]\n",
        "y_test_Sinhala=[]\n",
        "\n",
        "X_test_Mixed=[]\n",
        "y_test_Mixed=[]\n",
        "for i in range(len(X_test)):\n",
        "    X_test_arr.append(X_test[i][0])\n",
        "    y_test_arr.append(y_test[i][0])\n",
        "\n",
        "    # if X_test[i][1]==\"Latin\":\n",
        "    #     X_test_latin.append(X_test[i][0])\n",
        "    #     y_test_latin.append(y_test[i][0])\n",
        "\n",
        "    # elif X_test[i][1]==\"Sinhala\":\n",
        "    #     X_test_Sinhala.append(X_test[i][0])\n",
        "    #     y_test_Sinhala.append(y_test[i][0])\n",
        "\n",
        "    # elif X_test[i][1]==\"Mixed\":\n",
        "    #     X_test_Mixed.append(X_test[i][0])\n",
        "    #     y_test_Mixed.append(y_test[i][0])"
      ]
    },
    {
      "cell_type": "code",
      "execution_count": 148,
      "metadata": {
        "id": "lCUWfe8-n0i8"
      },
      "outputs": [],
      "source": [
        "tokenizer = AutoTokenizer.from_pretrained(\"xlm-roberta-base\", do_lower_case=True)"
      ]
    },
    {
      "cell_type": "code",
      "execution_count": 149,
      "metadata": {
        "id": "TqXJtJe8oObQ"
      },
      "outputs": [],
      "source": [
        "encoded_X_train = tokenizer(X_train_arr, truncation=True, padding=True, max_length=MAX_LEN)\n",
        "encoded_X_validation = tokenizer(X_validation_arr, truncation=True, padding=True, max_length=MAX_LEN)\n",
        "encoded_X_test = tokenizer(X_test_arr, truncation=True, padding=True, max_length=MAX_LEN)\n",
        "# encoded_X_test_latin = tokenizer(X_test_latin, truncation=True, padding=True, max_length=MAX_LEN)\n",
        "# encoded_X_test_Sinhala = tokenizer(X_test_Sinhala, truncation=True, padding=True, max_length=MAX_LEN)\n",
        "# encoded_X_test_Mixed = tokenizer(X_test_Mixed, truncation=True, padding=True, max_length=MAX_LEN)\n",
        "\n"
      ]
    },
    {
      "cell_type": "code",
      "execution_count": 150,
      "metadata": {
        "id": "6581Al-K_Nyf"
      },
      "outputs": [],
      "source": [
        "class DatasetObject(torch.utils.data.Dataset):\n",
        "    def __init__(self, encodings, labels):\n",
        "        self.encodings = encodings\n",
        "        self.labels = labels\n",
        "\n",
        "    def __getitem__(self, idx):\n",
        "        item = {key: torch.tensor(val[idx]) for key, val in self.encodings.items()}\n",
        "        item['labels'] = torch.tensor(self.labels[idx])\n",
        "        return item\n",
        "\n",
        "    def __len__(self):\n",
        "        return len(self.labels)\n",
        "\n",
        "train_dataset = DatasetObject(encoded_X_train, y_train_arr)\n",
        "validation_dataset = DatasetObject(encoded_X_validation, y_validation_arr)\n",
        "test_dataset = DatasetObject(encoded_X_test, y_test_arr)\n",
        "# test_dataset_latin = DatasetObject(encoded_X_test_latin, y_test_latin)\n",
        "# test_dataset_Sinhala = DatasetObject(encoded_X_test_Sinhala, y_test_Sinhala)\n",
        "# test_dataset_Mixed = DatasetObject(encoded_X_test_Mixed, y_test_Mixed)\n"
      ]
    },
    {
      "cell_type": "code",
      "execution_count": 151,
      "metadata": {
        "id": "Mol-S8fDIxVk"
      },
      "outputs": [],
      "source": [
        "# train_sampler = RandomSampler(train_dataset)\n",
        "train_sampler = SequentialSampler(train_dataset)\n",
        "validation_sampler = SequentialSampler(validation_dataset)\n",
        "test_sampler = SequentialSampler(test_dataset)\n",
        "# validation_sampler_latin = SequentialSampler(test_dataset_latin)\n",
        "# validation_sampler_sinhala= SequentialSampler(test_dataset_Sinhala)\n",
        "# validation_sampler_mixed = SequentialSampler(test_dataset_Mixed)\n",
        "\n",
        "train_loader = DataLoader(train_dataset, sampler=train_sampler , batch_size=BATCH_SIZE)\n",
        "validation_loader = DataLoader(validation_dataset, sampler=validation_sampler , batch_size=BATCH_SIZE)\n",
        "test_loader = DataLoader(test_dataset, sampler=test_sampler , batch_size=BATCH_SIZE)\n",
        "# test_loader_latin = DataLoader(test_dataset_latin, sampler=validation_sampler_latin , batch_size=BATCH_SIZE)\n",
        "# test_loader_Sinhala = DataLoader(test_dataset_Sinhala, sampler=validation_sampler_sinhala , batch_size=BATCH_SIZE)\n",
        "# test_loader_Mixed = DataLoader(test_dataset_Mixed, sampler=validation_sampler_mixed , batch_size=BATCH_SIZE)"
      ]
    },
    {
      "cell_type": "markdown",
      "metadata": {
        "id": "cCwk6iQE_XZb"
      },
      "source": [
        "### Training"
      ]
    },
    {
      "cell_type": "code",
      "execution_count": 152,
      "metadata": {
        "colab": {
          "base_uri": "https://localhost:8080/"
        },
        "id": "KNyi1nFH_TOS",
        "outputId": "7e130ba3-7a35-4d09-eea5-cf96db07ba51"
      },
      "outputs": [
        {
          "output_type": "stream",
          "name": "stderr",
          "text": [
            "/usr/local/lib/python3.10/dist-packages/transformers/adapters/models/roberta/adapter_model.py:255: FutureWarning: This class has been renamed to `RobertaModelWithHeads` in v3. Please use the new class instead as this class might be removed in a future version.\n",
            "  warnings.warn(\n",
            "/usr/local/lib/python3.10/dist-packages/transformers/adapters/models/roberta/adapter_model.py:233: FutureWarning: This class has been renamed to `RobertaModelWithHeads` in v3. Please use the new class instead as this class might be removed in a future version.\n",
            "  warnings.warn(\n",
            "Some weights of the model checkpoint at xlm-roberta-base were not used when initializing XLMRobertaModelWithHeads: ['lm_head.decoder.weight', 'lm_head.layer_norm.weight', 'lm_head.bias', 'lm_head.layer_norm.bias', 'lm_head.dense.weight', 'lm_head.dense.bias']\n",
            "- This IS expected if you are initializing XLMRobertaModelWithHeads from the checkpoint of a model trained on another task or with another architecture (e.g. initializing a BertForSequenceClassification model from a BertForPreTraining model).\n",
            "- This IS NOT expected if you are initializing XLMRobertaModelWithHeads from the checkpoint of a model that you expect to be exactly identical (initializing a BertForSequenceClassification model from a BertForSequenceClassification model).\n",
            "Some weights of XLMRobertaModelWithHeads were not initialized from the model checkpoint at xlm-roberta-base and are newly initialized: ['roberta.embeddings.position_ids']\n",
            "You should probably TRAIN this model on a down-stream task to be able to use it for predictions and inference.\n"
          ]
        }
      ],
      "source": [
        "config = AutoConfig.from_pretrained(\"xlm-roberta-base\", num_labels=NO_OUTPUT_LAYERS)\n",
        "model = AutoModelWithHeads.from_pretrained(\"xlm-roberta-base\", config=config)"
      ]
    },
    {
      "cell_type": "code",
      "execution_count": 153,
      "metadata": {
        "colab": {
          "base_uri": "https://localhost:8080/"
        },
        "id": "7RPhSipb_diC",
        "outputId": "9693f9e7-91d3-4078-f770-d5e9b627dc96"
      },
      "outputs": [
        {
          "output_type": "stream",
          "name": "stdout",
          "text": [
            "adding new adapter houlsby\n"
          ]
        }
      ],
      "source": [
        "# Load an adapter\n",
        "if load_adapter:\n",
        "  print(\"loading adapter from\", pretrained_adapter_path)\n",
        "  model.load_adapter(pretrained_adapter_path, with_head=False)\n",
        "\n",
        "# Add a new adapter\n",
        "else:\n",
        "  print(\"adding new adapter\", adapter_config)\n",
        "  if adapter_config == \"pfeiffer\":\n",
        "    config = AdapterConfig.load(\"pfeiffer\", reduction_factor=12)\n",
        "  else:\n",
        "    config = AdapterConfig.load(\"houlsby\")\n",
        "  model.add_adapter(\"task_\"+technique, config=config)"
      ]
    },
    {
      "cell_type": "code",
      "execution_count": 154,
      "metadata": {
        "id": "Zq1dG4sVcDX5"
      },
      "outputs": [],
      "source": [
        "# Add a classification head\n",
        "model.add_classification_head(\n",
        "  \"task_\"+technique,\n",
        "  num_labels=NO_OUTPUT_LAYERS,\n",
        "  id2label=id2label\n",
        ")\n",
        "\n",
        "# Without Language Adapters\n",
        "if lang_adapter_setting == \"none\":\n",
        "  model.set_active_adapters(\"task_\"+technique)\n",
        "\n",
        "else:\n",
        "  # Load language adapters\n",
        "  lang_adapter_config = AdapterConfig.load(\"pfeiffer+inv\")\n",
        "  model.load_adapter(\"/content/drive/Shareddrives/Lingua/adapters/lan/mlm\", config=lang_adapter_config, load_as=\"si-en\", with_head=False)\n",
        "  # model.load_adapter(\"/content/drive/Shareddrives/FYP/TrainedAdapters/si_mlm\", config=lang_adapter_config, load_as=\"si\", with_head=False)\n",
        "  model.load_adapter(\"/content/drive/Shareddrives/Lingua/adapters/lan/si_mlm\", config=lang_adapter_config, load_as=\"si\", with_head=False)\n",
        "  config = AdapterConfig.load(\"pfeiffer\", non_linearity=\"relu\", reduction_factor=2)\n",
        "  model.load_adapter(\"en/wiki@ukp\", config=config)\n",
        "\n",
        "  # Stack Language Adapters\n",
        "  if lang_adapter_setting == \"stack\":\n",
        "    print(\"stacking language adapters\")\n",
        "    model.active_adapters=Stack(\"en\", \"si\", \"si-en\", \"task_\"+technique)\n",
        "\n",
        "  # Parallel Language Adapters\n",
        "  else:\n",
        "    print(\"stacking parallel language adapters set\")\n",
        "    model.active_adapters=Stack(Parallel(\"en\", \"si\", \"si-en\"), \"task_\"+technique)\n",
        "\n",
        "# Train Adapter\n",
        "model.train_adapter(\"task_\"+technique)"
      ]
    },
    {
      "cell_type": "code",
      "execution_count": 155,
      "metadata": {
        "id": "iVTWkQaiiuhZ"
      },
      "outputs": [],
      "source": [
        "# Unfreeze the model to train both the model and adapter\n",
        "if unfreeze_model:\n",
        "  model.freeze_model(False)"
      ]
    },
    {
      "cell_type": "code",
      "execution_count": 156,
      "metadata": {
        "colab": {
          "base_uri": "https://localhost:8080/"
        },
        "id": "SBMtmX77IMlZ",
        "outputId": "7ca6fb96-8823-4a43-9834-cab406fab266"
      },
      "outputs": [
        {
          "output_type": "stream",
          "name": "stdout",
          "text": [
            "Done\n"
          ]
        }
      ],
      "source": [
        "model.cuda()\n",
        "print(\"Done\")"
      ]
    },
    {
      "cell_type": "code",
      "execution_count": 157,
      "metadata": {
        "colab": {
          "base_uri": "https://localhost:8080/",
          "height": 35
        },
        "id": "bny18Y2qHvf0",
        "outputId": "33d42029-c87b-4a1e-a45f-887dab1f8521"
      },
      "outputs": [
        {
          "output_type": "execute_result",
          "data": {
            "text/plain": [
              "'Tesla T4'"
            ],
            "application/vnd.google.colaboratory.intrinsic+json": {
              "type": "string"
            }
          },
          "metadata": {},
          "execution_count": 157
        }
      ],
      "source": [
        "device = torch.device(\"cuda\" if torch.cuda.is_available() else \"cpu\")\n",
        "n_gpu = torch.cuda.device_count()\n",
        "torch.cuda.get_device_name(0)"
      ]
    },
    {
      "cell_type": "code",
      "execution_count": 158,
      "metadata": {
        "id": "Iu1hV1g3jAvS"
      },
      "outputs": [],
      "source": [
        "set_seed(training_seed)"
      ]
    },
    {
      "cell_type": "code",
      "execution_count": 159,
      "metadata": {
        "id": "ZDiEfZumNwYA"
      },
      "outputs": [],
      "source": [
        "def compute_metrics(allpreds,alllabels):\n",
        "    metric1 = load_metric(\"precision\")\n",
        "    metric2 = load_metric(\"recall\")\n",
        "    metric3 = load_metric(\"f1\")\n",
        "    metric4 = load_metric(\"accuracy\")\n",
        "\n",
        "    predictions, labels = allpreds,alllabels\n",
        "    precision = metric1.compute(predictions=predictions, references=labels, average=\"weighted\")[\"precision\"]\n",
        "    recall = metric2.compute(predictions=predictions, references=labels, average=\"weighted\")[\"recall\"]\n",
        "    f1 = metric3.compute(predictions=predictions, references=labels, average=\"weighted\")[\"f1\"]\n",
        "    accuracy = metric4.compute(predictions=predictions, references=labels)[\"accuracy\"]\n",
        "    macro_precision = metric1.compute(predictions=predictions, references=labels, average=\"macro\")[\"precision\"]\n",
        "    macro_recall = metric2.compute(predictions=predictions, references=labels, average=\"macro\")[\"recall\"]\n",
        "    macro_f1 = metric3.compute(predictions=predictions, references=labels, average=\"macro\")[\"f1\"]\n",
        "    return {\"accuracy\":accuracy, \"precision\": precision, \"recall\": recall, \"f1\": f1, \"macro_precision\": macro_precision, \"macro_recall\": macro_recall, \"macro_f1\": macro_f1}\n"
      ]
    },
    {
      "cell_type": "code",
      "execution_count": 160,
      "metadata": {
        "id": "ErqMNvyEGL07"
      },
      "outputs": [],
      "source": [
        "def evaluate(model, dataloader):\n",
        "    model.eval()\n",
        "    allpreds = []\n",
        "    alllabels = []\n",
        "\n",
        "    for step, batch in enumerate(dataloader):\n",
        "        batch = {k: v.to(device) for k, v in batch.items()}\n",
        "        with torch.no_grad():\n",
        "            outputs = model(**batch)\n",
        "        logits = outputs.logits\n",
        "        allpreds.extend(torch.argmax(logits, dim=-1))\n",
        "        alllabels.extend(batch[\"labels\"])\n",
        "    return compute_metrics(allpreds,alllabels)"
      ]
    },
    {
      "cell_type": "code",
      "execution_count": 161,
      "metadata": {
        "id": "_oEcPkiDGOjQ"
      },
      "outputs": [],
      "source": [
        "def calculate_loss_and_f1(model, dataloader):\n",
        "    model.eval()\n",
        "    allpreds = []\n",
        "    alllabels = []\n",
        "    total_loss = 0\n",
        "\n",
        "    for step, batch in enumerate(dataloader):\n",
        "        batch = {k: v.to(device) for k, v in batch.items()}\n",
        "        with torch.no_grad():\n",
        "            outputs = model(**batch)\n",
        "        logits = outputs.logits\n",
        "        loss = outputs.loss\n",
        "        total_loss += loss.item()\n",
        "        allpreds.extend(torch.argmax(logits, dim=-1))\n",
        "        alllabels.extend(batch[\"labels\"])\n",
        "\n",
        "    macro_f1 = load_metric(\"f1\").compute(predictions=allpreds, references=alllabels, average=\"macro\")[\"f1\"]\n",
        "    return macro_f1, (total_loss/len(dataloader))"
      ]
    },
    {
      "cell_type": "code",
      "execution_count": 162,
      "metadata": {
        "colab": {
          "base_uri": "https://localhost:8080/"
        },
        "id": "oesjvk80GQZW",
        "outputId": "38fdbc38-e0ee-40df-f23a-0c47248cdfdd"
      },
      "outputs": [
        {
          "output_type": "stream",
          "name": "stderr",
          "text": [
            "/usr/local/lib/python3.10/dist-packages/transformers/optimization.py:306: FutureWarning: This implementation of AdamW is deprecated and will be removed in a future version. Use the PyTorch implementation torch.optim.AdamW instead, or set `no_deprecation_warning=True` to disable this warning\n",
            "  warnings.warn(\n"
          ]
        }
      ],
      "source": [
        "no_decay = ['bias', 'LayerNorm.weight']\n",
        "num_training_steps = EPOCHS * len(train_loader)\n",
        "betas = (0.9, 0.999)\n",
        "eps = 1e-08\n",
        "num_warmup_steps = 0\n",
        "param_optimizer = list(model.named_parameters())\n",
        "\n",
        "optimizer_grouped_parameters = [\n",
        "    {'params': [p for n, p in param_optimizer if not any(nd in n for nd in no_decay)],\n",
        "     'weight_decay_rate': 0.01},\n",
        "    {'params': [p for n, p in param_optimizer if any(nd in n for nd in no_decay)],\n",
        "     'weight_decay_rate': 0.0}\n",
        "]\n",
        "optimizer = AdamW(optimizer_grouped_parameters, lr=LEARNING_RATE,betas=betas,eps=eps)\n",
        "scheduler = get_linear_schedule_with_warmup(optimizer, num_warmup_steps=0, num_training_steps=num_training_steps)"
      ]
    },
    {
      "cell_type": "code",
      "execution_count": 163,
      "metadata": {
        "id": "5l6csY77GS8F"
      },
      "outputs": [],
      "source": [
        "tot_loss = 0\n",
        "log_loss = 0\n",
        "best_val_acc = 0\n",
        "\n",
        "tot_train_time = 0\n",
        "pbar_update_freq = 10\n",
        "\n",
        "glb_step = 0\n",
        "actual_step = 0\n",
        "max_grad_norm = 1.0\n",
        "eval_every_steps = 100\n",
        "gradient_accumulation_steps = 1\n",
        "\n",
        "leave_training = False\n",
        "val_metric = \"macro_f1\"\n",
        "\n",
        "best_epoch = -1\n",
        "early_stop_epoch_thresh = 5\n",
        "\n",
        "epoch_traces = []\n",
        "acc_traces = []\n",
        "validation_loss_traces = []"
      ]
    },
    {
      "cell_type": "code",
      "execution_count": 164,
      "metadata": {
        "colab": {
          "base_uri": "https://localhost:8080/"
        },
        "id": "dkv8HsFgGVGY",
        "outputId": "420dc9d5-f22d-438c-ac7c-5e3912e917aa"
      },
      "outputs": [
        {
          "output_type": "stream",
          "name": "stderr",
          "text": [
            "\n",
            "Train:  70%|██████▉   | 2190/3140 [35:10<15:15,  1.04it/s, Average Loss=0.0265, Epoch=13]"
          ]
        },
        {
          "output_type": "stream",
          "name": "stdout",
          "text": [
            "Begin Epoch 0\n"
          ]
        },
        {
          "output_type": "stream",
          "name": "stderr",
          "text": [
            "\n",
            "\n",
            "Train:   0%|          | 10/3140 [00:04<22:03,  2.36it/s]\u001b[A\n",
            "Train:   0%|          | 10/3140 [00:04<22:03,  2.36it/s, Average Loss=1.22, Epoch=0]\u001b[A\n",
            "Train:   1%|          | 20/3140 [00:08<21:46,  2.39it/s, Average Loss=1.22, Epoch=0]\u001b[A\n",
            "Train:   1%|          | 20/3140 [00:08<21:46,  2.39it/s, Average Loss=1.23, Epoch=0]\u001b[A\n",
            "Train:   1%|          | 30/3140 [00:12<21:47,  2.38it/s, Average Loss=1.23, Epoch=0]\u001b[A\n",
            "Train:   1%|          | 30/3140 [00:12<21:47,  2.38it/s, Average Loss=1.14, Epoch=0]\u001b[A\n",
            "Train:   1%|▏         | 40/3140 [00:16<21:44,  2.38it/s, Average Loss=1.14, Epoch=0]\u001b[A\n",
            "Train:   1%|▏         | 40/3140 [00:16<21:44,  2.38it/s, Average Loss=1.17, Epoch=0]\u001b[A\n",
            "Train:   2%|▏         | 50/3140 [00:21<21:41,  2.37it/s, Average Loss=1.17, Epoch=0]\u001b[A\n",
            "Train:   2%|▏         | 50/3140 [00:21<21:41,  2.37it/s, Average Loss=1.1, Epoch=0] \u001b[A\n",
            "Train:   2%|▏         | 60/3140 [00:25<21:43,  2.36it/s, Average Loss=1.1, Epoch=0]\u001b[A\n",
            "Train:   2%|▏         | 60/3140 [00:25<21:43,  2.36it/s, Average Loss=1.25, Epoch=0]\u001b[A\n",
            "Train:   2%|▏         | 70/3140 [00:29<21:44,  2.35it/s, Average Loss=1.25, Epoch=0]\u001b[A\n",
            "Train:   2%|▏         | 70/3140 [00:29<21:44,  2.35it/s, Average Loss=1.23, Epoch=0]\u001b[A\n",
            "Train:   3%|▎         | 80/3140 [00:33<21:43,  2.35it/s, Average Loss=1.23, Epoch=0]\u001b[A\n",
            "Train:   3%|▎         | 80/3140 [00:33<21:43,  2.35it/s, Average Loss=1.15, Epoch=0]\u001b[A\n",
            "Train:   3%|▎         | 90/3140 [00:38<21:43,  2.34it/s, Average Loss=1.15, Epoch=0]\u001b[A\n",
            "Train:   3%|▎         | 90/3140 [00:38<21:43,  2.34it/s, Average Loss=1.08, Epoch=0]\u001b[A\n",
            "Train:   3%|▎         | 100/3140 [00:42<21:45,  2.33it/s, Average Loss=1.08, Epoch=0]\u001b[A\n",
            "Train:   3%|▎         | 100/3140 [00:42<21:45,  2.33it/s, Average Loss=1.19, Epoch=0]\u001b[A\n",
            "Train:   4%|▎         | 110/3140 [00:46<21:42,  2.33it/s, Average Loss=1.19, Epoch=0]\u001b[A\n",
            "Train:   4%|▎         | 110/3140 [00:46<21:42,  2.33it/s, Average Loss=1.1, Epoch=0] \u001b[A\n",
            "Train:   4%|▍         | 120/3140 [00:51<21:40,  2.32it/s, Average Loss=1.1, Epoch=0]\u001b[A\n",
            "Train:   4%|▍         | 120/3140 [00:51<21:40,  2.32it/s, Average Loss=1.15, Epoch=0]\u001b[A\n",
            "Train:   4%|▍         | 130/3140 [00:55<21:43,  2.31it/s, Average Loss=1.15, Epoch=0]\u001b[A\n",
            "Train:   4%|▍         | 130/3140 [00:55<21:43,  2.31it/s, Average Loss=1.15, Epoch=0]\u001b[A\n",
            "Train:   4%|▍         | 140/3140 [00:59<21:39,  2.31it/s, Average Loss=1.15, Epoch=0]\u001b[A\n",
            "Train:   4%|▍         | 140/3140 [00:59<21:39,  2.31it/s, Average Loss=1.12, Epoch=0]\u001b[A\n",
            "Train:   5%|▍         | 150/3140 [01:04<21:38,  2.30it/s, Average Loss=1.12, Epoch=0]\u001b[A\n",
            "Train:   5%|▍         | 150/3140 [01:04<21:38,  2.30it/s, Average Loss=1.1, Epoch=0] \u001b[A"
          ]
        },
        {
          "output_type": "stream",
          "name": "stdout",
          "text": [
            "Validation: [Epoch: 0, Macro F1: 0.36891599071409636, Validation Loss: 1.052014023065567, Time per Epoch: 71.80703353881836]\n",
            "Begin Epoch 1\n"
          ]
        },
        {
          "output_type": "stream",
          "name": "stderr",
          "text": [
            "\n",
            "Train:   5%|▌         | 160/3140 [01:17<35:19,  1.41it/s, Average Loss=1.1, Epoch=0]\u001b[A\n",
            "Train:   5%|▌         | 160/3140 [01:17<35:19,  1.41it/s, Average Loss=1.07, Epoch=1]\u001b[A\n",
            "Train:   5%|▌         | 170/3140 [01:21<30:48,  1.61it/s, Average Loss=1.07, Epoch=1]\u001b[A\n",
            "Train:   5%|▌         | 170/3140 [01:21<30:48,  1.61it/s, Average Loss=1.06, Epoch=1]\u001b[A\n",
            "Train:   6%|▌         | 180/3140 [01:26<27:36,  1.79it/s, Average Loss=1.06, Epoch=1]\u001b[A\n",
            "Train:   6%|▌         | 180/3140 [01:26<27:36,  1.79it/s, Average Loss=1, Epoch=1]   \u001b[A\n",
            "Train:   6%|▌         | 190/3140 [01:30<25:21,  1.94it/s, Average Loss=1, Epoch=1]\u001b[A\n",
            "Train:   6%|▌         | 190/3140 [01:30<25:21,  1.94it/s, Average Loss=0.995, Epoch=1]\u001b[A\n",
            "Train:   6%|▋         | 200/3140 [01:34<23:49,  2.06it/s, Average Loss=0.995, Epoch=1]\u001b[A\n",
            "Train:   6%|▋         | 200/3140 [01:34<23:49,  2.06it/s, Average Loss=0.966, Epoch=1]\u001b[A\n",
            "Train:   7%|▋         | 210/3140 [01:38<22:44,  2.15it/s, Average Loss=0.966, Epoch=1]\u001b[A\n",
            "Train:   7%|▋         | 210/3140 [01:38<22:44,  2.15it/s, Average Loss=0.911, Epoch=1]\u001b[A\n",
            "Train:   7%|▋         | 220/3140 [01:42<21:54,  2.22it/s, Average Loss=0.911, Epoch=1]\u001b[A\n",
            "Train:   7%|▋         | 220/3140 [01:42<21:54,  2.22it/s, Average Loss=0.985, Epoch=1]\u001b[A\n",
            "Train:   7%|▋         | 230/3140 [01:46<21:17,  2.28it/s, Average Loss=0.985, Epoch=1]\u001b[A\n",
            "Train:   7%|▋         | 230/3140 [01:46<21:17,  2.28it/s, Average Loss=0.96, Epoch=1] \u001b[A\n",
            "Train:   8%|▊         | 240/3140 [01:51<20:54,  2.31it/s, Average Loss=0.96, Epoch=1]\u001b[A\n",
            "Train:   8%|▊         | 240/3140 [01:51<20:54,  2.31it/s, Average Loss=0.928, Epoch=1]\u001b[A\n",
            "Train:   8%|▊         | 250/3140 [01:55<20:32,  2.35it/s, Average Loss=0.928, Epoch=1]\u001b[A\n",
            "Train:   8%|▊         | 250/3140 [01:55<20:32,  2.35it/s, Average Loss=0.96, Epoch=1] \u001b[A\n",
            "Train:   8%|▊         | 260/3140 [01:59<20:15,  2.37it/s, Average Loss=0.96, Epoch=1]\u001b[A\n",
            "Train:   8%|▊         | 260/3140 [01:59<20:15,  2.37it/s, Average Loss=0.907, Epoch=1]\u001b[A\n",
            "Train:   9%|▊         | 270/3140 [02:03<20:04,  2.38it/s, Average Loss=0.907, Epoch=1]\u001b[A\n",
            "Train:   9%|▊         | 270/3140 [02:03<20:04,  2.38it/s, Average Loss=0.963, Epoch=1]\u001b[A\n",
            "Train:   9%|▉         | 280/3140 [02:07<19:54,  2.39it/s, Average Loss=0.963, Epoch=1]\u001b[A\n",
            "Train:   9%|▉         | 280/3140 [02:07<19:54,  2.39it/s, Average Loss=0.949, Epoch=1]\u001b[A\n",
            "Train:   9%|▉         | 290/3140 [02:11<19:44,  2.41it/s, Average Loss=0.949, Epoch=1]\u001b[A\n",
            "Train:   9%|▉         | 290/3140 [02:11<19:44,  2.41it/s, Average Loss=0.921, Epoch=1]\u001b[A\n",
            "Train:  10%|▉         | 300/3140 [02:15<19:36,  2.41it/s, Average Loss=0.921, Epoch=1]\u001b[A\n",
            "Train:  10%|▉         | 300/3140 [02:15<19:36,  2.41it/s, Average Loss=0.954, Epoch=1]\u001b[A\n",
            "Train:  10%|▉         | 310/3140 [02:19<19:32,  2.41it/s, Average Loss=0.954, Epoch=1]\u001b[A\n",
            "Train:  10%|▉         | 310/3140 [02:19<19:32,  2.41it/s, Average Loss=0.868, Epoch=1]\u001b[A"
          ]
        },
        {
          "output_type": "stream",
          "name": "stdout",
          "text": [
            "Validation: [Epoch: 1, Macro F1: 0.42328460943722984, Validation Loss: 0.9106038689613343, Time per Epoch: 69.34381341934204]\n",
            "Begin Epoch 2\n"
          ]
        },
        {
          "output_type": "stream",
          "name": "stderr",
          "text": [
            "\n",
            "Train:  10%|█         | 320/3140 [02:33<32:08,  1.46it/s, Average Loss=0.868, Epoch=1]\u001b[A\n",
            "Train:  10%|█         | 320/3140 [02:33<32:08,  1.46it/s, Average Loss=0.932, Epoch=2]\u001b[A\n",
            "Train:  11%|█         | 330/3140 [02:37<28:09,  1.66it/s, Average Loss=0.932, Epoch=2]\u001b[A\n",
            "Train:  11%|█         | 330/3140 [02:37<28:09,  1.66it/s, Average Loss=0.898, Epoch=2]\u001b[A\n",
            "Train:  11%|█         | 340/3140 [02:41<25:23,  1.84it/s, Average Loss=0.898, Epoch=2]\u001b[A\n",
            "Train:  11%|█         | 340/3140 [02:41<25:23,  1.84it/s, Average Loss=0.943, Epoch=2]\u001b[A\n",
            "Train:  11%|█         | 350/3140 [02:45<23:30,  1.98it/s, Average Loss=0.943, Epoch=2]\u001b[A\n",
            "Train:  11%|█         | 350/3140 [02:45<23:30,  1.98it/s, Average Loss=0.842, Epoch=2]\u001b[A\n",
            "Train:  11%|█▏        | 360/3140 [02:49<22:09,  2.09it/s, Average Loss=0.842, Epoch=2]\u001b[A\n",
            "Train:  11%|█▏        | 360/3140 [02:49<22:09,  2.09it/s, Average Loss=0.846, Epoch=2]\u001b[A\n",
            "Train:  12%|█▏        | 370/3140 [02:53<21:11,  2.18it/s, Average Loss=0.846, Epoch=2]\u001b[A\n",
            "Train:  12%|█▏        | 370/3140 [02:53<21:11,  2.18it/s, Average Loss=0.849, Epoch=2]\u001b[A\n",
            "Train:  12%|█▏        | 380/3140 [02:57<20:34,  2.24it/s, Average Loss=0.849, Epoch=2]\u001b[A\n",
            "Train:  12%|█▏        | 380/3140 [02:57<20:34,  2.24it/s, Average Loss=0.845, Epoch=2]\u001b[A\n",
            "Train:  12%|█▏        | 390/3140 [03:02<20:07,  2.28it/s, Average Loss=0.845, Epoch=2]\u001b[A\n",
            "Train:  12%|█▏        | 390/3140 [03:02<20:07,  2.28it/s, Average Loss=0.88, Epoch=2] \u001b[A\n",
            "Train:  13%|█▎        | 400/3140 [03:06<19:43,  2.31it/s, Average Loss=0.88, Epoch=2]\u001b[A\n",
            "Train:  13%|█▎        | 400/3140 [03:06<19:43,  2.31it/s, Average Loss=0.797, Epoch=2]\u001b[A\n",
            "Train:  13%|█▎        | 410/3140 [03:10<19:24,  2.34it/s, Average Loss=0.797, Epoch=2]\u001b[A\n",
            "Train:  13%|█▎        | 410/3140 [03:10<19:24,  2.34it/s, Average Loss=0.847, Epoch=2]\u001b[A\n",
            "Train:  13%|█▎        | 420/3140 [03:14<19:12,  2.36it/s, Average Loss=0.847, Epoch=2]\u001b[A\n",
            "Train:  13%|█▎        | 420/3140 [03:14<19:12,  2.36it/s, Average Loss=0.799, Epoch=2]\u001b[A\n",
            "Train:  14%|█▎        | 430/3140 [03:18<18:59,  2.38it/s, Average Loss=0.799, Epoch=2]\u001b[A\n",
            "Train:  14%|█▎        | 430/3140 [03:18<18:59,  2.38it/s, Average Loss=0.886, Epoch=2]\u001b[A\n",
            "Train:  14%|█▍        | 440/3140 [03:22<18:48,  2.39it/s, Average Loss=0.886, Epoch=2]\u001b[A\n",
            "Train:  14%|█▍        | 440/3140 [03:22<18:48,  2.39it/s, Average Loss=0.798, Epoch=2]\u001b[A\n",
            "Train:  14%|█▍        | 450/3140 [03:26<18:42,  2.40it/s, Average Loss=0.798, Epoch=2]\u001b[A\n",
            "Train:  14%|█▍        | 450/3140 [03:26<18:42,  2.40it/s, Average Loss=0.796, Epoch=2]\u001b[A\n",
            "Train:  15%|█▍        | 460/3140 [03:31<18:33,  2.41it/s, Average Loss=0.796, Epoch=2]\u001b[A\n",
            "Train:  15%|█▍        | 460/3140 [03:31<18:33,  2.41it/s, Average Loss=0.949, Epoch=2]\u001b[A\n",
            "Train:  15%|█▍        | 470/3140 [03:35<18:26,  2.41it/s, Average Loss=0.949, Epoch=2]\u001b[A\n",
            "Train:  15%|█▍        | 470/3140 [03:35<18:26,  2.41it/s, Average Loss=0.743, Epoch=2]\u001b[A"
          ]
        },
        {
          "output_type": "stream",
          "name": "stdout",
          "text": [
            "Validation: [Epoch: 2, Macro F1: 0.4349254890377414, Validation Loss: 0.983248308300972, Time per Epoch: 69.40566325187683]\n",
            "Begin Epoch 3\n"
          ]
        },
        {
          "output_type": "stream",
          "name": "stderr",
          "text": [
            "\n",
            "Train:  15%|█▌        | 480/3140 [03:52<35:58,  1.23it/s, Average Loss=0.743, Epoch=2]\u001b[A\n",
            "Train:  15%|█▌        | 480/3140 [03:52<35:58,  1.23it/s, Average Loss=0.88, Epoch=3] \u001b[A\n",
            "Train:  16%|█▌        | 490/3140 [03:56<30:32,  1.45it/s, Average Loss=0.88, Epoch=3]\u001b[A\n",
            "Train:  16%|█▌        | 490/3140 [03:56<30:32,  1.45it/s, Average Loss=0.68, Epoch=3]\u001b[A\n",
            "Train:  16%|█▌        | 500/3140 [04:00<26:42,  1.65it/s, Average Loss=0.68, Epoch=3]\u001b[A\n",
            "Train:  16%|█▌        | 500/3140 [04:00<26:42,  1.65it/s, Average Loss=0.756, Epoch=3]\u001b[A\n",
            "Train:  16%|█▌        | 510/3140 [04:04<24:02,  1.82it/s, Average Loss=0.756, Epoch=3]\u001b[A\n",
            "Train:  16%|█▌        | 510/3140 [04:04<24:02,  1.82it/s, Average Loss=0.72, Epoch=3] \u001b[A\n",
            "Train:  17%|█▋        | 520/3140 [04:09<22:13,  1.96it/s, Average Loss=0.72, Epoch=3]\u001b[A\n",
            "Train:  17%|█▋        | 520/3140 [04:09<22:13,  1.96it/s, Average Loss=0.663, Epoch=3]\u001b[A\n",
            "Train:  17%|█▋        | 530/3140 [04:13<20:55,  2.08it/s, Average Loss=0.663, Epoch=3]\u001b[A\n",
            "Train:  17%|█▋        | 530/3140 [04:13<20:55,  2.08it/s, Average Loss=0.735, Epoch=3]\u001b[A\n",
            "Train:  17%|█▋        | 540/3140 [04:17<20:00,  2.17it/s, Average Loss=0.735, Epoch=3]\u001b[A\n",
            "Train:  17%|█▋        | 540/3140 [04:17<20:00,  2.17it/s, Average Loss=0.724, Epoch=3]\u001b[A\n",
            "Train:  18%|█▊        | 550/3140 [04:21<19:24,  2.22it/s, Average Loss=0.724, Epoch=3]\u001b[A\n",
            "Train:  18%|█▊        | 550/3140 [04:21<19:24,  2.22it/s, Average Loss=0.802, Epoch=3]\u001b[A\n",
            "Train:  18%|█▊        | 560/3140 [04:25<18:57,  2.27it/s, Average Loss=0.802, Epoch=3]\u001b[A\n",
            "Train:  18%|█▊        | 560/3140 [04:25<18:57,  2.27it/s, Average Loss=0.622, Epoch=3]\u001b[A\n",
            "Train:  18%|█▊        | 570/3140 [04:29<18:35,  2.30it/s, Average Loss=0.622, Epoch=3]\u001b[A\n",
            "Train:  18%|█▊        | 570/3140 [04:29<18:35,  2.30it/s, Average Loss=0.73, Epoch=3] \u001b[A\n",
            "Train:  18%|█▊        | 580/3140 [04:34<18:20,  2.33it/s, Average Loss=0.73, Epoch=3]\u001b[A\n",
            "Train:  18%|█▊        | 580/3140 [04:34<18:20,  2.33it/s, Average Loss=0.669, Epoch=3]\u001b[A\n",
            "Train:  19%|█▉        | 590/3140 [04:38<18:07,  2.34it/s, Average Loss=0.669, Epoch=3]\u001b[A\n",
            "Train:  19%|█▉        | 590/3140 [04:38<18:07,  2.34it/s, Average Loss=0.741, Epoch=3]\u001b[A\n",
            "Train:  19%|█▉        | 600/3140 [04:42<17:54,  2.36it/s, Average Loss=0.741, Epoch=3]\u001b[A\n",
            "Train:  19%|█▉        | 600/3140 [04:42<17:54,  2.36it/s, Average Loss=0.694, Epoch=3]\u001b[A\n",
            "Train:  19%|█▉        | 610/3140 [04:46<17:43,  2.38it/s, Average Loss=0.694, Epoch=3]\u001b[A\n",
            "Train:  19%|█▉        | 610/3140 [04:46<17:43,  2.38it/s, Average Loss=0.689, Epoch=3]\u001b[A\n",
            "Train:  20%|█▉        | 620/3140 [04:50<17:36,  2.38it/s, Average Loss=0.689, Epoch=3]\u001b[A\n",
            "Train:  20%|█▉        | 620/3140 [04:50<17:36,  2.38it/s, Average Loss=0.797, Epoch=3]\u001b[A"
          ]
        },
        {
          "output_type": "stream",
          "name": "stdout",
          "text": [
            "Validation: [Epoch: 3, Macro F1: 0.4430792797958057, Validation Loss: 1.0481970191001893, Time per Epoch: 69.63688397407532]\n",
            "Begin Epoch 4\n"
          ]
        },
        {
          "output_type": "stream",
          "name": "stderr",
          "text": [
            "\n",
            "Train:  20%|██        | 630/3140 [05:04<28:50,  1.45it/s, Average Loss=0.797, Epoch=3]\u001b[A\n",
            "Train:  20%|██        | 630/3140 [05:04<28:50,  1.45it/s, Average Loss=0.669, Epoch=4]\u001b[A\n",
            "Train:  20%|██        | 640/3140 [05:08<25:10,  1.65it/s, Average Loss=0.669, Epoch=4]\u001b[A\n",
            "Train:  20%|██        | 640/3140 [05:08<25:10,  1.65it/s, Average Loss=0.688, Epoch=4]\u001b[A\n",
            "Train:  21%|██        | 650/3140 [05:12<22:38,  1.83it/s, Average Loss=0.688, Epoch=4]\u001b[A\n",
            "Train:  21%|██        | 650/3140 [05:12<22:38,  1.83it/s, Average Loss=0.534, Epoch=4]\u001b[A\n",
            "Train:  21%|██        | 660/3140 [05:16<20:53,  1.98it/s, Average Loss=0.534, Epoch=4]\u001b[A\n",
            "Train:  21%|██        | 660/3140 [05:16<20:53,  1.98it/s, Average Loss=0.544, Epoch=4]\u001b[A\n",
            "Train:  21%|██▏       | 670/3140 [05:20<19:40,  2.09it/s, Average Loss=0.544, Epoch=4]\u001b[A\n",
            "Train:  21%|██▏       | 670/3140 [05:20<19:40,  2.09it/s, Average Loss=0.543, Epoch=4]\u001b[A\n",
            "Train:  22%|██▏       | 680/3140 [05:24<18:47,  2.18it/s, Average Loss=0.543, Epoch=4]\u001b[A\n",
            "Train:  22%|██▏       | 680/3140 [05:24<18:47,  2.18it/s, Average Loss=0.471, Epoch=4]\u001b[A\n",
            "Train:  22%|██▏       | 690/3140 [05:28<18:11,  2.24it/s, Average Loss=0.471, Epoch=4]\u001b[A\n",
            "Train:  22%|██▏       | 690/3140 [05:28<18:11,  2.24it/s, Average Loss=0.591, Epoch=4]\u001b[A\n",
            "Train:  22%|██▏       | 700/3140 [05:32<17:48,  2.28it/s, Average Loss=0.591, Epoch=4]\u001b[A\n",
            "Train:  22%|██▏       | 700/3140 [05:32<17:48,  2.28it/s, Average Loss=0.618, Epoch=4]\u001b[A\n",
            "Train:  23%|██▎       | 710/3140 [05:37<17:28,  2.32it/s, Average Loss=0.618, Epoch=4]\u001b[A\n",
            "Train:  23%|██▎       | 710/3140 [05:37<17:28,  2.32it/s, Average Loss=0.635, Epoch=4]\u001b[A\n",
            "Train:  23%|██▎       | 720/3140 [05:41<17:12,  2.34it/s, Average Loss=0.635, Epoch=4]\u001b[A\n",
            "Train:  23%|██▎       | 720/3140 [05:41<17:12,  2.34it/s, Average Loss=0.621, Epoch=4]\u001b[A\n",
            "Train:  23%|██▎       | 730/3140 [05:45<17:01,  2.36it/s, Average Loss=0.621, Epoch=4]\u001b[A\n",
            "Train:  23%|██▎       | 730/3140 [05:45<17:01,  2.36it/s, Average Loss=0.575, Epoch=4]\u001b[A\n",
            "Train:  24%|██▎       | 740/3140 [05:49<16:49,  2.38it/s, Average Loss=0.575, Epoch=4]\u001b[A\n",
            "Train:  24%|██▎       | 740/3140 [05:49<16:49,  2.38it/s, Average Loss=0.663, Epoch=4]\u001b[A\n",
            "Train:  24%|██▍       | 750/3140 [05:53<16:39,  2.39it/s, Average Loss=0.663, Epoch=4]\u001b[A\n",
            "Train:  24%|██▍       | 750/3140 [05:53<16:39,  2.39it/s, Average Loss=0.503, Epoch=4]\u001b[A\n",
            "Train:  24%|██▍       | 760/3140 [05:57<16:34,  2.39it/s, Average Loss=0.503, Epoch=4]\u001b[A\n",
            "Train:  24%|██▍       | 760/3140 [05:57<16:34,  2.39it/s, Average Loss=0.443, Epoch=4]\u001b[A\n",
            "Train:  25%|██▍       | 770/3140 [06:01<16:27,  2.40it/s, Average Loss=0.443, Epoch=4]\u001b[A\n",
            "Train:  25%|██▍       | 770/3140 [06:01<16:27,  2.40it/s, Average Loss=0.607, Epoch=4]\u001b[A\n",
            "Train:  25%|██▍       | 780/3140 [06:06<16:19,  2.41it/s, Average Loss=0.607, Epoch=4]\u001b[A\n",
            "Train:  25%|██▍       | 780/3140 [06:06<16:19,  2.41it/s, Average Loss=0.718, Epoch=4]\u001b[A"
          ]
        },
        {
          "output_type": "stream",
          "name": "stdout",
          "text": [
            "Validation: [Epoch: 4, Macro F1: 0.45435277267587326, Validation Loss: 1.2138080686330794, Time per Epoch: 69.49065518379211]\n",
            "Begin Epoch 5\n"
          ]
        },
        {
          "output_type": "stream",
          "name": "stderr",
          "text": [
            "\n",
            "Train:  25%|██▌       | 790/3140 [06:19<27:12,  1.44it/s, Average Loss=0.718, Epoch=4]\u001b[A\n",
            "Train:  25%|██▌       | 790/3140 [06:19<27:12,  1.44it/s, Average Loss=0.583, Epoch=5]\u001b[A\n",
            "Train:  25%|██▌       | 800/3140 [06:23<23:44,  1.64it/s, Average Loss=0.583, Epoch=5]\u001b[A\n",
            "Train:  25%|██▌       | 800/3140 [06:23<23:44,  1.64it/s, Average Loss=0.449, Epoch=5]\u001b[A\n",
            "Train:  26%|██▌       | 810/3140 [06:27<21:23,  1.82it/s, Average Loss=0.449, Epoch=5]\u001b[A\n",
            "Train:  26%|██▌       | 810/3140 [06:27<21:23,  1.82it/s, Average Loss=0.471, Epoch=5]\u001b[A\n",
            "Train:  26%|██▌       | 820/3140 [06:31<19:40,  1.97it/s, Average Loss=0.471, Epoch=5]\u001b[A\n",
            "Train:  26%|██▌       | 820/3140 [06:31<19:40,  1.97it/s, Average Loss=0.36, Epoch=5] \u001b[A\n",
            "Train:  26%|██▋       | 830/3140 [06:35<18:27,  2.08it/s, Average Loss=0.36, Epoch=5]\u001b[A\n",
            "Train:  26%|██▋       | 830/3140 [06:36<18:27,  2.08it/s, Average Loss=0.444, Epoch=5]\u001b[A\n",
            "Train:  27%|██▋       | 840/3140 [06:40<17:40,  2.17it/s, Average Loss=0.444, Epoch=5]\u001b[A\n",
            "Train:  27%|██▋       | 840/3140 [06:40<17:40,  2.17it/s, Average Loss=0.348, Epoch=5]\u001b[A\n",
            "Train:  27%|██▋       | 850/3140 [06:44<17:04,  2.23it/s, Average Loss=0.348, Epoch=5]\u001b[A\n",
            "Train:  27%|██▋       | 850/3140 [06:44<17:04,  2.23it/s, Average Loss=0.457, Epoch=5]\u001b[A\n",
            "Train:  27%|██▋       | 860/3140 [06:48<16:40,  2.28it/s, Average Loss=0.457, Epoch=5]\u001b[A\n",
            "Train:  27%|██▋       | 860/3140 [06:48<16:40,  2.28it/s, Average Loss=0.39, Epoch=5] \u001b[A\n",
            "Train:  28%|██▊       | 870/3140 [06:52<16:21,  2.31it/s, Average Loss=0.39, Epoch=5]\u001b[A\n",
            "Train:  28%|██▊       | 870/3140 [06:52<16:21,  2.31it/s, Average Loss=0.434, Epoch=5]\u001b[A\n",
            "Train:  28%|██▊       | 880/3140 [06:56<16:07,  2.34it/s, Average Loss=0.434, Epoch=5]\u001b[A\n",
            "Train:  28%|██▊       | 880/3140 [06:56<16:07,  2.34it/s, Average Loss=0.449, Epoch=5]\u001b[A\n",
            "Train:  28%|██▊       | 890/3140 [07:00<15:52,  2.36it/s, Average Loss=0.449, Epoch=5]\u001b[A\n",
            "Train:  28%|██▊       | 890/3140 [07:01<15:52,  2.36it/s, Average Loss=0.354, Epoch=5]\u001b[A\n",
            "Train:  29%|██▊       | 900/3140 [07:05<15:41,  2.38it/s, Average Loss=0.354, Epoch=5]\u001b[A\n",
            "Train:  29%|██▊       | 900/3140 [07:05<15:41,  2.38it/s, Average Loss=0.425, Epoch=5]\u001b[A\n",
            "Train:  29%|██▉       | 910/3140 [07:09<15:35,  2.38it/s, Average Loss=0.425, Epoch=5]\u001b[A\n",
            "Train:  29%|██▉       | 910/3140 [07:09<15:35,  2.38it/s, Average Loss=0.384, Epoch=5]\u001b[A\n",
            "Train:  29%|██▉       | 920/3140 [07:13<15:26,  2.40it/s, Average Loss=0.384, Epoch=5]\u001b[A\n",
            "Train:  29%|██▉       | 920/3140 [07:13<15:26,  2.40it/s, Average Loss=0.344, Epoch=5]\u001b[A\n",
            "Train:  30%|██▉       | 930/3140 [07:17<15:18,  2.41it/s, Average Loss=0.344, Epoch=5]\u001b[A\n",
            "Train:  30%|██▉       | 930/3140 [07:17<15:18,  2.41it/s, Average Loss=0.575, Epoch=5]\u001b[A\n",
            "Train:  30%|██▉       | 940/3140 [07:21<15:14,  2.40it/s, Average Loss=0.575, Epoch=5]\u001b[A\n",
            "Train:  30%|██▉       | 940/3140 [07:21<15:14,  2.40it/s, Average Loss=0.539, Epoch=5]\u001b[A"
          ]
        },
        {
          "output_type": "stream",
          "name": "stdout",
          "text": [
            "Validation: [Epoch: 5, Macro F1: 0.45227258838478807, Validation Loss: 1.273744609951973, Time per Epoch: 69.43904423713684]\n",
            "Begin Epoch 6\n"
          ]
        },
        {
          "output_type": "stream",
          "name": "stderr",
          "text": [
            "\n",
            "Train:  30%|███       | 950/3140 [07:30<19:51,  1.84it/s, Average Loss=0.539, Epoch=5]\u001b[A\n",
            "Train:  30%|███       | 950/3140 [07:30<19:51,  1.84it/s, Average Loss=0.408, Epoch=6]\u001b[A\n",
            "Train:  31%|███       | 960/3140 [07:34<18:19,  1.98it/s, Average Loss=0.408, Epoch=6]\u001b[A\n",
            "Train:  31%|███       | 960/3140 [07:34<18:19,  1.98it/s, Average Loss=0.35, Epoch=6] \u001b[A\n",
            "Train:  31%|███       | 970/3140 [07:38<17:16,  2.09it/s, Average Loss=0.35, Epoch=6]\u001b[A\n",
            "Train:  31%|███       | 970/3140 [07:38<17:16,  2.09it/s, Average Loss=0.312, Epoch=6]\u001b[A\n",
            "Train:  31%|███       | 980/3140 [07:42<16:29,  2.18it/s, Average Loss=0.312, Epoch=6]\u001b[A\n",
            "Train:  31%|███       | 980/3140 [07:42<16:29,  2.18it/s, Average Loss=0.364, Epoch=6]\u001b[A\n",
            "Train:  32%|███▏      | 990/3140 [07:46<15:55,  2.25it/s, Average Loss=0.364, Epoch=6]\u001b[A\n",
            "Train:  32%|███▏      | 990/3140 [07:46<15:55,  2.25it/s, Average Loss=0.292, Epoch=6]\u001b[A\n",
            "Train:  32%|███▏      | 1000/3140 [07:50<15:34,  2.29it/s, Average Loss=0.292, Epoch=6]\u001b[A\n",
            "Train:  32%|███▏      | 1000/3140 [07:50<15:34,  2.29it/s, Average Loss=0.303, Epoch=6]\u001b[A\n",
            "Train:  32%|███▏      | 1010/3140 [07:54<15:13,  2.33it/s, Average Loss=0.303, Epoch=6]\u001b[A\n",
            "Train:  32%|███▏      | 1010/3140 [07:54<15:13,  2.33it/s, Average Loss=0.289, Epoch=6]\u001b[A\n",
            "Train:  32%|███▏      | 1020/3140 [07:59<14:59,  2.36it/s, Average Loss=0.289, Epoch=6]\u001b[A\n",
            "Train:  32%|███▏      | 1020/3140 [07:59<14:59,  2.36it/s, Average Loss=0.254, Epoch=6]\u001b[A\n",
            "Train:  33%|███▎      | 1030/3140 [08:03<14:50,  2.37it/s, Average Loss=0.254, Epoch=6]\u001b[A\n",
            "Train:  33%|███▎      | 1030/3140 [08:03<14:50,  2.37it/s, Average Loss=0.226, Epoch=6]\u001b[A\n",
            "Train:  33%|███▎      | 1040/3140 [08:07<14:41,  2.38it/s, Average Loss=0.226, Epoch=6]\u001b[A\n",
            "Train:  33%|███▎      | 1040/3140 [08:07<14:41,  2.38it/s, Average Loss=0.284, Epoch=6]\u001b[A\n",
            "Train:  33%|███▎      | 1050/3140 [08:11<14:33,  2.39it/s, Average Loss=0.284, Epoch=6]\u001b[A\n",
            "Train:  33%|███▎      | 1050/3140 [08:11<14:33,  2.39it/s, Average Loss=0.334, Epoch=6]\u001b[A\n",
            "Train:  34%|███▍      | 1060/3140 [08:15<14:26,  2.40it/s, Average Loss=0.334, Epoch=6]\u001b[A\n",
            "Train:  34%|███▍      | 1060/3140 [08:15<14:26,  2.40it/s, Average Loss=0.313, Epoch=6]\u001b[A\n",
            "Train:  34%|███▍      | 1070/3140 [08:19<14:23,  2.40it/s, Average Loss=0.313, Epoch=6]\u001b[A\n",
            "Train:  34%|███▍      | 1070/3140 [08:19<14:23,  2.40it/s, Average Loss=0.242, Epoch=6]\u001b[A\n",
            "Train:  34%|███▍      | 1080/3140 [08:23<14:16,  2.40it/s, Average Loss=0.242, Epoch=6]\u001b[A\n",
            "Train:  34%|███▍      | 1080/3140 [08:23<14:16,  2.40it/s, Average Loss=0.272, Epoch=6]\u001b[A\n",
            "Train:  35%|███▍      | 1090/3140 [08:28<14:10,  2.41it/s, Average Loss=0.272, Epoch=6]\u001b[A\n",
            "Train:  35%|███▍      | 1090/3140 [08:28<14:10,  2.41it/s, Average Loss=0.365, Epoch=6]\u001b[A"
          ]
        },
        {
          "output_type": "stream",
          "name": "stdout",
          "text": [
            "Validation: [Epoch: 6, Macro F1: 0.5110407006405533, Validation Loss: 1.5415000647306443, Time per Epoch: 69.38437581062317]\n",
            "Begin Epoch 7\n"
          ]
        },
        {
          "output_type": "stream",
          "name": "stderr",
          "text": [
            "\n",
            "Train:  35%|███▌      | 1100/3140 [08:41<23:26,  1.45it/s, Average Loss=0.365, Epoch=6]\u001b[A\n",
            "Train:  35%|███▌      | 1100/3140 [08:41<23:26,  1.45it/s, Average Loss=0.337, Epoch=7]\u001b[A\n",
            "Train:  35%|███▌      | 1110/3140 [08:45<20:30,  1.65it/s, Average Loss=0.337, Epoch=7]\u001b[A\n",
            "Train:  35%|███▌      | 1110/3140 [08:45<20:30,  1.65it/s, Average Loss=0.294, Epoch=7]\u001b[A\n",
            "Train:  36%|███▌      | 1120/3140 [08:49<18:26,  1.83it/s, Average Loss=0.294, Epoch=7]\u001b[A\n",
            "Train:  36%|███▌      | 1120/3140 [08:49<18:26,  1.83it/s, Average Loss=0.2, Epoch=7]  \u001b[A\n",
            "Train:  36%|███▌      | 1130/3140 [08:53<16:58,  1.97it/s, Average Loss=0.2, Epoch=7]\u001b[A\n",
            "Train:  36%|███▌      | 1130/3140 [08:53<16:58,  1.97it/s, Average Loss=0.297, Epoch=7]\u001b[A\n",
            "Train:  36%|███▋      | 1140/3140 [08:57<15:57,  2.09it/s, Average Loss=0.297, Epoch=7]\u001b[A\n",
            "Train:  36%|███▋      | 1140/3140 [08:57<15:57,  2.09it/s, Average Loss=0.415, Epoch=7]\u001b[A\n",
            "Train:  37%|███▋      | 1150/3140 [09:02<15:15,  2.17it/s, Average Loss=0.415, Epoch=7]\u001b[A\n",
            "Train:  37%|███▋      | 1150/3140 [09:02<15:15,  2.17it/s, Average Loss=0.331, Epoch=7]\u001b[A\n",
            "Train:  37%|███▋      | 1160/3140 [09:06<14:44,  2.24it/s, Average Loss=0.331, Epoch=7]\u001b[A\n",
            "Train:  37%|███▋      | 1160/3140 [09:06<14:44,  2.24it/s, Average Loss=0.362, Epoch=7]\u001b[A\n",
            "Train:  37%|███▋      | 1170/3140 [09:10<14:22,  2.29it/s, Average Loss=0.362, Epoch=7]\u001b[A\n",
            "Train:  37%|███▋      | 1170/3140 [09:10<14:22,  2.29it/s, Average Loss=0.219, Epoch=7]\u001b[A\n",
            "Train:  38%|███▊      | 1180/3140 [09:14<14:07,  2.31it/s, Average Loss=0.219, Epoch=7]\u001b[A\n",
            "Train:  38%|███▊      | 1180/3140 [09:14<14:07,  2.31it/s, Average Loss=0.292, Epoch=7]\u001b[A\n",
            "Train:  38%|███▊      | 1190/3140 [09:18<13:53,  2.34it/s, Average Loss=0.292, Epoch=7]\u001b[A\n",
            "Train:  38%|███▊      | 1190/3140 [09:18<13:53,  2.34it/s, Average Loss=0.26, Epoch=7] \u001b[A\n",
            "Train:  38%|███▊      | 1200/3140 [09:22<13:41,  2.36it/s, Average Loss=0.26, Epoch=7]\u001b[A\n",
            "Train:  38%|███▊      | 1200/3140 [09:22<13:41,  2.36it/s, Average Loss=0.251, Epoch=7]\u001b[A\n",
            "Train:  39%|███▊      | 1210/3140 [09:27<13:34,  2.37it/s, Average Loss=0.251, Epoch=7]\u001b[A\n",
            "Train:  39%|███▊      | 1210/3140 [09:27<13:34,  2.37it/s, Average Loss=0.211, Epoch=7]\u001b[A\n",
            "Train:  39%|███▉      | 1220/3140 [09:31<13:26,  2.38it/s, Average Loss=0.211, Epoch=7]\u001b[A\n",
            "Train:  39%|███▉      | 1220/3140 [09:31<13:26,  2.38it/s, Average Loss=0.198, Epoch=7]\u001b[A\n",
            "Train:  39%|███▉      | 1230/3140 [09:35<13:17,  2.39it/s, Average Loss=0.198, Epoch=7]\u001b[A\n",
            "Train:  39%|███▉      | 1230/3140 [09:35<13:17,  2.39it/s, Average Loss=0.284, Epoch=7]\u001b[A\n",
            "Train:  39%|███▉      | 1240/3140 [09:39<13:11,  2.40it/s, Average Loss=0.284, Epoch=7]\u001b[A\n",
            "Train:  39%|███▉      | 1240/3140 [09:39<13:11,  2.40it/s, Average Loss=0.206, Epoch=7]\u001b[A\n",
            "Train:  40%|███▉      | 1250/3140 [09:43<13:06,  2.40it/s, Average Loss=0.206, Epoch=7]\u001b[A\n",
            "Train:  40%|███▉      | 1250/3140 [09:43<13:06,  2.40it/s, Average Loss=0.298, Epoch=7]\u001b[A"
          ]
        },
        {
          "output_type": "stream",
          "name": "stdout",
          "text": [
            "Validation: [Epoch: 7, Macro F1: 0.5011228204113047, Validation Loss: 1.583837479352951, Time per Epoch: 69.49550271034241]\n",
            "Begin Epoch 8\n"
          ]
        },
        {
          "output_type": "stream",
          "name": "stderr",
          "text": [
            "\n",
            "Train:  40%|████      | 1260/3140 [09:52<17:03,  1.84it/s, Average Loss=0.298, Epoch=7]\u001b[A\n",
            "Train:  40%|████      | 1260/3140 [09:52<17:03,  1.84it/s, Average Loss=0.181, Epoch=8]\u001b[A\n",
            "Train:  40%|████      | 1270/3140 [09:56<15:46,  1.98it/s, Average Loss=0.181, Epoch=8]\u001b[A\n",
            "Train:  40%|████      | 1270/3140 [09:56<15:46,  1.98it/s, Average Loss=0.122, Epoch=8]\u001b[A\n",
            "Train:  41%|████      | 1280/3140 [10:00<14:48,  2.09it/s, Average Loss=0.122, Epoch=8]\u001b[A\n",
            "Train:  41%|████      | 1280/3140 [10:00<14:48,  2.09it/s, Average Loss=0.129, Epoch=8]\u001b[A\n",
            "Train:  41%|████      | 1290/3140 [10:04<14:06,  2.19it/s, Average Loss=0.129, Epoch=8]\u001b[A\n",
            "Train:  41%|████      | 1290/3140 [10:04<14:06,  2.19it/s, Average Loss=0.192, Epoch=8]\u001b[A\n",
            "Train:  41%|████▏     | 1300/3140 [10:08<13:38,  2.25it/s, Average Loss=0.192, Epoch=8]\u001b[A\n",
            "Train:  41%|████▏     | 1300/3140 [10:08<13:38,  2.25it/s, Average Loss=0.237, Epoch=8]\u001b[A\n",
            "Train:  42%|████▏     | 1310/3140 [10:12<13:16,  2.30it/s, Average Loss=0.237, Epoch=8]\u001b[A\n",
            "Train:  42%|████▏     | 1310/3140 [10:12<13:16,  2.30it/s, Average Loss=0.147, Epoch=8]\u001b[A\n",
            "Train:  42%|████▏     | 1320/3140 [10:16<12:59,  2.34it/s, Average Loss=0.147, Epoch=8]\u001b[A\n",
            "Train:  42%|████▏     | 1320/3140 [10:16<12:59,  2.34it/s, Average Loss=0.109, Epoch=8]\u001b[A\n",
            "Train:  42%|████▏     | 1330/3140 [10:20<12:47,  2.36it/s, Average Loss=0.109, Epoch=8]\u001b[A\n",
            "Train:  42%|████▏     | 1330/3140 [10:20<12:47,  2.36it/s, Average Loss=0.145, Epoch=8]\u001b[A\n",
            "Train:  43%|████▎     | 1340/3140 [10:25<12:38,  2.37it/s, Average Loss=0.145, Epoch=8]\u001b[A\n",
            "Train:  43%|████▎     | 1340/3140 [10:25<12:38,  2.37it/s, Average Loss=0.174, Epoch=8]\u001b[A\n",
            "Train:  43%|████▎     | 1350/3140 [10:29<12:28,  2.39it/s, Average Loss=0.174, Epoch=8]\u001b[A\n",
            "Train:  43%|████▎     | 1350/3140 [10:29<12:28,  2.39it/s, Average Loss=0.174, Epoch=8]\u001b[A\n",
            "Train:  43%|████▎     | 1360/3140 [10:33<12:21,  2.40it/s, Average Loss=0.174, Epoch=8]\u001b[A\n",
            "Train:  43%|████▎     | 1360/3140 [10:33<12:21,  2.40it/s, Average Loss=0.0748, Epoch=8]\u001b[A\n",
            "Train:  44%|████▎     | 1370/3140 [10:37<12:17,  2.40it/s, Average Loss=0.0748, Epoch=8]\u001b[A\n",
            "Train:  44%|████▎     | 1370/3140 [10:37<12:17,  2.40it/s, Average Loss=0.138, Epoch=8] \u001b[A\n",
            "Train:  44%|████▍     | 1380/3140 [10:41<12:11,  2.41it/s, Average Loss=0.138, Epoch=8]\u001b[A\n",
            "Train:  44%|████▍     | 1380/3140 [10:41<12:11,  2.41it/s, Average Loss=0.085, Epoch=8]\u001b[A\n",
            "Train:  44%|████▍     | 1390/3140 [10:45<12:05,  2.41it/s, Average Loss=0.085, Epoch=8]\u001b[A\n",
            "Train:  44%|████▍     | 1390/3140 [10:45<12:05,  2.41it/s, Average Loss=0.114, Epoch=8]\u001b[A\n",
            "Train:  45%|████▍     | 1400/3140 [10:49<12:01,  2.41it/s, Average Loss=0.114, Epoch=8]\u001b[A\n",
            "Train:  45%|████▍     | 1400/3140 [10:49<12:01,  2.41it/s, Average Loss=0.258, Epoch=8]\u001b[A\n",
            "Train:  45%|████▍     | 1410/3140 [10:54<11:57,  2.41it/s, Average Loss=0.258, Epoch=8]\u001b[A\n",
            "Train:  45%|████▍     | 1410/3140 [10:54<11:57,  2.41it/s, Average Loss=0.212, Epoch=8]\u001b[A"
          ]
        },
        {
          "output_type": "stream",
          "name": "stdout",
          "text": [
            "Validation: [Epoch: 8, Macro F1: 0.49325516475091624, Validation Loss: 2.01286803483963, Time per Epoch: 69.23074126243591]\n",
            "Begin Epoch 9\n"
          ]
        },
        {
          "output_type": "stream",
          "name": "stderr",
          "text": [
            "\n",
            "Train:  45%|████▌     | 1420/3140 [11:02<15:35,  1.84it/s, Average Loss=0.212, Epoch=8]\u001b[A\n",
            "Train:  45%|████▌     | 1420/3140 [11:02<15:35,  1.84it/s, Average Loss=0.0697, Epoch=9]\u001b[A\n",
            "Train:  46%|████▌     | 1430/3140 [11:06<14:24,  1.98it/s, Average Loss=0.0697, Epoch=9]\u001b[A\n",
            "Train:  46%|████▌     | 1430/3140 [11:06<14:24,  1.98it/s, Average Loss=0.0815, Epoch=9]\u001b[A\n",
            "Train:  46%|████▌     | 1440/3140 [11:10<13:32,  2.09it/s, Average Loss=0.0815, Epoch=9]\u001b[A\n",
            "Train:  46%|████▌     | 1440/3140 [11:10<13:32,  2.09it/s, Average Loss=0.0805, Epoch=9]\u001b[A\n",
            "Train:  46%|████▌     | 1450/3140 [11:14<12:54,  2.18it/s, Average Loss=0.0805, Epoch=9]\u001b[A\n",
            "Train:  46%|████▌     | 1450/3140 [11:14<12:54,  2.18it/s, Average Loss=0.218, Epoch=9] \u001b[A\n",
            "Train:  46%|████▋     | 1460/3140 [11:19<12:29,  2.24it/s, Average Loss=0.218, Epoch=9]\u001b[A\n",
            "Train:  46%|████▋     | 1460/3140 [11:19<12:29,  2.24it/s, Average Loss=0.136, Epoch=9]\u001b[A\n",
            "Train:  47%|████▋     | 1470/3140 [11:23<12:08,  2.29it/s, Average Loss=0.136, Epoch=9]\u001b[A\n",
            "Train:  47%|████▋     | 1470/3140 [11:23<12:08,  2.29it/s, Average Loss=0.143, Epoch=9]\u001b[A\n",
            "Train:  47%|████▋     | 1480/3140 [11:27<11:52,  2.33it/s, Average Loss=0.143, Epoch=9]\u001b[A\n",
            "Train:  47%|████▋     | 1480/3140 [11:27<11:52,  2.33it/s, Average Loss=0.0444, Epoch=9]\u001b[A\n",
            "Train:  47%|████▋     | 1490/3140 [11:31<11:42,  2.35it/s, Average Loss=0.0444, Epoch=9]\u001b[A\n",
            "Train:  47%|████▋     | 1490/3140 [11:31<11:42,  2.35it/s, Average Loss=0.154, Epoch=9] \u001b[A\n",
            "Train:  48%|████▊     | 1500/3140 [11:35<11:33,  2.37it/s, Average Loss=0.154, Epoch=9]\u001b[A\n",
            "Train:  48%|████▊     | 1500/3140 [11:35<11:33,  2.37it/s, Average Loss=0.146, Epoch=9]\u001b[A\n",
            "Train:  48%|████▊     | 1510/3140 [11:39<11:24,  2.38it/s, Average Loss=0.146, Epoch=9]\u001b[A\n",
            "Train:  48%|████▊     | 1510/3140 [11:39<11:24,  2.38it/s, Average Loss=0.139, Epoch=9]\u001b[A\n",
            "Train:  48%|████▊     | 1520/3140 [11:43<11:17,  2.39it/s, Average Loss=0.139, Epoch=9]\u001b[A\n",
            "Train:  48%|████▊     | 1520/3140 [11:44<11:17,  2.39it/s, Average Loss=0.13, Epoch=9] \u001b[A\n",
            "Train:  49%|████▊     | 1530/3140 [11:48<11:12,  2.39it/s, Average Loss=0.13, Epoch=9]\u001b[A\n",
            "Train:  49%|████▊     | 1530/3140 [11:48<11:12,  2.39it/s, Average Loss=0.0959, Epoch=9]\u001b[A\n",
            "Train:  49%|████▉     | 1540/3140 [11:52<11:06,  2.40it/s, Average Loss=0.0959, Epoch=9]\u001b[A\n",
            "Train:  49%|████▉     | 1540/3140 [11:52<11:06,  2.40it/s, Average Loss=0.0412, Epoch=9]\u001b[A\n",
            "Train:  49%|████▉     | 1550/3140 [11:56<11:00,  2.41it/s, Average Loss=0.0412, Epoch=9]\u001b[A\n",
            "Train:  49%|████▉     | 1550/3140 [11:56<11:00,  2.41it/s, Average Loss=0.0647, Epoch=9]\u001b[A\n",
            "Train:  50%|████▉     | 1560/3140 [12:00<10:56,  2.41it/s, Average Loss=0.0647, Epoch=9]\u001b[A\n",
            "Train:  50%|████▉     | 1560/3140 [12:00<10:56,  2.41it/s, Average Loss=0.153, Epoch=9] \u001b[A\n",
            "Train:  50%|█████     | 1570/3140 [12:04<10:48,  2.42it/s, Average Loss=0.153, Epoch=9]\u001b[A\n",
            "Train:  50%|█████     | 1570/3140 [12:04<10:48,  2.42it/s, Average Loss=0.0782, Epoch=9]\u001b[A"
          ]
        },
        {
          "output_type": "stream",
          "name": "stdout",
          "text": [
            "Validation: [Epoch: 9, Macro F1: 0.5025755678572998, Validation Loss: 2.437010186910629, Time per Epoch: 69.58329653739929]\n",
            "Begin Epoch 10\n"
          ]
        },
        {
          "output_type": "stream",
          "name": "stderr",
          "text": [
            "\n",
            "Train:  50%|█████     | 1580/3140 [12:13<14:18,  1.82it/s, Average Loss=0.0782, Epoch=9]\u001b[A\n",
            "Train:  50%|█████     | 1580/3140 [12:13<14:18,  1.82it/s, Average Loss=0.0775, Epoch=10]\u001b[A\n",
            "Train:  51%|█████     | 1590/3140 [12:17<13:09,  1.96it/s, Average Loss=0.0775, Epoch=10]\u001b[A\n",
            "Train:  51%|█████     | 1590/3140 [12:17<13:09,  1.96it/s, Average Loss=0.112, Epoch=10] \u001b[A\n",
            "Train:  51%|█████     | 1600/3140 [12:21<12:19,  2.08it/s, Average Loss=0.112, Epoch=10]\u001b[A\n",
            "Train:  51%|█████     | 1600/3140 [12:21<12:19,  2.08it/s, Average Loss=0.115, Epoch=10]\u001b[A\n",
            "Train:  51%|█████▏    | 1610/3140 [12:25<11:44,  2.17it/s, Average Loss=0.115, Epoch=10]\u001b[A\n",
            "Train:  51%|█████▏    | 1610/3140 [12:25<11:44,  2.17it/s, Average Loss=0.166, Epoch=10]\u001b[A\n",
            "Train:  52%|█████▏    | 1620/3140 [12:29<11:20,  2.23it/s, Average Loss=0.166, Epoch=10]\u001b[A\n",
            "Train:  52%|█████▏    | 1620/3140 [12:29<11:20,  2.23it/s, Average Loss=0.062, Epoch=10]\u001b[A\n",
            "Train:  52%|█████▏    | 1630/3140 [12:34<11:00,  2.29it/s, Average Loss=0.062, Epoch=10]\u001b[A\n",
            "Train:  52%|█████▏    | 1630/3140 [12:34<11:00,  2.29it/s, Average Loss=0.0683, Epoch=10]\u001b[A\n",
            "Train:  52%|█████▏    | 1640/3140 [12:38<10:45,  2.32it/s, Average Loss=0.0683, Epoch=10]\u001b[A\n",
            "Train:  52%|█████▏    | 1640/3140 [12:38<10:45,  2.32it/s, Average Loss=0.0855, Epoch=10]\u001b[A\n",
            "Train:  53%|█████▎    | 1650/3140 [12:42<10:35,  2.34it/s, Average Loss=0.0855, Epoch=10]\u001b[A\n",
            "Train:  53%|█████▎    | 1650/3140 [12:42<10:35,  2.34it/s, Average Loss=0.124, Epoch=10] \u001b[A\n",
            "Train:  53%|█████▎    | 1660/3140 [12:46<10:25,  2.37it/s, Average Loss=0.124, Epoch=10]\u001b[A\n",
            "Train:  53%|█████▎    | 1660/3140 [12:46<10:25,  2.37it/s, Average Loss=0.0447, Epoch=10]\u001b[A\n",
            "Train:  53%|█████▎    | 1670/3140 [12:50<10:16,  2.38it/s, Average Loss=0.0447, Epoch=10]\u001b[A\n",
            "Train:  53%|█████▎    | 1670/3140 [12:50<10:16,  2.38it/s, Average Loss=0.18, Epoch=10]  \u001b[A\n",
            "Train:  54%|█████▎    | 1680/3140 [12:54<10:10,  2.39it/s, Average Loss=0.18, Epoch=10]\u001b[A\n",
            "Train:  54%|█████▎    | 1680/3140 [12:54<10:10,  2.39it/s, Average Loss=0.0753, Epoch=10]\u001b[A\n",
            "Train:  54%|█████▍    | 1690/3140 [12:58<10:05,  2.39it/s, Average Loss=0.0753, Epoch=10]\u001b[A\n",
            "Train:  54%|█████▍    | 1690/3140 [12:59<10:05,  2.39it/s, Average Loss=0.034, Epoch=10] \u001b[A\n",
            "Train:  54%|█████▍    | 1700/3140 [13:03<09:59,  2.40it/s, Average Loss=0.034, Epoch=10]\u001b[A\n",
            "Train:  54%|█████▍    | 1700/3140 [13:03<09:59,  2.40it/s, Average Loss=0.0535, Epoch=10]\u001b[A\n",
            "Train:  54%|█████▍    | 1710/3140 [13:07<09:53,  2.41it/s, Average Loss=0.0535, Epoch=10]\u001b[A\n",
            "Train:  54%|█████▍    | 1710/3140 [13:07<09:53,  2.41it/s, Average Loss=0.0549, Epoch=10]\u001b[A\n",
            "Train:  55%|█████▍    | 1720/3140 [13:11<09:50,  2.40it/s, Average Loss=0.0549, Epoch=10]\u001b[A\n",
            "Train:  55%|█████▍    | 1720/3140 [13:11<09:50,  2.40it/s, Average Loss=0.0495, Epoch=10]\u001b[A"
          ]
        },
        {
          "output_type": "stream",
          "name": "stdout",
          "text": [
            "Validation: [Epoch: 10, Macro F1: 0.4880784585534803, Validation Loss: 2.788182181119919, Time per Epoch: 69.39607977867126]\n",
            "Begin Epoch 11\n"
          ]
        },
        {
          "output_type": "stream",
          "name": "stderr",
          "text": [
            "\n",
            "Train:  55%|█████▌    | 1730/3140 [13:19<12:47,  1.84it/s, Average Loss=0.0495, Epoch=10]\u001b[A\n",
            "Train:  55%|█████▌    | 1730/3140 [13:19<12:47,  1.84it/s, Average Loss=0.0654, Epoch=11]\u001b[A\n",
            "Train:  55%|█████▌    | 1740/3140 [13:24<11:48,  1.98it/s, Average Loss=0.0654, Epoch=11]\u001b[A\n",
            "Train:  55%|█████▌    | 1740/3140 [13:24<11:48,  1.98it/s, Average Loss=0.0972, Epoch=11]\u001b[A\n",
            "Train:  56%|█████▌    | 1750/3140 [13:28<11:04,  2.09it/s, Average Loss=0.0972, Epoch=11]\u001b[A\n",
            "Train:  56%|█████▌    | 1750/3140 [13:28<11:04,  2.09it/s, Average Loss=0.0342, Epoch=11]\u001b[A\n",
            "Train:  56%|█████▌    | 1760/3140 [13:32<10:33,  2.18it/s, Average Loss=0.0342, Epoch=11]\u001b[A\n",
            "Train:  56%|█████▌    | 1760/3140 [13:32<10:33,  2.18it/s, Average Loss=0.0452, Epoch=11]\u001b[A\n",
            "Train:  56%|█████▋    | 1770/3140 [13:36<10:10,  2.24it/s, Average Loss=0.0452, Epoch=11]\u001b[A\n",
            "Train:  56%|█████▋    | 1770/3140 [13:36<10:10,  2.24it/s, Average Loss=0.105, Epoch=11] \u001b[A\n",
            "Train:  57%|█████▋    | 1780/3140 [13:40<09:54,  2.29it/s, Average Loss=0.105, Epoch=11]\u001b[A\n",
            "Train:  57%|█████▋    | 1780/3140 [13:40<09:54,  2.29it/s, Average Loss=0.0272, Epoch=11]\u001b[A\n",
            "Train:  57%|█████▋    | 1790/3140 [13:44<09:39,  2.33it/s, Average Loss=0.0272, Epoch=11]\u001b[A\n",
            "Train:  57%|█████▋    | 1790/3140 [13:44<09:39,  2.33it/s, Average Loss=0.0636, Epoch=11]\u001b[A\n",
            "Train:  57%|█████▋    | 1800/3140 [13:48<09:29,  2.35it/s, Average Loss=0.0636, Epoch=11]\u001b[A\n",
            "Train:  57%|█████▋    | 1800/3140 [13:48<09:29,  2.35it/s, Average Loss=0.0233, Epoch=11]\u001b[A\n",
            "Train:  58%|█████▊    | 1810/3140 [13:53<09:22,  2.37it/s, Average Loss=0.0233, Epoch=11]\u001b[A\n",
            "Train:  58%|█████▊    | 1810/3140 [13:53<09:22,  2.37it/s, Average Loss=0.0327, Epoch=11]\u001b[A\n",
            "Train:  58%|█████▊    | 1820/3140 [13:57<09:13,  2.38it/s, Average Loss=0.0327, Epoch=11]\u001b[A\n",
            "Train:  58%|█████▊    | 1820/3140 [13:57<09:13,  2.38it/s, Average Loss=0.0538, Epoch=11]\u001b[A\n",
            "Train:  58%|█████▊    | 1830/3140 [14:01<09:06,  2.40it/s, Average Loss=0.0538, Epoch=11]\u001b[A\n",
            "Train:  58%|█████▊    | 1830/3140 [14:01<09:06,  2.40it/s, Average Loss=0.0237, Epoch=11]\u001b[A\n",
            "Train:  59%|█████▊    | 1840/3140 [14:05<09:02,  2.40it/s, Average Loss=0.0237, Epoch=11]\u001b[A\n",
            "Train:  59%|█████▊    | 1840/3140 [14:05<09:02,  2.40it/s, Average Loss=0.042, Epoch=11] \u001b[A\n",
            "Train:  59%|█████▉    | 1850/3140 [14:09<08:57,  2.40it/s, Average Loss=0.042, Epoch=11]\u001b[A\n",
            "Train:  59%|█████▉    | 1850/3140 [14:09<08:57,  2.40it/s, Average Loss=0.0095, Epoch=11]\u001b[A\n",
            "Train:  59%|█████▉    | 1860/3140 [14:13<08:51,  2.41it/s, Average Loss=0.0095, Epoch=11]\u001b[A\n",
            "Train:  59%|█████▉    | 1860/3140 [14:13<08:51,  2.41it/s, Average Loss=0.0391, Epoch=11]\u001b[A\n",
            "Train:  60%|█████▉    | 1870/3140 [14:17<08:46,  2.41it/s, Average Loss=0.0391, Epoch=11]\u001b[A\n",
            "Train:  60%|█████▉    | 1870/3140 [14:17<08:46,  2.41it/s, Average Loss=0.0407, Epoch=11]\u001b[A\n",
            "Train:  60%|█████▉    | 1880/3140 [14:22<08:43,  2.41it/s, Average Loss=0.0407, Epoch=11]\u001b[A\n",
            "Train:  60%|█████▉    | 1880/3140 [14:22<08:43,  2.41it/s, Average Loss=0.0266, Epoch=11]\u001b[A"
          ]
        },
        {
          "output_type": "stream",
          "name": "stdout",
          "text": [
            "Validation: [Epoch: 11, Macro F1: 0.5199923990560325, Validation Loss: 3.008804887533188, Time per Epoch: 69.40624928474426]\n",
            "Begin Epoch 12\n"
          ]
        },
        {
          "output_type": "stream",
          "name": "stderr",
          "text": [
            "\n",
            "Train:  60%|██████    | 1890/3140 [14:35<14:19,  1.45it/s, Average Loss=0.0266, Epoch=11]\u001b[A\n",
            "Train:  60%|██████    | 1890/3140 [14:35<14:19,  1.45it/s, Average Loss=0.0468, Epoch=12]\u001b[A\n",
            "Train:  61%|██████    | 1900/3140 [14:39<12:29,  1.65it/s, Average Loss=0.0468, Epoch=12]\u001b[A\n",
            "Train:  61%|██████    | 1900/3140 [14:39<12:29,  1.65it/s, Average Loss=0.00893, Epoch=12]\u001b[A\n",
            "Train:  61%|██████    | 1910/3140 [14:43<11:12,  1.83it/s, Average Loss=0.00893, Epoch=12]\u001b[A\n",
            "Train:  61%|██████    | 1910/3140 [14:43<11:12,  1.83it/s, Average Loss=0.00465, Epoch=12]\u001b[A\n",
            "Train:  61%|██████    | 1920/3140 [14:47<10:19,  1.97it/s, Average Loss=0.00465, Epoch=12]\u001b[A\n",
            "Train:  61%|██████    | 1920/3140 [14:47<10:19,  1.97it/s, Average Loss=0.025, Epoch=12]  \u001b[A\n",
            "Train:  61%|██████▏   | 1930/3140 [14:51<09:40,  2.09it/s, Average Loss=0.025, Epoch=12]\u001b[A\n",
            "Train:  61%|██████▏   | 1930/3140 [14:51<09:40,  2.09it/s, Average Loss=0.037, Epoch=12]\u001b[A\n",
            "Train:  62%|██████▏   | 1940/3140 [14:55<09:12,  2.17it/s, Average Loss=0.037, Epoch=12]\u001b[A\n",
            "Train:  62%|██████▏   | 1940/3140 [14:55<09:12,  2.17it/s, Average Loss=0.00495, Epoch=12]\u001b[A\n",
            "Train:  62%|██████▏   | 1950/3140 [15:00<08:53,  2.23it/s, Average Loss=0.00495, Epoch=12]\u001b[A\n",
            "Train:  62%|██████▏   | 1950/3140 [15:00<08:53,  2.23it/s, Average Loss=0.0148, Epoch=12] \u001b[A\n",
            "Train:  62%|██████▏   | 1960/3140 [15:04<08:38,  2.28it/s, Average Loss=0.0148, Epoch=12]\u001b[A\n",
            "Train:  62%|██████▏   | 1960/3140 [15:04<08:38,  2.28it/s, Average Loss=0.00508, Epoch=12]\u001b[A\n",
            "Train:  63%|██████▎   | 1970/3140 [15:08<08:25,  2.32it/s, Average Loss=0.00508, Epoch=12]\u001b[A\n",
            "Train:  63%|██████▎   | 1970/3140 [15:08<08:25,  2.32it/s, Average Loss=0.0383, Epoch=12] \u001b[A\n",
            "Train:  63%|██████▎   | 1980/3140 [15:12<08:14,  2.34it/s, Average Loss=0.0383, Epoch=12]\u001b[A\n",
            "Train:  63%|██████▎   | 1980/3140 [15:12<08:14,  2.34it/s, Average Loss=0.0438, Epoch=12]\u001b[A\n",
            "Train:  63%|██████▎   | 1990/3140 [15:16<08:07,  2.36it/s, Average Loss=0.0438, Epoch=12]\u001b[A\n",
            "Train:  63%|██████▎   | 1990/3140 [15:16<08:07,  2.36it/s, Average Loss=0.0268, Epoch=12]\u001b[A\n",
            "Train:  64%|██████▎   | 2000/3140 [15:20<07:59,  2.38it/s, Average Loss=0.0268, Epoch=12]\u001b[A\n",
            "Train:  64%|██████▎   | 2000/3140 [15:20<07:59,  2.38it/s, Average Loss=0.0402, Epoch=12]\u001b[A\n",
            "Train:  64%|██████▍   | 2010/3140 [15:25<07:52,  2.39it/s, Average Loss=0.0402, Epoch=12]\u001b[A\n",
            "Train:  64%|██████▍   | 2010/3140 [15:25<07:52,  2.39it/s, Average Loss=0.0123, Epoch=12]\u001b[A\n",
            "Train:  64%|██████▍   | 2020/3140 [15:29<07:48,  2.39it/s, Average Loss=0.0123, Epoch=12]\u001b[A\n",
            "Train:  64%|██████▍   | 2020/3140 [15:29<07:48,  2.39it/s, Average Loss=0.0435, Epoch=12]\u001b[A\n",
            "Train:  65%|██████▍   | 2030/3140 [15:33<07:41,  2.40it/s, Average Loss=0.0435, Epoch=12]\u001b[A\n",
            "Train:  65%|██████▍   | 2030/3140 [15:33<07:41,  2.40it/s, Average Loss=0.0356, Epoch=12]\u001b[A\n",
            "Train:  65%|██████▍   | 2040/3140 [15:37<07:36,  2.41it/s, Average Loss=0.0356, Epoch=12]\u001b[A\n",
            "Train:  65%|██████▍   | 2040/3140 [15:37<07:36,  2.41it/s, Average Loss=0.0264, Epoch=12]\u001b[A"
          ]
        },
        {
          "output_type": "stream",
          "name": "stdout",
          "text": [
            "Validation: [Epoch: 12, Macro F1: 0.4859649508414372, Validation Loss: 3.4491101622581484, Time per Epoch: 69.53508758544922]\n",
            "Begin Epoch 13\n"
          ]
        },
        {
          "output_type": "stream",
          "name": "stderr",
          "text": [
            "\n",
            "Train:  65%|██████▌   | 2050/3140 [15:45<09:54,  1.83it/s, Average Loss=0.0264, Epoch=12]\u001b[A\n",
            "Train:  65%|██████▌   | 2050/3140 [15:45<09:54,  1.83it/s, Average Loss=0.0214, Epoch=13]\u001b[A\n",
            "Train:  66%|██████▌   | 2060/3140 [15:50<09:05,  1.98it/s, Average Loss=0.0214, Epoch=13]\u001b[A\n",
            "Train:  66%|██████▌   | 2060/3140 [15:50<09:05,  1.98it/s, Average Loss=0.0288, Epoch=13]\u001b[A\n",
            "Train:  66%|██████▌   | 2070/3140 [15:54<08:31,  2.09it/s, Average Loss=0.0288, Epoch=13]\u001b[A\n",
            "Train:  66%|██████▌   | 2070/3140 [15:54<08:31,  2.09it/s, Average Loss=0.027, Epoch=13] \u001b[A\n",
            "Train:  66%|██████▌   | 2080/3140 [15:58<08:06,  2.18it/s, Average Loss=0.027, Epoch=13]\u001b[A\n",
            "Train:  66%|██████▌   | 2080/3140 [15:58<08:06,  2.18it/s, Average Loss=0.0461, Epoch=13]\u001b[A\n",
            "Train:  67%|██████▋   | 2090/3140 [16:02<07:47,  2.25it/s, Average Loss=0.0461, Epoch=13]\u001b[A\n",
            "Train:  67%|██████▋   | 2090/3140 [16:02<07:47,  2.25it/s, Average Loss=0.0025, Epoch=13]\u001b[A\n",
            "Train:  67%|██████▋   | 2100/3140 [16:06<07:32,  2.30it/s, Average Loss=0.0025, Epoch=13]\u001b[A\n",
            "Train:  67%|██████▋   | 2100/3140 [16:06<07:32,  2.30it/s, Average Loss=0.00108, Epoch=13]\u001b[A\n",
            "Train:  67%|██████▋   | 2110/3140 [16:10<07:23,  2.32it/s, Average Loss=0.00108, Epoch=13]\u001b[A\n",
            "Train:  67%|██████▋   | 2110/3140 [16:10<07:23,  2.32it/s, Average Loss=0.00307, Epoch=13]\u001b[A\n",
            "Train:  68%|██████▊   | 2120/3140 [16:14<07:13,  2.35it/s, Average Loss=0.00307, Epoch=13]\u001b[A\n",
            "Train:  68%|██████▊   | 2120/3140 [16:14<07:13,  2.35it/s, Average Loss=0.0257, Epoch=13] \u001b[A\n",
            "Train:  68%|██████▊   | 2130/3140 [16:19<07:05,  2.37it/s, Average Loss=0.0257, Epoch=13]\u001b[A\n",
            "Train:  68%|██████▊   | 2130/3140 [16:19<07:05,  2.37it/s, Average Loss=0.0133, Epoch=13]\u001b[A\n",
            "Train:  68%|██████▊   | 2140/3140 [16:23<06:59,  2.38it/s, Average Loss=0.0133, Epoch=13]\u001b[A\n",
            "Train:  68%|██████▊   | 2140/3140 [16:23<06:59,  2.38it/s, Average Loss=0.0148, Epoch=13]\u001b[A\n",
            "Train:  68%|██████▊   | 2150/3140 [16:27<06:54,  2.39it/s, Average Loss=0.0148, Epoch=13]\u001b[A\n",
            "Train:  68%|██████▊   | 2150/3140 [16:27<06:54,  2.39it/s, Average Loss=0.00843, Epoch=13]\u001b[A\n",
            "Train:  69%|██████▉   | 2160/3140 [16:31<06:48,  2.40it/s, Average Loss=0.00843, Epoch=13]\u001b[A\n",
            "Train:  69%|██████▉   | 2160/3140 [16:31<06:48,  2.40it/s, Average Loss=0.00562, Epoch=13]\u001b[A\n",
            "Train:  69%|██████▉   | 2170/3140 [16:35<06:43,  2.40it/s, Average Loss=0.00562, Epoch=13]\u001b[A\n",
            "Train:  69%|██████▉   | 2170/3140 [16:35<06:43,  2.40it/s, Average Loss=0.0196, Epoch=13] \u001b[A\n",
            "Train:  69%|██████▉   | 2180/3140 [16:39<06:40,  2.40it/s, Average Loss=0.0196, Epoch=13]\u001b[A\n",
            "Train:  69%|██████▉   | 2180/3140 [16:39<06:40,  2.40it/s, Average Loss=0.00831, Epoch=13]\u001b[A\n",
            "Train:  70%|██████▉   | 2190/3140 [16:43<06:34,  2.41it/s, Average Loss=0.00831, Epoch=13]\u001b[A\n",
            "Train:  70%|██████▉   | 2190/3140 [16:43<06:34,  2.41it/s, Average Loss=0.000967, Epoch=13]\u001b[A"
          ]
        },
        {
          "output_type": "stream",
          "name": "stdout",
          "text": [
            "Validation: [Epoch: 13, Macro F1: 0.5008470168090864, Validation Loss: 3.519356977939606, Time per Epoch: 69.39812445640564]\n",
            "Begin Epoch 14\n"
          ]
        },
        {
          "output_type": "stream",
          "name": "stderr",
          "text": [
            "\n",
            "Train:  70%|███████   | 2200/3140 [16:52<08:33,  1.83it/s, Average Loss=0.000967, Epoch=13]\u001b[A\n",
            "Train:  70%|███████   | 2200/3140 [16:52<08:33,  1.83it/s, Average Loss=0.0139, Epoch=14]  \u001b[A\n",
            "Train:  70%|███████   | 2210/3140 [16:56<07:50,  1.98it/s, Average Loss=0.0139, Epoch=14]\u001b[A\n",
            "Train:  70%|███████   | 2210/3140 [16:56<07:50,  1.98it/s, Average Loss=0.0226, Epoch=14]\u001b[A\n",
            "Train:  71%|███████   | 2220/3140 [17:00<07:20,  2.09it/s, Average Loss=0.0226, Epoch=14]\u001b[A\n",
            "Train:  71%|███████   | 2220/3140 [17:00<07:20,  2.09it/s, Average Loss=0.00571, Epoch=14]\u001b[A\n",
            "Train:  71%|███████   | 2230/3140 [17:04<06:58,  2.17it/s, Average Loss=0.00571, Epoch=14]\u001b[A\n",
            "Train:  71%|███████   | 2230/3140 [17:04<06:58,  2.17it/s, Average Loss=0.0045, Epoch=14] \u001b[A\n",
            "Train:  71%|███████▏  | 2240/3140 [17:09<06:41,  2.24it/s, Average Loss=0.0045, Epoch=14]\u001b[A\n",
            "Train:  71%|███████▏  | 2240/3140 [17:09<06:41,  2.24it/s, Average Loss=0.0214, Epoch=14]\u001b[A\n",
            "Train:  72%|███████▏  | 2250/3140 [17:13<06:28,  2.29it/s, Average Loss=0.0214, Epoch=14]\u001b[A\n",
            "Train:  72%|███████▏  | 2250/3140 [17:13<06:28,  2.29it/s, Average Loss=0.00643, Epoch=14]\u001b[A\n",
            "Train:  72%|███████▏  | 2260/3140 [17:17<06:18,  2.32it/s, Average Loss=0.00643, Epoch=14]\u001b[A\n",
            "Train:  72%|███████▏  | 2260/3140 [17:17<06:18,  2.32it/s, Average Loss=0.00121, Epoch=14]\u001b[A\n",
            "Train:  72%|███████▏  | 2270/3140 [17:21<06:10,  2.35it/s, Average Loss=0.00121, Epoch=14]\u001b[A\n",
            "Train:  72%|███████▏  | 2270/3140 [17:21<06:10,  2.35it/s, Average Loss=0.0173, Epoch=14] \u001b[A\n",
            "Train:  73%|███████▎  | 2280/3140 [17:25<06:03,  2.37it/s, Average Loss=0.0173, Epoch=14]\u001b[A\n",
            "Train:  73%|███████▎  | 2280/3140 [17:25<06:03,  2.37it/s, Average Loss=0.0131, Epoch=14]\u001b[A\n",
            "Train:  73%|███████▎  | 2290/3140 [17:29<05:56,  2.38it/s, Average Loss=0.0131, Epoch=14]\u001b[A\n",
            "Train:  73%|███████▎  | 2290/3140 [17:29<05:56,  2.38it/s, Average Loss=0.0134, Epoch=14]\u001b[A\n",
            "Train:  73%|███████▎  | 2300/3140 [17:33<05:51,  2.39it/s, Average Loss=0.0134, Epoch=14]\u001b[A\n",
            "Train:  73%|███████▎  | 2300/3140 [17:33<05:51,  2.39it/s, Average Loss=0.000488, Epoch=14]\u001b[A\n",
            "Train:  74%|███████▎  | 2310/3140 [17:38<05:46,  2.40it/s, Average Loss=0.000488, Epoch=14]\u001b[A\n",
            "Train:  74%|███████▎  | 2310/3140 [17:38<05:46,  2.40it/s, Average Loss=0.00617, Epoch=14] \u001b[A\n",
            "Train:  74%|███████▍  | 2320/3140 [17:42<05:41,  2.40it/s, Average Loss=0.00617, Epoch=14]\u001b[A\n",
            "Train:  74%|███████▍  | 2320/3140 [17:42<05:41,  2.40it/s, Average Loss=0.00127, Epoch=14]\u001b[A\n",
            "Train:  74%|███████▍  | 2330/3140 [17:46<05:36,  2.40it/s, Average Loss=0.00127, Epoch=14]\u001b[A\n",
            "Train:  74%|███████▍  | 2330/3140 [17:46<05:36,  2.40it/s, Average Loss=0.00223, Epoch=14]\u001b[A\n",
            "Train:  75%|███████▍  | 2340/3140 [17:50<05:32,  2.41it/s, Average Loss=0.00223, Epoch=14]\u001b[A\n",
            "Train:  75%|███████▍  | 2340/3140 [17:50<05:32,  2.41it/s, Average Loss=0.00886, Epoch=14]\u001b[A\n",
            "Train:  75%|███████▍  | 2350/3140 [17:54<05:27,  2.41it/s, Average Loss=0.00886, Epoch=14]\u001b[A\n",
            "Train:  75%|███████▍  | 2350/3140 [17:54<05:27,  2.41it/s, Average Loss=0.0009, Epoch=14] \u001b[A"
          ]
        },
        {
          "output_type": "stream",
          "name": "stdout",
          "text": [
            "Validation: [Epoch: 14, Macro F1: 0.5007902634756786, Validation Loss: 3.384779322147369, Time per Epoch: 69.61015057563782]\n",
            "Begin Epoch 15\n"
          ]
        },
        {
          "output_type": "stream",
          "name": "stderr",
          "text": [
            "\n",
            "Train:  75%|███████▌  | 2360/3140 [18:03<07:09,  1.82it/s, Average Loss=0.0009, Epoch=14]\u001b[A\n",
            "Train:  75%|███████▌  | 2360/3140 [18:03<07:09,  1.82it/s, Average Loss=0.015, Epoch=15] \u001b[A\n",
            "Train:  75%|███████▌  | 2370/3140 [18:07<06:31,  1.97it/s, Average Loss=0.015, Epoch=15]\u001b[A\n",
            "Train:  75%|███████▌  | 2370/3140 [18:07<06:31,  1.97it/s, Average Loss=0.000437, Epoch=15]\u001b[A\n",
            "Train:  76%|███████▌  | 2380/3140 [18:11<06:04,  2.09it/s, Average Loss=0.000437, Epoch=15]\u001b[A\n",
            "Train:  76%|███████▌  | 2380/3140 [18:11<06:04,  2.09it/s, Average Loss=0.00385, Epoch=15] \u001b[A\n",
            "Train:  76%|███████▌  | 2390/3140 [18:15<05:45,  2.17it/s, Average Loss=0.00385, Epoch=15]\u001b[A\n",
            "Train:  76%|███████▌  | 2390/3140 [18:15<05:45,  2.17it/s, Average Loss=0.00558, Epoch=15]\u001b[A\n",
            "Train:  76%|███████▋  | 2400/3140 [18:19<05:30,  2.24it/s, Average Loss=0.00558, Epoch=15]\u001b[A\n",
            "Train:  76%|███████▋  | 2400/3140 [18:19<05:30,  2.24it/s, Average Loss=0.00253, Epoch=15]\u001b[A\n",
            "Train:  77%|███████▋  | 2410/3140 [18:24<05:18,  2.29it/s, Average Loss=0.00253, Epoch=15]\u001b[A\n",
            "Train:  77%|███████▋  | 2410/3140 [18:24<05:18,  2.29it/s, Average Loss=0.000329, Epoch=15]\u001b[A\n",
            "Train:  77%|███████▋  | 2420/3140 [18:28<05:09,  2.33it/s, Average Loss=0.000329, Epoch=15]\u001b[A\n",
            "Train:  77%|███████▋  | 2420/3140 [18:28<05:09,  2.33it/s, Average Loss=0.000139, Epoch=15]\u001b[A\n",
            "Train:  77%|███████▋  | 2430/3140 [18:32<05:02,  2.35it/s, Average Loss=0.000139, Epoch=15]\u001b[A\n",
            "Train:  77%|███████▋  | 2430/3140 [18:32<05:02,  2.35it/s, Average Loss=0.00544, Epoch=15] \u001b[A\n",
            "Train:  78%|███████▊  | 2440/3140 [18:36<04:55,  2.37it/s, Average Loss=0.00544, Epoch=15]\u001b[A\n",
            "Train:  78%|███████▊  | 2440/3140 [18:36<04:55,  2.37it/s, Average Loss=0.00728, Epoch=15]\u001b[A\n",
            "Train:  78%|███████▊  | 2450/3140 [18:40<04:49,  2.38it/s, Average Loss=0.00728, Epoch=15]\u001b[A\n",
            "Train:  78%|███████▊  | 2450/3140 [18:40<04:49,  2.38it/s, Average Loss=0.00387, Epoch=15]\u001b[A\n",
            "Train:  78%|███████▊  | 2460/3140 [18:44<04:44,  2.39it/s, Average Loss=0.00387, Epoch=15]\u001b[A\n",
            "Train:  78%|███████▊  | 2460/3140 [18:44<04:44,  2.39it/s, Average Loss=0.00168, Epoch=15]\u001b[A\n",
            "Train:  79%|███████▊  | 2470/3140 [18:48<04:39,  2.40it/s, Average Loss=0.00168, Epoch=15]\u001b[A\n",
            "Train:  79%|███████▊  | 2470/3140 [18:48<04:39,  2.40it/s, Average Loss=0.00414, Epoch=15]\u001b[A\n",
            "Train:  79%|███████▉  | 2480/3140 [18:53<04:34,  2.40it/s, Average Loss=0.00414, Epoch=15]\u001b[A\n",
            "Train:  79%|███████▉  | 2480/3140 [18:53<04:34,  2.40it/s, Average Loss=0.00291, Epoch=15]\u001b[A\n",
            "Train:  79%|███████▉  | 2490/3140 [18:57<04:31,  2.40it/s, Average Loss=0.00291, Epoch=15]\u001b[A\n",
            "Train:  79%|███████▉  | 2490/3140 [18:57<04:31,  2.40it/s, Average Loss=0.00615, Epoch=15]\u001b[A\n",
            "Train:  80%|███████▉  | 2500/3140 [19:01<04:26,  2.40it/s, Average Loss=0.00615, Epoch=15]\u001b[A\n",
            "Train:  80%|███████▉  | 2500/3140 [19:01<04:26,  2.40it/s, Average Loss=0.00605, Epoch=15]\u001b[A\n",
            "Train:  80%|███████▉  | 2510/3140 [19:05<04:21,  2.41it/s, Average Loss=0.00605, Epoch=15]\u001b[A\n",
            "Train:  80%|███████▉  | 2510/3140 [19:05<04:21,  2.41it/s, Average Loss=0.000571, Epoch=15]\u001b[A"
          ]
        },
        {
          "output_type": "stream",
          "name": "stdout",
          "text": [
            "Validation: [Epoch: 15, Macro F1: 0.49643365221807456, Validation Loss: 3.475039941072464, Time per Epoch: 69.39196372032166]\n",
            "Begin Epoch 16\n"
          ]
        },
        {
          "output_type": "stream",
          "name": "stderr",
          "text": [
            "\n",
            "Train:  80%|████████  | 2520/3140 [19:13<05:38,  1.83it/s, Average Loss=0.000571, Epoch=15]\u001b[A\n",
            "Train:  80%|████████  | 2520/3140 [19:13<05:38,  1.83it/s, Average Loss=0.00013, Epoch=16] \u001b[A\n",
            "Train:  81%|████████  | 2530/3140 [19:18<05:08,  1.98it/s, Average Loss=0.00013, Epoch=16]\u001b[A\n",
            "Train:  81%|████████  | 2530/3140 [19:18<05:08,  1.98it/s, Average Loss=7.6e-5, Epoch=16] \u001b[A\n",
            "Train:  81%|████████  | 2540/3140 [19:22<04:46,  2.09it/s, Average Loss=7.6e-5, Epoch=16]\u001b[A\n",
            "Train:  81%|████████  | 2540/3140 [19:22<04:46,  2.09it/s, Average Loss=0.00238, Epoch=16]\u001b[A\n",
            "Train:  81%|████████  | 2550/3140 [19:26<04:31,  2.17it/s, Average Loss=0.00238, Epoch=16]\u001b[A\n",
            "Train:  81%|████████  | 2550/3140 [19:26<04:31,  2.17it/s, Average Loss=0.00368, Epoch=16]\u001b[A\n",
            "Train:  82%|████████▏ | 2560/3140 [19:30<04:18,  2.24it/s, Average Loss=0.00368, Epoch=16]\u001b[A\n",
            "Train:  82%|████████▏ | 2560/3140 [19:30<04:18,  2.24it/s, Average Loss=0.000144, Epoch=16]\u001b[A\n",
            "Train:  82%|████████▏ | 2570/3140 [19:34<04:08,  2.29it/s, Average Loss=0.000144, Epoch=16]\u001b[A\n",
            "Train:  82%|████████▏ | 2570/3140 [19:34<04:08,  2.29it/s, Average Loss=0.000153, Epoch=16]\u001b[A\n",
            "Train:  82%|████████▏ | 2580/3140 [19:38<04:01,  2.32it/s, Average Loss=0.000153, Epoch=16]\u001b[A\n",
            "Train:  82%|████████▏ | 2580/3140 [19:38<04:01,  2.32it/s, Average Loss=9.65e-5, Epoch=16] \u001b[A\n",
            "Train:  82%|████████▏ | 2590/3140 [19:42<03:54,  2.35it/s, Average Loss=9.65e-5, Epoch=16]\u001b[A\n",
            "Train:  82%|████████▏ | 2590/3140 [19:42<03:54,  2.35it/s, Average Loss=0.00432, Epoch=16]\u001b[A\n",
            "Train:  83%|████████▎ | 2600/3140 [19:47<03:47,  2.37it/s, Average Loss=0.00432, Epoch=16]\u001b[A\n",
            "Train:  83%|████████▎ | 2600/3140 [19:47<03:47,  2.37it/s, Average Loss=0.00529, Epoch=16]\u001b[A\n",
            "Train:  83%|████████▎ | 2610/3140 [19:51<03:42,  2.38it/s, Average Loss=0.00529, Epoch=16]\u001b[A\n",
            "Train:  83%|████████▎ | 2610/3140 [19:51<03:42,  2.38it/s, Average Loss=0.0134, Epoch=16] \u001b[A\n",
            "Train:  83%|████████▎ | 2620/3140 [19:55<03:37,  2.39it/s, Average Loss=0.0134, Epoch=16]\u001b[A\n",
            "Train:  83%|████████▎ | 2620/3140 [19:55<03:37,  2.39it/s, Average Loss=0.000176, Epoch=16]\u001b[A\n",
            "Train:  84%|████████▍ | 2630/3140 [19:59<03:32,  2.40it/s, Average Loss=0.000176, Epoch=16]\u001b[A\n",
            "Train:  84%|████████▍ | 2630/3140 [19:59<03:32,  2.40it/s, Average Loss=0.00339, Epoch=16] \u001b[A\n",
            "Train:  84%|████████▍ | 2640/3140 [20:03<03:28,  2.40it/s, Average Loss=0.00339, Epoch=16]\u001b[A\n",
            "Train:  84%|████████▍ | 2640/3140 [20:03<03:28,  2.40it/s, Average Loss=0.00163, Epoch=16]\u001b[A\n",
            "Train:  84%|████████▍ | 2650/3140 [20:07<03:24,  2.40it/s, Average Loss=0.00163, Epoch=16]\u001b[A\n",
            "Train:  84%|████████▍ | 2650/3140 [20:07<03:24,  2.40it/s, Average Loss=0.00451, Epoch=16]\u001b[A\n",
            "Train:  85%|████████▍ | 2660/3140 [20:12<03:19,  2.41it/s, Average Loss=0.00451, Epoch=16]\u001b[A\n",
            "Train:  85%|████████▍ | 2660/3140 [20:12<03:19,  2.41it/s, Average Loss=0.000142, Epoch=16]\u001b[A"
          ]
        },
        {
          "output_type": "stream",
          "name": "stdout",
          "text": [
            "Validation: [Epoch: 16, Macro F1: 0.4997414395527603, Validation Loss: 3.4465624392032623, Time per Epoch: 69.41714072227478]\n",
            "Training stopped early at Epoch: 16\n"
          ]
        }
      ],
      "source": [
        "pbar = tqdm(total=num_training_steps, desc=\"Train\")\n",
        "for epoch in range(EPOCHS):\n",
        "    print(f\"Begin Epoch {epoch}\")\n",
        "    epoch_start_time = time.time()\n",
        "    for step, batch in enumerate(train_loader):\n",
        "        batch = {k: v.to(device) for k, v in batch.items()}\n",
        "        outputs = model(**batch)\n",
        "        loss = outputs.loss\n",
        "        loss = loss / gradient_accumulation_steps\n",
        "        loss.backward()\n",
        "        tot_loss += loss.item()\n",
        "        actual_step += 1\n",
        "\n",
        "        if actual_step % gradient_accumulation_steps == 0:\n",
        "            torch.nn.utils.clip_grad_norm_(model.parameters(), max_grad_norm)\n",
        "            glb_step += 1\n",
        "\n",
        "            if glb_step % pbar_update_freq == 0:\n",
        "                aveloss = (tot_loss - log_loss)/pbar_update_freq\n",
        "                pbar.update(pbar_update_freq)\n",
        "                pbar.set_postfix({'Average Loss': aveloss, \"Epoch\": epoch})\n",
        "                log_loss = tot_loss\n",
        "\n",
        "            if optimizer is not None:\n",
        "                optimizer.step()\n",
        "                optimizer.zero_grad()\n",
        "            if scheduler is not None:\n",
        "                scheduler.step()\n",
        "\n",
        "        if glb_step > num_training_steps:\n",
        "            leave_training = True\n",
        "            break\n",
        "\n",
        "    val_acc, val_loss = calculate_loss_and_f1(model, validation_loader)\n",
        "    epoch_traces.append(epoch)\n",
        "    acc_traces.append(val_acc)\n",
        "    validation_loss_traces.append(val_loss)\n",
        "    print(\"Validation: [Epoch: {}, Macro F1: {}, Validation Loss: {}, Time per Epoch: {}]\".format(epoch, val_acc, val_loss, time.time()-epoch_start_time), flush=True)\n",
        "\n",
        "    if val_acc > best_val_acc:\n",
        "        torch.save(model.state_dict(),f\"best_model.ckpt\")\n",
        "        best_val_acc = val_acc\n",
        "        best_epoch = epoch\n",
        "\n",
        "    elif (epoch - best_epoch) >= early_stop_epoch_thresh:\n",
        "        print(\"Training stopped early at Epoch: %d\" % epoch)\n",
        "        break  # Terminate the training loop\n",
        "\n",
        "    if leave_training:\n",
        "        break"
      ]
    },
    {
      "cell_type": "code",
      "execution_count": 165,
      "metadata": {
        "id": "hzB2Rn4-GXSS",
        "colab": {
          "base_uri": "https://localhost:8080/"
        },
        "outputId": "1cd39603-355b-409f-968f-624960dff36b"
      },
      "outputs": [
        {
          "output_type": "stream",
          "name": "stdout",
          "text": [
            "Done\n"
          ]
        }
      ],
      "source": [
        "model.load_state_dict(torch.load(f\"best_model.ckpt\"))\n",
        "model.cuda()\n",
        "print(\"Done\")"
      ]
    },
    {
      "cell_type": "code",
      "execution_count": 165,
      "metadata": {
        "id": "u-XX2krtfWul"
      },
      "outputs": [],
      "source": []
    },
    {
      "cell_type": "code",
      "execution_count": 166,
      "metadata": {
        "id": "9U5FrKYZGZnZ",
        "colab": {
          "base_uri": "https://localhost:8080/"
        },
        "outputId": "ba3f2f90-d949-4927-c6f5-43d2034f187a"
      },
      "outputs": [
        {
          "output_type": "execute_result",
          "data": {
            "text/plain": [
              "{'accuracy': 0.5996810207336523,\n",
              " 'precision': 0.6293572015171581,\n",
              " 'recall': 0.5996810207336523,\n",
              " 'f1': 0.6098571211493165,\n",
              " 'macro_precision': 0.5212571649090004,\n",
              " 'macro_recall': 0.5304408078607535,\n",
              " 'macro_f1': 0.5199923990560325}"
            ]
          },
          "metadata": {},
          "execution_count": 166
        }
      ],
      "source": [
        "evaluate(model, validation_loader)"
      ]
    },
    {
      "cell_type": "code",
      "execution_count": 167,
      "metadata": {
        "id": "zE3UzWNHGcnM",
        "colab": {
          "base_uri": "https://localhost:8080/",
          "height": 472
        },
        "outputId": "1e3a9f07-6617-481b-a533-506628e54c31"
      },
      "outputs": [
        {
          "output_type": "display_data",
          "data": {
            "text/plain": [
              "<Figure size 640x480 with 1 Axes>"
            ],
            "image/png": "[encoded data removed]"
          },
          "metadata": {}
        }
      ],
      "source": [
        "plt.plot(range(len(epoch_traces)), acc_traces)\n",
        "plt.xlabel('Epoch')\n",
        "plt.ylabel('Macro F1-Score')\n",
        "plt.title('Epoch vs Validation Macro F1-Score')\n",
        "plt.xticks(range(len(epoch_traces)), epoch_traces)\n",
        "plt.show()"
      ]
    },
    {
      "cell_type": "code",
      "execution_count": 168,
      "metadata": {
        "id": "y1y6enP6GewI",
        "colab": {
          "base_uri": "https://localhost:8080/",
          "height": 472
        },
        "outputId": "6f3000ba-0207-4463-cd0c-5bdbeed4d055"
      },
      "outputs": [
        {
          "output_type": "display_data",
          "data": {
            "text/plain": [
              "<Figure size 640x480 with 1 Axes>"
            ],
            "image/png": "[encoded data removed]"
          },
          "metadata": {}
        }
      ],
      "source": [
        "plt.plot(range(len(epoch_traces)), validation_loss_traces)\n",
        "plt.xlabel('Epoch')\n",
        "plt.ylabel('Loss')\n",
        "plt.title('Epoch vs Validation Loss')\n",
        "plt.xticks(range(len(epoch_traces)), epoch_traces)\n",
        "plt.show()"
      ]
    },
    {
      "cell_type": "code",
      "execution_count": 169,
      "metadata": {
        "id": "q9Aw8Z2vGgyh",
        "colab": {
          "base_uri": "https://localhost:8080/"
        },
        "outputId": "90d4b479-7f23-4c03-b407-c72e2229ab4d"
      },
      "outputs": [
        {
          "output_type": "execute_result",
          "data": {
            "text/plain": [
              "{'accuracy': 0.6044657097288676,\n",
              " 'precision': 0.6341744254678912,\n",
              " 'recall': 0.6044657097288676,\n",
              " 'f1': 0.6164627288376704,\n",
              " 'macro_precision': 0.506703685495337,\n",
              " 'macro_recall': 0.5062737040285195,\n",
              " 'macro_f1': 0.5033978436171518}"
            ]
          },
          "metadata": {},
          "execution_count": 169
        }
      ],
      "source": [
        "evaluate(model, test_loader)"
      ]
    },
    {
      "cell_type": "code",
      "execution_count": 170,
      "metadata": {
        "id": "dNMicbCTGi7_"
      },
      "outputs": [],
      "source": [
        "# evaluate(model, test_loader_latin)"
      ]
    },
    {
      "cell_type": "code",
      "execution_count": 171,
      "metadata": {
        "id": "C0_4LABCGk91"
      },
      "outputs": [],
      "source": [
        "# evaluate(model, test_loader_Sinhala)"
      ]
    },
    {
      "cell_type": "code",
      "execution_count": 172,
      "metadata": {
        "id": "5xfCBwDKGm9M"
      },
      "outputs": [],
      "source": [
        "# evaluate(model, test_loader_Mixed)"
      ]
    },
    {
      "cell_type": "code",
      "execution_count": 172,
      "metadata": {
        "id": "FZjKnNRK_dDo"
      },
      "outputs": [],
      "source": []
    }
  ],
  "metadata": {
    "accelerator": "GPU",
    "colab": {
      "provenance": [],
      "include_colab_link": true
    },
    "gpuClass": "standard",
    "kernelspec": {
      "display_name": "Python 3",
      "language": "python",
      "name": "python3"
    },
    "language_info": {
      "codemirror_mode": {
        "name": "ipython",
        "version": 3
      },
      "file_extension": ".py",
      "mimetype": "text/x-python",
      "name": "python",
      "nbconvert_exporter": "python",
      "pygments_lexer": "ipython3",
      "version": "3.7.12"
    }
  },
  "nbformat": 4,
  "nbformat_minor": 0
}