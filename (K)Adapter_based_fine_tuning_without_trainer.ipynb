{
  "cells": [
    {
      "cell_type": "markdown",
      "metadata": {
        "id": "view-in-github",
        "colab_type": "text"
      },
      "source": [
        "<a href=\"https://colab.research.google.com/github/indunil-19/ColabNotebooks-FYP/blob/main/(K)Adapter_based_fine_tuning_without_trainer.ipynb\" target=\"_parent\"><img src=\"https://colab.research.google.com/assets/colab-badge.svg\" alt=\"Open In Colab\"/></a>"
      ]
    },
    {
      "cell_type": "markdown",
      "metadata": {
        "id": "eoL8-pXx9z7c"
      },
      "source": [
        "## Training Single Task Adapters\n",
        "For Bert SinBert and XLM-R Models"
      ]
    },
    {
      "cell_type": "code",
      "execution_count": 44,
      "metadata": {
        "colab": {
          "base_uri": "https://localhost:8080/",
          "height": 52
        },
        "id": "KSLx_mnliOvH",
        "outputId": "9b2a3121-cfaf-4c44-a9fd-4fa2efadd9a1"
      },
      "outputs": [
        {
          "output_type": "stream",
          "name": "stdout",
          "text": [
            "GPU Device name\n"
          ]
        },
        {
          "output_type": "execute_result",
          "data": {
            "text/plain": [
              "'Tesla T4'"
            ],
            "application/vnd.google.colaboratory.intrinsic+json": {
              "type": "string"
            }
          },
          "metadata": {},
          "execution_count": 44
        }
      ],
      "source": [
        "import torch\n",
        "print(\"GPU Device name\")\n",
        "torch.cuda.get_device_name(0)"
      ]
    },
    {
      "cell_type": "code",
      "execution_count": 45,
      "metadata": {
        "colab": {
          "base_uri": "https://localhost:8080/"
        },
        "id": "qGOfIYJ3Tnm-",
        "outputId": "47913e37-2bbe-48e5-ecd8-717154ba56de"
      },
      "outputs": [
        {
          "output_type": "stream",
          "name": "stdout",
          "text": [
            "Drive already mounted at /content/drive; to attempt to forcibly remount, call drive.mount(\"/content/drive\", force_remount=True).\n"
          ]
        }
      ],
      "source": [
        "from google.colab import drive\n",
        "drive.mount('/content/drive')"
      ]
    },
    {
      "cell_type": "markdown",
      "metadata": {
        "id": "CCdvw5JNlygg"
      },
      "source": [
        "### **Parameters**"
      ]
    },
    {
      "cell_type": "code",
      "execution_count": 46,
      "metadata": {
        "id": "6LjxhVXklun6"
      },
      "outputs": [],
      "source": [
        "technique = \"Sentiment\" #@param [\"Sentiment\", \"Humor\", \"Hate-Speech\"]\n",
        "experiment_no = \"1\"\n",
        "oversample_dataset = False\n",
        "over_sampling_technique = \"ROS\"\n",
        "sampling_strategy = \"1:0.25:0.25\"\n",
        "validation_size = (1/9)\n",
        "test_size = 0.1\n",
        "split_random_state = 42\n",
        "training_seed = 8 #@param [ 8, 42, 77]\n",
        "NO_OUTPUT_LAYERS = 4 #Sentiment:4, Humor:2, Hate-Speech:3\n",
        "id2label={ 0: 'Positive', 1: 'Not-Kannada',2:'Neutral', 3:'Conflict' }\n",
        "tag_set = ['Positive', 'Not-Kannada', 'Neutral', 'Negative', 'Conflict']\n",
        "script=\"Char-Script-1.0\"\n",
        "\n",
        "\n",
        "load_adapter = False #@param {type:\"boolean\"}\n",
        "unfreeze_model = False #@param {type:\"boolean\"}\n",
        "save_adapter = False #@param {type:\"boolean\"}\n",
        "lang_adapter_setting = \"none\" #@param [\"none\", \"stack\", \"parallel\"]\n",
        "adapter_config = \"pfeiffer\" #@param [\"houlsby\", \"pfeiffer\"]"
      ]
    },
    {
      "cell_type": "code",
      "execution_count": 47,
      "metadata": {
        "id": "Z5zzz0_5IxVc"
      },
      "outputs": [],
      "source": [
        "MAX_LEN = 128\n",
        "BATCH_SIZE = 32\n",
        "LEARNING_RATE = 5e-4\n",
        "EPOCHS = 20"
      ]
    },
    {
      "cell_type": "code",
      "execution_count": 48,
      "metadata": {
        "id": "KanOOHjzWI7b"
      },
      "outputs": [],
      "source": [
        "# technique=\"hate\"\n",
        "pretrained_adapter_path = \"/content/drive/Shareddrives/Lingua/Final/\"+technique #+ \"_\" + str(random_state)"
      ]
    },
    {
      "cell_type": "markdown",
      "metadata": {
        "id": "3L9gYpCV28OA"
      },
      "source": [
        "### Installation"
      ]
    },
    {
      "cell_type": "code",
      "execution_count": 49,
      "metadata": {
        "colab": {
          "base_uri": "https://localhost:8080/"
        },
        "id": "qL3Sq1HQynCq",
        "outputId": "88ebe90d-0acc-452c-e0dd-87d1372cd4f5"
      },
      "outputs": [
        {
          "output_type": "stream",
          "name": "stdout",
          "text": [
            "Looking in indexes: https://pypi.org/simple, https://us-python.pkg.dev/colab-wheels/public/simple/\n",
            "Requirement already satisfied: adapter-transformers==3.1.0 in /usr/local/lib/python3.10/dist-packages (3.1.0)\n",
            "Requirement already satisfied: filelock in /usr/local/lib/python3.10/dist-packages (from adapter-transformers==3.1.0) (3.12.0)\n",
            "Requirement already satisfied: huggingface-hub<1.0,>=0.1.0 in /usr/local/lib/python3.10/dist-packages (from adapter-transformers==3.1.0) (0.15.1)\n",
            "Requirement already satisfied: numpy>=1.17 in /usr/local/lib/python3.10/dist-packages (from adapter-transformers==3.1.0) (1.22.4)\n",
            "Requirement already satisfied: packaging>=20.0 in /usr/local/lib/python3.10/dist-packages (from adapter-transformers==3.1.0) (23.1)\n",
            "Requirement already satisfied: pyyaml>=5.1 in /usr/local/lib/python3.10/dist-packages (from adapter-transformers==3.1.0) (6.0)\n",
            "Requirement already satisfied: regex!=2019.12.17 in /usr/local/lib/python3.10/dist-packages (from adapter-transformers==3.1.0) (2022.10.31)\n",
            "Requirement already satisfied: requests in /usr/local/lib/python3.10/dist-packages (from adapter-transformers==3.1.0) (2.27.1)\n",
            "Requirement already satisfied: tokenizers!=0.11.3,<0.13,>=0.11.1 in /usr/local/lib/python3.10/dist-packages (from adapter-transformers==3.1.0) (0.12.1)\n",
            "Requirement already satisfied: tqdm>=4.27 in /usr/local/lib/python3.10/dist-packages (from adapter-transformers==3.1.0) (4.65.0)\n",
            "Requirement already satisfied: fsspec in /usr/local/lib/python3.10/dist-packages (from huggingface-hub<1.0,>=0.1.0->adapter-transformers==3.1.0) (2023.4.0)\n",
            "Requirement already satisfied: typing-extensions>=3.7.4.3 in /usr/local/lib/python3.10/dist-packages (from huggingface-hub<1.0,>=0.1.0->adapter-transformers==3.1.0) (4.5.0)\n",
            "Requirement already satisfied: urllib3<1.27,>=1.21.1 in /usr/local/lib/python3.10/dist-packages (from requests->adapter-transformers==3.1.0) (1.26.15)\n",
            "Requirement already satisfied: certifi>=2017.4.17 in /usr/local/lib/python3.10/dist-packages (from requests->adapter-transformers==3.1.0) (2022.12.7)\n",
            "Requirement already satisfied: charset-normalizer~=2.0.0 in /usr/local/lib/python3.10/dist-packages (from requests->adapter-transformers==3.1.0) (2.0.12)\n",
            "Requirement already satisfied: idna<4,>=2.5 in /usr/local/lib/python3.10/dist-packages (from requests->adapter-transformers==3.1.0) (3.4)\n",
            "Looking in indexes: https://pypi.org/simple, https://us-python.pkg.dev/colab-wheels/public/simple/\n",
            "Requirement already satisfied: datasets in /usr/local/lib/python3.10/dist-packages (2.13.0)\n",
            "Requirement already satisfied: numpy>=1.17 in /usr/local/lib/python3.10/dist-packages (from datasets) (1.22.4)\n",
            "Requirement already satisfied: pyarrow>=8.0.0 in /usr/local/lib/python3.10/dist-packages (from datasets) (9.0.0)\n",
            "Requirement already satisfied: dill<0.3.7,>=0.3.0 in /usr/local/lib/python3.10/dist-packages (from datasets) (0.3.6)\n",
            "Requirement already satisfied: pandas in /usr/local/lib/python3.10/dist-packages (from datasets) (1.5.3)\n",
            "Requirement already satisfied: requests>=2.19.0 in /usr/local/lib/python3.10/dist-packages (from datasets) (2.27.1)\n",
            "Requirement already satisfied: tqdm>=4.62.1 in /usr/local/lib/python3.10/dist-packages (from datasets) (4.65.0)\n",
            "Requirement already satisfied: xxhash in /usr/local/lib/python3.10/dist-packages (from datasets) (3.2.0)\n",
            "Requirement already satisfied: multiprocess in /usr/local/lib/python3.10/dist-packages (from datasets) (0.70.14)\n",
            "Requirement already satisfied: fsspec[http]>=2021.11.1 in /usr/local/lib/python3.10/dist-packages (from datasets) (2023.4.0)\n",
            "Requirement already satisfied: aiohttp in /usr/local/lib/python3.10/dist-packages (from datasets) (3.8.4)\n",
            "Requirement already satisfied: huggingface-hub<1.0.0,>=0.11.0 in /usr/local/lib/python3.10/dist-packages (from datasets) (0.15.1)\n",
            "Requirement already satisfied: packaging in /usr/local/lib/python3.10/dist-packages (from datasets) (23.1)\n",
            "Requirement already satisfied: pyyaml>=5.1 in /usr/local/lib/python3.10/dist-packages (from datasets) (6.0)\n",
            "Requirement already satisfied: attrs>=17.3.0 in /usr/local/lib/python3.10/dist-packages (from aiohttp->datasets) (23.1.0)\n",
            "Requirement already satisfied: charset-normalizer<4.0,>=2.0 in /usr/local/lib/python3.10/dist-packages (from aiohttp->datasets) (2.0.12)\n",
            "Requirement already satisfied: multidict<7.0,>=4.5 in /usr/local/lib/python3.10/dist-packages (from aiohttp->datasets) (6.0.4)\n",
            "Requirement already satisfied: async-timeout<5.0,>=4.0.0a3 in /usr/local/lib/python3.10/dist-packages (from aiohttp->datasets) (4.0.2)\n",
            "Requirement already satisfied: yarl<2.0,>=1.0 in /usr/local/lib/python3.10/dist-packages (from aiohttp->datasets) (1.9.2)\n",
            "Requirement already satisfied: frozenlist>=1.1.1 in /usr/local/lib/python3.10/dist-packages (from aiohttp->datasets) (1.3.3)\n",
            "Requirement already satisfied: aiosignal>=1.1.2 in /usr/local/lib/python3.10/dist-packages (from aiohttp->datasets) (1.3.1)\n",
            "Requirement already satisfied: filelock in /usr/local/lib/python3.10/dist-packages (from huggingface-hub<1.0.0,>=0.11.0->datasets) (3.12.0)\n",
            "Requirement already satisfied: typing-extensions>=3.7.4.3 in /usr/local/lib/python3.10/dist-packages (from huggingface-hub<1.0.0,>=0.11.0->datasets) (4.5.0)\n",
            "Requirement already satisfied: urllib3<1.27,>=1.21.1 in /usr/local/lib/python3.10/dist-packages (from requests>=2.19.0->datasets) (1.26.15)\n",
            "Requirement already satisfied: certifi>=2017.4.17 in /usr/local/lib/python3.10/dist-packages (from requests>=2.19.0->datasets) (2022.12.7)\n",
            "Requirement already satisfied: idna<4,>=2.5 in /usr/local/lib/python3.10/dist-packages (from requests>=2.19.0->datasets) (3.4)\n",
            "Requirement already satisfied: python-dateutil>=2.8.1 in /usr/local/lib/python3.10/dist-packages (from pandas->datasets) (2.8.2)\n",
            "Requirement already satisfied: pytz>=2020.1 in /usr/local/lib/python3.10/dist-packages (from pandas->datasets) (2022.7.1)\n",
            "Requirement already satisfied: six>=1.5 in /usr/local/lib/python3.10/dist-packages (from python-dateutil>=2.8.1->pandas->datasets) (1.16.0)\n",
            "Looking in indexes: https://pypi.org/simple, https://us-python.pkg.dev/colab-wheels/public/simple/\n",
            "Requirement already satisfied: sentencepiece in /usr/local/lib/python3.10/dist-packages (0.1.99)\n"
          ]
        }
      ],
      "source": [
        "!pip install -U adapter-transformers==3.1.0\n",
        "!pip install datasets\n",
        "!pip install sentencepiece"
      ]
    },
    {
      "cell_type": "markdown",
      "metadata": {
        "id": "LUHpDE_Gtyen"
      },
      "source": [
        "### Dependencies"
      ]
    },
    {
      "cell_type": "code",
      "execution_count": 49,
      "metadata": {
        "id": "mUcFdH0HIxVe"
      },
      "outputs": [],
      "source": []
    },
    {
      "cell_type": "code",
      "execution_count": 50,
      "metadata": {
        "id": "xJZ6z8bJl25l"
      },
      "outputs": [],
      "source": [
        "import re\n",
        "import time\n",
        "import torch\n",
        "from torch.utils.data import TensorDataset, DataLoader, RandomSampler, SequentialSampler\n",
        "from google.colab import drive\n",
        "from tqdm import tqdm\n",
        "from sklearn.metrics import classification_report\n",
        "import io\n",
        "import seaborn as sns\n",
        "from sklearn.model_selection import train_test_split\n",
        "import numpy as np\n",
        "import pandas as pd\n",
        "from transformers import AutoAdapterModel ,AutoTokenizer, AdapterConfig,AutoConfig, AutoModelWithHeads, TrainingArguments, AdapterTrainer, EvalPrediction, AdamW, get_scheduler, TextClassificationPipeline, EarlyStoppingCallback, Trainer,set_seed\n",
        "from transformers import  AdamW, get_linear_schedule_with_warmup,set_seed\n",
        "from transformers.adapters.composition import Fuse, Stack, Parallel\n",
        "from datasets import load_metric\n",
        "from collections import Counter\n",
        "from imblearn.over_sampling import RandomOverSampler, SMOTE, ADASYN, BorderlineSMOTE\n",
        "import matplotlib.pyplot as plt\n",
        "%matplotlib inline\n"
      ]
    },
    {
      "cell_type": "markdown",
      "metadata": {
        "id": "EzrDM6Ua-jo_"
      },
      "source": [
        "### Dataset Preprocessing"
      ]
    },
    {
      "cell_type": "code",
      "execution_count": 51,
      "metadata": {
        "id": "BB8pw1RDuDaA"
      },
      "outputs": [],
      "source": [
        "def apply_oversampling(x, y):\n",
        "\n",
        "  (unique, counts) = np.unique(y, axis=0, return_counts=True)\n",
        "  print(\"Class Distribution Without Oversampling\", counts)\n",
        "\n",
        "  # define oversampling strategy\n",
        "  if (over_sampling_technique == \"\"):\n",
        "    return x, y\n",
        "  elif (over_sampling_technique == \"ROS\"):\n",
        "    if (technique==\"humor\"):\n",
        "      oversample = RandomOverSampler(sampling_strategy = float(sampling_strategy))\n",
        "    else:\n",
        "      sampling_ratio = sampling_strategy.split(\":\");\n",
        "      oversample = RandomOverSampler(sampling_strategy = {\n",
        "          0:int(counts[0]*float(sampling_ratio[0])),\n",
        "          1:int(counts[0]*float(sampling_ratio[1])),\n",
        "          2:int(counts[0]*float(sampling_ratio[2]))\n",
        "          })\n",
        "  elif (over_sampling_technique == \"ADASYN\"):\n",
        "    oversample = ADASYN(sampling_strategy=\"minority\")\n",
        "  elif (over_sampling_technique == \"SMOTE\"):\n",
        "    oversample = SMOTE()\n",
        "  elif (over_sampling_technique == \"BorderlineSMOTE\"):\n",
        "    oversample = BorderlineSMOTE()\n",
        "\n",
        "  # fit and apply the transform\n",
        "  X_over, y_over = oversample.fit_resample(x, y)\n",
        "\n",
        "  (unique, counts) = np.unique(y_over, axis=0, return_counts=True)\n",
        "  print(\"Class Distribution After Oversampling\", counts)\n",
        "\n",
        "  return X_over, y_over"
      ]
    },
    {
      "cell_type": "code",
      "execution_count": 52,
      "metadata": {
        "id": "0MUpioPlmvMh"
      },
      "outputs": [],
      "source": [
        "dataset_path = \"/content/drive/Shareddrives/Lingua/Dravidian-English Datasets/kannada-english-sentiment-hate-speech.csv\"\n",
        "model_save_path = \"/kaggle/working/\"+technique+\"/\"+experiment_no"
      ]
    },
    {
      "cell_type": "code",
      "execution_count": 53,
      "metadata": {
        "id": "yq5AMmjelqlj"
      },
      "outputs": [],
      "source": [
        "df = pd.read_csv(dataset_path)\n",
        "df = df[['Sentence', technique, script]]\n",
        "df.columns = ['Sentence', 'Label', script]\n",
        "df = df[df[\"Label\"] != \"Not-Kannada\"]\n",
        "df['Label'], uniq = pd.factorize(df['Label'])\n",
        "\n",
        "X, y = df[['Sentence', script]], df[['Label']]\n",
        "stratifying_col = y[\"Label\"]\n",
        "X_rem, X_test, y_rem, y_test = train_test_split(X, y, test_size=test_size, stratify=stratifying_col, random_state=split_random_state)\n",
        "stratifying_col = y_rem[\"Label\"]\n",
        "X_train, X_validation, y_train, y_validation = train_test_split(X_rem, y_rem, test_size=validation_size, stratify=stratifying_col, random_state=split_random_state)"
      ]
    },
    {
      "cell_type": "code",
      "execution_count": 54,
      "metadata": {
        "id": "Ppy0Sj5NIxVg"
      },
      "outputs": [],
      "source": [
        "del df, X, y, stratifying_col, X_rem, y_rem"
      ]
    },
    {
      "cell_type": "code",
      "execution_count": 55,
      "metadata": {
        "colab": {
          "base_uri": "https://localhost:8080/"
        },
        "id": "oHELisZ0ufPM",
        "outputId": "1ae15310-57f7-42cd-9b1b-434ff72a3ee2"
      },
      "outputs": [
        {
          "output_type": "execute_result",
          "data": {
            "text/plain": [
              "Index(['Positive', 'Neutral', 'Negative', 'Conflict'], dtype='object')"
            ]
          },
          "metadata": {},
          "execution_count": 55
        }
      ],
      "source": [
        "uniq"
      ]
    },
    {
      "cell_type": "code",
      "execution_count": 56,
      "metadata": {
        "colab": {
          "base_uri": "https://localhost:8080/"
        },
        "id": "dkRs6oJvIxVh",
        "outputId": "8ca92327-8b6a-4168-bb49-4bd72a1261c8"
      },
      "outputs": [
        {
          "output_type": "stream",
          "name": "stdout",
          "text": [
            "X_train : Rows = 5016 , Columns =  2\n",
            "y_train : Rows = 5016 , Columns =  1\n",
            "X_validation : Rows = 627 , Columns =  2\n",
            "y_validation : Rows = 627 , Columns =  1\n",
            "X_test : Rows = 627 , Columns =  2\n",
            "y_test : Rows = 627 , Columns =  1\n"
          ]
        }
      ],
      "source": [
        "print(\"X_train : Rows =\", X_train.shape[0], \", Columns = \", X_train.shape[1])\n",
        "print(\"y_train : Rows =\", y_train.shape[0], \", Columns = \", y_train.shape[1])\n",
        "print(\"X_validation : Rows =\", X_validation.shape[0], \", Columns = \", X_validation.shape[1])\n",
        "print(\"y_validation : Rows =\", y_validation.shape[0], \", Columns = \", y_validation.shape[1])\n",
        "print(\"X_test : Rows =\", X_test.shape[0], \", Columns = \", X_test.shape[1])\n",
        "print(\"y_test : Rows =\", y_test.shape[0], \", Columns = \", y_test.shape[1])"
      ]
    },
    {
      "cell_type": "code",
      "execution_count": 57,
      "metadata": {
        "colab": {
          "base_uri": "https://localhost:8080/"
        },
        "id": "UaUlvhRwIxVh",
        "outputId": "8b104d57-67e3-4588-dae0-741b86482dd3"
      },
      "outputs": [
        {
          "output_type": "stream",
          "name": "stdout",
          "text": [
            "Labels : ['Positive', 'Not-Kannada', 'Neutral', 'Negative', 'Conflict']\n",
            "Train : [2633, 656, 1185, 542]\n",
            "Validation : [329, 82, 148, 68]\n",
            "Test : [329, 82, 148, 68]\n"
          ]
        }
      ],
      "source": [
        "print(\"Labels :\",['Positive', 'Not-Kannada', 'Neutral', 'Negative', 'Conflict'])\n",
        "print(\"Train :\", y_train.groupby('Label').size().tolist())\n",
        "print(\"Validation :\", y_validation.groupby('Label').size().tolist())\n",
        "print(\"Test :\", y_test.groupby('Label').size().tolist())"
      ]
    },
    {
      "cell_type": "code",
      "execution_count": 58,
      "metadata": {
        "id": "7tCiiAeuIxVi"
      },
      "outputs": [],
      "source": [
        "if oversample_dataset:\n",
        "  X_train = np.array(X_train).reshape(-1, 1)\n",
        "  X_train, y_train = apply_oversampling(X_train, y_train)\n",
        "  X_train = [x[0] for x in X_train.tolist()]\n",
        "# y_train = y_train.tolist()"
      ]
    },
    {
      "cell_type": "markdown",
      "metadata": {
        "id": "Xw-aKg9RIxVi"
      },
      "source": [
        "##### **Preprocess Data**"
      ]
    },
    {
      "cell_type": "code",
      "execution_count": 59,
      "metadata": {
        "id": "T_2iifBVIxVi"
      },
      "outputs": [],
      "source": [
        "set_seed(training_seed)"
      ]
    },
    {
      "cell_type": "code",
      "execution_count": 60,
      "metadata": {
        "id": "SxzzTXwZIxVj"
      },
      "outputs": [],
      "source": [
        "X_train, y_train = X_train.values.tolist(), y_train.values.tolist()\n",
        "X_validation, y_validation = X_validation.values.tolist(), y_validation.values.tolist()\n",
        "X_test, y_test = X_test.values.tolist(), y_test.values.tolist()"
      ]
    },
    {
      "cell_type": "code",
      "execution_count": 61,
      "metadata": {
        "id": "oQbG0JmQIxVj"
      },
      "outputs": [],
      "source": [
        "X_train_arr=[]\n",
        "y_train_arr=[]\n",
        "\n",
        "for i in range(len(X_train)):\n",
        "    X_train_arr.append(X_train[i][0])\n",
        "    y_train_arr.append(y_train[i][0])\n",
        "\n",
        "\n",
        "X_validation_arr=[]\n",
        "y_validation_arr=[]\n",
        "for i in range(len(X_validation)):\n",
        "    X_validation_arr.append(X_validation[i][0])\n",
        "    y_validation_arr.append(y_validation[i][0])\n",
        "\n",
        "\n",
        "X_test_arr=[]\n",
        "y_test_arr=[]\n",
        "X_test_latin=[]\n",
        "y_test_latin=[]\n",
        "\n",
        "X_test_Sinhala=[]\n",
        "y_test_Sinhala=[]\n",
        "\n",
        "X_test_Mixed=[]\n",
        "y_test_Mixed=[]\n",
        "for i in range(len(X_test)):\n",
        "    X_test_arr.append(X_test[i][0])\n",
        "    y_test_arr.append(y_test[i][0])\n",
        "\n",
        "    # if X_test[i][1]==\"Latin\":\n",
        "    #     X_test_latin.append(X_test[i][0])\n",
        "    #     y_test_latin.append(y_test[i][0])\n",
        "\n",
        "    # elif X_test[i][1]==\"Sinhala\":\n",
        "    #     X_test_Sinhala.append(X_test[i][0])\n",
        "    #     y_test_Sinhala.append(y_test[i][0])\n",
        "\n",
        "    # elif X_test[i][1]==\"Mixed\":\n",
        "    #     X_test_Mixed.append(X_test[i][0])\n",
        "    #     y_test_Mixed.append(y_test[i][0])"
      ]
    },
    {
      "cell_type": "code",
      "execution_count": 62,
      "metadata": {
        "id": "lCUWfe8-n0i8"
      },
      "outputs": [],
      "source": [
        "tokenizer = AutoTokenizer.from_pretrained(\"xlm-roberta-base\", do_lower_case=True)"
      ]
    },
    {
      "cell_type": "code",
      "execution_count": 63,
      "metadata": {
        "id": "TqXJtJe8oObQ"
      },
      "outputs": [],
      "source": [
        "encoded_X_train = tokenizer(X_train_arr, truncation=True, padding=True, max_length=MAX_LEN)\n",
        "encoded_X_validation = tokenizer(X_validation_arr, truncation=True, padding=True, max_length=MAX_LEN)\n",
        "encoded_X_test = tokenizer(X_test_arr, truncation=True, padding=True, max_length=MAX_LEN)\n",
        "# encoded_X_test_latin = tokenizer(X_test_latin, truncation=True, padding=True, max_length=MAX_LEN)\n",
        "# encoded_X_test_Sinhala = tokenizer(X_test_Sinhala, truncation=True, padding=True, max_length=MAX_LEN)\n",
        "# encoded_X_test_Mixed = tokenizer(X_test_Mixed, truncation=True, padding=True, max_length=MAX_LEN)\n",
        "\n"
      ]
    },
    {
      "cell_type": "code",
      "execution_count": 64,
      "metadata": {
        "id": "6581Al-K_Nyf"
      },
      "outputs": [],
      "source": [
        "class DatasetObject(torch.utils.data.Dataset):\n",
        "    def __init__(self, encodings, labels):\n",
        "        self.encodings = encodings\n",
        "        self.labels = labels\n",
        "\n",
        "    def __getitem__(self, idx):\n",
        "        item = {key: torch.tensor(val[idx]) for key, val in self.encodings.items()}\n",
        "        item['labels'] = torch.tensor(self.labels[idx])\n",
        "        return item\n",
        "\n",
        "    def __len__(self):\n",
        "        return len(self.labels)\n",
        "\n",
        "train_dataset = DatasetObject(encoded_X_train, y_train_arr)\n",
        "validation_dataset = DatasetObject(encoded_X_validation, y_validation_arr)\n",
        "test_dataset = DatasetObject(encoded_X_test, y_test_arr)\n",
        "# test_dataset_latin = DatasetObject(encoded_X_test_latin, y_test_latin)\n",
        "# test_dataset_Sinhala = DatasetObject(encoded_X_test_Sinhala, y_test_Sinhala)\n",
        "# test_dataset_Mixed = DatasetObject(encoded_X_test_Mixed, y_test_Mixed)\n"
      ]
    },
    {
      "cell_type": "code",
      "execution_count": 65,
      "metadata": {
        "id": "Mol-S8fDIxVk"
      },
      "outputs": [],
      "source": [
        "# train_sampler = RandomSampler(train_dataset)\n",
        "train_sampler = SequentialSampler(train_dataset)\n",
        "validation_sampler = SequentialSampler(validation_dataset)\n",
        "test_sampler = SequentialSampler(test_dataset)\n",
        "# validation_sampler_latin = SequentialSampler(test_dataset_latin)\n",
        "# validation_sampler_sinhala= SequentialSampler(test_dataset_Sinhala)\n",
        "# validation_sampler_mixed = SequentialSampler(test_dataset_Mixed)\n",
        "\n",
        "train_loader = DataLoader(train_dataset, sampler=train_sampler , batch_size=BATCH_SIZE)\n",
        "validation_loader = DataLoader(validation_dataset, sampler=validation_sampler , batch_size=BATCH_SIZE)\n",
        "test_loader = DataLoader(test_dataset, sampler=test_sampler , batch_size=BATCH_SIZE)\n",
        "# test_loader_latin = DataLoader(test_dataset_latin, sampler=validation_sampler_latin , batch_size=BATCH_SIZE)\n",
        "# test_loader_Sinhala = DataLoader(test_dataset_Sinhala, sampler=validation_sampler_sinhala , batch_size=BATCH_SIZE)\n",
        "# test_loader_Mixed = DataLoader(test_dataset_Mixed, sampler=validation_sampler_mixed , batch_size=BATCH_SIZE)"
      ]
    },
    {
      "cell_type": "markdown",
      "metadata": {
        "id": "cCwk6iQE_XZb"
      },
      "source": [
        "### Training"
      ]
    },
    {
      "cell_type": "code",
      "execution_count": 66,
      "metadata": {
        "colab": {
          "base_uri": "https://localhost:8080/"
        },
        "id": "KNyi1nFH_TOS",
        "outputId": "15b2fe57-961b-48cc-f1c8-278f25682cb4"
      },
      "outputs": [
        {
          "output_type": "stream",
          "name": "stderr",
          "text": [
            "/usr/local/lib/python3.10/dist-packages/transformers/adapters/models/roberta/adapter_model.py:255: FutureWarning: This class has been renamed to `RobertaModelWithHeads` in v3. Please use the new class instead as this class might be removed in a future version.\n",
            "  warnings.warn(\n",
            "/usr/local/lib/python3.10/dist-packages/transformers/adapters/models/roberta/adapter_model.py:233: FutureWarning: This class has been renamed to `RobertaModelWithHeads` in v3. Please use the new class instead as this class might be removed in a future version.\n",
            "  warnings.warn(\n",
            "Some weights of the model checkpoint at xlm-roberta-base were not used when initializing XLMRobertaModelWithHeads: ['lm_head.decoder.weight', 'lm_head.layer_norm.weight', 'lm_head.bias', 'lm_head.layer_norm.bias', 'lm_head.dense.weight', 'lm_head.dense.bias']\n",
            "- This IS expected if you are initializing XLMRobertaModelWithHeads from the checkpoint of a model trained on another task or with another architecture (e.g. initializing a BertForSequenceClassification model from a BertForPreTraining model).\n",
            "- This IS NOT expected if you are initializing XLMRobertaModelWithHeads from the checkpoint of a model that you expect to be exactly identical (initializing a BertForSequenceClassification model from a BertForSequenceClassification model).\n",
            "Some weights of XLMRobertaModelWithHeads were not initialized from the model checkpoint at xlm-roberta-base and are newly initialized: ['roberta.embeddings.position_ids']\n",
            "You should probably TRAIN this model on a down-stream task to be able to use it for predictions and inference.\n"
          ]
        }
      ],
      "source": [
        "config = AutoConfig.from_pretrained(\"xlm-roberta-base\", num_labels=NO_OUTPUT_LAYERS)\n",
        "model = AutoModelWithHeads.from_pretrained(\"xlm-roberta-base\", config=config)"
      ]
    },
    {
      "cell_type": "code",
      "execution_count": 67,
      "metadata": {
        "colab": {
          "base_uri": "https://localhost:8080/"
        },
        "id": "7RPhSipb_diC",
        "outputId": "0c9d9f42-7805-4ab9-ab1a-10ee7f7bb554"
      },
      "outputs": [
        {
          "output_type": "stream",
          "name": "stdout",
          "text": [
            "adding new adapter pfeiffer\n"
          ]
        }
      ],
      "source": [
        "# Load an adapter\n",
        "if load_adapter:\n",
        "  print(\"loading adapter from\", pretrained_adapter_path)\n",
        "  model.load_adapter(pretrained_adapter_path, with_head=False)\n",
        "\n",
        "# Add a new adapter\n",
        "else:\n",
        "  print(\"adding new adapter\", adapter_config)\n",
        "  if adapter_config == \"pfeiffer\":\n",
        "    config = AdapterConfig.load(\"pfeiffer\", reduction_factor=12)\n",
        "  else:\n",
        "    config = AdapterConfig.load(\"houlsby\")\n",
        "  model.add_adapter(\"task_\"+technique, config=config)"
      ]
    },
    {
      "cell_type": "code",
      "execution_count": 68,
      "metadata": {
        "id": "Zq1dG4sVcDX5"
      },
      "outputs": [],
      "source": [
        "# Add a classification head\n",
        "model.add_classification_head(\n",
        "  \"task_\"+technique,\n",
        "  num_labels=NO_OUTPUT_LAYERS,\n",
        "  id2label=id2label\n",
        ")\n",
        "\n",
        "# Without Language Adapters\n",
        "if lang_adapter_setting == \"none\":\n",
        "  model.set_active_adapters(\"task_\"+technique)\n",
        "\n",
        "else:\n",
        "  # Load language adapters\n",
        "  lang_adapter_config = AdapterConfig.load(\"pfeiffer+inv\")\n",
        "  model.load_adapter(\"/content/drive/Shareddrives/Lingua/adapters/lan/mlm\", config=lang_adapter_config, load_as=\"si-en\", with_head=False)\n",
        "  # model.load_adapter(\"/content/drive/Shareddrives/FYP/TrainedAdapters/si_mlm\", config=lang_adapter_config, load_as=\"si\", with_head=False)\n",
        "  model.load_adapter(\"/content/drive/Shareddrives/Lingua/adapters/lan/si_mlm\", config=lang_adapter_config, load_as=\"si\", with_head=False)\n",
        "  config = AdapterConfig.load(\"pfeiffer\", non_linearity=\"relu\", reduction_factor=2)\n",
        "  model.load_adapter(\"en/wiki@ukp\", config=config)\n",
        "\n",
        "  # Stack Language Adapters\n",
        "  if lang_adapter_setting == \"stack\":\n",
        "    print(\"stacking language adapters\")\n",
        "    model.active_adapters=Stack(\"en\", \"si\", \"si-en\", \"task_\"+technique)\n",
        "\n",
        "  # Parallel Language Adapters\n",
        "  else:\n",
        "    print(\"stacking parallel language adapters set\")\n",
        "    model.active_adapters=Stack(Parallel(\"en\", \"si\", \"si-en\"), \"task_\"+technique)\n",
        "\n",
        "# Train Adapter\n",
        "model.train_adapter(\"task_\"+technique)"
      ]
    },
    {
      "cell_type": "code",
      "execution_count": 69,
      "metadata": {
        "id": "iVTWkQaiiuhZ"
      },
      "outputs": [],
      "source": [
        "# Unfreeze the model to train both the model and adapter\n",
        "if unfreeze_model:\n",
        "  model.freeze_model(False)"
      ]
    },
    {
      "cell_type": "code",
      "execution_count": 70,
      "metadata": {
        "colab": {
          "base_uri": "https://localhost:8080/"
        },
        "id": "SBMtmX77IMlZ",
        "outputId": "f7d43b76-736a-4bb8-bfe3-74fb30df3191"
      },
      "outputs": [
        {
          "output_type": "stream",
          "name": "stdout",
          "text": [
            "Done\n"
          ]
        }
      ],
      "source": [
        "model.cuda()\n",
        "print(\"Done\")"
      ]
    },
    {
      "cell_type": "code",
      "execution_count": 71,
      "metadata": {
        "colab": {
          "base_uri": "https://localhost:8080/",
          "height": 35
        },
        "id": "bny18Y2qHvf0",
        "outputId": "56cb73d7-2e66-4d27-d9a2-0a231b33ca56"
      },
      "outputs": [
        {
          "output_type": "execute_result",
          "data": {
            "text/plain": [
              "'Tesla T4'"
            ],
            "application/vnd.google.colaboratory.intrinsic+json": {
              "type": "string"
            }
          },
          "metadata": {},
          "execution_count": 71
        }
      ],
      "source": [
        "device = torch.device(\"cuda\" if torch.cuda.is_available() else \"cpu\")\n",
        "n_gpu = torch.cuda.device_count()\n",
        "torch.cuda.get_device_name(0)"
      ]
    },
    {
      "cell_type": "code",
      "execution_count": 72,
      "metadata": {
        "id": "Iu1hV1g3jAvS"
      },
      "outputs": [],
      "source": [
        "set_seed(training_seed)"
      ]
    },
    {
      "cell_type": "code",
      "execution_count": 73,
      "metadata": {
        "id": "ZDiEfZumNwYA"
      },
      "outputs": [],
      "source": [
        "def compute_metrics(allpreds,alllabels):\n",
        "    metric1 = load_metric(\"precision\")\n",
        "    metric2 = load_metric(\"recall\")\n",
        "    metric3 = load_metric(\"f1\")\n",
        "    metric4 = load_metric(\"accuracy\")\n",
        "\n",
        "    predictions, labels = allpreds,alllabels\n",
        "    precision = metric1.compute(predictions=predictions, references=labels, average=\"weighted\")[\"precision\"]\n",
        "    recall = metric2.compute(predictions=predictions, references=labels, average=\"weighted\")[\"recall\"]\n",
        "    f1 = metric3.compute(predictions=predictions, references=labels, average=\"weighted\")[\"f1\"]\n",
        "    accuracy = metric4.compute(predictions=predictions, references=labels)[\"accuracy\"]\n",
        "    macro_precision = metric1.compute(predictions=predictions, references=labels, average=\"macro\")[\"precision\"]\n",
        "    macro_recall = metric2.compute(predictions=predictions, references=labels, average=\"macro\")[\"recall\"]\n",
        "    macro_f1 = metric3.compute(predictions=predictions, references=labels, average=\"macro\")[\"f1\"]\n",
        "    return {\"accuracy\":accuracy, \"precision\": precision, \"recall\": recall, \"f1\": f1, \"macro_precision\": macro_precision, \"macro_recall\": macro_recall, \"macro_f1\": macro_f1}\n"
      ]
    },
    {
      "cell_type": "code",
      "execution_count": 74,
      "metadata": {
        "id": "ErqMNvyEGL07"
      },
      "outputs": [],
      "source": [
        "def evaluate(model, dataloader):\n",
        "    model.eval()\n",
        "    allpreds = []\n",
        "    alllabels = []\n",
        "\n",
        "    for step, batch in enumerate(dataloader):\n",
        "        batch = {k: v.to(device) for k, v in batch.items()}\n",
        "        with torch.no_grad():\n",
        "            outputs = model(**batch)\n",
        "        logits = outputs.logits\n",
        "        allpreds.extend(torch.argmax(logits, dim=-1))\n",
        "        alllabels.extend(batch[\"labels\"])\n",
        "    return compute_metrics(allpreds,alllabels)"
      ]
    },
    {
      "cell_type": "code",
      "execution_count": 75,
      "metadata": {
        "id": "_oEcPkiDGOjQ"
      },
      "outputs": [],
      "source": [
        "def calculate_loss_and_f1(model, dataloader):\n",
        "    model.eval()\n",
        "    allpreds = []\n",
        "    alllabels = []\n",
        "    total_loss = 0\n",
        "\n",
        "    for step, batch in enumerate(dataloader):\n",
        "        batch = {k: v.to(device) for k, v in batch.items()}\n",
        "        with torch.no_grad():\n",
        "            outputs = model(**batch)\n",
        "        logits = outputs.logits\n",
        "        loss = outputs.loss\n",
        "        total_loss += loss.item()\n",
        "        allpreds.extend(torch.argmax(logits, dim=-1))\n",
        "        alllabels.extend(batch[\"labels\"])\n",
        "\n",
        "    macro_f1 = load_metric(\"f1\").compute(predictions=allpreds, references=alllabels, average=\"macro\")[\"f1\"]\n",
        "    return macro_f1, (total_loss/len(dataloader))"
      ]
    },
    {
      "cell_type": "code",
      "execution_count": 76,
      "metadata": {
        "colab": {
          "base_uri": "https://localhost:8080/"
        },
        "id": "oesjvk80GQZW",
        "outputId": "47f1f330-7806-4bea-e7b0-7ac19c9e044f"
      },
      "outputs": [
        {
          "output_type": "stream",
          "name": "stderr",
          "text": [
            "/usr/local/lib/python3.10/dist-packages/transformers/optimization.py:306: FutureWarning: This implementation of AdamW is deprecated and will be removed in a future version. Use the PyTorch implementation torch.optim.AdamW instead, or set `no_deprecation_warning=True` to disable this warning\n",
            "  warnings.warn(\n"
          ]
        }
      ],
      "source": [
        "no_decay = ['bias', 'LayerNorm.weight']\n",
        "num_training_steps = EPOCHS * len(train_loader)\n",
        "betas = (0.9, 0.999)\n",
        "eps = 1e-08\n",
        "num_warmup_steps = 0\n",
        "param_optimizer = list(model.named_parameters())\n",
        "\n",
        "optimizer_grouped_parameters = [\n",
        "    {'params': [p for n, p in param_optimizer if not any(nd in n for nd in no_decay)],\n",
        "     'weight_decay_rate': 0.01},\n",
        "    {'params': [p for n, p in param_optimizer if any(nd in n for nd in no_decay)],\n",
        "     'weight_decay_rate': 0.0}\n",
        "]\n",
        "optimizer = AdamW(optimizer_grouped_parameters, lr=LEARNING_RATE,betas=betas,eps=eps)\n",
        "scheduler = get_linear_schedule_with_warmup(optimizer, num_warmup_steps=0, num_training_steps=num_training_steps)"
      ]
    },
    {
      "cell_type": "code",
      "execution_count": 77,
      "metadata": {
        "id": "5l6csY77GS8F"
      },
      "outputs": [],
      "source": [
        "tot_loss = 0\n",
        "log_loss = 0\n",
        "best_val_acc = 0\n",
        "\n",
        "tot_train_time = 0\n",
        "pbar_update_freq = 10\n",
        "\n",
        "glb_step = 0\n",
        "actual_step = 0\n",
        "max_grad_norm = 1.0\n",
        "eval_every_steps = 100\n",
        "gradient_accumulation_steps = 1\n",
        "\n",
        "leave_training = False\n",
        "val_metric = \"macro_f1\"\n",
        "\n",
        "best_epoch = -1\n",
        "early_stop_epoch_thresh = 5\n",
        "\n",
        "epoch_traces = []\n",
        "acc_traces = []\n",
        "validation_loss_traces = []"
      ]
    },
    {
      "cell_type": "code",
      "execution_count": 78,
      "metadata": {
        "colab": {
          "base_uri": "https://localhost:8080/"
        },
        "id": "dkv8HsFgGVGY",
        "outputId": "b83097c2-5352-46b3-86b6-f5e38410ec7e"
      },
      "outputs": [
        {
          "output_type": "stream",
          "name": "stderr",
          "text": [
            "\n",
            "Train:   0%|          | 0/3140 [00:00<?, ?it/s]\u001b[A"
          ]
        },
        {
          "output_type": "stream",
          "name": "stdout",
          "text": [
            "Begin Epoch 0\n"
          ]
        },
        {
          "output_type": "stream",
          "name": "stderr",
          "text": [
            "\rTrain:  80%|███████▉  | 2510/3140 [24:56<06:15,  1.68it/s, Average Loss=0.032, Epoch=15]\n",
            "\n",
            "Train:   0%|          | 10/3140 [00:04<22:31,  2.32it/s]\u001b[A\n",
            "Train:   0%|          | 10/3140 [00:04<22:31,  2.32it/s, Average Loss=1.29, Epoch=0]\u001b[A\n",
            "Train:   1%|          | 20/3140 [00:08<22:14,  2.34it/s, Average Loss=1.29, Epoch=0]\u001b[A\n",
            "Train:   1%|          | 20/3140 [00:08<22:14,  2.34it/s, Average Loss=1.23, Epoch=0]\u001b[A\n",
            "Train:   1%|          | 30/3140 [00:12<22:05,  2.35it/s, Average Loss=1.23, Epoch=0]\u001b[A\n",
            "Train:   1%|          | 30/3140 [00:12<22:05,  2.35it/s, Average Loss=1.16, Epoch=0]\u001b[A\n",
            "Train:   1%|▏         | 40/3140 [00:17<21:59,  2.35it/s, Average Loss=1.16, Epoch=0]\u001b[A\n",
            "Train:   1%|▏         | 40/3140 [00:17<21:59,  2.35it/s, Average Loss=1.17, Epoch=0]\u001b[A\n",
            "Train:   2%|▏         | 50/3140 [00:21<22:20,  2.31it/s, Average Loss=1.17, Epoch=0]\u001b[A\n",
            "Train:   2%|▏         | 50/3140 [00:21<22:20,  2.31it/s, Average Loss=1.12, Epoch=0]\u001b[A\n",
            "Train:   2%|▏         | 60/3140 [00:25<22:19,  2.30it/s, Average Loss=1.12, Epoch=0]\u001b[A\n",
            "Train:   2%|▏         | 60/3140 [00:25<22:19,  2.30it/s, Average Loss=1.24, Epoch=0]\u001b[A\n",
            "Train:   2%|▏         | 70/3140 [00:30<21:54,  2.34it/s, Average Loss=1.24, Epoch=0]\u001b[A\n",
            "Train:   2%|▏         | 70/3140 [00:30<21:54,  2.34it/s, Average Loss=1.27, Epoch=0]\u001b[A\n",
            "Train:   3%|▎         | 80/3140 [00:34<21:39,  2.35it/s, Average Loss=1.27, Epoch=0]\u001b[A\n",
            "Train:   3%|▎         | 80/3140 [00:34<21:39,  2.35it/s, Average Loss=1.17, Epoch=0]\u001b[A\n",
            "Train:   3%|▎         | 90/3140 [00:38<21:32,  2.36it/s, Average Loss=1.17, Epoch=0]\u001b[A\n",
            "Train:   3%|▎         | 90/3140 [00:38<21:32,  2.36it/s, Average Loss=1.09, Epoch=0]\u001b[A\n",
            "Train:   3%|▎         | 100/3140 [00:42<21:23,  2.37it/s, Average Loss=1.09, Epoch=0]\u001b[A\n",
            "Train:   3%|▎         | 100/3140 [00:42<21:23,  2.37it/s, Average Loss=1.19, Epoch=0]\u001b[A\n",
            "Train:   4%|▎         | 110/3140 [00:46<21:18,  2.37it/s, Average Loss=1.19, Epoch=0]\u001b[A\n",
            "Train:   4%|▎         | 110/3140 [00:46<21:18,  2.37it/s, Average Loss=1.08, Epoch=0]\u001b[A\n",
            "Train:   4%|▍         | 120/3140 [00:51<21:14,  2.37it/s, Average Loss=1.08, Epoch=0]\u001b[A\n",
            "Train:   4%|▍         | 120/3140 [00:51<21:14,  2.37it/s, Average Loss=1.09, Epoch=0]\u001b[A\n",
            "Train:   4%|▍         | 130/3140 [00:55<21:08,  2.37it/s, Average Loss=1.09, Epoch=0]\u001b[A\n",
            "Train:   4%|▍         | 130/3140 [00:55<21:08,  2.37it/s, Average Loss=1.07, Epoch=0]\u001b[A\n",
            "Train:   4%|▍         | 140/3140 [00:59<21:01,  2.38it/s, Average Loss=1.07, Epoch=0]\u001b[A\n",
            "Train:   4%|▍         | 140/3140 [00:59<21:01,  2.38it/s, Average Loss=1.15, Epoch=0]\u001b[A\n",
            "Train:   5%|▍         | 150/3140 [01:03<20:54,  2.38it/s, Average Loss=1.15, Epoch=0]\u001b[A\n",
            "Train:   5%|▍         | 150/3140 [01:03<20:54,  2.38it/s, Average Loss=1.08, Epoch=0]\u001b[A"
          ]
        },
        {
          "output_type": "stream",
          "name": "stdout",
          "text": [
            "Validation: [Epoch: 0, Macro F1: 0.36214642015048193, Validation Loss: 1.0377277046442033, Time per Epoch: 70.97290849685669]\n",
            "Begin Epoch 1\n"
          ]
        },
        {
          "output_type": "stream",
          "name": "stderr",
          "text": [
            "\n",
            "Train:   5%|▌         | 160/3140 [01:16<34:19,  1.45it/s, Average Loss=1.08, Epoch=0]\u001b[A\n",
            "Train:   5%|▌         | 160/3140 [01:16<34:19,  1.45it/s, Average Loss=1, Epoch=1]   \u001b[A\n",
            "Train:   5%|▌         | 170/3140 [01:20<29:44,  1.66it/s, Average Loss=1, Epoch=1]\u001b[A\n",
            "Train:   5%|▌         | 170/3140 [01:20<29:44,  1.66it/s, Average Loss=1.03, Epoch=1]\u001b[A\n",
            "Train:   6%|▌         | 180/3140 [01:24<26:30,  1.86it/s, Average Loss=1.03, Epoch=1]\u001b[A\n",
            "Train:   6%|▌         | 180/3140 [01:24<26:30,  1.86it/s, Average Loss=1.03, Epoch=1]\u001b[A\n",
            "Train:   6%|▌         | 190/3140 [01:28<24:12,  2.03it/s, Average Loss=1.03, Epoch=1]\u001b[A\n",
            "Train:   6%|▌         | 190/3140 [01:28<24:12,  2.03it/s, Average Loss=0.989, Epoch=1]\u001b[A\n",
            "Train:   6%|▋         | 200/3140 [01:32<22:47,  2.15it/s, Average Loss=0.989, Epoch=1]\u001b[A\n",
            "Train:   6%|▋         | 200/3140 [01:32<22:47,  2.15it/s, Average Loss=1, Epoch=1]    \u001b[A\n",
            "Train:   7%|▋         | 210/3140 [01:36<21:44,  2.25it/s, Average Loss=1, Epoch=1]\u001b[A\n",
            "Train:   7%|▋         | 210/3140 [01:36<21:44,  2.25it/s, Average Loss=0.885, Epoch=1]\u001b[A\n",
            "Train:   7%|▋         | 220/3140 [01:40<20:54,  2.33it/s, Average Loss=0.885, Epoch=1]\u001b[A\n",
            "Train:   7%|▋         | 220/3140 [01:40<20:54,  2.33it/s, Average Loss=0.975, Epoch=1]\u001b[A\n",
            "Train:   7%|▋         | 230/3140 [01:44<20:18,  2.39it/s, Average Loss=0.975, Epoch=1]\u001b[A\n",
            "Train:   7%|▋         | 230/3140 [01:44<20:18,  2.39it/s, Average Loss=0.959, Epoch=1]\u001b[A\n",
            "Train:   8%|▊         | 240/3140 [01:48<19:53,  2.43it/s, Average Loss=0.959, Epoch=1]\u001b[A\n",
            "Train:   8%|▊         | 240/3140 [01:48<19:53,  2.43it/s, Average Loss=0.912, Epoch=1]\u001b[A\n",
            "Train:   8%|▊         | 250/3140 [01:52<19:36,  2.46it/s, Average Loss=0.912, Epoch=1]\u001b[A\n",
            "Train:   8%|▊         | 250/3140 [01:52<19:36,  2.46it/s, Average Loss=0.961, Epoch=1]\u001b[A\n",
            "Train:   8%|▊         | 260/3140 [01:56<19:21,  2.48it/s, Average Loss=0.961, Epoch=1]\u001b[A\n",
            "Train:   8%|▊         | 260/3140 [01:56<19:21,  2.48it/s, Average Loss=0.92, Epoch=1] \u001b[A\n",
            "Train:   9%|▊         | 270/3140 [02:00<19:08,  2.50it/s, Average Loss=0.92, Epoch=1]\u001b[A\n",
            "Train:   9%|▊         | 270/3140 [02:00<19:08,  2.50it/s, Average Loss=1.04, Epoch=1]\u001b[A\n",
            "Train:   9%|▉         | 280/3140 [02:04<19:00,  2.51it/s, Average Loss=1.04, Epoch=1]\u001b[A\n",
            "Train:   9%|▉         | 280/3140 [02:04<19:00,  2.51it/s, Average Loss=0.957, Epoch=1]\u001b[A\n",
            "Train:   9%|▉         | 290/3140 [02:08<18:53,  2.51it/s, Average Loss=0.957, Epoch=1]\u001b[A\n",
            "Train:   9%|▉         | 290/3140 [02:08<18:53,  2.51it/s, Average Loss=0.935, Epoch=1]\u001b[A\n",
            "Train:  10%|▉         | 300/3140 [02:12<18:44,  2.53it/s, Average Loss=0.935, Epoch=1]\u001b[A\n",
            "Train:  10%|▉         | 300/3140 [02:12<18:44,  2.53it/s, Average Loss=0.981, Epoch=1]\u001b[A\n",
            "Train:  10%|▉         | 310/3140 [02:15<18:37,  2.53it/s, Average Loss=0.981, Epoch=1]\u001b[A\n",
            "Train:  10%|▉         | 310/3140 [02:15<18:37,  2.53it/s, Average Loss=0.9, Epoch=1]  \u001b[A"
          ]
        },
        {
          "output_type": "stream",
          "name": "stdout",
          "text": [
            "Validation: [Epoch: 1, Macro F1: 0.4350210210941825, Validation Loss: 0.9387083888053894, Time per Epoch: 66.21688723564148]\n",
            "Begin Epoch 2\n"
          ]
        },
        {
          "output_type": "stream",
          "name": "stderr",
          "text": [
            "\n",
            "Train:  10%|█         | 320/3140 [02:29<32:04,  1.47it/s, Average Loss=0.9, Epoch=1]\u001b[A\n",
            "Train:  10%|█         | 320/3140 [02:29<32:04,  1.47it/s, Average Loss=0.965, Epoch=2]\u001b[A\n",
            "Train:  11%|█         | 330/3140 [02:33<27:49,  1.68it/s, Average Loss=0.965, Epoch=2]\u001b[A\n",
            "Train:  11%|█         | 330/3140 [02:33<27:49,  1.68it/s, Average Loss=0.917, Epoch=2]\u001b[A\n",
            "Train:  11%|█         | 340/3140 [02:37<24:54,  1.87it/s, Average Loss=0.917, Epoch=2]\u001b[A\n",
            "Train:  11%|█         | 340/3140 [02:37<24:54,  1.87it/s, Average Loss=0.89, Epoch=2] \u001b[A\n",
            "Train:  11%|█         | 350/3140 [02:41<22:48,  2.04it/s, Average Loss=0.89, Epoch=2]\u001b[A\n",
            "Train:  11%|█         | 350/3140 [02:41<22:48,  2.04it/s, Average Loss=0.849, Epoch=2]\u001b[A\n",
            "Train:  11%|█▏        | 360/3140 [02:45<21:21,  2.17it/s, Average Loss=0.849, Epoch=2]\u001b[A\n",
            "Train:  11%|█▏        | 360/3140 [02:45<21:21,  2.17it/s, Average Loss=0.855, Epoch=2]\u001b[A\n",
            "Train:  12%|█▏        | 370/3140 [02:49<20:22,  2.27it/s, Average Loss=0.855, Epoch=2]\u001b[A\n",
            "Train:  12%|█▏        | 370/3140 [02:49<20:22,  2.27it/s, Average Loss=0.822, Epoch=2]\u001b[A\n",
            "Train:  12%|█▏        | 380/3140 [02:53<19:41,  2.34it/s, Average Loss=0.822, Epoch=2]\u001b[A\n",
            "Train:  12%|█▏        | 380/3140 [02:53<19:41,  2.34it/s, Average Loss=0.881, Epoch=2]\u001b[A\n",
            "Train:  12%|█▏        | 390/3140 [02:56<19:10,  2.39it/s, Average Loss=0.881, Epoch=2]\u001b[A\n",
            "Train:  12%|█▏        | 390/3140 [02:56<19:10,  2.39it/s, Average Loss=0.87, Epoch=2] \u001b[A\n",
            "Train:  13%|█▎        | 400/3140 [03:00<18:46,  2.43it/s, Average Loss=0.87, Epoch=2]\u001b[A\n",
            "Train:  13%|█▎        | 400/3140 [03:00<18:46,  2.43it/s, Average Loss=0.761, Epoch=2]\u001b[A\n",
            "Train:  13%|█▎        | 410/3140 [03:04<18:31,  2.46it/s, Average Loss=0.761, Epoch=2]\u001b[A\n",
            "Train:  13%|█▎        | 410/3140 [03:04<18:31,  2.46it/s, Average Loss=0.893, Epoch=2]\u001b[A\n",
            "Train:  13%|█▎        | 420/3140 [03:08<18:17,  2.48it/s, Average Loss=0.893, Epoch=2]\u001b[A\n",
            "Train:  13%|█▎        | 420/3140 [03:08<18:17,  2.48it/s, Average Loss=0.764, Epoch=2]\u001b[A\n",
            "Train:  14%|█▎        | 430/3140 [03:12<18:04,  2.50it/s, Average Loss=0.764, Epoch=2]\u001b[A\n",
            "Train:  14%|█▎        | 430/3140 [03:12<18:04,  2.50it/s, Average Loss=0.918, Epoch=2]\u001b[A\n",
            "Train:  14%|█▍        | 440/3140 [03:16<17:55,  2.51it/s, Average Loss=0.918, Epoch=2]\u001b[A\n",
            "Train:  14%|█▍        | 440/3140 [03:16<17:55,  2.51it/s, Average Loss=0.853, Epoch=2]\u001b[A\n",
            "Train:  14%|█▍        | 450/3140 [03:20<17:49,  2.51it/s, Average Loss=0.853, Epoch=2]\u001b[A\n",
            "Train:  14%|█▍        | 450/3140 [03:20<17:49,  2.51it/s, Average Loss=0.786, Epoch=2]\u001b[A\n",
            "Train:  15%|█▍        | 460/3140 [03:24<17:41,  2.53it/s, Average Loss=0.786, Epoch=2]\u001b[A\n",
            "Train:  15%|█▍        | 460/3140 [03:24<17:41,  2.53it/s, Average Loss=0.928, Epoch=2]\u001b[A\n",
            "Train:  15%|█▍        | 470/3140 [03:28<17:34,  2.53it/s, Average Loss=0.928, Epoch=2]\u001b[A\n",
            "Train:  15%|█▍        | 470/3140 [03:28<17:34,  2.53it/s, Average Loss=0.769, Epoch=2]\u001b[A"
          ]
        },
        {
          "output_type": "stream",
          "name": "stdout",
          "text": [
            "Validation: [Epoch: 2, Macro F1: 0.46073111790791027, Validation Loss: 0.9198069840669632, Time per Epoch: 66.19038820266724]\n",
            "Begin Epoch 3\n"
          ]
        },
        {
          "output_type": "stream",
          "name": "stderr",
          "text": [
            "\n",
            "Train:  15%|█▌        | 480/3140 [03:42<30:55,  1.43it/s, Average Loss=0.769, Epoch=2]\u001b[A\n",
            "Train:  15%|█▌        | 480/3140 [03:42<30:55,  1.43it/s, Average Loss=0.859, Epoch=3]\u001b[A\n",
            "Train:  16%|█▌        | 490/3140 [03:46<26:42,  1.65it/s, Average Loss=0.859, Epoch=3]\u001b[A\n",
            "Train:  16%|█▌        | 490/3140 [03:46<26:42,  1.65it/s, Average Loss=0.811, Epoch=3]\u001b[A\n",
            "Train:  16%|█▌        | 500/3140 [03:50<23:47,  1.85it/s, Average Loss=0.811, Epoch=3]\u001b[A\n",
            "Train:  16%|█▌        | 500/3140 [03:50<23:47,  1.85it/s, Average Loss=0.731, Epoch=3]\u001b[A\n",
            "Train:  16%|█▌        | 510/3140 [03:54<21:43,  2.02it/s, Average Loss=0.731, Epoch=3]\u001b[A\n",
            "Train:  16%|█▌        | 510/3140 [03:54<21:43,  2.02it/s, Average Loss=0.739, Epoch=3]\u001b[A\n",
            "Train:  17%|█▋        | 520/3140 [03:58<20:18,  2.15it/s, Average Loss=0.739, Epoch=3]\u001b[A\n",
            "Train:  17%|█▋        | 520/3140 [03:58<20:18,  2.15it/s, Average Loss=0.662, Epoch=3]\u001b[A\n",
            "Train:  17%|█▋        | 530/3140 [04:02<19:21,  2.25it/s, Average Loss=0.662, Epoch=3]\u001b[A\n",
            "Train:  17%|█▋        | 530/3140 [04:02<19:21,  2.25it/s, Average Loss=0.715, Epoch=3]\u001b[A\n",
            "Train:  17%|█▋        | 540/3140 [04:06<18:41,  2.32it/s, Average Loss=0.715, Epoch=3]\u001b[A\n",
            "Train:  17%|█▋        | 540/3140 [04:06<18:41,  2.32it/s, Average Loss=0.726, Epoch=3]\u001b[A\n",
            "Train:  18%|█▊        | 550/3140 [04:10<18:10,  2.37it/s, Average Loss=0.726, Epoch=3]\u001b[A\n",
            "Train:  18%|█▊        | 550/3140 [04:10<18:10,  2.37it/s, Average Loss=0.779, Epoch=3]\u001b[A\n",
            "Train:  18%|█▊        | 560/3140 [04:14<17:47,  2.42it/s, Average Loss=0.779, Epoch=3]\u001b[A\n",
            "Train:  18%|█▊        | 560/3140 [04:14<17:47,  2.42it/s, Average Loss=0.6, Epoch=3]  \u001b[A\n",
            "Train:  18%|█▊        | 570/3140 [04:18<17:30,  2.45it/s, Average Loss=0.6, Epoch=3]\u001b[A\n",
            "Train:  18%|█▊        | 570/3140 [04:18<17:30,  2.45it/s, Average Loss=0.782, Epoch=3]\u001b[A\n",
            "Train:  18%|█▊        | 580/3140 [04:22<17:16,  2.47it/s, Average Loss=0.782, Epoch=3]\u001b[A\n",
            "Train:  18%|█▊        | 580/3140 [04:22<17:16,  2.47it/s, Average Loss=0.632, Epoch=3]\u001b[A\n",
            "Train:  19%|█▉        | 590/3140 [04:25<17:03,  2.49it/s, Average Loss=0.632, Epoch=3]\u001b[A\n",
            "Train:  19%|█▉        | 590/3140 [04:25<17:03,  2.49it/s, Average Loss=0.82, Epoch=3] \u001b[A\n",
            "Train:  19%|█▉        | 600/3140 [04:29<16:53,  2.51it/s, Average Loss=0.82, Epoch=3]\u001b[A\n",
            "Train:  19%|█▉        | 600/3140 [04:29<16:53,  2.51it/s, Average Loss=0.704, Epoch=3]\u001b[A\n",
            "Train:  19%|█▉        | 610/3140 [04:33<16:49,  2.51it/s, Average Loss=0.704, Epoch=3]\u001b[A\n",
            "Train:  19%|█▉        | 610/3140 [04:33<16:49,  2.51it/s, Average Loss=0.662, Epoch=3]\u001b[A\n",
            "Train:  20%|█▉        | 620/3140 [04:37<16:41,  2.52it/s, Average Loss=0.662, Epoch=3]\u001b[A\n",
            "Train:  20%|█▉        | 620/3140 [04:37<16:41,  2.52it/s, Average Loss=0.819, Epoch=3]\u001b[A"
          ]
        },
        {
          "output_type": "stream",
          "name": "stdout",
          "text": [
            "Validation: [Epoch: 3, Macro F1: 0.5117625813790377, Validation Loss: 0.9684218674898147, Time per Epoch: 66.2871356010437]\n",
            "Begin Epoch 4\n"
          ]
        },
        {
          "output_type": "stream",
          "name": "stderr",
          "text": [
            "\n",
            "Train:  20%|██        | 630/3140 [04:51<28:27,  1.47it/s, Average Loss=0.819, Epoch=3]\u001b[A\n",
            "Train:  20%|██        | 630/3140 [04:51<28:27,  1.47it/s, Average Loss=0.609, Epoch=4]\u001b[A\n",
            "Train:  20%|██        | 640/3140 [04:55<24:40,  1.69it/s, Average Loss=0.609, Epoch=4]\u001b[A\n",
            "Train:  20%|██        | 640/3140 [04:55<24:40,  1.69it/s, Average Loss=0.728, Epoch=4]\u001b[A\n",
            "Train:  21%|██        | 650/3140 [04:58<22:01,  1.88it/s, Average Loss=0.728, Epoch=4]\u001b[A\n",
            "Train:  21%|██        | 650/3140 [04:58<22:01,  1.88it/s, Average Loss=0.64, Epoch=4] \u001b[A\n",
            "Train:  21%|██        | 660/3140 [05:02<20:13,  2.04it/s, Average Loss=0.64, Epoch=4]\u001b[A\n",
            "Train:  21%|██        | 660/3140 [05:02<20:13,  2.04it/s, Average Loss=0.646, Epoch=4]\u001b[A\n",
            "Train:  21%|██▏       | 670/3140 [05:06<18:55,  2.17it/s, Average Loss=0.646, Epoch=4]\u001b[A\n",
            "Train:  21%|██▏       | 670/3140 [05:06<18:55,  2.17it/s, Average Loss=0.644, Epoch=4]\u001b[A\n",
            "Train:  22%|██▏       | 680/3140 [05:10<18:01,  2.27it/s, Average Loss=0.644, Epoch=4]\u001b[A\n",
            "Train:  22%|██▏       | 680/3140 [05:10<18:01,  2.27it/s, Average Loss=0.513, Epoch=4]\u001b[A\n",
            "Train:  22%|██▏       | 690/3140 [05:14<17:23,  2.35it/s, Average Loss=0.513, Epoch=4]\u001b[A\n",
            "Train:  22%|██▏       | 690/3140 [05:14<17:23,  2.35it/s, Average Loss=0.622, Epoch=4]\u001b[A\n",
            "Train:  22%|██▏       | 700/3140 [05:18<17:00,  2.39it/s, Average Loss=0.622, Epoch=4]\u001b[A\n",
            "Train:  22%|██▏       | 700/3140 [05:18<17:00,  2.39it/s, Average Loss=0.678, Epoch=4]\u001b[A\n",
            "Train:  23%|██▎       | 710/3140 [05:22<16:39,  2.43it/s, Average Loss=0.678, Epoch=4]\u001b[A\n",
            "Train:  23%|██▎       | 710/3140 [05:22<16:39,  2.43it/s, Average Loss=0.631, Epoch=4]\u001b[A\n",
            "Train:  23%|██▎       | 720/3140 [05:26<16:23,  2.46it/s, Average Loss=0.631, Epoch=4]\u001b[A\n",
            "Train:  23%|██▎       | 720/3140 [05:26<16:23,  2.46it/s, Average Loss=0.699, Epoch=4]\u001b[A\n",
            "Train:  23%|██▎       | 730/3140 [05:30<16:11,  2.48it/s, Average Loss=0.699, Epoch=4]\u001b[A\n",
            "Train:  23%|██▎       | 730/3140 [05:30<16:11,  2.48it/s, Average Loss=0.545, Epoch=4]\u001b[A\n",
            "Train:  24%|██▎       | 740/3140 [05:34<16:02,  2.49it/s, Average Loss=0.545, Epoch=4]\u001b[A\n",
            "Train:  24%|██▎       | 740/3140 [05:34<16:02,  2.49it/s, Average Loss=0.722, Epoch=4]\u001b[A\n",
            "Train:  24%|██▍       | 750/3140 [05:38<15:52,  2.51it/s, Average Loss=0.722, Epoch=4]\u001b[A\n",
            "Train:  24%|██▍       | 750/3140 [05:38<15:52,  2.51it/s, Average Loss=0.618, Epoch=4]\u001b[A\n",
            "Train:  24%|██▍       | 760/3140 [05:42<15:44,  2.52it/s, Average Loss=0.618, Epoch=4]\u001b[A\n",
            "Train:  24%|██▍       | 760/3140 [05:42<15:44,  2.52it/s, Average Loss=0.52, Epoch=4] \u001b[A\n",
            "Train:  25%|██▍       | 770/3140 [05:46<15:38,  2.52it/s, Average Loss=0.52, Epoch=4]\u001b[A\n",
            "Train:  25%|██▍       | 770/3140 [05:46<15:38,  2.52it/s, Average Loss=0.666, Epoch=4]\u001b[A\n",
            "Train:  25%|██▍       | 780/3140 [05:50<15:33,  2.53it/s, Average Loss=0.666, Epoch=4]\u001b[A\n",
            "Train:  25%|██▍       | 780/3140 [05:50<15:33,  2.53it/s, Average Loss=0.834, Epoch=4]\u001b[A"
          ]
        },
        {
          "output_type": "stream",
          "name": "stdout",
          "text": [
            "Validation: [Epoch: 4, Macro F1: 0.3714815860544374, Validation Loss: 1.178615552186966, Time per Epoch: 66.13185548782349]\n",
            "Begin Epoch 5\n"
          ]
        },
        {
          "output_type": "stream",
          "name": "stderr",
          "text": [
            "\n",
            "Train:  25%|██▌       | 790/3140 [05:58<20:31,  1.91it/s, Average Loss=0.834, Epoch=4]\u001b[A\n",
            "Train:  25%|██▌       | 790/3140 [05:58<20:31,  1.91it/s, Average Loss=0.647, Epoch=5]\u001b[A\n",
            "Train:  25%|██▌       | 800/3140 [06:02<18:54,  2.06it/s, Average Loss=0.647, Epoch=5]\u001b[A\n",
            "Train:  25%|██▌       | 800/3140 [06:02<18:54,  2.06it/s, Average Loss=0.614, Epoch=5]\u001b[A\n",
            "Train:  26%|██▌       | 810/3140 [06:06<17:44,  2.19it/s, Average Loss=0.614, Epoch=5]\u001b[A\n",
            "Train:  26%|██▌       | 810/3140 [06:06<17:44,  2.19it/s, Average Loss=0.536, Epoch=5]\u001b[A\n",
            "Train:  26%|██▌       | 820/3140 [06:10<16:53,  2.29it/s, Average Loss=0.536, Epoch=5]\u001b[A\n",
            "Train:  26%|██▌       | 820/3140 [06:10<16:53,  2.29it/s, Average Loss=0.601, Epoch=5]\u001b[A\n",
            "Train:  26%|██▋       | 830/3140 [06:14<16:17,  2.36it/s, Average Loss=0.601, Epoch=5]\u001b[A\n",
            "Train:  26%|██▋       | 830/3140 [06:14<16:17,  2.36it/s, Average Loss=0.647, Epoch=5]\u001b[A\n",
            "Train:  27%|██▋       | 840/3140 [06:18<15:53,  2.41it/s, Average Loss=0.647, Epoch=5]\u001b[A\n",
            "Train:  27%|██▋       | 840/3140 [06:18<15:53,  2.41it/s, Average Loss=0.446, Epoch=5]\u001b[A\n",
            "Train:  27%|██▋       | 850/3140 [06:22<15:34,  2.45it/s, Average Loss=0.446, Epoch=5]\u001b[A\n",
            "Train:  27%|██▋       | 850/3140 [06:22<15:34,  2.45it/s, Average Loss=0.553, Epoch=5]\u001b[A\n",
            "Train:  27%|██▋       | 860/3140 [06:25<15:19,  2.48it/s, Average Loss=0.553, Epoch=5]\u001b[A\n",
            "Train:  27%|██▋       | 860/3140 [06:25<15:19,  2.48it/s, Average Loss=0.447, Epoch=5]\u001b[A\n",
            "Train:  28%|██▊       | 870/3140 [06:29<15:07,  2.50it/s, Average Loss=0.447, Epoch=5]\u001b[A\n",
            "Train:  28%|██▊       | 870/3140 [06:29<15:07,  2.50it/s, Average Loss=0.506, Epoch=5]\u001b[A\n",
            "Train:  28%|██▊       | 880/3140 [06:33<14:58,  2.51it/s, Average Loss=0.506, Epoch=5]\u001b[A\n",
            "Train:  28%|██▊       | 880/3140 [06:33<14:58,  2.51it/s, Average Loss=0.587, Epoch=5]\u001b[A\n",
            "Train:  28%|██▊       | 890/3140 [06:37<14:50,  2.53it/s, Average Loss=0.587, Epoch=5]\u001b[A\n",
            "Train:  28%|██▊       | 890/3140 [06:37<14:50,  2.53it/s, Average Loss=0.403, Epoch=5]\u001b[A\n",
            "Train:  29%|██▊       | 900/3140 [06:41<14:43,  2.53it/s, Average Loss=0.403, Epoch=5]\u001b[A\n",
            "Train:  29%|██▊       | 900/3140 [06:41<14:43,  2.53it/s, Average Loss=0.742, Epoch=5]\u001b[A\n",
            "Train:  29%|██▉       | 910/3140 [06:45<14:39,  2.54it/s, Average Loss=0.742, Epoch=5]\u001b[A\n",
            "Train:  29%|██▉       | 910/3140 [06:45<14:39,  2.54it/s, Average Loss=0.446, Epoch=5]\u001b[A\n",
            "Train:  29%|██▉       | 920/3140 [06:49<14:35,  2.54it/s, Average Loss=0.446, Epoch=5]\u001b[A\n",
            "Train:  29%|██▉       | 920/3140 [06:49<14:35,  2.54it/s, Average Loss=0.422, Epoch=5]\u001b[A\n",
            "Train:  30%|██▉       | 930/3140 [06:53<14:29,  2.54it/s, Average Loss=0.422, Epoch=5]\u001b[A\n",
            "Train:  30%|██▉       | 930/3140 [06:53<14:29,  2.54it/s, Average Loss=0.65, Epoch=5] \u001b[A\n",
            "Train:  30%|██▉       | 940/3140 [06:57<14:25,  2.54it/s, Average Loss=0.65, Epoch=5]\u001b[A\n",
            "Train:  30%|██▉       | 940/3140 [06:57<14:25,  2.54it/s, Average Loss=0.549, Epoch=5]\u001b[A"
          ]
        },
        {
          "output_type": "stream",
          "name": "stdout",
          "text": [
            "Validation: [Epoch: 5, Macro F1: 0.44757580563022553, Validation Loss: 1.1534961819648744, Time per Epoch: 66.08672738075256]\n",
            "Begin Epoch 6\n"
          ]
        },
        {
          "output_type": "stream",
          "name": "stderr",
          "text": [
            "\n",
            "Train:  30%|███       | 950/3140 [07:05<19:15,  1.90it/s, Average Loss=0.549, Epoch=5]\u001b[A\n",
            "Train:  30%|███       | 950/3140 [07:05<19:15,  1.90it/s, Average Loss=0.497, Epoch=6]\u001b[A\n",
            "Train:  31%|███       | 960/3140 [07:09<17:41,  2.05it/s, Average Loss=0.497, Epoch=6]\u001b[A\n",
            "Train:  31%|███       | 960/3140 [07:09<17:41,  2.05it/s, Average Loss=0.412, Epoch=6]\u001b[A\n",
            "Train:  31%|███       | 970/3140 [07:13<16:34,  2.18it/s, Average Loss=0.412, Epoch=6]\u001b[A\n",
            "Train:  31%|███       | 970/3140 [07:13<16:34,  2.18it/s, Average Loss=0.449, Epoch=6]\u001b[A\n",
            "Train:  31%|███       | 980/3140 [07:17<15:49,  2.28it/s, Average Loss=0.449, Epoch=6]\u001b[A\n",
            "Train:  31%|███       | 980/3140 [07:17<15:49,  2.28it/s, Average Loss=0.493, Epoch=6]\u001b[A\n",
            "Train:  32%|███▏      | 990/3140 [07:21<15:13,  2.35it/s, Average Loss=0.493, Epoch=6]\u001b[A\n",
            "Train:  32%|███▏      | 990/3140 [07:21<15:13,  2.35it/s, Average Loss=0.388, Epoch=6]\u001b[A\n",
            "Train:  32%|███▏      | 1000/3140 [07:25<14:48,  2.41it/s, Average Loss=0.388, Epoch=6]\u001b[A\n",
            "Train:  32%|███▏      | 1000/3140 [07:25<14:48,  2.41it/s, Average Loss=0.326, Epoch=6]\u001b[A\n",
            "Train:  32%|███▏      | 1010/3140 [07:29<14:29,  2.45it/s, Average Loss=0.326, Epoch=6]\u001b[A\n",
            "Train:  32%|███▏      | 1010/3140 [07:29<14:29,  2.45it/s, Average Loss=0.321, Epoch=6]\u001b[A\n",
            "Train:  32%|███▏      | 1020/3140 [07:33<14:16,  2.47it/s, Average Loss=0.321, Epoch=6]\u001b[A\n",
            "Train:  32%|███▏      | 1020/3140 [07:33<14:16,  2.47it/s, Average Loss=0.385, Epoch=6]\u001b[A\n",
            "Train:  33%|███▎      | 1030/3140 [07:37<14:04,  2.50it/s, Average Loss=0.385, Epoch=6]\u001b[A\n",
            "Train:  33%|███▎      | 1030/3140 [07:37<14:04,  2.50it/s, Average Loss=0.366, Epoch=6]\u001b[A\n",
            "Train:  33%|███▎      | 1040/3140 [07:41<13:54,  2.52it/s, Average Loss=0.366, Epoch=6]\u001b[A\n",
            "Train:  33%|███▎      | 1040/3140 [07:41<13:54,  2.52it/s, Average Loss=0.441, Epoch=6]\u001b[A\n",
            "Train:  33%|███▎      | 1050/3140 [07:44<13:48,  2.52it/s, Average Loss=0.441, Epoch=6]\u001b[A\n",
            "Train:  33%|███▎      | 1050/3140 [07:45<13:48,  2.52it/s, Average Loss=0.403, Epoch=6]\u001b[A\n",
            "Train:  34%|███▍      | 1060/3140 [07:48<13:42,  2.53it/s, Average Loss=0.403, Epoch=6]\u001b[A\n",
            "Train:  34%|███▍      | 1060/3140 [07:48<13:42,  2.53it/s, Average Loss=0.517, Epoch=6]\u001b[A\n",
            "Train:  34%|███▍      | 1070/3140 [07:52<13:35,  2.54it/s, Average Loss=0.517, Epoch=6]\u001b[A\n",
            "Train:  34%|███▍      | 1070/3140 [07:52<13:35,  2.54it/s, Average Loss=0.257, Epoch=6]\u001b[A\n",
            "Train:  34%|███▍      | 1080/3140 [07:56<13:29,  2.54it/s, Average Loss=0.257, Epoch=6]\u001b[A\n",
            "Train:  34%|███▍      | 1080/3140 [07:56<13:29,  2.54it/s, Average Loss=0.359, Epoch=6]\u001b[A\n",
            "Train:  35%|███▍      | 1090/3140 [08:00<13:29,  2.53it/s, Average Loss=0.359, Epoch=6]\u001b[A\n",
            "Train:  35%|███▍      | 1090/3140 [08:00<13:29,  2.53it/s, Average Loss=0.54, Epoch=6] \u001b[A"
          ]
        },
        {
          "output_type": "stream",
          "name": "stdout",
          "text": [
            "Validation: [Epoch: 6, Macro F1: 0.4821654122641965, Validation Loss: 1.35672470331192, Time per Epoch: 66.0193202495575]\n",
            "Begin Epoch 7\n"
          ]
        },
        {
          "output_type": "stream",
          "name": "stderr",
          "text": [
            "\n",
            "Train:  35%|███▌      | 1100/3140 [08:09<17:51,  1.90it/s, Average Loss=0.54, Epoch=6]\u001b[A\n",
            "Train:  35%|███▌      | 1100/3140 [08:09<17:51,  1.90it/s, Average Loss=0.341, Epoch=7]\u001b[A\n",
            "Train:  35%|███▌      | 1110/3140 [08:12<16:24,  2.06it/s, Average Loss=0.341, Epoch=7]\u001b[A\n",
            "Train:  35%|███▌      | 1110/3140 [08:12<16:24,  2.06it/s, Average Loss=0.288, Epoch=7]\u001b[A\n",
            "Train:  36%|███▌      | 1120/3140 [08:16<15:23,  2.19it/s, Average Loss=0.288, Epoch=7]\u001b[A\n",
            "Train:  36%|███▌      | 1120/3140 [08:16<15:23,  2.19it/s, Average Loss=0.3, Epoch=7]  \u001b[A\n",
            "Train:  36%|███▌      | 1130/3140 [08:20<14:41,  2.28it/s, Average Loss=0.3, Epoch=7]\u001b[A\n",
            "Train:  36%|███▌      | 1130/3140 [08:20<14:41,  2.28it/s, Average Loss=0.376, Epoch=7]\u001b[A\n",
            "Train:  36%|███▋      | 1140/3140 [08:24<14:08,  2.36it/s, Average Loss=0.376, Epoch=7]\u001b[A\n",
            "Train:  36%|███▋      | 1140/3140 [08:24<14:08,  2.36it/s, Average Loss=0.342, Epoch=7]\u001b[A\n",
            "Train:  37%|███▋      | 1150/3140 [08:28<13:44,  2.41it/s, Average Loss=0.342, Epoch=7]\u001b[A\n",
            "Train:  37%|███▋      | 1150/3140 [08:28<13:44,  2.41it/s, Average Loss=0.196, Epoch=7]\u001b[A\n",
            "Train:  37%|███▋      | 1160/3140 [08:32<13:29,  2.45it/s, Average Loss=0.196, Epoch=7]\u001b[A\n",
            "Train:  37%|███▋      | 1160/3140 [08:32<13:29,  2.45it/s, Average Loss=0.273, Epoch=7]\u001b[A\n",
            "Train:  37%|███▋      | 1170/3140 [08:36<13:16,  2.47it/s, Average Loss=0.273, Epoch=7]\u001b[A\n",
            "Train:  37%|███▋      | 1170/3140 [08:36<13:16,  2.47it/s, Average Loss=0.152, Epoch=7]\u001b[A\n",
            "Train:  38%|███▊      | 1180/3140 [08:40<13:05,  2.50it/s, Average Loss=0.152, Epoch=7]\u001b[A\n",
            "Train:  38%|███▊      | 1180/3140 [08:40<13:05,  2.50it/s, Average Loss=0.335, Epoch=7]\u001b[A\n",
            "Train:  38%|███▊      | 1190/3140 [08:44<12:56,  2.51it/s, Average Loss=0.335, Epoch=7]\u001b[A\n",
            "Train:  38%|███▊      | 1190/3140 [08:44<12:56,  2.51it/s, Average Loss=0.416, Epoch=7]\u001b[A\n",
            "Train:  38%|███▊      | 1200/3140 [08:48<12:50,  2.52it/s, Average Loss=0.416, Epoch=7]\u001b[A\n",
            "Train:  38%|███▊      | 1200/3140 [08:48<12:50,  2.52it/s, Average Loss=0.224, Epoch=7]\u001b[A\n",
            "Train:  39%|███▊      | 1210/3140 [08:52<12:43,  2.53it/s, Average Loss=0.224, Epoch=7]\u001b[A\n",
            "Train:  39%|███▊      | 1210/3140 [08:52<12:43,  2.53it/s, Average Loss=0.39, Epoch=7] \u001b[A\n",
            "Train:  39%|███▉      | 1220/3140 [08:56<12:37,  2.53it/s, Average Loss=0.39, Epoch=7]\u001b[A\n",
            "Train:  39%|███▉      | 1220/3140 [08:56<12:37,  2.53it/s, Average Loss=0.371, Epoch=7]\u001b[A\n",
            "Train:  39%|███▉      | 1230/3140 [09:00<12:33,  2.54it/s, Average Loss=0.371, Epoch=7]\u001b[A\n",
            "Train:  39%|███▉      | 1230/3140 [09:00<12:33,  2.54it/s, Average Loss=0.263, Epoch=7]\u001b[A\n",
            "Train:  39%|███▉      | 1240/3140 [09:04<12:30,  2.53it/s, Average Loss=0.263, Epoch=7]\u001b[A\n",
            "Train:  39%|███▉      | 1240/3140 [09:04<12:30,  2.53it/s, Average Loss=0.331, Epoch=7]\u001b[A\n",
            "Train:  40%|███▉      | 1250/3140 [09:07<12:24,  2.54it/s, Average Loss=0.331, Epoch=7]\u001b[A\n",
            "Train:  40%|███▉      | 1250/3140 [09:07<12:24,  2.54it/s, Average Loss=0.354, Epoch=7]\u001b[A"
          ]
        },
        {
          "output_type": "stream",
          "name": "stdout",
          "text": [
            "Validation: [Epoch: 7, Macro F1: 0.5196674318397786, Validation Loss: 1.5842569321393967, Time per Epoch: 66.01741433143616]\n",
            "Begin Epoch 8\n"
          ]
        },
        {
          "output_type": "stream",
          "name": "stderr",
          "text": [
            "\n",
            "Train:  40%|████      | 1260/3140 [09:26<26:29,  1.18it/s, Average Loss=0.354, Epoch=7]\u001b[A\n",
            "Train:  40%|████      | 1260/3140 [09:26<26:29,  1.18it/s, Average Loss=0.182, Epoch=8]\u001b[A\n",
            "Train:  40%|████      | 1270/3140 [09:30<22:05,  1.41it/s, Average Loss=0.182, Epoch=8]\u001b[A\n",
            "Train:  40%|████      | 1270/3140 [09:30<22:05,  1.41it/s, Average Loss=0.28, Epoch=8] \u001b[A\n",
            "Train:  41%|████      | 1280/3140 [09:34<19:02,  1.63it/s, Average Loss=0.28, Epoch=8]\u001b[A\n",
            "Train:  41%|████      | 1280/3140 [09:34<19:02,  1.63it/s, Average Loss=0.248, Epoch=8]\u001b[A\n",
            "Train:  41%|████      | 1290/3140 [09:38<16:52,  1.83it/s, Average Loss=0.248, Epoch=8]\u001b[A\n",
            "Train:  41%|████      | 1290/3140 [09:38<16:52,  1.83it/s, Average Loss=0.253, Epoch=8]\u001b[A\n",
            "Train:  41%|████▏     | 1300/3140 [09:42<15:21,  2.00it/s, Average Loss=0.253, Epoch=8]\u001b[A\n",
            "Train:  41%|████▏     | 1300/3140 [09:42<15:21,  2.00it/s, Average Loss=0.183, Epoch=8]\u001b[A\n",
            "Train:  42%|████▏     | 1310/3140 [09:46<14:19,  2.13it/s, Average Loss=0.183, Epoch=8]\u001b[A\n",
            "Train:  42%|████▏     | 1310/3140 [09:46<14:19,  2.13it/s, Average Loss=0.206, Epoch=8]\u001b[A\n",
            "Train:  42%|████▏     | 1320/3140 [09:50<13:36,  2.23it/s, Average Loss=0.206, Epoch=8]\u001b[A\n",
            "Train:  42%|████▏     | 1320/3140 [09:50<13:36,  2.23it/s, Average Loss=0.166, Epoch=8]\u001b[A\n",
            "Train:  42%|████▏     | 1330/3140 [09:54<13:04,  2.31it/s, Average Loss=0.166, Epoch=8]\u001b[A\n",
            "Train:  42%|████▏     | 1330/3140 [09:54<13:04,  2.31it/s, Average Loss=0.247, Epoch=8]\u001b[A\n",
            "Train:  43%|████▎     | 1340/3140 [09:58<12:41,  2.36it/s, Average Loss=0.247, Epoch=8]\u001b[A\n",
            "Train:  43%|████▎     | 1340/3140 [09:58<12:41,  2.36it/s, Average Loss=0.259, Epoch=8]\u001b[A\n",
            "Train:  43%|████▎     | 1350/3140 [10:02<12:25,  2.40it/s, Average Loss=0.259, Epoch=8]\u001b[A\n",
            "Train:  43%|████▎     | 1350/3140 [10:02<12:25,  2.40it/s, Average Loss=0.225, Epoch=8]\u001b[A\n",
            "Train:  43%|████▎     | 1360/3140 [10:06<12:11,  2.43it/s, Average Loss=0.225, Epoch=8]\u001b[A\n",
            "Train:  43%|████▎     | 1360/3140 [10:06<12:11,  2.43it/s, Average Loss=0.184, Epoch=8]\u001b[A\n",
            "Train:  44%|████▎     | 1370/3140 [10:10<11:58,  2.46it/s, Average Loss=0.184, Epoch=8]\u001b[A\n",
            "Train:  44%|████▎     | 1370/3140 [10:10<11:58,  2.46it/s, Average Loss=0.296, Epoch=8]\u001b[A\n",
            "Train:  44%|████▍     | 1380/3140 [10:14<11:49,  2.48it/s, Average Loss=0.296, Epoch=8]\u001b[A\n",
            "Train:  44%|████▍     | 1380/3140 [10:14<11:49,  2.48it/s, Average Loss=0.172, Epoch=8]\u001b[A\n",
            "Train:  44%|████▍     | 1390/3140 [10:18<11:41,  2.49it/s, Average Loss=0.172, Epoch=8]\u001b[A\n",
            "Train:  44%|████▍     | 1390/3140 [10:18<11:41,  2.49it/s, Average Loss=0.227, Epoch=8]\u001b[A\n",
            "Train:  45%|████▍     | 1400/3140 [10:22<11:33,  2.51it/s, Average Loss=0.227, Epoch=8]\u001b[A\n",
            "Train:  45%|████▍     | 1400/3140 [10:22<11:33,  2.51it/s, Average Loss=0.269, Epoch=8]\u001b[A\n",
            "Train:  45%|████▍     | 1410/3140 [10:26<11:26,  2.52it/s, Average Loss=0.269, Epoch=8]\u001b[A\n",
            "Train:  45%|████▍     | 1410/3140 [10:26<11:26,  2.52it/s, Average Loss=0.194, Epoch=8]\u001b[A"
          ]
        },
        {
          "output_type": "stream",
          "name": "stdout",
          "text": [
            "Validation: [Epoch: 8, Macro F1: 0.534565757826083, Validation Loss: 1.7728070199489594, Time per Epoch: 66.436443567276]\n",
            "Begin Epoch 9\n"
          ]
        },
        {
          "output_type": "stream",
          "name": "stderr",
          "text": [
            "\n",
            "Train:  45%|████▌     | 1420/3140 [10:39<19:18,  1.48it/s, Average Loss=0.194, Epoch=8]\u001b[A\n",
            "Train:  45%|████▌     | 1420/3140 [10:39<19:18,  1.48it/s, Average Loss=0.148, Epoch=9]\u001b[A\n",
            "Train:  46%|████▌     | 1430/3140 [10:43<16:44,  1.70it/s, Average Loss=0.148, Epoch=9]\u001b[A\n",
            "Train:  46%|████▌     | 1430/3140 [10:43<16:44,  1.70it/s, Average Loss=0.146, Epoch=9]\u001b[A\n",
            "Train:  46%|████▌     | 1440/3140 [10:47<14:59,  1.89it/s, Average Loss=0.146, Epoch=9]\u001b[A\n",
            "Train:  46%|████▌     | 1440/3140 [10:47<14:59,  1.89it/s, Average Loss=0.136, Epoch=9]\u001b[A\n",
            "Train:  46%|████▌     | 1450/3140 [10:51<13:43,  2.05it/s, Average Loss=0.136, Epoch=9]\u001b[A\n",
            "Train:  46%|████▌     | 1450/3140 [10:51<13:43,  2.05it/s, Average Loss=0.168, Epoch=9]\u001b[A\n",
            "Train:  46%|████▋     | 1460/3140 [10:55<12:49,  2.18it/s, Average Loss=0.168, Epoch=9]\u001b[A\n",
            "Train:  46%|████▋     | 1460/3140 [10:55<12:49,  2.18it/s, Average Loss=0.153, Epoch=9]\u001b[A\n",
            "Train:  47%|████▋     | 1470/3140 [10:59<12:13,  2.28it/s, Average Loss=0.153, Epoch=9]\u001b[A\n",
            "Train:  47%|████▋     | 1470/3140 [10:59<12:13,  2.28it/s, Average Loss=0.132, Epoch=9]\u001b[A\n",
            "Train:  47%|████▋     | 1480/3140 [11:02<11:47,  2.35it/s, Average Loss=0.132, Epoch=9]\u001b[A\n",
            "Train:  47%|████▋     | 1480/3140 [11:02<11:47,  2.35it/s, Average Loss=0.035, Epoch=9]\u001b[A\n",
            "Train:  47%|████▋     | 1490/3140 [11:06<11:28,  2.40it/s, Average Loss=0.035, Epoch=9]\u001b[A\n",
            "Train:  47%|████▋     | 1490/3140 [11:06<11:28,  2.40it/s, Average Loss=0.163, Epoch=9]\u001b[A\n",
            "Train:  48%|████▊     | 1500/3140 [11:10<11:13,  2.44it/s, Average Loss=0.163, Epoch=9]\u001b[A\n",
            "Train:  48%|████▊     | 1500/3140 [11:10<11:13,  2.44it/s, Average Loss=0.0884, Epoch=9]\u001b[A\n",
            "Train:  48%|████▊     | 1510/3140 [11:14<11:02,  2.46it/s, Average Loss=0.0884, Epoch=9]\u001b[A\n",
            "Train:  48%|████▊     | 1510/3140 [11:14<11:02,  2.46it/s, Average Loss=0.203, Epoch=9] \u001b[A\n",
            "Train:  48%|████▊     | 1520/3140 [11:18<10:54,  2.48it/s, Average Loss=0.203, Epoch=9]\u001b[A\n",
            "Train:  48%|████▊     | 1520/3140 [11:18<10:54,  2.48it/s, Average Loss=0.114, Epoch=9]\u001b[A\n",
            "Train:  49%|████▊     | 1530/3140 [11:22<10:44,  2.50it/s, Average Loss=0.114, Epoch=9]\u001b[A\n",
            "Train:  49%|████▊     | 1530/3140 [11:22<10:44,  2.50it/s, Average Loss=0.205, Epoch=9]\u001b[A\n",
            "Train:  49%|████▉     | 1540/3140 [11:26<10:37,  2.51it/s, Average Loss=0.205, Epoch=9]\u001b[A\n",
            "Train:  49%|████▉     | 1540/3140 [11:26<10:37,  2.51it/s, Average Loss=0.0832, Epoch=9]\u001b[A\n",
            "Train:  49%|████▉     | 1550/3140 [11:30<10:32,  2.51it/s, Average Loss=0.0832, Epoch=9]\u001b[A\n",
            "Train:  49%|████▉     | 1550/3140 [11:30<10:32,  2.51it/s, Average Loss=0.195, Epoch=9] \u001b[A\n",
            "Train:  50%|████▉     | 1560/3140 [11:34<10:26,  2.52it/s, Average Loss=0.195, Epoch=9]\u001b[A\n",
            "Train:  50%|████▉     | 1560/3140 [11:34<10:26,  2.52it/s, Average Loss=0.14, Epoch=9] \u001b[A\n",
            "Train:  50%|█████     | 1570/3140 [11:38<10:16,  2.55it/s, Average Loss=0.14, Epoch=9]\u001b[A\n",
            "Train:  50%|█████     | 1570/3140 [11:38<10:16,  2.55it/s, Average Loss=0.133, Epoch=9]\u001b[A"
          ]
        },
        {
          "output_type": "stream",
          "name": "stdout",
          "text": [
            "Validation: [Epoch: 9, Macro F1: 0.5324906140235274, Validation Loss: 2.0513420403003693, Time per Epoch: 66.14535164833069]\n",
            "Begin Epoch 10\n"
          ]
        },
        {
          "output_type": "stream",
          "name": "stderr",
          "text": [
            "\n",
            "Train:  50%|█████     | 1580/3140 [11:46<13:39,  1.90it/s, Average Loss=0.133, Epoch=9]\u001b[A\n",
            "Train:  50%|█████     | 1580/3140 [11:46<13:39,  1.90it/s, Average Loss=0.105, Epoch=10]\u001b[A\n",
            "Train:  51%|█████     | 1590/3140 [11:50<12:31,  2.06it/s, Average Loss=0.105, Epoch=10]\u001b[A\n",
            "Train:  51%|█████     | 1590/3140 [11:50<12:31,  2.06it/s, Average Loss=0.0521, Epoch=10]\u001b[A\n",
            "Train:  51%|█████     | 1600/3140 [11:54<11:43,  2.19it/s, Average Loss=0.0521, Epoch=10]\u001b[A\n",
            "Train:  51%|█████     | 1600/3140 [11:54<11:43,  2.19it/s, Average Loss=0.152, Epoch=10] \u001b[A\n",
            "Train:  51%|█████▏    | 1610/3140 [11:58<11:09,  2.29it/s, Average Loss=0.152, Epoch=10]\u001b[A\n",
            "Train:  51%|█████▏    | 1610/3140 [11:58<11:09,  2.29it/s, Average Loss=0.126, Epoch=10]\u001b[A\n",
            "Train:  52%|█████▏    | 1620/3140 [12:02<10:44,  2.36it/s, Average Loss=0.126, Epoch=10]\u001b[A\n",
            "Train:  52%|█████▏    | 1620/3140 [12:02<10:44,  2.36it/s, Average Loss=0.0962, Epoch=10]\u001b[A\n",
            "Train:  52%|█████▏    | 1630/3140 [12:06<10:27,  2.41it/s, Average Loss=0.0962, Epoch=10]\u001b[A\n",
            "Train:  52%|█████▏    | 1630/3140 [12:06<10:27,  2.41it/s, Average Loss=0.108, Epoch=10] \u001b[A\n",
            "Train:  52%|█████▏    | 1640/3140 [12:10<10:13,  2.45it/s, Average Loss=0.108, Epoch=10]\u001b[A\n",
            "Train:  52%|█████▏    | 1640/3140 [12:10<10:13,  2.45it/s, Average Loss=0.0322, Epoch=10]\u001b[A\n",
            "Train:  53%|█████▎    | 1650/3140 [12:14<10:02,  2.47it/s, Average Loss=0.0322, Epoch=10]\u001b[A\n",
            "Train:  53%|█████▎    | 1650/3140 [12:14<10:02,  2.47it/s, Average Loss=0.121, Epoch=10] \u001b[A\n",
            "Train:  53%|█████▎    | 1660/3140 [12:18<09:53,  2.49it/s, Average Loss=0.121, Epoch=10]\u001b[A\n",
            "Train:  53%|█████▎    | 1660/3140 [12:18<09:53,  2.49it/s, Average Loss=0.153, Epoch=10]\u001b[A\n",
            "Train:  53%|█████▎    | 1670/3140 [12:22<09:45,  2.51it/s, Average Loss=0.153, Epoch=10]\u001b[A\n",
            "Train:  53%|█████▎    | 1670/3140 [12:22<09:45,  2.51it/s, Average Loss=0.135, Epoch=10]\u001b[A\n",
            "Train:  54%|█████▎    | 1680/3140 [12:26<09:38,  2.52it/s, Average Loss=0.135, Epoch=10]\u001b[A\n",
            "Train:  54%|█████▎    | 1680/3140 [12:26<09:38,  2.52it/s, Average Loss=0.117, Epoch=10]\u001b[A\n",
            "Train:  54%|█████▍    | 1690/3140 [12:30<09:34,  2.53it/s, Average Loss=0.117, Epoch=10]\u001b[A\n",
            "Train:  54%|█████▍    | 1690/3140 [12:30<09:34,  2.53it/s, Average Loss=0.102, Epoch=10]\u001b[A\n",
            "Train:  54%|█████▍    | 1700/3140 [12:33<09:28,  2.53it/s, Average Loss=0.102, Epoch=10]\u001b[A\n",
            "Train:  54%|█████▍    | 1700/3140 [12:33<09:28,  2.53it/s, Average Loss=0.0741, Epoch=10]\u001b[A\n",
            "Train:  54%|█████▍    | 1710/3140 [12:37<09:22,  2.54it/s, Average Loss=0.0741, Epoch=10]\u001b[A\n",
            "Train:  54%|█████▍    | 1710/3140 [12:37<09:22,  2.54it/s, Average Loss=0.131, Epoch=10] \u001b[A\n",
            "Train:  55%|█████▍    | 1720/3140 [12:41<09:18,  2.54it/s, Average Loss=0.131, Epoch=10]\u001b[A\n",
            "Train:  55%|█████▍    | 1720/3140 [12:41<09:18,  2.54it/s, Average Loss=0.0764, Epoch=10]\u001b[A"
          ]
        },
        {
          "output_type": "stream",
          "name": "stdout",
          "text": [
            "Validation: [Epoch: 10, Macro F1: 0.5392743080638541, Validation Loss: 2.1493667364120483, Time per Epoch: 66.1245322227478]\n",
            "Begin Epoch 11\n"
          ]
        },
        {
          "output_type": "stream",
          "name": "stderr",
          "text": [
            "\n",
            "Train:  55%|█████▌    | 1730/3140 [12:54<15:47,  1.49it/s, Average Loss=0.0764, Epoch=10]\u001b[A\n",
            "Train:  55%|█████▌    | 1730/3140 [12:54<15:47,  1.49it/s, Average Loss=0.0836, Epoch=11]\u001b[A\n",
            "Train:  55%|█████▌    | 1740/3140 [12:58<13:42,  1.70it/s, Average Loss=0.0836, Epoch=11]\u001b[A\n",
            "Train:  55%|█████▌    | 1740/3140 [12:58<13:42,  1.70it/s, Average Loss=0.0457, Epoch=11]\u001b[A\n",
            "Train:  56%|█████▌    | 1750/3140 [13:02<12:14,  1.89it/s, Average Loss=0.0457, Epoch=11]\u001b[A\n",
            "Train:  56%|█████▌    | 1750/3140 [13:02<12:14,  1.89it/s, Average Loss=0.0219, Epoch=11]\u001b[A\n",
            "Train:  56%|█████▌    | 1760/3140 [13:06<11:12,  2.05it/s, Average Loss=0.0219, Epoch=11]\u001b[A\n",
            "Train:  56%|█████▌    | 1760/3140 [13:06<11:12,  2.05it/s, Average Loss=0.0628, Epoch=11]\u001b[A\n",
            "Train:  56%|█████▋    | 1770/3140 [13:10<10:28,  2.18it/s, Average Loss=0.0628, Epoch=11]\u001b[A\n",
            "Train:  56%|█████▋    | 1770/3140 [13:10<10:28,  2.18it/s, Average Loss=0.0724, Epoch=11]\u001b[A\n",
            "Train:  57%|█████▋    | 1780/3140 [13:14<09:59,  2.27it/s, Average Loss=0.0724, Epoch=11]\u001b[A\n",
            "Train:  57%|█████▋    | 1780/3140 [13:14<09:59,  2.27it/s, Average Loss=0.075, Epoch=11] \u001b[A\n",
            "Train:  57%|█████▋    | 1790/3140 [13:18<09:36,  2.34it/s, Average Loss=0.075, Epoch=11]\u001b[A\n",
            "Train:  57%|█████▋    | 1790/3140 [13:18<09:36,  2.34it/s, Average Loss=0.053, Epoch=11]\u001b[A\n",
            "Train:  57%|█████▋    | 1800/3140 [13:22<09:19,  2.39it/s, Average Loss=0.053, Epoch=11]\u001b[A\n",
            "Train:  57%|█████▋    | 1800/3140 [13:22<09:19,  2.39it/s, Average Loss=0.016, Epoch=11]\u001b[A\n",
            "Train:  58%|█████▊    | 1810/3140 [13:26<09:07,  2.43it/s, Average Loss=0.016, Epoch=11]\u001b[A\n",
            "Train:  58%|█████▊    | 1810/3140 [13:26<09:07,  2.43it/s, Average Loss=0.0924, Epoch=11]\u001b[A\n",
            "Train:  58%|█████▊    | 1820/3140 [13:30<08:57,  2.45it/s, Average Loss=0.0924, Epoch=11]\u001b[A\n",
            "Train:  58%|█████▊    | 1820/3140 [13:30<08:57,  2.45it/s, Average Loss=0.124, Epoch=11] \u001b[A\n",
            "Train:  58%|█████▊    | 1830/3140 [13:34<08:48,  2.48it/s, Average Loss=0.124, Epoch=11]\u001b[A\n",
            "Train:  58%|█████▊    | 1830/3140 [13:34<08:48,  2.48it/s, Average Loss=0.0641, Epoch=11]\u001b[A\n",
            "Train:  59%|█████▊    | 1840/3140 [13:38<08:40,  2.50it/s, Average Loss=0.0641, Epoch=11]\u001b[A\n",
            "Train:  59%|█████▊    | 1840/3140 [13:38<08:40,  2.50it/s, Average Loss=0.0859, Epoch=11]\u001b[A\n",
            "Train:  59%|█████▉    | 1850/3140 [13:42<08:34,  2.51it/s, Average Loss=0.0859, Epoch=11]\u001b[A\n",
            "Train:  59%|█████▉    | 1850/3140 [13:42<08:34,  2.51it/s, Average Loss=0.0482, Epoch=11]\u001b[A\n",
            "Train:  59%|█████▉    | 1860/3140 [13:46<08:28,  2.52it/s, Average Loss=0.0482, Epoch=11]\u001b[A\n",
            "Train:  59%|█████▉    | 1860/3140 [13:46<08:28,  2.52it/s, Average Loss=0.00645, Epoch=11]\u001b[A\n",
            "Train:  60%|█████▉    | 1870/3140 [13:50<08:21,  2.53it/s, Average Loss=0.00645, Epoch=11]\u001b[A\n",
            "Train:  60%|█████▉    | 1870/3140 [13:50<08:21,  2.53it/s, Average Loss=0.0612, Epoch=11] \u001b[A\n",
            "Train:  60%|█████▉    | 1880/3140 [13:54<08:16,  2.54it/s, Average Loss=0.0612, Epoch=11]\u001b[A\n",
            "Train:  60%|█████▉    | 1880/3140 [13:54<08:16,  2.54it/s, Average Loss=0.019, Epoch=11] \u001b[A"
          ]
        },
        {
          "output_type": "stream",
          "name": "stdout",
          "text": [
            "Validation: [Epoch: 11, Macro F1: 0.5134095125974727, Validation Loss: 2.5998651921749114, Time per Epoch: 66.16414737701416]\n",
            "Begin Epoch 12\n"
          ]
        },
        {
          "output_type": "stream",
          "name": "stderr",
          "text": [
            "\n",
            "Train:  60%|██████    | 1890/3140 [14:02<10:51,  1.92it/s, Average Loss=0.019, Epoch=11]\u001b[A\n",
            "Train:  60%|██████    | 1890/3140 [14:02<10:51,  1.92it/s, Average Loss=0.0557, Epoch=12]\u001b[A\n",
            "Train:  61%|██████    | 1900/3140 [14:06<09:57,  2.08it/s, Average Loss=0.0557, Epoch=12]\u001b[A\n",
            "Train:  61%|██████    | 1900/3140 [14:06<09:57,  2.08it/s, Average Loss=0.017, Epoch=12] \u001b[A\n",
            "Train:  61%|██████    | 1910/3140 [14:10<09:19,  2.20it/s, Average Loss=0.017, Epoch=12]\u001b[A\n",
            "Train:  61%|██████    | 1910/3140 [14:10<09:19,  2.20it/s, Average Loss=0.0481, Epoch=12]\u001b[A\n",
            "Train:  61%|██████    | 1920/3140 [14:13<08:53,  2.29it/s, Average Loss=0.0481, Epoch=12]\u001b[A\n",
            "Train:  61%|██████    | 1920/3140 [14:13<08:53,  2.29it/s, Average Loss=0.0888, Epoch=12]\u001b[A\n",
            "Train:  61%|██████▏   | 1930/3140 [14:17<08:32,  2.36it/s, Average Loss=0.0888, Epoch=12]\u001b[A\n",
            "Train:  61%|██████▏   | 1930/3140 [14:17<08:32,  2.36it/s, Average Loss=0.0594, Epoch=12]\u001b[A\n",
            "Train:  62%|██████▏   | 1940/3140 [14:21<08:16,  2.42it/s, Average Loss=0.0594, Epoch=12]\u001b[A\n",
            "Train:  62%|██████▏   | 1940/3140 [14:21<08:16,  2.42it/s, Average Loss=0.0356, Epoch=12]\u001b[A\n",
            "Train:  62%|██████▏   | 1950/3140 [14:25<08:05,  2.45it/s, Average Loss=0.0356, Epoch=12]\u001b[A\n",
            "Train:  62%|██████▏   | 1950/3140 [14:25<08:05,  2.45it/s, Average Loss=0.0122, Epoch=12]\u001b[A\n",
            "Train:  62%|██████▏   | 1960/3140 [14:29<07:56,  2.47it/s, Average Loss=0.0122, Epoch=12]\u001b[A\n",
            "Train:  62%|██████▏   | 1960/3140 [14:29<07:56,  2.47it/s, Average Loss=0.0254, Epoch=12]\u001b[A\n",
            "Train:  63%|██████▎   | 1970/3140 [14:33<07:48,  2.50it/s, Average Loss=0.0254, Epoch=12]\u001b[A\n",
            "Train:  63%|██████▎   | 1970/3140 [14:33<07:48,  2.50it/s, Average Loss=0.04, Epoch=12]  \u001b[A\n",
            "Train:  63%|██████▎   | 1980/3140 [14:37<07:41,  2.51it/s, Average Loss=0.04, Epoch=12]\u001b[A\n",
            "Train:  63%|██████▎   | 1980/3140 [14:37<07:41,  2.51it/s, Average Loss=0.0295, Epoch=12]\u001b[A\n",
            "Train:  63%|██████▎   | 1990/3140 [14:41<07:36,  2.52it/s, Average Loss=0.0295, Epoch=12]\u001b[A\n",
            "Train:  63%|██████▎   | 1990/3140 [14:41<07:36,  2.52it/s, Average Loss=0.0386, Epoch=12]\u001b[A\n",
            "Train:  64%|██████▎   | 2000/3140 [14:45<07:31,  2.52it/s, Average Loss=0.0386, Epoch=12]\u001b[A\n",
            "Train:  64%|██████▎   | 2000/3140 [14:45<07:31,  2.52it/s, Average Loss=0.062, Epoch=12] \u001b[A\n",
            "Train:  64%|██████▍   | 2010/3140 [14:49<07:26,  2.53it/s, Average Loss=0.062, Epoch=12]\u001b[A\n",
            "Train:  64%|██████▍   | 2010/3140 [14:49<07:26,  2.53it/s, Average Loss=0.0765, Epoch=12]\u001b[A\n",
            "Train:  64%|██████▍   | 2020/3140 [14:53<07:22,  2.53it/s, Average Loss=0.0765, Epoch=12]\u001b[A\n",
            "Train:  64%|██████▍   | 2020/3140 [14:53<07:22,  2.53it/s, Average Loss=0.0128, Epoch=12]\u001b[A\n",
            "Train:  65%|██████▍   | 2030/3140 [14:57<07:18,  2.53it/s, Average Loss=0.0128, Epoch=12]\u001b[A\n",
            "Train:  65%|██████▍   | 2030/3140 [14:57<07:18,  2.53it/s, Average Loss=0.0294, Epoch=12]\u001b[A\n",
            "Train:  65%|██████▍   | 2040/3140 [15:01<07:14,  2.53it/s, Average Loss=0.0294, Epoch=12]\u001b[A\n",
            "Train:  65%|██████▍   | 2040/3140 [15:01<07:14,  2.53it/s, Average Loss=0.00706, Epoch=12]\u001b[A"
          ]
        },
        {
          "output_type": "stream",
          "name": "stdout",
          "text": [
            "Validation: [Epoch: 12, Macro F1: 0.5020366998244306, Validation Loss: 2.8674624860286713, Time per Epoch: 66.0308620929718]\n",
            "Begin Epoch 13\n"
          ]
        },
        {
          "output_type": "stream",
          "name": "stderr",
          "text": [
            "\n",
            "Train:  65%|██████▌   | 2050/3140 [15:09<09:30,  1.91it/s, Average Loss=0.00706, Epoch=12]\u001b[A\n",
            "Train:  65%|██████▌   | 2050/3140 [15:09<09:30,  1.91it/s, Average Loss=0.0337, Epoch=13] \u001b[A\n",
            "Train:  66%|██████▌   | 2060/3140 [15:13<08:44,  2.06it/s, Average Loss=0.0337, Epoch=13]\u001b[A\n",
            "Train:  66%|██████▌   | 2060/3140 [15:13<08:44,  2.06it/s, Average Loss=0.00232, Epoch=13]\u001b[A\n",
            "Train:  66%|██████▌   | 2070/3140 [15:17<08:09,  2.19it/s, Average Loss=0.00232, Epoch=13]\u001b[A\n",
            "Train:  66%|██████▌   | 2070/3140 [15:17<08:09,  2.19it/s, Average Loss=0.0431, Epoch=13] \u001b[A\n",
            "Train:  66%|██████▌   | 2080/3140 [15:21<07:44,  2.28it/s, Average Loss=0.0431, Epoch=13]\u001b[A\n",
            "Train:  66%|██████▌   | 2080/3140 [15:21<07:44,  2.28it/s, Average Loss=0.0448, Epoch=13]\u001b[A\n",
            "Train:  67%|██████▋   | 2090/3140 [15:25<07:26,  2.35it/s, Average Loss=0.0448, Epoch=13]\u001b[A\n",
            "Train:  67%|██████▋   | 2090/3140 [15:25<07:26,  2.35it/s, Average Loss=0.0271, Epoch=13]\u001b[A\n",
            "Train:  67%|██████▋   | 2100/3140 [15:29<07:12,  2.40it/s, Average Loss=0.0271, Epoch=13]\u001b[A\n",
            "Train:  67%|██████▋   | 2100/3140 [15:29<07:12,  2.40it/s, Average Loss=0.0064, Epoch=13]\u001b[A\n",
            "Train:  67%|██████▋   | 2110/3140 [15:33<07:01,  2.44it/s, Average Loss=0.0064, Epoch=13]\u001b[A\n",
            "Train:  67%|██████▋   | 2110/3140 [15:33<07:01,  2.44it/s, Average Loss=0.00444, Epoch=13]\u001b[A\n",
            "Train:  68%|██████▊   | 2120/3140 [15:37<06:51,  2.48it/s, Average Loss=0.00444, Epoch=13]\u001b[A\n",
            "Train:  68%|██████▊   | 2120/3140 [15:37<06:51,  2.48it/s, Average Loss=0.0624, Epoch=13] \u001b[A\n",
            "Train:  68%|██████▊   | 2130/3140 [15:40<06:45,  2.49it/s, Average Loss=0.0624, Epoch=13]\u001b[A\n",
            "Train:  68%|██████▊   | 2130/3140 [15:40<06:45,  2.49it/s, Average Loss=0.0608, Epoch=13]\u001b[A\n",
            "Train:  68%|██████▊   | 2140/3140 [15:44<06:38,  2.51it/s, Average Loss=0.0608, Epoch=13]\u001b[A\n",
            "Train:  68%|██████▊   | 2140/3140 [15:44<06:38,  2.51it/s, Average Loss=0.029, Epoch=13] \u001b[A\n",
            "Train:  68%|██████▊   | 2150/3140 [15:48<06:33,  2.52it/s, Average Loss=0.029, Epoch=13]\u001b[A\n",
            "Train:  68%|██████▊   | 2150/3140 [15:48<06:33,  2.52it/s, Average Loss=0.0173, Epoch=13]\u001b[A\n",
            "Train:  69%|██████▉   | 2160/3140 [15:52<06:27,  2.53it/s, Average Loss=0.0173, Epoch=13]\u001b[A\n",
            "Train:  69%|██████▉   | 2160/3140 [15:52<06:27,  2.53it/s, Average Loss=0.0215, Epoch=13]\u001b[A\n",
            "Train:  69%|██████▉   | 2170/3140 [15:56<06:23,  2.53it/s, Average Loss=0.0215, Epoch=13]\u001b[A\n",
            "Train:  69%|██████▉   | 2170/3140 [15:56<06:23,  2.53it/s, Average Loss=0.022, Epoch=13] \u001b[A\n",
            "Train:  69%|██████▉   | 2180/3140 [16:00<06:18,  2.53it/s, Average Loss=0.022, Epoch=13]\u001b[A\n",
            "Train:  69%|██████▉   | 2180/3140 [16:00<06:18,  2.53it/s, Average Loss=0.0298, Epoch=13]\u001b[A\n",
            "Train:  70%|██████▉   | 2190/3140 [16:04<06:14,  2.54it/s, Average Loss=0.0298, Epoch=13]\u001b[A\n",
            "Train:  70%|██████▉   | 2190/3140 [16:04<06:14,  2.54it/s, Average Loss=0.00423, Epoch=13]\u001b[A"
          ]
        },
        {
          "output_type": "stream",
          "name": "stdout",
          "text": [
            "Validation: [Epoch: 13, Macro F1: 0.5103978447323286, Validation Loss: 2.9822484493255614, Time per Epoch: 66.20162987709045]\n",
            "Begin Epoch 14\n"
          ]
        },
        {
          "output_type": "stream",
          "name": "stderr",
          "text": [
            "\n",
            "Train:  70%|███████   | 2200/3140 [16:12<08:15,  1.90it/s, Average Loss=0.00423, Epoch=13]\u001b[A\n",
            "Train:  70%|███████   | 2200/3140 [16:12<08:15,  1.90it/s, Average Loss=0.03, Epoch=14]   \u001b[A\n",
            "Train:  70%|███████   | 2210/3140 [16:16<07:33,  2.05it/s, Average Loss=0.03, Epoch=14]\u001b[A\n",
            "Train:  70%|███████   | 2210/3140 [16:16<07:33,  2.05it/s, Average Loss=0.00677, Epoch=14]\u001b[A\n",
            "Train:  71%|███████   | 2220/3140 [16:20<07:02,  2.18it/s, Average Loss=0.00677, Epoch=14]\u001b[A\n",
            "Train:  71%|███████   | 2220/3140 [16:20<07:02,  2.18it/s, Average Loss=0.00227, Epoch=14]\u001b[A\n",
            "Train:  71%|███████   | 2230/3140 [16:24<06:39,  2.28it/s, Average Loss=0.00227, Epoch=14]\u001b[A\n",
            "Train:  71%|███████   | 2230/3140 [16:24<06:39,  2.28it/s, Average Loss=0.00626, Epoch=14]\u001b[A\n",
            "Train:  71%|███████▏  | 2240/3140 [16:28<06:23,  2.35it/s, Average Loss=0.00626, Epoch=14]\u001b[A\n",
            "Train:  71%|███████▏  | 2240/3140 [16:28<06:23,  2.35it/s, Average Loss=0.0143, Epoch=14] \u001b[A\n",
            "Train:  72%|███████▏  | 2250/3140 [16:32<06:10,  2.40it/s, Average Loss=0.0143, Epoch=14]\u001b[A\n",
            "Train:  72%|███████▏  | 2250/3140 [16:32<06:10,  2.40it/s, Average Loss=0.00556, Epoch=14]\u001b[A\n",
            "Train:  72%|███████▏  | 2260/3140 [16:36<06:00,  2.44it/s, Average Loss=0.00556, Epoch=14]\u001b[A\n",
            "Train:  72%|███████▏  | 2260/3140 [16:36<06:00,  2.44it/s, Average Loss=0.00855, Epoch=14]\u001b[A\n",
            "Train:  72%|███████▏  | 2270/3140 [16:40<05:51,  2.47it/s, Average Loss=0.00855, Epoch=14]\u001b[A\n",
            "Train:  72%|███████▏  | 2270/3140 [16:40<05:51,  2.47it/s, Average Loss=0.00356, Epoch=14]\u001b[A\n",
            "Train:  73%|███████▎  | 2280/3140 [16:44<05:45,  2.49it/s, Average Loss=0.00356, Epoch=14]\u001b[A\n",
            "Train:  73%|███████▎  | 2280/3140 [16:44<05:45,  2.49it/s, Average Loss=0.0242, Epoch=14] \u001b[A\n",
            "Train:  73%|███████▎  | 2290/3140 [16:48<05:39,  2.51it/s, Average Loss=0.0242, Epoch=14]\u001b[A\n",
            "Train:  73%|███████▎  | 2290/3140 [16:48<05:39,  2.51it/s, Average Loss=0.0161, Epoch=14]\u001b[A\n",
            "Train:  73%|███████▎  | 2300/3140 [16:52<05:33,  2.52it/s, Average Loss=0.0161, Epoch=14]\u001b[A\n",
            "Train:  73%|███████▎  | 2300/3140 [16:52<05:33,  2.52it/s, Average Loss=0.0137, Epoch=14]\u001b[A\n",
            "Train:  74%|███████▎  | 2310/3140 [16:56<05:28,  2.53it/s, Average Loss=0.0137, Epoch=14]\u001b[A\n",
            "Train:  74%|███████▎  | 2310/3140 [16:56<05:28,  2.53it/s, Average Loss=0.0252, Epoch=14]\u001b[A\n",
            "Train:  74%|███████▍  | 2320/3140 [17:00<05:24,  2.53it/s, Average Loss=0.0252, Epoch=14]\u001b[A\n",
            "Train:  74%|███████▍  | 2320/3140 [17:00<05:24,  2.53it/s, Average Loss=0.000385, Epoch=14]\u001b[A\n",
            "Train:  74%|███████▍  | 2330/3140 [17:04<05:19,  2.53it/s, Average Loss=0.000385, Epoch=14]\u001b[A\n",
            "Train:  74%|███████▍  | 2330/3140 [17:04<05:19,  2.53it/s, Average Loss=0.00107, Epoch=14] \u001b[A\n",
            "Train:  75%|███████▍  | 2340/3140 [17:08<05:15,  2.54it/s, Average Loss=0.00107, Epoch=14]\u001b[A\n",
            "Train:  75%|███████▍  | 2340/3140 [17:08<05:15,  2.54it/s, Average Loss=0.0435, Epoch=14] \u001b[A\n",
            "Train:  75%|███████▍  | 2350/3140 [17:11<05:11,  2.54it/s, Average Loss=0.0435, Epoch=14]\u001b[A\n",
            "Train:  75%|███████▍  | 2350/3140 [17:11<05:11,  2.54it/s, Average Loss=0.000827, Epoch=14]\u001b[A"
          ]
        },
        {
          "output_type": "stream",
          "name": "stdout",
          "text": [
            "Validation: [Epoch: 14, Macro F1: 0.5020512075578758, Validation Loss: 3.1663918673992155, Time per Epoch: 66.12953186035156]\n",
            "Begin Epoch 15\n"
          ]
        },
        {
          "output_type": "stream",
          "name": "stderr",
          "text": [
            "\n",
            "Train:  75%|███████▌  | 2360/3140 [17:20<06:48,  1.91it/s, Average Loss=0.000827, Epoch=14]\u001b[A\n",
            "Train:  75%|███████▌  | 2360/3140 [17:20<06:48,  1.91it/s, Average Loss=0.00313, Epoch=15] \u001b[A\n",
            "Train:  75%|███████▌  | 2370/3140 [17:24<06:12,  2.07it/s, Average Loss=0.00313, Epoch=15]\u001b[A\n",
            "Train:  75%|███████▌  | 2370/3140 [17:24<06:12,  2.07it/s, Average Loss=0.00511, Epoch=15]\u001b[A\n",
            "Train:  76%|███████▌  | 2380/3140 [17:28<05:47,  2.19it/s, Average Loss=0.00511, Epoch=15]\u001b[A\n",
            "Train:  76%|███████▌  | 2380/3140 [17:28<05:47,  2.19it/s, Average Loss=0.000878, Epoch=15]\u001b[A\n",
            "Train:  76%|███████▌  | 2390/3140 [17:31<05:28,  2.29it/s, Average Loss=0.000878, Epoch=15]\u001b[A\n",
            "Train:  76%|███████▌  | 2390/3140 [17:32<05:28,  2.29it/s, Average Loss=0.00217, Epoch=15] \u001b[A\n",
            "Train:  76%|███████▋  | 2400/3140 [17:35<05:13,  2.36it/s, Average Loss=0.00217, Epoch=15]\u001b[A\n",
            "Train:  76%|███████▋  | 2400/3140 [17:35<05:13,  2.36it/s, Average Loss=0.00869, Epoch=15]\u001b[A\n",
            "Train:  77%|███████▋  | 2410/3140 [17:39<05:02,  2.41it/s, Average Loss=0.00869, Epoch=15]\u001b[A\n",
            "Train:  77%|███████▋  | 2410/3140 [17:39<05:02,  2.41it/s, Average Loss=0.0051, Epoch=15] \u001b[A\n",
            "Train:  77%|███████▋  | 2420/3140 [17:43<04:54,  2.45it/s, Average Loss=0.0051, Epoch=15]\u001b[A\n",
            "Train:  77%|███████▋  | 2420/3140 [17:43<04:54,  2.45it/s, Average Loss=0.000574, Epoch=15]\u001b[A\n",
            "Train:  77%|███████▋  | 2430/3140 [17:47<04:46,  2.47it/s, Average Loss=0.000574, Epoch=15]\u001b[A\n",
            "Train:  77%|███████▋  | 2430/3140 [17:47<04:46,  2.47it/s, Average Loss=0.0015, Epoch=15]  \u001b[A\n",
            "Train:  78%|███████▊  | 2440/3140 [17:51<04:40,  2.50it/s, Average Loss=0.0015, Epoch=15]\u001b[A\n",
            "Train:  78%|███████▊  | 2440/3140 [17:51<04:40,  2.50it/s, Average Loss=0.0118, Epoch=15]\u001b[A\n",
            "Train:  78%|███████▊  | 2450/3140 [17:55<04:34,  2.51it/s, Average Loss=0.0118, Epoch=15]\u001b[A\n",
            "Train:  78%|███████▊  | 2450/3140 [17:55<04:34,  2.51it/s, Average Loss=0.00855, Epoch=15]\u001b[A\n",
            "Train:  78%|███████▊  | 2460/3140 [17:59<04:30,  2.52it/s, Average Loss=0.00855, Epoch=15]\u001b[A\n",
            "Train:  78%|███████▊  | 2460/3140 [17:59<04:30,  2.52it/s, Average Loss=0.000478, Epoch=15]\u001b[A\n",
            "Train:  79%|███████▊  | 2470/3140 [18:03<04:25,  2.53it/s, Average Loss=0.000478, Epoch=15]\u001b[A\n",
            "Train:  79%|███████▊  | 2470/3140 [18:03<04:25,  2.53it/s, Average Loss=0.0157, Epoch=15]  \u001b[A\n",
            "Train:  79%|███████▉  | 2480/3140 [18:07<04:20,  2.53it/s, Average Loss=0.0157, Epoch=15]\u001b[A\n",
            "Train:  79%|███████▉  | 2480/3140 [18:07<04:20,  2.53it/s, Average Loss=0.00114, Epoch=15]\u001b[A\n",
            "Train:  79%|███████▉  | 2490/3140 [18:11<04:16,  2.53it/s, Average Loss=0.00114, Epoch=15]\u001b[A\n",
            "Train:  79%|███████▉  | 2490/3140 [18:11<04:16,  2.53it/s, Average Loss=0.000345, Epoch=15]\u001b[A\n",
            "Train:  80%|███████▉  | 2500/3140 [18:15<04:12,  2.53it/s, Average Loss=0.000345, Epoch=15]\u001b[A\n",
            "Train:  80%|███████▉  | 2500/3140 [18:15<04:12,  2.53it/s, Average Loss=0.0168, Epoch=15]  \u001b[A\n",
            "Train:  80%|███████▉  | 2510/3140 [18:19<04:08,  2.53it/s, Average Loss=0.0168, Epoch=15]\u001b[A\n",
            "Train:  80%|███████▉  | 2510/3140 [18:19<04:08,  2.53it/s, Average Loss=0.000514, Epoch=15]\u001b[A"
          ]
        },
        {
          "output_type": "stream",
          "name": "stdout",
          "text": [
            "Validation: [Epoch: 15, Macro F1: 0.5293952908343648, Validation Loss: 3.0950884342193605, Time per Epoch: 66.21369552612305]\n",
            "Training stopped early at Epoch: 15\n"
          ]
        }
      ],
      "source": [
        "pbar = tqdm(total=num_training_steps, desc=\"Train\")\n",
        "for epoch in range(EPOCHS):\n",
        "    print(f\"Begin Epoch {epoch}\")\n",
        "    epoch_start_time = time.time()\n",
        "    for step, batch in enumerate(train_loader):\n",
        "        batch = {k: v.to(device) for k, v in batch.items()}\n",
        "        outputs = model(**batch)\n",
        "        loss = outputs.loss\n",
        "        loss = loss / gradient_accumulation_steps\n",
        "        loss.backward()\n",
        "        tot_loss += loss.item()\n",
        "        actual_step += 1\n",
        "\n",
        "        if actual_step % gradient_accumulation_steps == 0:\n",
        "            torch.nn.utils.clip_grad_norm_(model.parameters(), max_grad_norm)\n",
        "            glb_step += 1\n",
        "\n",
        "            if glb_step % pbar_update_freq == 0:\n",
        "                aveloss = (tot_loss - log_loss)/pbar_update_freq\n",
        "                pbar.update(pbar_update_freq)\n",
        "                pbar.set_postfix({'Average Loss': aveloss, \"Epoch\": epoch})\n",
        "                log_loss = tot_loss\n",
        "\n",
        "            if optimizer is not None:\n",
        "                optimizer.step()\n",
        "                optimizer.zero_grad()\n",
        "            if scheduler is not None:\n",
        "                scheduler.step()\n",
        "\n",
        "        if glb_step > num_training_steps:\n",
        "            leave_training = True\n",
        "            break\n",
        "\n",
        "    val_acc, val_loss = calculate_loss_and_f1(model, validation_loader)\n",
        "    epoch_traces.append(epoch)\n",
        "    acc_traces.append(val_acc)\n",
        "    validation_loss_traces.append(val_loss)\n",
        "    print(\"Validation: [Epoch: {}, Macro F1: {}, Validation Loss: {}, Time per Epoch: {}]\".format(epoch, val_acc, val_loss, time.time()-epoch_start_time), flush=True)\n",
        "\n",
        "    if val_acc > best_val_acc:\n",
        "        torch.save(model.state_dict(),f\"best_model.ckpt\")\n",
        "        best_val_acc = val_acc\n",
        "        best_epoch = epoch\n",
        "\n",
        "    elif (epoch - best_epoch) >= early_stop_epoch_thresh:\n",
        "        print(\"Training stopped early at Epoch: %d\" % epoch)\n",
        "        break  # Terminate the training loop\n",
        "\n",
        "    if leave_training:\n",
        "        break"
      ]
    },
    {
      "cell_type": "code",
      "execution_count": 79,
      "metadata": {
        "id": "hzB2Rn4-GXSS",
        "colab": {
          "base_uri": "https://localhost:8080/"
        },
        "outputId": "b5c2c29e-4cd3-471c-a942-fbaf4ccb3940"
      },
      "outputs": [
        {
          "output_type": "stream",
          "name": "stdout",
          "text": [
            "Done\n"
          ]
        }
      ],
      "source": [
        "model.load_state_dict(torch.load(f\"best_model.ckpt\"))\n",
        "model.cuda()\n",
        "print(\"Done\")"
      ]
    },
    {
      "cell_type": "code",
      "execution_count": 79,
      "metadata": {
        "id": "u-XX2krtfWul"
      },
      "outputs": [],
      "source": []
    },
    {
      "cell_type": "code",
      "execution_count": 80,
      "metadata": {
        "id": "9U5FrKYZGZnZ",
        "colab": {
          "base_uri": "https://localhost:8080/"
        },
        "outputId": "6f6c89aa-4fe4-4481-98ac-1b12e3904dc9"
      },
      "outputs": [
        {
          "output_type": "execute_result",
          "data": {
            "text/plain": [
              "{'accuracy': 0.6698564593301436,\n",
              " 'precision': 0.6526522063067135,\n",
              " 'recall': 0.6698564593301436,\n",
              " 'f1': 0.6568686516231094,\n",
              " 'macro_precision': 0.559128281983556,\n",
              " 'macro_recall': 0.5342193459523812,\n",
              " 'macro_f1': 0.5392743080638541}"
            ]
          },
          "metadata": {},
          "execution_count": 80
        }
      ],
      "source": [
        "evaluate(model, validation_loader)"
      ]
    },
    {
      "cell_type": "code",
      "execution_count": 81,
      "metadata": {
        "id": "zE3UzWNHGcnM",
        "colab": {
          "base_uri": "https://localhost:8080/",
          "height": 472
        },
        "outputId": "fe15eafb-a067-4c1a-8582-1751961afb63"
      },
      "outputs": [
        {
          "output_type": "display_data",
          "data": {
            "text/plain": [
              "<Figure size 640x480 with 1 Axes>"
            ],
            "image/png": "[encoded data removed]"
          },
          "metadata": {}
        }
      ],
      "source": [
        "plt.plot(range(len(epoch_traces)), acc_traces)\n",
        "plt.xlabel('Epoch')\n",
        "plt.ylabel('Macro F1-Score')\n",
        "plt.title('Epoch vs Validation Macro F1-Score')\n",
        "plt.xticks(range(len(epoch_traces)), epoch_traces)\n",
        "plt.show()"
      ]
    },
    {
      "cell_type": "code",
      "execution_count": 82,
      "metadata": {
        "id": "y1y6enP6GewI",
        "colab": {
          "base_uri": "https://localhost:8080/",
          "height": 472
        },
        "outputId": "c3edbb88-89ba-412f-fa7c-2d7859697bf2"
      },
      "outputs": [
        {
          "output_type": "display_data",
          "data": {
            "text/plain": [
              "<Figure size 640x480 with 1 Axes>"
            ],
            "image/png": "[encoded data removed]"
          },
          "metadata": {}
        }
      ],
      "source": [
        "plt.plot(range(len(epoch_traces)), validation_loss_traces)\n",
        "plt.xlabel('Epoch')\n",
        "plt.ylabel('Loss')\n",
        "plt.title('Epoch vs Validation Loss')\n",
        "plt.xticks(range(len(epoch_traces)), epoch_traces)\n",
        "plt.show()"
      ]
    },
    {
      "cell_type": "code",
      "execution_count": 83,
      "metadata": {
        "id": "q9Aw8Z2vGgyh",
        "colab": {
          "base_uri": "https://localhost:8080/"
        },
        "outputId": "0f59ef92-5728-42e9-a15b-29530da3dcc7"
      },
      "outputs": [
        {
          "output_type": "execute_result",
          "data": {
            "text/plain": [
              "{'accuracy': 0.620414673046252,\n",
              " 'precision': 0.603462153917265,\n",
              " 'recall': 0.620414673046252,\n",
              " 'f1': 0.6099478858989249,\n",
              " 'macro_precision': 0.49092932124979755,\n",
              " 'macro_recall': 0.48769190841598425,\n",
              " 'macro_f1': 0.48627622321815495}"
            ]
          },
          "metadata": {},
          "execution_count": 83
        }
      ],
      "source": [
        "evaluate(model, test_loader)"
      ]
    },
    {
      "cell_type": "code",
      "execution_count": 84,
      "metadata": {
        "id": "dNMicbCTGi7_"
      },
      "outputs": [],
      "source": [
        "# evaluate(model, test_loader_latin)"
      ]
    },
    {
      "cell_type": "code",
      "execution_count": 85,
      "metadata": {
        "id": "C0_4LABCGk91"
      },
      "outputs": [],
      "source": [
        "# evaluate(model, test_loader_Sinhala)"
      ]
    },
    {
      "cell_type": "code",
      "execution_count": 86,
      "metadata": {
        "id": "5xfCBwDKGm9M"
      },
      "outputs": [],
      "source": [
        "# evaluate(model, test_loader_Mixed)"
      ]
    },
    {
      "cell_type": "code",
      "execution_count": 86,
      "metadata": {
        "id": "FZjKnNRK_dDo"
      },
      "outputs": [],
      "source": []
    }
  ],
  "metadata": {
    "accelerator": "GPU",
    "colab": {
      "provenance": [],
      "include_colab_link": true
    },
    "gpuClass": "standard",
    "kernelspec": {
      "display_name": "Python 3",
      "language": "python",
      "name": "python3"
    },
    "language_info": {
      "codemirror_mode": {
        "name": "ipython",
        "version": 3
      },
      "file_extension": ".py",
      "mimetype": "text/x-python",
      "name": "python",
      "nbconvert_exporter": "python",
      "pygments_lexer": "ipython3",
      "version": "3.7.12"
    }
  },
  "nbformat": 4,
  "nbformat_minor": 0
}