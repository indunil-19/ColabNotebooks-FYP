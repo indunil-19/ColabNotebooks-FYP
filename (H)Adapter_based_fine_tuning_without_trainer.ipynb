{
  "cells": [
    {
      "cell_type": "markdown",
      "metadata": {
        "id": "view-in-github",
        "colab_type": "text"
      },
      "source": [
        "<a href=\"https://colab.research.google.com/github/indunil-19/ColabNotebooks-FYP/blob/main/(H)Adapter_based_fine_tuning_without_trainer.ipynb\" target=\"_parent\"><img src=\"https://colab.research.google.com/assets/colab-badge.svg\" alt=\"Open In Colab\"/></a>"
      ]
    },
    {
      "cell_type": "markdown",
      "metadata": {
        "id": "eoL8-pXx9z7c"
      },
      "source": [
        "## Training Single Task Adapters\n",
        "For Bert SinBert and XLM-R Models"
      ]
    },
    {
      "cell_type": "code",
      "execution_count": 130,
      "metadata": {
        "id": "KSLx_mnliOvH",
        "colab": {
          "base_uri": "https://localhost:8080/",
          "height": 52
        },
        "outputId": "f328018a-f2b9-446d-9456-ad6920b042d0"
      },
      "outputs": [
        {
          "output_type": "stream",
          "name": "stdout",
          "text": [
            "GPU Device name\n"
          ]
        },
        {
          "output_type": "execute_result",
          "data": {
            "text/plain": [
              "'Tesla T4'"
            ],
            "application/vnd.google.colaboratory.intrinsic+json": {
              "type": "string"
            }
          },
          "metadata": {},
          "execution_count": 130
        }
      ],
      "source": [
        "import torch\n",
        "print(\"GPU Device name\")\n",
        "torch.cuda.get_device_name(0)"
      ]
    },
    {
      "cell_type": "code",
      "execution_count": 131,
      "metadata": {
        "id": "qGOfIYJ3Tnm-",
        "colab": {
          "base_uri": "https://localhost:8080/"
        },
        "outputId": "ccf72a01-9778-4ee8-a87f-a95e0cbfd1d5"
      },
      "outputs": [
        {
          "output_type": "stream",
          "name": "stdout",
          "text": [
            "Drive already mounted at /content/drive; to attempt to forcibly remount, call drive.mount(\"/content/drive\", force_remount=True).\n"
          ]
        }
      ],
      "source": [
        "from google.colab import drive\n",
        "drive.mount('/content/drive')"
      ]
    },
    {
      "cell_type": "markdown",
      "metadata": {
        "id": "CCdvw5JNlygg"
      },
      "source": [
        "### **Parameters**"
      ]
    },
    {
      "cell_type": "code",
      "execution_count": 132,
      "metadata": {
        "id": "6LjxhVXklun6"
      },
      "outputs": [],
      "source": [
        "technique = \"Humor\"\n",
        "experiment_no = \"1\"\n",
        "oversample_dataset = False\n",
        "over_sampling_technique = \"ROS\"\n",
        "sampling_strategy = \"1:0.25:0.25\"\n",
        "validation_size = (1/9)\n",
        "test_size = 0.1\n",
        "split_random_state = 42\n",
        "training_seed = 77 #@param [ 8, 42, 77]\n",
        "NO_OUTPUT_LAYERS = 2\n",
        "id2label={ 0: 0, 1: 1}\n",
        "tag_set = [0,1]\n",
        "script=\"Char-Script-1.0\"\n",
        "\n",
        "\n",
        "load_adapter = False #@param {type:\"boolean\"}\n",
        "unfreeze_model = False #@param {type:\"boolean\"}\n",
        "save_adapter = False #@param {type:\"boolean\"}\n",
        "lang_adapter_setting = \"none\" #@param [\"none\", \"stack\", \"parallel\"]\n",
        "adapter_config = \"houlsby\" #@param [\"houlsby\", \"pfeiffer\"]"
      ]
    },
    {
      "cell_type": "code",
      "execution_count": 133,
      "metadata": {
        "id": "Z5zzz0_5IxVc"
      },
      "outputs": [],
      "source": [
        "MAX_LEN = 128\n",
        "BATCH_SIZE = 32\n",
        "LEARNING_RATE = 5e-4\n",
        "EPOCHS = 20"
      ]
    },
    {
      "cell_type": "code",
      "execution_count": 134,
      "metadata": {
        "id": "KanOOHjzWI7b"
      },
      "outputs": [],
      "source": [
        "# technique=\"hate\"\n",
        "pretrained_adapter_path = \"/content/drive/Shareddrives/Lingua/Final/\"+technique #+ \"_\" + str(random_state)"
      ]
    },
    {
      "cell_type": "markdown",
      "metadata": {
        "id": "3L9gYpCV28OA"
      },
      "source": [
        "### Installation"
      ]
    },
    {
      "cell_type": "code",
      "execution_count": 135,
      "metadata": {
        "id": "qL3Sq1HQynCq",
        "colab": {
          "base_uri": "https://localhost:8080/"
        },
        "outputId": "98038f20-b29d-408d-87ac-da1e4e82e14b"
      },
      "outputs": [
        {
          "output_type": "stream",
          "name": "stdout",
          "text": [
            "Looking in indexes: https://pypi.org/simple, https://us-python.pkg.dev/colab-wheels/public/simple/\n",
            "Requirement already satisfied: adapter-transformers==3.1.0 in /usr/local/lib/python3.10/dist-packages (3.1.0)\n",
            "Requirement already satisfied: filelock in /usr/local/lib/python3.10/dist-packages (from adapter-transformers==3.1.0) (3.12.0)\n",
            "Requirement already satisfied: huggingface-hub<1.0,>=0.1.0 in /usr/local/lib/python3.10/dist-packages (from adapter-transformers==3.1.0) (0.15.1)\n",
            "Requirement already satisfied: numpy>=1.17 in /usr/local/lib/python3.10/dist-packages (from adapter-transformers==3.1.0) (1.22.4)\n",
            "Requirement already satisfied: packaging>=20.0 in /usr/local/lib/python3.10/dist-packages (from adapter-transformers==3.1.0) (23.1)\n",
            "Requirement already satisfied: pyyaml>=5.1 in /usr/local/lib/python3.10/dist-packages (from adapter-transformers==3.1.0) (6.0)\n",
            "Requirement already satisfied: regex!=2019.12.17 in /usr/local/lib/python3.10/dist-packages (from adapter-transformers==3.1.0) (2022.10.31)\n",
            "Requirement already satisfied: requests in /usr/local/lib/python3.10/dist-packages (from adapter-transformers==3.1.0) (2.27.1)\n",
            "Requirement already satisfied: tokenizers!=0.11.3,<0.13,>=0.11.1 in /usr/local/lib/python3.10/dist-packages (from adapter-transformers==3.1.0) (0.12.1)\n",
            "Requirement already satisfied: tqdm>=4.27 in /usr/local/lib/python3.10/dist-packages (from adapter-transformers==3.1.0) (4.65.0)\n",
            "Requirement already satisfied: fsspec in /usr/local/lib/python3.10/dist-packages (from huggingface-hub<1.0,>=0.1.0->adapter-transformers==3.1.0) (2023.4.0)\n",
            "Requirement already satisfied: typing-extensions>=3.7.4.3 in /usr/local/lib/python3.10/dist-packages (from huggingface-hub<1.0,>=0.1.0->adapter-transformers==3.1.0) (4.5.0)\n",
            "Requirement already satisfied: urllib3<1.27,>=1.21.1 in /usr/local/lib/python3.10/dist-packages (from requests->adapter-transformers==3.1.0) (1.26.15)\n",
            "Requirement already satisfied: certifi>=2017.4.17 in /usr/local/lib/python3.10/dist-packages (from requests->adapter-transformers==3.1.0) (2022.12.7)\n",
            "Requirement already satisfied: charset-normalizer~=2.0.0 in /usr/local/lib/python3.10/dist-packages (from requests->adapter-transformers==3.1.0) (2.0.12)\n",
            "Requirement already satisfied: idna<4,>=2.5 in /usr/local/lib/python3.10/dist-packages (from requests->adapter-transformers==3.1.0) (3.4)\n",
            "Looking in indexes: https://pypi.org/simple, https://us-python.pkg.dev/colab-wheels/public/simple/\n",
            "Requirement already satisfied: datasets in /usr/local/lib/python3.10/dist-packages (2.13.0)\n",
            "Requirement already satisfied: numpy>=1.17 in /usr/local/lib/python3.10/dist-packages (from datasets) (1.22.4)\n",
            "Requirement already satisfied: pyarrow>=8.0.0 in /usr/local/lib/python3.10/dist-packages (from datasets) (9.0.0)\n",
            "Requirement already satisfied: dill<0.3.7,>=0.3.0 in /usr/local/lib/python3.10/dist-packages (from datasets) (0.3.6)\n",
            "Requirement already satisfied: pandas in /usr/local/lib/python3.10/dist-packages (from datasets) (1.5.3)\n",
            "Requirement already satisfied: requests>=2.19.0 in /usr/local/lib/python3.10/dist-packages (from datasets) (2.27.1)\n",
            "Requirement already satisfied: tqdm>=4.62.1 in /usr/local/lib/python3.10/dist-packages (from datasets) (4.65.0)\n",
            "Requirement already satisfied: xxhash in /usr/local/lib/python3.10/dist-packages (from datasets) (3.2.0)\n",
            "Requirement already satisfied: multiprocess in /usr/local/lib/python3.10/dist-packages (from datasets) (0.70.14)\n",
            "Requirement already satisfied: fsspec[http]>=2021.11.1 in /usr/local/lib/python3.10/dist-packages (from datasets) (2023.4.0)\n",
            "Requirement already satisfied: aiohttp in /usr/local/lib/python3.10/dist-packages (from datasets) (3.8.4)\n",
            "Requirement already satisfied: huggingface-hub<1.0.0,>=0.11.0 in /usr/local/lib/python3.10/dist-packages (from datasets) (0.15.1)\n",
            "Requirement already satisfied: packaging in /usr/local/lib/python3.10/dist-packages (from datasets) (23.1)\n",
            "Requirement already satisfied: pyyaml>=5.1 in /usr/local/lib/python3.10/dist-packages (from datasets) (6.0)\n",
            "Requirement already satisfied: attrs>=17.3.0 in /usr/local/lib/python3.10/dist-packages (from aiohttp->datasets) (23.1.0)\n",
            "Requirement already satisfied: charset-normalizer<4.0,>=2.0 in /usr/local/lib/python3.10/dist-packages (from aiohttp->datasets) (2.0.12)\n",
            "Requirement already satisfied: multidict<7.0,>=4.5 in /usr/local/lib/python3.10/dist-packages (from aiohttp->datasets) (6.0.4)\n",
            "Requirement already satisfied: async-timeout<5.0,>=4.0.0a3 in /usr/local/lib/python3.10/dist-packages (from aiohttp->datasets) (4.0.2)\n",
            "Requirement already satisfied: yarl<2.0,>=1.0 in /usr/local/lib/python3.10/dist-packages (from aiohttp->datasets) (1.9.2)\n",
            "Requirement already satisfied: frozenlist>=1.1.1 in /usr/local/lib/python3.10/dist-packages (from aiohttp->datasets) (1.3.3)\n",
            "Requirement already satisfied: aiosignal>=1.1.2 in /usr/local/lib/python3.10/dist-packages (from aiohttp->datasets) (1.3.1)\n",
            "Requirement already satisfied: filelock in /usr/local/lib/python3.10/dist-packages (from huggingface-hub<1.0.0,>=0.11.0->datasets) (3.12.0)\n",
            "Requirement already satisfied: typing-extensions>=3.7.4.3 in /usr/local/lib/python3.10/dist-packages (from huggingface-hub<1.0.0,>=0.11.0->datasets) (4.5.0)\n",
            "Requirement already satisfied: urllib3<1.27,>=1.21.1 in /usr/local/lib/python3.10/dist-packages (from requests>=2.19.0->datasets) (1.26.15)\n",
            "Requirement already satisfied: certifi>=2017.4.17 in /usr/local/lib/python3.10/dist-packages (from requests>=2.19.0->datasets) (2022.12.7)\n",
            "Requirement already satisfied: idna<4,>=2.5 in /usr/local/lib/python3.10/dist-packages (from requests>=2.19.0->datasets) (3.4)\n",
            "Requirement already satisfied: python-dateutil>=2.8.1 in /usr/local/lib/python3.10/dist-packages (from pandas->datasets) (2.8.2)\n",
            "Requirement already satisfied: pytz>=2020.1 in /usr/local/lib/python3.10/dist-packages (from pandas->datasets) (2022.7.1)\n",
            "Requirement already satisfied: six>=1.5 in /usr/local/lib/python3.10/dist-packages (from python-dateutil>=2.8.1->pandas->datasets) (1.16.0)\n",
            "Looking in indexes: https://pypi.org/simple, https://us-python.pkg.dev/colab-wheels/public/simple/\n",
            "Requirement already satisfied: sentencepiece in /usr/local/lib/python3.10/dist-packages (0.1.99)\n"
          ]
        }
      ],
      "source": [
        "!pip install -U adapter-transformers==3.1.0\n",
        "!pip install datasets\n",
        "!pip install sentencepiece"
      ]
    },
    {
      "cell_type": "markdown",
      "metadata": {
        "id": "LUHpDE_Gtyen"
      },
      "source": [
        "### Dependencies"
      ]
    },
    {
      "cell_type": "code",
      "execution_count": 135,
      "metadata": {
        "id": "mUcFdH0HIxVe"
      },
      "outputs": [],
      "source": []
    },
    {
      "cell_type": "code",
      "execution_count": 136,
      "metadata": {
        "id": "xJZ6z8bJl25l"
      },
      "outputs": [],
      "source": [
        "import re\n",
        "import time\n",
        "import torch\n",
        "from torch.utils.data import TensorDataset, DataLoader, RandomSampler, SequentialSampler\n",
        "from google.colab import drive\n",
        "from tqdm import tqdm\n",
        "from sklearn.metrics import classification_report\n",
        "import io\n",
        "import seaborn as sns\n",
        "from sklearn.model_selection import train_test_split\n",
        "import numpy as np\n",
        "import pandas as pd\n",
        "from transformers import AutoAdapterModel ,AutoTokenizer, AdapterConfig,AutoConfig, AutoModelWithHeads, TrainingArguments, AdapterTrainer, EvalPrediction, AdamW, get_scheduler, TextClassificationPipeline, EarlyStoppingCallback, Trainer,set_seed\n",
        "from transformers import  AdamW, get_linear_schedule_with_warmup,set_seed\n",
        "from transformers.adapters.composition import Fuse, Stack, Parallel\n",
        "from datasets import load_metric\n",
        "from collections import Counter\n",
        "from imblearn.over_sampling import RandomOverSampler, SMOTE, ADASYN, BorderlineSMOTE\n",
        "import matplotlib.pyplot as plt\n",
        "%matplotlib inline\n"
      ]
    },
    {
      "cell_type": "markdown",
      "metadata": {
        "id": "EzrDM6Ua-jo_"
      },
      "source": [
        "### Dataset Preprocessing"
      ]
    },
    {
      "cell_type": "code",
      "execution_count": 137,
      "metadata": {
        "id": "BB8pw1RDuDaA"
      },
      "outputs": [],
      "source": [
        "def apply_oversampling(x, y):\n",
        "\n",
        "  (unique, counts) = np.unique(y, axis=0, return_counts=True)\n",
        "  print(\"Class Distribution Without Oversampling\", counts)\n",
        "\n",
        "  # define oversampling strategy\n",
        "  if (over_sampling_technique == \"\"):\n",
        "    return x, y\n",
        "  elif (over_sampling_technique == \"ROS\"):\n",
        "    if (technique==\"humor\"):\n",
        "      oversample = RandomOverSampler(sampling_strategy = float(sampling_strategy))\n",
        "    else:\n",
        "      sampling_ratio = sampling_strategy.split(\":\");\n",
        "      oversample = RandomOverSampler(sampling_strategy = {\n",
        "          0:int(counts[0]*float(sampling_ratio[0])),\n",
        "          1:int(counts[0]*float(sampling_ratio[1])),\n",
        "          2:int(counts[0]*float(sampling_ratio[2]))\n",
        "          })\n",
        "  elif (over_sampling_technique == \"ADASYN\"):\n",
        "    oversample = ADASYN(sampling_strategy=\"minority\")\n",
        "  elif (over_sampling_technique == \"SMOTE\"):\n",
        "    oversample = SMOTE()\n",
        "  elif (over_sampling_technique == \"BorderlineSMOTE\"):\n",
        "    oversample = BorderlineSMOTE()\n",
        "\n",
        "  # fit and apply the transform\n",
        "  X_over, y_over = oversample.fit_resample(x, y)\n",
        "\n",
        "  (unique, counts) = np.unique(y_over, axis=0, return_counts=True)\n",
        "  print(\"Class Distribution After Oversampling\", counts)\n",
        "\n",
        "  return X_over, y_over"
      ]
    },
    {
      "cell_type": "code",
      "execution_count": 138,
      "metadata": {
        "id": "0MUpioPlmvMh"
      },
      "outputs": [],
      "source": [
        "dataset_path = \"/content/drive/Shareddrives/Lingua/Dravidian-English Datasets/hindi-english-humor.csv\"\n",
        "model_save_path = \"/kaggle/working/\"+technique+\"/\"+experiment_no"
      ]
    },
    {
      "cell_type": "code",
      "execution_count": 139,
      "metadata": {
        "id": "yq5AMmjelqlj"
      },
      "outputs": [],
      "source": [
        "df = pd.read_csv(dataset_path)\n",
        "df = df[['Sentence', technique, script]]\n",
        "df.columns = ['Sentence', 'Label', script]\n",
        "\n",
        "# df['Label'], uniq = pd.factorize(df['Label'])\n",
        "\n",
        "X, y = df[['Sentence', script]], df[['Label']]\n",
        "stratifying_col = y[\"Label\"]\n",
        "X_rem, X_test, y_rem, y_test = train_test_split(X, y, test_size=test_size, stratify=stratifying_col, random_state=split_random_state)\n",
        "stratifying_col = y_rem[\"Label\"]\n",
        "X_train, X_validation, y_train, y_validation = train_test_split(X_rem, y_rem, test_size=validation_size, stratify=stratifying_col, random_state=split_random_state)"
      ]
    },
    {
      "cell_type": "code",
      "execution_count": 140,
      "metadata": {
        "id": "Ppy0Sj5NIxVg"
      },
      "outputs": [],
      "source": [
        "del df, X, y, stratifying_col, X_rem, y_rem"
      ]
    },
    {
      "cell_type": "code",
      "execution_count": 141,
      "metadata": {
        "id": "oHELisZ0ufPM"
      },
      "outputs": [],
      "source": [
        "# uniq"
      ]
    },
    {
      "cell_type": "code",
      "execution_count": 142,
      "metadata": {
        "id": "dkRs6oJvIxVh",
        "colab": {
          "base_uri": "https://localhost:8080/"
        },
        "outputId": "541e31d8-fdf9-4a29-a9d1-31ffd22c54f1"
      },
      "outputs": [
        {
          "output_type": "stream",
          "name": "stdout",
          "text": [
            "X_train : Rows = 2734 , Columns =  2\n",
            "y_train : Rows = 2734 , Columns =  1\n",
            "X_validation : Rows = 342 , Columns =  2\n",
            "y_validation : Rows = 342 , Columns =  1\n",
            "X_test : Rows = 342 , Columns =  2\n",
            "y_test : Rows = 342 , Columns =  1\n"
          ]
        }
      ],
      "source": [
        "print(\"X_train : Rows =\", X_train.shape[0], \", Columns = \", X_train.shape[1])\n",
        "print(\"y_train : Rows =\", y_train.shape[0], \", Columns = \", y_train.shape[1])\n",
        "print(\"X_validation : Rows =\", X_validation.shape[0], \", Columns = \", X_validation.shape[1])\n",
        "print(\"y_validation : Rows =\", y_validation.shape[0], \", Columns = \", y_validation.shape[1])\n",
        "print(\"X_test : Rows =\", X_test.shape[0], \", Columns = \", X_test.shape[1])\n",
        "print(\"y_test : Rows =\", y_test.shape[0], \", Columns = \", y_test.shape[1])"
      ]
    },
    {
      "cell_type": "code",
      "execution_count": 143,
      "metadata": {
        "id": "UaUlvhRwIxVh",
        "colab": {
          "base_uri": "https://localhost:8080/"
        },
        "outputId": "91b87b1c-ac05-41c1-c598-48c8531d63e1"
      },
      "outputs": [
        {
          "output_type": "stream",
          "name": "stdout",
          "text": [
            "Train : [1345, 1389]\n",
            "Validation : [168, 174]\n",
            "Test : [168, 174]\n"
          ]
        }
      ],
      "source": [
        "# print(\"Labels :\", ['Negative', 'Neutral', 'Positive', 'Conflict'])\n",
        "print(\"Train :\", y_train.groupby('Label').size().tolist())\n",
        "print(\"Validation :\", y_validation.groupby('Label').size().tolist())\n",
        "print(\"Test :\", y_test.groupby('Label').size().tolist())"
      ]
    },
    {
      "cell_type": "code",
      "execution_count": 144,
      "metadata": {
        "id": "7tCiiAeuIxVi"
      },
      "outputs": [],
      "source": [
        "if oversample_dataset:\n",
        "  X_train = np.array(X_train).reshape(-1, 1)\n",
        "  X_train, y_train = apply_oversampling(X_train, y_train)\n",
        "  X_train = [x[0] for x in X_train.tolist()]\n",
        "# y_train = y_train.tolist()"
      ]
    },
    {
      "cell_type": "markdown",
      "metadata": {
        "id": "Xw-aKg9RIxVi"
      },
      "source": [
        "##### **Preprocess Data**"
      ]
    },
    {
      "cell_type": "code",
      "execution_count": 145,
      "metadata": {
        "id": "T_2iifBVIxVi"
      },
      "outputs": [],
      "source": [
        "set_seed(training_seed)"
      ]
    },
    {
      "cell_type": "code",
      "execution_count": 146,
      "metadata": {
        "id": "SxzzTXwZIxVj"
      },
      "outputs": [],
      "source": [
        "X_train, y_train = X_train.values.tolist(), y_train.values.tolist()\n",
        "X_validation, y_validation = X_validation.values.tolist(), y_validation.values.tolist()\n",
        "X_test, y_test = X_test.values.tolist(), y_test.values.tolist()"
      ]
    },
    {
      "cell_type": "code",
      "execution_count": 147,
      "metadata": {
        "id": "oQbG0JmQIxVj"
      },
      "outputs": [],
      "source": [
        "X_train_arr=[]\n",
        "y_train_arr=[]\n",
        "\n",
        "for i in range(len(X_train)):\n",
        "    X_train_arr.append(X_train[i][0])\n",
        "    y_train_arr.append(y_train[i][0])\n",
        "\n",
        "\n",
        "X_validation_arr=[]\n",
        "y_validation_arr=[]\n",
        "for i in range(len(X_validation)):\n",
        "    X_validation_arr.append(X_validation[i][0])\n",
        "    y_validation_arr.append(y_validation[i][0])\n",
        "\n",
        "\n",
        "X_test_arr=[]\n",
        "y_test_arr=[]\n",
        "X_test_latin=[]\n",
        "y_test_latin=[]\n",
        "\n",
        "X_test_Sinhala=[]\n",
        "y_test_Sinhala=[]\n",
        "\n",
        "X_test_Mixed=[]\n",
        "y_test_Mixed=[]\n",
        "for i in range(len(X_test)):\n",
        "    X_test_arr.append(X_test[i][0])\n",
        "    y_test_arr.append(y_test[i][0])\n",
        "\n",
        "    # if X_test[i][1]==\"Latin\":\n",
        "    #     X_test_latin.append(X_test[i][0])\n",
        "    #     y_test_latin.append(y_test[i][0])\n",
        "\n",
        "    # elif X_test[i][1]==\"Sinhala\":\n",
        "    #     X_test_Sinhala.append(X_test[i][0])\n",
        "    #     y_test_Sinhala.append(y_test[i][0])\n",
        "\n",
        "    # elif X_test[i][1]==\"Mixed\":\n",
        "    #     X_test_Mixed.append(X_test[i][0])\n",
        "    #     y_test_Mixed.append(y_test[i][0])"
      ]
    },
    {
      "cell_type": "code",
      "execution_count": 148,
      "metadata": {
        "id": "lCUWfe8-n0i8"
      },
      "outputs": [],
      "source": [
        "tokenizer = AutoTokenizer.from_pretrained(\"xlm-roberta-base\", do_lower_case=True)"
      ]
    },
    {
      "cell_type": "code",
      "execution_count": 149,
      "metadata": {
        "id": "TqXJtJe8oObQ"
      },
      "outputs": [],
      "source": [
        "encoded_X_train = tokenizer(X_train_arr, truncation=True, padding=True, max_length=MAX_LEN)\n",
        "encoded_X_validation = tokenizer(X_validation_arr, truncation=True, padding=True, max_length=MAX_LEN)\n",
        "encoded_X_test = tokenizer(X_test_arr, truncation=True, padding=True, max_length=MAX_LEN)\n",
        "# encoded_X_test_latin = tokenizer(X_test_latin, truncation=True, padding=True, max_length=MAX_LEN)\n",
        "# encoded_X_test_Sinhala = tokenizer(X_test_Sinhala, truncation=True, padding=True, max_length=MAX_LEN)\n",
        "# encoded_X_test_Mixed = tokenizer(X_test_Mixed, truncation=True, padding=True, max_length=MAX_LEN)\n",
        "\n"
      ]
    },
    {
      "cell_type": "code",
      "execution_count": 150,
      "metadata": {
        "id": "6581Al-K_Nyf"
      },
      "outputs": [],
      "source": [
        "class DatasetObject(torch.utils.data.Dataset):\n",
        "    def __init__(self, encodings, labels):\n",
        "        self.encodings = encodings\n",
        "        self.labels = labels\n",
        "\n",
        "    def __getitem__(self, idx):\n",
        "        item = {key: torch.tensor(val[idx]) for key, val in self.encodings.items()}\n",
        "        item['labels'] = torch.tensor(self.labels[idx])\n",
        "        return item\n",
        "\n",
        "    def __len__(self):\n",
        "        return len(self.labels)\n",
        "\n",
        "train_dataset = DatasetObject(encoded_X_train, y_train_arr)\n",
        "validation_dataset = DatasetObject(encoded_X_validation, y_validation_arr)\n",
        "test_dataset = DatasetObject(encoded_X_test, y_test_arr)\n",
        "# test_dataset_latin = DatasetObject(encoded_X_test_latin, y_test_latin)\n",
        "# test_dataset_Sinhala = DatasetObject(encoded_X_test_Sinhala, y_test_Sinhala)\n",
        "# test_dataset_Mixed = DatasetObject(encoded_X_test_Mixed, y_test_Mixed)\n"
      ]
    },
    {
      "cell_type": "code",
      "execution_count": 151,
      "metadata": {
        "id": "Mol-S8fDIxVk"
      },
      "outputs": [],
      "source": [
        "# train_sampler = RandomSampler(train_dataset)\n",
        "train_sampler = SequentialSampler(train_dataset)\n",
        "validation_sampler = SequentialSampler(validation_dataset)\n",
        "test_sampler = SequentialSampler(test_dataset)\n",
        "# validation_sampler_latin = SequentialSampler(test_dataset_latin)\n",
        "# validation_sampler_sinhala= SequentialSampler(test_dataset_Sinhala)\n",
        "# validation_sampler_mixed = SequentialSampler(test_dataset_Mixed)\n",
        "\n",
        "train_loader = DataLoader(train_dataset, sampler=train_sampler , batch_size=BATCH_SIZE)\n",
        "validation_loader = DataLoader(validation_dataset, sampler=validation_sampler , batch_size=BATCH_SIZE)\n",
        "test_loader = DataLoader(test_dataset, sampler=test_sampler , batch_size=BATCH_SIZE)\n",
        "# test_loader_latin = DataLoader(test_dataset_latin, sampler=validation_sampler_latin , batch_size=BATCH_SIZE)\n",
        "# test_loader_Sinhala = DataLoader(test_dataset_Sinhala, sampler=validation_sampler_sinhala , batch_size=BATCH_SIZE)\n",
        "# test_loader_Mixed = DataLoader(test_dataset_Mixed, sampler=validation_sampler_mixed , batch_size=BATCH_SIZE)"
      ]
    },
    {
      "cell_type": "markdown",
      "metadata": {
        "id": "cCwk6iQE_XZb"
      },
      "source": [
        "### Training"
      ]
    },
    {
      "cell_type": "code",
      "execution_count": 152,
      "metadata": {
        "id": "KNyi1nFH_TOS",
        "colab": {
          "base_uri": "https://localhost:8080/"
        },
        "outputId": "bed6049b-a24d-4596-ce1d-ab705180b2f1"
      },
      "outputs": [
        {
          "output_type": "stream",
          "name": "stderr",
          "text": [
            "/usr/local/lib/python3.10/dist-packages/transformers/adapters/models/roberta/adapter_model.py:255: FutureWarning: This class has been renamed to `RobertaModelWithHeads` in v3. Please use the new class instead as this class might be removed in a future version.\n",
            "  warnings.warn(\n",
            "/usr/local/lib/python3.10/dist-packages/transformers/adapters/models/roberta/adapter_model.py:233: FutureWarning: This class has been renamed to `RobertaModelWithHeads` in v3. Please use the new class instead as this class might be removed in a future version.\n",
            "  warnings.warn(\n",
            "Some weights of the model checkpoint at xlm-roberta-base were not used when initializing XLMRobertaModelWithHeads: ['lm_head.decoder.weight', 'lm_head.dense.bias', 'lm_head.layer_norm.bias', 'lm_head.layer_norm.weight', 'lm_head.dense.weight', 'lm_head.bias']\n",
            "- This IS expected if you are initializing XLMRobertaModelWithHeads from the checkpoint of a model trained on another task or with another architecture (e.g. initializing a BertForSequenceClassification model from a BertForPreTraining model).\n",
            "- This IS NOT expected if you are initializing XLMRobertaModelWithHeads from the checkpoint of a model that you expect to be exactly identical (initializing a BertForSequenceClassification model from a BertForSequenceClassification model).\n",
            "Some weights of XLMRobertaModelWithHeads were not initialized from the model checkpoint at xlm-roberta-base and are newly initialized: ['roberta.embeddings.position_ids']\n",
            "You should probably TRAIN this model on a down-stream task to be able to use it for predictions and inference.\n"
          ]
        }
      ],
      "source": [
        "config = AutoConfig.from_pretrained(\"xlm-roberta-base\", num_labels=NO_OUTPUT_LAYERS)\n",
        "model = AutoModelWithHeads.from_pretrained(\"xlm-roberta-base\", config=config)"
      ]
    },
    {
      "cell_type": "code",
      "execution_count": 153,
      "metadata": {
        "id": "7RPhSipb_diC",
        "colab": {
          "base_uri": "https://localhost:8080/"
        },
        "outputId": "0c2ebcee-5896-4641-adcf-a6910e9d7091"
      },
      "outputs": [
        {
          "output_type": "stream",
          "name": "stdout",
          "text": [
            "adding new adapter houlsby\n"
          ]
        }
      ],
      "source": [
        "# Load an adapter\n",
        "if load_adapter:\n",
        "  print(\"loading adapter from\", pretrained_adapter_path)\n",
        "  model.load_adapter(pretrained_adapter_path, with_head=False)\n",
        "\n",
        "# Add a new adapter\n",
        "else:\n",
        "  print(\"adding new adapter\", adapter_config)\n",
        "  if adapter_config == \"pfeiffer\":\n",
        "    config = AdapterConfig.load(\"pfeiffer\", reduction_factor=12)\n",
        "  else:\n",
        "    config = AdapterConfig.load(\"houlsby\")\n",
        "  model.add_adapter(\"task_\"+technique, config=config)"
      ]
    },
    {
      "cell_type": "code",
      "execution_count": 154,
      "metadata": {
        "id": "Zq1dG4sVcDX5"
      },
      "outputs": [],
      "source": [
        "# Add a classification head\n",
        "model.add_classification_head(\n",
        "  \"task_\"+technique,\n",
        "  num_labels=NO_OUTPUT_LAYERS,\n",
        "  id2label=id2label\n",
        ")\n",
        "\n",
        "# Without Language Adapters\n",
        "if lang_adapter_setting == \"none\":\n",
        "  model.set_active_adapters(\"task_\"+technique)\n",
        "\n",
        "else:\n",
        "  # Load language adapters\n",
        "  lang_adapter_config = AdapterConfig.load(\"pfeiffer+inv\")\n",
        "  model.load_adapter(\"/content/drive/Shareddrives/Lingua/adapters/lan/mlm\", config=lang_adapter_config, load_as=\"si-en\", with_head=False)\n",
        "  # model.load_adapter(\"/content/drive/Shareddrives/FYP/TrainedAdapters/si_mlm\", config=lang_adapter_config, load_as=\"si\", with_head=False)\n",
        "  model.load_adapter(\"/content/drive/Shareddrives/Lingua/adapters/lan/si_mlm\", config=lang_adapter_config, load_as=\"si\", with_head=False)\n",
        "  config = AdapterConfig.load(\"pfeiffer\", non_linearity=\"relu\", reduction_factor=2)\n",
        "  model.load_adapter(\"en/wiki@ukp\", config=config)\n",
        "\n",
        "  # Stack Language Adapters\n",
        "  if lang_adapter_setting == \"stack\":\n",
        "    print(\"stacking language adapters\")\n",
        "    model.active_adapters=Stack(\"en\", \"si\", \"si-en\", \"task_\"+technique)\n",
        "\n",
        "  # Parallel Language Adapters\n",
        "  else:\n",
        "    print(\"stacking parallel language adapters set\")\n",
        "    model.active_adapters=Stack(Parallel(\"en\", \"si\", \"si-en\"), \"task_\"+technique)\n",
        "\n",
        "# Train Adapter\n",
        "model.train_adapter(\"task_\"+technique)"
      ]
    },
    {
      "cell_type": "code",
      "execution_count": 155,
      "metadata": {
        "id": "iVTWkQaiiuhZ"
      },
      "outputs": [],
      "source": [
        "# Unfreeze the model to train both the model and adapter\n",
        "if unfreeze_model:\n",
        "  model.freeze_model(False)"
      ]
    },
    {
      "cell_type": "code",
      "execution_count": 156,
      "metadata": {
        "id": "SBMtmX77IMlZ",
        "colab": {
          "base_uri": "https://localhost:8080/"
        },
        "outputId": "5e021a04-0806-420d-f274-860b3d504381"
      },
      "outputs": [
        {
          "output_type": "stream",
          "name": "stdout",
          "text": [
            "Done\n"
          ]
        }
      ],
      "source": [
        "model.cuda()\n",
        "print(\"Done\")"
      ]
    },
    {
      "cell_type": "code",
      "execution_count": 157,
      "metadata": {
        "id": "bny18Y2qHvf0",
        "colab": {
          "base_uri": "https://localhost:8080/",
          "height": 35
        },
        "outputId": "5a853049-c74c-432a-f8d1-e6d2c6f89844"
      },
      "outputs": [
        {
          "output_type": "execute_result",
          "data": {
            "text/plain": [
              "'Tesla T4'"
            ],
            "application/vnd.google.colaboratory.intrinsic+json": {
              "type": "string"
            }
          },
          "metadata": {},
          "execution_count": 157
        }
      ],
      "source": [
        "device = torch.device(\"cuda\" if torch.cuda.is_available() else \"cpu\")\n",
        "n_gpu = torch.cuda.device_count()\n",
        "torch.cuda.get_device_name(0)"
      ]
    },
    {
      "cell_type": "code",
      "execution_count": 158,
      "metadata": {
        "id": "Iu1hV1g3jAvS"
      },
      "outputs": [],
      "source": [
        "set_seed(training_seed)"
      ]
    },
    {
      "cell_type": "code",
      "execution_count": 159,
      "metadata": {
        "id": "ZDiEfZumNwYA"
      },
      "outputs": [],
      "source": [
        "def compute_metrics(allpreds,alllabels):\n",
        "    metric1 = load_metric(\"precision\")\n",
        "    metric2 = load_metric(\"recall\")\n",
        "    metric3 = load_metric(\"f1\")\n",
        "    metric4 = load_metric(\"accuracy\")\n",
        "\n",
        "    predictions, labels = allpreds,alllabels\n",
        "    precision = metric1.compute(predictions=predictions, references=labels, average=\"weighted\")[\"precision\"]\n",
        "    recall = metric2.compute(predictions=predictions, references=labels, average=\"weighted\")[\"recall\"]\n",
        "    f1 = metric3.compute(predictions=predictions, references=labels, average=\"weighted\")[\"f1\"]\n",
        "    accuracy = metric4.compute(predictions=predictions, references=labels)[\"accuracy\"]\n",
        "    macro_precision = metric1.compute(predictions=predictions, references=labels, average=\"macro\")[\"precision\"]\n",
        "    macro_recall = metric2.compute(predictions=predictions, references=labels, average=\"macro\")[\"recall\"]\n",
        "    macro_f1 = metric3.compute(predictions=predictions, references=labels, average=\"macro\")[\"f1\"]\n",
        "    return {\"accuracy\":accuracy, \"precision\": precision, \"recall\": recall, \"f1\": f1, \"macro_precision\": macro_precision, \"macro_recall\": macro_recall, \"macro_f1\": macro_f1}\n"
      ]
    },
    {
      "cell_type": "code",
      "execution_count": 160,
      "metadata": {
        "id": "ErqMNvyEGL07"
      },
      "outputs": [],
      "source": [
        "def evaluate(model, dataloader):\n",
        "    model.eval()\n",
        "    allpreds = []\n",
        "    alllabels = []\n",
        "\n",
        "    for step, batch in enumerate(dataloader):\n",
        "        batch = {k: v.to(device) for k, v in batch.items()}\n",
        "        with torch.no_grad():\n",
        "            outputs = model(**batch)\n",
        "        logits = outputs.logits\n",
        "        allpreds.extend(torch.argmax(logits, dim=-1))\n",
        "        alllabels.extend(batch[\"labels\"])\n",
        "    return compute_metrics(allpreds,alllabels)"
      ]
    },
    {
      "cell_type": "code",
      "execution_count": 161,
      "metadata": {
        "id": "_oEcPkiDGOjQ"
      },
      "outputs": [],
      "source": [
        "def calculate_loss_and_f1(model, dataloader):\n",
        "    model.eval()\n",
        "    allpreds = []\n",
        "    alllabels = []\n",
        "    total_loss = 0\n",
        "\n",
        "    for step, batch in enumerate(dataloader):\n",
        "        batch = {k: v.to(device) for k, v in batch.items()}\n",
        "        with torch.no_grad():\n",
        "            outputs = model(**batch)\n",
        "        logits = outputs.logits\n",
        "        loss = outputs.loss\n",
        "        total_loss += loss.item()\n",
        "        allpreds.extend(torch.argmax(logits, dim=-1))\n",
        "        alllabels.extend(batch[\"labels\"])\n",
        "\n",
        "    macro_f1 = load_metric(\"f1\").compute(predictions=allpreds, references=alllabels, average=\"macro\")[\"f1\"]\n",
        "    return macro_f1, (total_loss/len(dataloader))"
      ]
    },
    {
      "cell_type": "code",
      "execution_count": 162,
      "metadata": {
        "id": "oesjvk80GQZW",
        "colab": {
          "base_uri": "https://localhost:8080/"
        },
        "outputId": "78cec90d-cdfb-4cf4-b07a-7dec07b93a65"
      },
      "outputs": [
        {
          "output_type": "stream",
          "name": "stderr",
          "text": [
            "/usr/local/lib/python3.10/dist-packages/transformers/optimization.py:306: FutureWarning: This implementation of AdamW is deprecated and will be removed in a future version. Use the PyTorch implementation torch.optim.AdamW instead, or set `no_deprecation_warning=True` to disable this warning\n",
            "  warnings.warn(\n"
          ]
        }
      ],
      "source": [
        "no_decay = ['bias', 'LayerNorm.weight']\n",
        "num_training_steps = EPOCHS * len(train_loader)\n",
        "betas = (0.9, 0.999)\n",
        "eps = 1e-08\n",
        "num_warmup_steps = 0\n",
        "param_optimizer = list(model.named_parameters())\n",
        "\n",
        "optimizer_grouped_parameters = [\n",
        "    {'params': [p for n, p in param_optimizer if not any(nd in n for nd in no_decay)],\n",
        "     'weight_decay_rate': 0.01},\n",
        "    {'params': [p for n, p in param_optimizer if any(nd in n for nd in no_decay)],\n",
        "     'weight_decay_rate': 0.0}\n",
        "]\n",
        "optimizer = AdamW(optimizer_grouped_parameters, lr=LEARNING_RATE,betas=betas,eps=eps)\n",
        "scheduler = get_linear_schedule_with_warmup(optimizer, num_warmup_steps=0, num_training_steps=num_training_steps)"
      ]
    },
    {
      "cell_type": "code",
      "execution_count": 163,
      "metadata": {
        "id": "5l6csY77GS8F"
      },
      "outputs": [],
      "source": [
        "tot_loss = 0\n",
        "log_loss = 0\n",
        "best_val_acc = 0\n",
        "\n",
        "tot_train_time = 0\n",
        "pbar_update_freq = 10\n",
        "\n",
        "glb_step = 0\n",
        "actual_step = 0\n",
        "max_grad_norm = 1.0\n",
        "eval_every_steps = 100\n",
        "gradient_accumulation_steps = 1\n",
        "\n",
        "leave_training = False\n",
        "val_metric = \"macro_f1\"\n",
        "\n",
        "best_epoch = -1\n",
        "early_stop_epoch_thresh = 5\n",
        "\n",
        "epoch_traces = []\n",
        "acc_traces = []\n",
        "validation_loss_traces = []"
      ]
    },
    {
      "cell_type": "code",
      "execution_count": 164,
      "metadata": {
        "id": "dkv8HsFgGVGY",
        "colab": {
          "base_uri": "https://localhost:8080/"
        },
        "outputId": "fe2c6923-cde9-418f-ed3e-3988beac0310"
      },
      "outputs": [
        {
          "output_type": "stream",
          "name": "stderr",
          "text": [
            "\n",
            "Train:   0%|          | 0/1720 [00:00<?, ?it/s]\u001b[A"
          ]
        },
        {
          "output_type": "stream",
          "name": "stdout",
          "text": [
            "Begin Epoch 0\n"
          ]
        },
        {
          "output_type": "stream",
          "name": "stderr",
          "text": [
            "\rTrain:  40%|███▉      | 680/1720 [10:04<15:24,  1.13it/s, Average Loss=0.00845, Epoch=7]\n",
            "\n",
            "Train:   1%|          | 10/1720 [00:02<07:11,  3.96it/s]\u001b[A\n",
            "Train:   1%|          | 10/1720 [00:02<07:11,  3.96it/s, Average Loss=0.725, Epoch=0]\u001b[A\n",
            "Train:   1%|          | 20/1720 [00:05<07:44,  3.66it/s, Average Loss=0.725, Epoch=0]\u001b[A\n",
            "Train:   1%|          | 20/1720 [00:05<07:44,  3.66it/s, Average Loss=0.733, Epoch=0]\u001b[A\n",
            "Train:   2%|▏         | 30/1720 [00:08<08:03,  3.49it/s, Average Loss=0.733, Epoch=0]\u001b[A\n",
            "Train:   2%|▏         | 30/1720 [00:08<08:03,  3.49it/s, Average Loss=0.694, Epoch=0]\u001b[A\n",
            "Train:   2%|▏         | 40/1720 [00:11<07:56,  3.53it/s, Average Loss=0.694, Epoch=0]\u001b[A\n",
            "Train:   2%|▏         | 40/1720 [00:11<07:56,  3.53it/s, Average Loss=0.723, Epoch=0]\u001b[A\n",
            "Train:   3%|▎         | 50/1720 [00:13<07:40,  3.62it/s, Average Loss=0.723, Epoch=0]\u001b[A\n",
            "Train:   3%|▎         | 50/1720 [00:13<07:40,  3.62it/s, Average Loss=0.704, Epoch=0]\u001b[A\n",
            "Train:   3%|▎         | 60/1720 [00:16<07:35,  3.65it/s, Average Loss=0.704, Epoch=0]\u001b[A\n",
            "Train:   3%|▎         | 60/1720 [00:16<07:35,  3.65it/s, Average Loss=0.71, Epoch=0] \u001b[A\n",
            "Train:   4%|▍         | 70/1720 [00:19<07:48,  3.52it/s, Average Loss=0.71, Epoch=0]\u001b[A\n",
            "Train:   4%|▍         | 70/1720 [00:19<07:48,  3.52it/s, Average Loss=0.684, Epoch=0]\u001b[A\n",
            "Train:   5%|▍         | 80/1720 [00:22<07:55,  3.45it/s, Average Loss=0.684, Epoch=0]\u001b[A\n",
            "Train:   5%|▍         | 80/1720 [00:22<07:55,  3.45it/s, Average Loss=0.672, Epoch=0]\u001b[A"
          ]
        },
        {
          "output_type": "stream",
          "name": "stdout",
          "text": [
            "Validation: [Epoch: 0, Macro F1: 0.6342245989304813, Validation Loss: 0.6655450463294983, Time per Epoch: 25.86773920059204]\n",
            "Begin Epoch 1\n"
          ]
        },
        {
          "output_type": "stream",
          "name": "stderr",
          "text": [
            "\n",
            "Train:   5%|▌         | 90/1720 [00:32<13:48,  1.97it/s, Average Loss=0.672, Epoch=0]\u001b[A\n",
            "Train:   5%|▌         | 90/1720 [00:32<13:48,  1.97it/s, Average Loss=0.648, Epoch=1]\u001b[A\n",
            "Train:   6%|▌         | 100/1720 [00:35<11:37,  2.32it/s, Average Loss=0.648, Epoch=1]\u001b[A\n",
            "Train:   6%|▌         | 100/1720 [00:35<11:37,  2.32it/s, Average Loss=0.637, Epoch=1]\u001b[A\n",
            "Train:   6%|▋         | 110/1720 [00:37<10:04,  2.66it/s, Average Loss=0.637, Epoch=1]\u001b[A\n",
            "Train:   6%|▋         | 110/1720 [00:37<10:04,  2.66it/s, Average Loss=0.687, Epoch=1]\u001b[A\n",
            "Train:   7%|▋         | 120/1720 [00:40<08:58,  2.97it/s, Average Loss=0.687, Epoch=1]\u001b[A\n",
            "Train:   7%|▋         | 120/1720 [00:40<08:58,  2.97it/s, Average Loss=0.638, Epoch=1]\u001b[A\n",
            "Train:   8%|▊         | 130/1720 [00:42<08:11,  3.24it/s, Average Loss=0.638, Epoch=1]\u001b[A\n",
            "Train:   8%|▊         | 130/1720 [00:42<08:11,  3.24it/s, Average Loss=0.656, Epoch=1]\u001b[A\n",
            "Train:   8%|▊         | 140/1720 [00:44<07:38,  3.44it/s, Average Loss=0.656, Epoch=1]\u001b[A\n",
            "Train:   8%|▊         | 140/1720 [00:44<07:38,  3.44it/s, Average Loss=0.681, Epoch=1]\u001b[A\n",
            "Train:   9%|▊         | 150/1720 [00:47<07:15,  3.61it/s, Average Loss=0.681, Epoch=1]\u001b[A\n",
            "Train:   9%|▊         | 150/1720 [00:47<07:15,  3.61it/s, Average Loss=0.608, Epoch=1]\u001b[A\n",
            "Train:   9%|▉         | 160/1720 [00:49<06:59,  3.72it/s, Average Loss=0.608, Epoch=1]\u001b[A\n",
            "Train:   9%|▉         | 160/1720 [00:49<06:59,  3.72it/s, Average Loss=0.665, Epoch=1]\u001b[A\n",
            "Train:  10%|▉         | 170/1720 [00:52<06:51,  3.77it/s, Average Loss=0.665, Epoch=1]\u001b[A\n",
            "Train:  10%|▉         | 170/1720 [00:52<06:51,  3.77it/s, Average Loss=0.543, Epoch=1]\u001b[A"
          ]
        },
        {
          "output_type": "stream",
          "name": "stdout",
          "text": [
            "Validation: [Epoch: 1, Macro F1: 0.7035606704255812, Validation Loss: 0.5749877041036432, Time per Epoch: 22.83440613746643]\n",
            "Begin Epoch 2\n"
          ]
        },
        {
          "output_type": "stream",
          "name": "stderr",
          "text": [
            "\n",
            "Train:  10%|█         | 180/1720 [01:01<11:59,  2.14it/s, Average Loss=0.543, Epoch=1]\u001b[A\n",
            "Train:  10%|█         | 180/1720 [01:01<11:59,  2.14it/s, Average Loss=0.578, Epoch=2]\u001b[A\n",
            "Train:  11%|█         | 190/1720 [01:04<10:12,  2.50it/s, Average Loss=0.578, Epoch=2]\u001b[A\n",
            "Train:  11%|█         | 190/1720 [01:04<10:12,  2.50it/s, Average Loss=0.59, Epoch=2] \u001b[A\n",
            "Train:  12%|█▏        | 200/1720 [01:06<08:59,  2.82it/s, Average Loss=0.59, Epoch=2]\u001b[A\n",
            "Train:  12%|█▏        | 200/1720 [01:06<08:59,  2.82it/s, Average Loss=0.573, Epoch=2]\u001b[A\n",
            "Train:  12%|█▏        | 210/1720 [01:09<08:07,  3.10it/s, Average Loss=0.573, Epoch=2]\u001b[A\n",
            "Train:  12%|█▏        | 210/1720 [01:09<08:07,  3.10it/s, Average Loss=0.538, Epoch=2]\u001b[A\n",
            "Train:  13%|█▎        | 220/1720 [01:11<07:28,  3.34it/s, Average Loss=0.538, Epoch=2]\u001b[A\n",
            "Train:  13%|█▎        | 220/1720 [01:11<07:28,  3.34it/s, Average Loss=0.519, Epoch=2]\u001b[A\n",
            "Train:  13%|█▎        | 230/1720 [01:14<07:00,  3.54it/s, Average Loss=0.519, Epoch=2]\u001b[A\n",
            "Train:  13%|█▎        | 230/1720 [01:14<07:00,  3.54it/s, Average Loss=0.655, Epoch=2]\u001b[A\n",
            "Train:  14%|█▍        | 240/1720 [01:16<06:41,  3.69it/s, Average Loss=0.655, Epoch=2]\u001b[A\n",
            "Train:  14%|█▍        | 240/1720 [01:16<06:41,  3.69it/s, Average Loss=0.576, Epoch=2]\u001b[A\n",
            "Train:  15%|█▍        | 250/1720 [01:19<06:27,  3.80it/s, Average Loss=0.576, Epoch=2]\u001b[A\n",
            "Train:  15%|█▍        | 250/1720 [01:19<06:27,  3.80it/s, Average Loss=0.455, Epoch=2]\u001b[A"
          ]
        },
        {
          "output_type": "stream",
          "name": "stdout",
          "text": [
            "Validation: [Epoch: 2, Macro F1: 0.7251461988304094, Validation Loss: 0.6432367725805803, Time per Epoch: 22.42803120613098]\n",
            "Begin Epoch 3\n"
          ]
        },
        {
          "output_type": "stream",
          "name": "stderr",
          "text": [
            "\n",
            "Train:  15%|█▌        | 260/1720 [01:28<11:09,  2.18it/s, Average Loss=0.455, Epoch=2]\u001b[A\n",
            "Train:  15%|█▌        | 260/1720 [01:28<11:09,  2.18it/s, Average Loss=0.403, Epoch=3]\u001b[A\n",
            "Train:  16%|█▌        | 270/1720 [01:30<09:30,  2.54it/s, Average Loss=0.403, Epoch=3]\u001b[A\n",
            "Train:  16%|█▌        | 270/1720 [01:30<09:30,  2.54it/s, Average Loss=0.541, Epoch=3]\u001b[A\n",
            "Train:  16%|█▋        | 280/1720 [01:33<08:21,  2.87it/s, Average Loss=0.541, Epoch=3]\u001b[A\n",
            "Train:  16%|█▋        | 280/1720 [01:33<08:21,  2.87it/s, Average Loss=0.493, Epoch=3]\u001b[A\n",
            "Train:  17%|█▋        | 290/1720 [01:35<07:35,  3.14it/s, Average Loss=0.493, Epoch=3]\u001b[A\n",
            "Train:  17%|█▋        | 290/1720 [01:35<07:35,  3.14it/s, Average Loss=0.462, Epoch=3]\u001b[A\n",
            "Train:  17%|█▋        | 300/1720 [01:38<07:02,  3.36it/s, Average Loss=0.462, Epoch=3]\u001b[A\n",
            "Train:  17%|█▋        | 300/1720 [01:38<07:02,  3.36it/s, Average Loss=0.483, Epoch=3]\u001b[A\n",
            "Train:  18%|█▊        | 310/1720 [01:40<06:37,  3.54it/s, Average Loss=0.483, Epoch=3]\u001b[A\n",
            "Train:  18%|█▊        | 310/1720 [01:40<06:37,  3.54it/s, Average Loss=0.458, Epoch=3]\u001b[A\n",
            "Train:  19%|█▊        | 320/1720 [01:42<06:19,  3.69it/s, Average Loss=0.458, Epoch=3]\u001b[A\n",
            "Train:  19%|█▊        | 320/1720 [01:42<06:19,  3.69it/s, Average Loss=0.475, Epoch=3]\u001b[A\n",
            "Train:  19%|█▉        | 330/1720 [01:45<06:05,  3.80it/s, Average Loss=0.475, Epoch=3]\u001b[A\n",
            "Train:  19%|█▉        | 330/1720 [01:45<06:05,  3.80it/s, Average Loss=0.437, Epoch=3]\u001b[A\n",
            "Train:  20%|█▉        | 340/1720 [01:47<06:01,  3.82it/s, Average Loss=0.437, Epoch=3]\u001b[A\n",
            "Train:  20%|█▉        | 340/1720 [01:47<06:01,  3.82it/s, Average Loss=0.303, Epoch=3]\u001b[A"
          ]
        },
        {
          "output_type": "stream",
          "name": "stdout",
          "text": [
            "Validation: [Epoch: 3, Macro F1: 0.7309849521203831, Validation Loss: 0.7389390712434595, Time per Epoch: 24.101282835006714]\n",
            "Begin Epoch 4\n"
          ]
        },
        {
          "output_type": "stream",
          "name": "stderr",
          "text": [
            "\n",
            "Train:  20%|██        | 350/1720 [01:58<11:40,  1.96it/s, Average Loss=0.303, Epoch=3]\u001b[A\n",
            "Train:  20%|██        | 350/1720 [01:58<11:40,  1.96it/s, Average Loss=0.321, Epoch=4]\u001b[A\n",
            "Train:  21%|██        | 360/1720 [02:01<09:45,  2.32it/s, Average Loss=0.321, Epoch=4]\u001b[A\n",
            "Train:  21%|██        | 360/1720 [02:01<09:45,  2.32it/s, Average Loss=0.33, Epoch=4] \u001b[A\n",
            "Train:  22%|██▏       | 370/1720 [02:03<08:25,  2.67it/s, Average Loss=0.33, Epoch=4]\u001b[A\n",
            "Train:  22%|██▏       | 370/1720 [02:03<08:25,  2.67it/s, Average Loss=0.378, Epoch=4]\u001b[A\n",
            "Train:  22%|██▏       | 380/1720 [02:06<07:31,  2.97it/s, Average Loss=0.378, Epoch=4]\u001b[A\n",
            "Train:  22%|██▏       | 380/1720 [02:06<07:31,  2.97it/s, Average Loss=0.336, Epoch=4]\u001b[A\n",
            "Train:  23%|██▎       | 390/1720 [02:08<06:53,  3.22it/s, Average Loss=0.336, Epoch=4]\u001b[A\n",
            "Train:  23%|██▎       | 390/1720 [02:08<06:53,  3.22it/s, Average Loss=0.494, Epoch=4]\u001b[A\n",
            "Train:  23%|██▎       | 400/1720 [02:11<06:23,  3.44it/s, Average Loss=0.494, Epoch=4]\u001b[A\n",
            "Train:  23%|██▎       | 400/1720 [02:11<06:23,  3.44it/s, Average Loss=0.277, Epoch=4]\u001b[A\n",
            "Train:  24%|██▍       | 410/1720 [02:13<06:03,  3.61it/s, Average Loss=0.277, Epoch=4]\u001b[A\n",
            "Train:  24%|██▍       | 410/1720 [02:13<06:03,  3.61it/s, Average Loss=0.333, Epoch=4]\u001b[A\n",
            "Train:  24%|██▍       | 420/1720 [02:16<05:47,  3.74it/s, Average Loss=0.333, Epoch=4]\u001b[A\n",
            "Train:  24%|██▍       | 420/1720 [02:16<05:47,  3.74it/s, Average Loss=0.221, Epoch=4]\u001b[A\n",
            "Train:  25%|██▌       | 430/1720 [02:18<05:32,  3.89it/s, Average Loss=0.221, Epoch=4]\u001b[A\n",
            "Train:  25%|██▌       | 430/1720 [02:18<05:32,  3.89it/s, Average Loss=0.26, Epoch=4] \u001b[A"
          ]
        },
        {
          "output_type": "stream",
          "name": "stdout",
          "text": [
            "Validation: [Epoch: 4, Macro F1: 0.6955670286629874, Validation Loss: 1.1621642058545893, Time per Epoch: 22.402525901794434]\n",
            "Begin Epoch 5\n"
          ]
        },
        {
          "output_type": "stream",
          "name": "stderr",
          "text": [
            "\n",
            "Train:  26%|██▌       | 440/1720 [02:22<06:18,  3.38it/s, Average Loss=0.26, Epoch=4]\u001b[A\n",
            "Train:  26%|██▌       | 440/1720 [02:22<06:18,  3.38it/s, Average Loss=0.264, Epoch=5]\u001b[A\n",
            "Train:  26%|██▌       | 450/1720 [02:24<05:57,  3.56it/s, Average Loss=0.264, Epoch=5]\u001b[A\n",
            "Train:  26%|██▌       | 450/1720 [02:24<05:57,  3.56it/s, Average Loss=0.287, Epoch=5]\u001b[A\n",
            "Train:  27%|██▋       | 460/1720 [02:27<05:41,  3.69it/s, Average Loss=0.287, Epoch=5]\u001b[A\n",
            "Train:  27%|██▋       | 460/1720 [02:27<05:41,  3.69it/s, Average Loss=0.383, Epoch=5]\u001b[A\n",
            "Train:  27%|██▋       | 470/1720 [02:29<05:29,  3.80it/s, Average Loss=0.383, Epoch=5]\u001b[A\n",
            "Train:  27%|██▋       | 470/1720 [02:29<05:29,  3.80it/s, Average Loss=0.272, Epoch=5]\u001b[A\n",
            "Train:  28%|██▊       | 480/1720 [02:32<05:19,  3.88it/s, Average Loss=0.272, Epoch=5]\u001b[A\n",
            "Train:  28%|██▊       | 480/1720 [02:32<05:19,  3.88it/s, Average Loss=0.249, Epoch=5]\u001b[A\n",
            "Train:  28%|██▊       | 490/1720 [02:34<05:13,  3.92it/s, Average Loss=0.249, Epoch=5]\u001b[A\n",
            "Train:  28%|██▊       | 490/1720 [02:34<05:13,  3.92it/s, Average Loss=0.243, Epoch=5]\u001b[A\n",
            "Train:  29%|██▉       | 500/1720 [02:37<05:09,  3.94it/s, Average Loss=0.243, Epoch=5]\u001b[A\n",
            "Train:  29%|██▉       | 500/1720 [02:37<05:09,  3.94it/s, Average Loss=0.177, Epoch=5]\u001b[A\n",
            "Train:  30%|██▉       | 510/1720 [02:39<05:04,  3.97it/s, Average Loss=0.177, Epoch=5]\u001b[A\n",
            "Train:  30%|██▉       | 510/1720 [02:39<05:04,  3.97it/s, Average Loss=0.112, Epoch=5]\u001b[A"
          ]
        },
        {
          "output_type": "stream",
          "name": "stdout",
          "text": [
            "Validation: [Epoch: 5, Macro F1: 0.6946428571428571, Validation Loss: 1.1958318515257402, Time per Epoch: 22.45686149597168]\n",
            "Begin Epoch 6\n"
          ]
        },
        {
          "output_type": "stream",
          "name": "stderr",
          "text": [
            "\n",
            "Train:  30%|███       | 520/1720 [02:43<05:42,  3.51it/s, Average Loss=0.112, Epoch=5]\u001b[A\n",
            "Train:  30%|███       | 520/1720 [02:43<05:42,  3.51it/s, Average Loss=0.129, Epoch=6]\u001b[A\n",
            "Train:  31%|███       | 530/1720 [02:45<05:24,  3.67it/s, Average Loss=0.129, Epoch=6]\u001b[A\n",
            "Train:  31%|███       | 530/1720 [02:45<05:24,  3.67it/s, Average Loss=0.104, Epoch=6]\u001b[A\n",
            "Train:  31%|███▏      | 540/1720 [02:48<05:12,  3.78it/s, Average Loss=0.104, Epoch=6]\u001b[A\n",
            "Train:  31%|███▏      | 540/1720 [02:48<05:12,  3.78it/s, Average Loss=0.33, Epoch=6] \u001b[A\n",
            "Train:  32%|███▏      | 550/1720 [02:50<05:03,  3.85it/s, Average Loss=0.33, Epoch=6]\u001b[A\n",
            "Train:  32%|███▏      | 550/1720 [02:50<05:03,  3.85it/s, Average Loss=0.239, Epoch=6]\u001b[A\n",
            "Train:  33%|███▎      | 560/1720 [02:53<04:57,  3.90it/s, Average Loss=0.239, Epoch=6]\u001b[A\n",
            "Train:  33%|███▎      | 560/1720 [02:53<04:57,  3.90it/s, Average Loss=0.278, Epoch=6]\u001b[A\n",
            "Train:  33%|███▎      | 570/1720 [02:55<04:50,  3.95it/s, Average Loss=0.278, Epoch=6]\u001b[A\n",
            "Train:  33%|███▎      | 570/1720 [02:55<04:50,  3.95it/s, Average Loss=0.122, Epoch=6]\u001b[A\n",
            "Train:  34%|███▎      | 580/1720 [02:57<04:45,  4.00it/s, Average Loss=0.122, Epoch=6]\u001b[A\n",
            "Train:  34%|███▎      | 580/1720 [02:58<04:45,  4.00it/s, Average Loss=0.183, Epoch=6]\u001b[A\n",
            "Train:  34%|███▍      | 590/1720 [03:00<04:40,  4.03it/s, Average Loss=0.183, Epoch=6]\u001b[A\n",
            "Train:  34%|███▍      | 590/1720 [03:00<04:40,  4.03it/s, Average Loss=0.115, Epoch=6]\u001b[A\n",
            "Train:  35%|███▍      | 600/1720 [03:02<04:36,  4.05it/s, Average Loss=0.115, Epoch=6]\u001b[A\n",
            "Train:  35%|███▍      | 600/1720 [03:02<04:36,  4.05it/s, Average Loss=0.191, Epoch=6]\u001b[A"
          ]
        },
        {
          "output_type": "stream",
          "name": "stdout",
          "text": [
            "Validation: [Epoch: 6, Macro F1: 0.6989731051344743, Validation Loss: 1.284027869051153, Time per Epoch: 22.30501079559326]\n",
            "Begin Epoch 7\n"
          ]
        },
        {
          "output_type": "stream",
          "name": "stderr",
          "text": [
            "\n",
            "Train:  35%|███▌      | 610/1720 [03:06<05:14,  3.53it/s, Average Loss=0.191, Epoch=6]\u001b[A\n",
            "Train:  35%|███▌      | 610/1720 [03:06<05:14,  3.53it/s, Average Loss=0.206, Epoch=7]\u001b[A\n",
            "Train:  36%|███▌      | 620/1720 [03:09<04:59,  3.67it/s, Average Loss=0.206, Epoch=7]\u001b[A\n",
            "Train:  36%|███▌      | 620/1720 [03:09<04:59,  3.67it/s, Average Loss=0.293, Epoch=7]\u001b[A\n",
            "Train:  37%|███▋      | 630/1720 [03:11<04:47,  3.79it/s, Average Loss=0.293, Epoch=7]\u001b[A\n",
            "Train:  37%|███▋      | 630/1720 [03:11<04:47,  3.79it/s, Average Loss=0.187, Epoch=7]\u001b[A\n",
            "Train:  37%|███▋      | 640/1720 [03:13<04:38,  3.88it/s, Average Loss=0.187, Epoch=7]\u001b[A\n",
            "Train:  37%|███▋      | 640/1720 [03:13<04:38,  3.88it/s, Average Loss=0.0946, Epoch=7]\u001b[A\n",
            "Train:  38%|███▊      | 650/1720 [03:16<04:31,  3.94it/s, Average Loss=0.0946, Epoch=7]\u001b[A\n",
            "Train:  38%|███▊      | 650/1720 [03:16<04:31,  3.94it/s, Average Loss=0.166, Epoch=7] \u001b[A\n",
            "Train:  38%|███▊      | 660/1720 [03:18<04:26,  3.98it/s, Average Loss=0.166, Epoch=7]\u001b[A\n",
            "Train:  38%|███▊      | 660/1720 [03:18<04:26,  3.98it/s, Average Loss=0.061, Epoch=7]\u001b[A\n",
            "Train:  39%|███▉      | 670/1720 [03:21<04:23,  3.99it/s, Average Loss=0.061, Epoch=7]\u001b[A\n",
            "Train:  39%|███▉      | 670/1720 [03:21<04:23,  3.99it/s, Average Loss=0.0698, Epoch=7]\u001b[A\n",
            "Train:  40%|███▉      | 680/1720 [03:23<04:18,  4.02it/s, Average Loss=0.0698, Epoch=7]\u001b[A\n",
            "Train:  40%|███▉      | 680/1720 [03:23<04:18,  4.02it/s, Average Loss=0.0772, Epoch=7]\u001b[A"
          ]
        },
        {
          "output_type": "stream",
          "name": "stdout",
          "text": [
            "Validation: [Epoch: 7, Macro F1: 0.7249957228400343, Validation Loss: 1.2322577319361947, Time per Epoch: 22.285194873809814]\n",
            "Begin Epoch 8\n"
          ]
        },
        {
          "output_type": "stream",
          "name": "stderr",
          "text": [
            "\n",
            "Train:  40%|████      | 690/1720 [03:27<04:50,  3.54it/s, Average Loss=0.0772, Epoch=7]\u001b[A\n",
            "Train:  40%|████      | 690/1720 [03:27<04:50,  3.54it/s, Average Loss=0.0856, Epoch=8]\u001b[A\n",
            "Train:  41%|████      | 700/1720 [03:29<04:37,  3.68it/s, Average Loss=0.0856, Epoch=8]\u001b[A\n",
            "Train:  41%|████      | 700/1720 [03:29<04:37,  3.68it/s, Average Loss=0.0561, Epoch=8]\u001b[A\n",
            "Train:  41%|████▏     | 710/1720 [03:32<04:27,  3.77it/s, Average Loss=0.0561, Epoch=8]\u001b[A\n",
            "Train:  41%|████▏     | 710/1720 [03:32<04:27,  3.77it/s, Average Loss=0.079, Epoch=8] \u001b[A\n",
            "Train:  42%|████▏     | 720/1720 [03:34<04:21,  3.83it/s, Average Loss=0.079, Epoch=8]\u001b[A\n",
            "Train:  42%|████▏     | 720/1720 [03:34<04:21,  3.83it/s, Average Loss=0.018, Epoch=8]\u001b[A\n",
            "Train:  42%|████▏     | 730/1720 [03:37<04:14,  3.88it/s, Average Loss=0.018, Epoch=8]\u001b[A\n",
            "Train:  42%|████▏     | 730/1720 [03:37<04:14,  3.88it/s, Average Loss=0.026, Epoch=8]\u001b[A\n",
            "Train:  43%|████▎     | 740/1720 [03:39<04:08,  3.95it/s, Average Loss=0.026, Epoch=8]\u001b[A\n",
            "Train:  43%|████▎     | 740/1720 [03:39<04:08,  3.95it/s, Average Loss=0.0363, Epoch=8]\u001b[A\n",
            "Train:  44%|████▎     | 750/1720 [03:42<04:02,  3.99it/s, Average Loss=0.0363, Epoch=8]\u001b[A\n",
            "Train:  44%|████▎     | 750/1720 [03:42<04:02,  3.99it/s, Average Loss=0.0368, Epoch=8]\u001b[A\n",
            "Train:  44%|████▍     | 760/1720 [03:44<03:58,  4.02it/s, Average Loss=0.0368, Epoch=8]\u001b[A\n",
            "Train:  44%|████▍     | 760/1720 [03:44<03:58,  4.02it/s, Average Loss=0.00646, Epoch=8]\u001b[A\n",
            "Train:  45%|████▍     | 770/1720 [03:47<03:54,  4.05it/s, Average Loss=0.00646, Epoch=8]\u001b[A\n",
            "Train:  45%|████▍     | 770/1720 [03:47<03:54,  4.05it/s, Average Loss=0.0112, Epoch=8] \u001b[A"
          ]
        },
        {
          "output_type": "stream",
          "name": "stdout",
          "text": [
            "Validation: [Epoch: 8, Macro F1: 0.7118122388880511, Validation Loss: 1.875151509588415, Time per Epoch: 22.419679641723633]\n",
            "Training stopped early at Epoch: 8\n"
          ]
        }
      ],
      "source": [
        "pbar = tqdm(total=num_training_steps, desc=\"Train\")\n",
        "for epoch in range(EPOCHS):\n",
        "    print(f\"Begin Epoch {epoch}\")\n",
        "    epoch_start_time = time.time()\n",
        "    for step, batch in enumerate(train_loader):\n",
        "        batch = {k: v.to(device) for k, v in batch.items()}\n",
        "        outputs = model(**batch)\n",
        "        loss = outputs.loss\n",
        "        loss = loss / gradient_accumulation_steps\n",
        "        loss.backward()\n",
        "        tot_loss += loss.item()\n",
        "        actual_step += 1\n",
        "\n",
        "        if actual_step % gradient_accumulation_steps == 0:\n",
        "            torch.nn.utils.clip_grad_norm_(model.parameters(), max_grad_norm)\n",
        "            glb_step += 1\n",
        "\n",
        "            if glb_step % pbar_update_freq == 0:\n",
        "                aveloss = (tot_loss - log_loss)/pbar_update_freq\n",
        "                pbar.update(pbar_update_freq)\n",
        "                pbar.set_postfix({'Average Loss': aveloss, \"Epoch\": epoch})\n",
        "                log_loss = tot_loss\n",
        "\n",
        "            if optimizer is not None:\n",
        "                optimizer.step()\n",
        "                optimizer.zero_grad()\n",
        "            if scheduler is not None:\n",
        "                scheduler.step()\n",
        "\n",
        "        if glb_step > num_training_steps:\n",
        "            leave_training = True\n",
        "            break\n",
        "\n",
        "    val_acc, val_loss = calculate_loss_and_f1(model, validation_loader)\n",
        "    epoch_traces.append(epoch)\n",
        "    acc_traces.append(val_acc)\n",
        "    validation_loss_traces.append(val_loss)\n",
        "    print(\"Validation: [Epoch: {}, Macro F1: {}, Validation Loss: {}, Time per Epoch: {}]\".format(epoch, val_acc, val_loss, time.time()-epoch_start_time), flush=True)\n",
        "\n",
        "    if val_acc > best_val_acc:\n",
        "        torch.save(model.state_dict(),f\"best_model.ckpt\")\n",
        "        best_val_acc = val_acc\n",
        "        best_epoch = epoch\n",
        "\n",
        "    elif (epoch - best_epoch) >= early_stop_epoch_thresh:\n",
        "        print(\"Training stopped early at Epoch: %d\" % epoch)\n",
        "        break  # Terminate the training loop\n",
        "\n",
        "    if leave_training:\n",
        "        break"
      ]
    },
    {
      "cell_type": "code",
      "execution_count": 165,
      "metadata": {
        "id": "hzB2Rn4-GXSS",
        "colab": {
          "base_uri": "https://localhost:8080/"
        },
        "outputId": "08820cfe-178f-46ac-d4af-7a1882903e67"
      },
      "outputs": [
        {
          "output_type": "stream",
          "name": "stdout",
          "text": [
            "Done\n"
          ]
        }
      ],
      "source": [
        "model.load_state_dict(torch.load(f\"best_model.ckpt\"))\n",
        "model.cuda()\n",
        "print(\"Done\")"
      ]
    },
    {
      "cell_type": "code",
      "execution_count": 166,
      "metadata": {
        "id": "9U5FrKYZGZnZ",
        "colab": {
          "base_uri": "https://localhost:8080/"
        },
        "outputId": "4c29b2ea-8f3b-4a0b-a2f0-8071bc9e1b39"
      },
      "outputs": [
        {
          "output_type": "execute_result",
          "data": {
            "text/plain": [
              "{'accuracy': 0.7309941520467836,\n",
              " 'precision': 0.7317211429449857,\n",
              " 'recall': 0.7309941520467836,\n",
              " 'f1': 0.7309573523411813,\n",
              " 'macro_precision': 0.7314485213581599,\n",
              " 'macro_recall': 0.7313218390804598,\n",
              " 'macro_f1': 0.7309849521203831}"
            ]
          },
          "metadata": {},
          "execution_count": 166
        }
      ],
      "source": [
        "evaluate(model, validation_loader)"
      ]
    },
    {
      "cell_type": "code",
      "execution_count": 167,
      "metadata": {
        "id": "zE3UzWNHGcnM",
        "colab": {
          "base_uri": "https://localhost:8080/",
          "height": 472
        },
        "outputId": "a3cd13ae-12b4-4a10-ef3c-44068f3b3820"
      },
      "outputs": [
        {
          "output_type": "display_data",
          "data": {
            "text/plain": [
              "<Figure size 640x480 with 1 Axes>"
            ],
            "image/png": "[encoded data removed]"
          },
          "metadata": {}
        }
      ],
      "source": [
        "plt.plot(range(len(epoch_traces)), acc_traces)\n",
        "plt.xlabel('Epoch')\n",
        "plt.ylabel('Macro F1-Score')\n",
        "plt.title('Epoch vs Validation Macro F1-Score')\n",
        "plt.xticks(range(len(epoch_traces)), epoch_traces)\n",
        "plt.show()"
      ]
    },
    {
      "cell_type": "code",
      "execution_count": 168,
      "metadata": {
        "id": "y1y6enP6GewI",
        "colab": {
          "base_uri": "https://localhost:8080/",
          "height": 472
        },
        "outputId": "c290f46a-e92d-4d96-8539-a722288a7575"
      },
      "outputs": [
        {
          "output_type": "display_data",
          "data": {
            "text/plain": [
              "<Figure size 640x480 with 1 Axes>"
            ],
            "image/png": "[encoded data removed]"
          },
          "metadata": {}
        }
      ],
      "source": [
        "plt.plot(range(len(epoch_traces)), validation_loss_traces)\n",
        "plt.xlabel('Epoch')\n",
        "plt.ylabel('Loss')\n",
        "plt.title('Epoch vs Validation Loss')\n",
        "plt.xticks(range(len(epoch_traces)), epoch_traces)\n",
        "plt.show()"
      ]
    },
    {
      "cell_type": "code",
      "execution_count": 169,
      "metadata": {
        "id": "q9Aw8Z2vGgyh",
        "colab": {
          "base_uri": "https://localhost:8080/"
        },
        "outputId": "d650101b-271e-4ccf-bb55-41b82e73aa99"
      },
      "outputs": [
        {
          "output_type": "execute_result",
          "data": {
            "text/plain": [
              "{'accuracy': 0.7017543859649122,\n",
              " 'precision': 0.7051599016884571,\n",
              " 'recall': 0.7017543859649122,\n",
              " 'f1': 0.7010392176659791,\n",
              " 'macro_precision': 0.7046490743299254,\n",
              " 'macro_recall': 0.7026888341543513,\n",
              " 'macro_f1': 0.701253768155659}"
            ]
          },
          "metadata": {},
          "execution_count": 169
        }
      ],
      "source": [
        "evaluate(model, test_loader)"
      ]
    },
    {
      "cell_type": "code",
      "execution_count": 170,
      "metadata": {
        "id": "dNMicbCTGi7_"
      },
      "outputs": [],
      "source": [
        "# evaluate(model, test_loader_latin)"
      ]
    },
    {
      "cell_type": "code",
      "execution_count": 171,
      "metadata": {
        "id": "C0_4LABCGk91"
      },
      "outputs": [],
      "source": [
        "# evaluate(model, test_loader_Sinhala)"
      ]
    },
    {
      "cell_type": "code",
      "execution_count": 172,
      "metadata": {
        "id": "5xfCBwDKGm9M"
      },
      "outputs": [],
      "source": [
        "# evaluate(model, test_loader_Mixed)"
      ]
    },
    {
      "cell_type": "code",
      "execution_count": 172,
      "metadata": {
        "id": "FZjKnNRK_dDo"
      },
      "outputs": [],
      "source": []
    }
  ],
  "metadata": {
    "accelerator": "GPU",
    "colab": {
      "provenance": [],
      "include_colab_link": true
    },
    "gpuClass": "standard",
    "kernelspec": {
      "display_name": "Python 3",
      "language": "python",
      "name": "python3"
    },
    "language_info": {
      "codemirror_mode": {
        "name": "ipython",
        "version": 3
      },
      "file_extension": ".py",
      "mimetype": "text/x-python",
      "name": "python",
      "nbconvert_exporter": "python",
      "pygments_lexer": "ipython3",
      "version": "3.7.12"
    }
  },
  "nbformat": 4,
  "nbformat_minor": 0
}