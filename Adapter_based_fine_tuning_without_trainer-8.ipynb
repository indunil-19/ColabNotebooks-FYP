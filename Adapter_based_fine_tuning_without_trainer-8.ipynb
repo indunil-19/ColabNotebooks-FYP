{
  "cells": [
    {
      "cell_type": "markdown",
      "metadata": {
        "id": "view-in-github",
        "colab_type": "text"
      },
      "source": [
        "<a href=\"https://colab.research.google.com/github/indunil-19/ColabNotebooks-FYP/blob/main/Adapter_based_fine_tuning_without_trainer-8.ipynb\" target=\"_parent\"><img src=\"https://colab.research.google.com/assets/colab-badge.svg\" alt=\"Open In Colab\"/></a>"
      ]
    },
    {
      "cell_type": "markdown",
      "metadata": {
        "id": "eoL8-pXx9z7c"
      },
      "source": [
        "## Training Single Task Adapters\n",
        "For Bert SinBert and XLM-R Models"
      ]
    },
    {
      "cell_type": "code",
      "execution_count": 60,
      "metadata": {
        "colab": {
          "base_uri": "https://localhost:8080/",
          "height": 52
        },
        "id": "KSLx_mnliOvH",
        "outputId": "18155906-11f9-4927-a4bb-de7663e94336"
      },
      "outputs": [
        {
          "output_type": "stream",
          "name": "stdout",
          "text": [
            "GPU Device name\n"
          ]
        },
        {
          "output_type": "execute_result",
          "data": {
            "text/plain": [
              "'Tesla T4'"
            ],
            "application/vnd.google.colaboratory.intrinsic+json": {
              "type": "string"
            }
          },
          "metadata": {},
          "execution_count": 60
        }
      ],
      "source": [
        "import torch\n",
        "print(\"GPU Device name\")\n",
        "torch.cuda.get_device_name(0)"
      ]
    },
    {
      "cell_type": "code",
      "execution_count": 61,
      "metadata": {
        "id": "qGOfIYJ3Tnm-",
        "colab": {
          "base_uri": "https://localhost:8080/"
        },
        "outputId": "dd072a65-5ddf-4e52-8e10-c1e1f908362d"
      },
      "outputs": [
        {
          "output_type": "stream",
          "name": "stdout",
          "text": [
            "Drive already mounted at /content/drive; to attempt to forcibly remount, call drive.mount(\"/content/drive\", force_remount=True).\n"
          ]
        }
      ],
      "source": [
        "from google.colab import drive\n",
        "drive.mount('/content/drive')"
      ]
    },
    {
      "cell_type": "markdown",
      "metadata": {
        "id": "CCdvw5JNlygg"
      },
      "source": [
        "### **Parameters**"
      ]
    },
    {
      "cell_type": "code",
      "execution_count": 62,
      "metadata": {
        "id": "6LjxhVXklun6"
      },
      "outputs": [],
      "source": [
        "technique = \"Sentiment\"\n",
        "experiment_no = \"1\"\n",
        "oversample_dataset = False\n",
        "over_sampling_technique = \"ROS\"\n",
        "sampling_strategy = \"1:0.25:0.25\"\n",
        "validation_size = (1/9)\n",
        "test_size = 0.1\n",
        "split_random_state = 42\n",
        "training_seed = 42 #@param [ 8, 42, 77]\n",
        "NO_OUTPUT_LAYERS = 4\n",
        "id2label={ 0: \"Negative\", 1: \"Neutral\", 2: \"Positive\", 3:\"Conflict\"}\n",
        "tag_set = [\"Positive\", \"Negative\", \"Neutral\", \"Conflict\"]\n",
        "script=\"Char-Script-1.0\"\n",
        "\n",
        "\n",
        "load_adapter = False #@param {type:\"boolean\"}\n",
        "unfreeze_model = False #@param {type:\"boolean\"}\n",
        "save_adapter = False #@param {type:\"boolean\"}\n",
        "lang_adapter_setting = \"parallel\" #@param [\"none\", \"stack\", \"parallel\"]\n",
        "adapter_config = \"houlsby\" #@param [\"houlsby\", \"pfeiffer\"]"
      ]
    },
    {
      "cell_type": "code",
      "execution_count": 63,
      "metadata": {
        "id": "Z5zzz0_5IxVc"
      },
      "outputs": [],
      "source": [
        "MAX_LEN = 128\n",
        "BATCH_SIZE = 32\n",
        "LEARNING_RATE = 5e-4\n",
        "EPOCHS = 20"
      ]
    },
    {
      "cell_type": "code",
      "execution_count": 64,
      "metadata": {
        "id": "KanOOHjzWI7b"
      },
      "outputs": [],
      "source": [
        "# technique=\"hate\"\n",
        "pretrained_adapter_path = \"/content/drive/Shareddrives/Lingua/Final/\"+technique #+ \"_\" + str(random_state)"
      ]
    },
    {
      "cell_type": "markdown",
      "metadata": {
        "id": "3L9gYpCV28OA"
      },
      "source": [
        "### Installation"
      ]
    },
    {
      "cell_type": "code",
      "execution_count": 65,
      "metadata": {
        "id": "qL3Sq1HQynCq",
        "colab": {
          "base_uri": "https://localhost:8080/"
        },
        "outputId": "38d0e6ae-e926-4d01-cf16-b38df6b144f7"
      },
      "outputs": [
        {
          "output_type": "stream",
          "name": "stdout",
          "text": [
            "Requirement already satisfied: adapter-transformers==3.1.0 in /usr/local/lib/python3.10/dist-packages (3.1.0)\n",
            "Requirement already satisfied: filelock in /usr/local/lib/python3.10/dist-packages (from adapter-transformers==3.1.0) (3.13.1)\n",
            "Requirement already satisfied: huggingface-hub<1.0,>=0.1.0 in /usr/local/lib/python3.10/dist-packages (from adapter-transformers==3.1.0) (0.19.4)\n",
            "Requirement already satisfied: numpy>=1.17 in /usr/local/lib/python3.10/dist-packages (from adapter-transformers==3.1.0) (1.23.5)\n",
            "Requirement already satisfied: packaging>=20.0 in /usr/local/lib/python3.10/dist-packages (from adapter-transformers==3.1.0) (23.2)\n",
            "Requirement already satisfied: pyyaml>=5.1 in /usr/local/lib/python3.10/dist-packages (from adapter-transformers==3.1.0) (6.0.1)\n",
            "Requirement already satisfied: regex!=2019.12.17 in /usr/local/lib/python3.10/dist-packages (from adapter-transformers==3.1.0) (2023.6.3)\n",
            "Requirement already satisfied: requests in /usr/local/lib/python3.10/dist-packages (from adapter-transformers==3.1.0) (2.31.0)\n",
            "Requirement already satisfied: tokenizers!=0.11.3,<0.13,>=0.11.1 in /usr/local/lib/python3.10/dist-packages (from adapter-transformers==3.1.0) (0.12.1)\n",
            "Requirement already satisfied: tqdm>=4.27 in /usr/local/lib/python3.10/dist-packages (from adapter-transformers==3.1.0) (4.66.1)\n",
            "Requirement already satisfied: fsspec>=2023.5.0 in /usr/local/lib/python3.10/dist-packages (from huggingface-hub<1.0,>=0.1.0->adapter-transformers==3.1.0) (2023.6.0)\n",
            "Requirement already satisfied: typing-extensions>=3.7.4.3 in /usr/local/lib/python3.10/dist-packages (from huggingface-hub<1.0,>=0.1.0->adapter-transformers==3.1.0) (4.5.0)\n",
            "Requirement already satisfied: charset-normalizer<4,>=2 in /usr/local/lib/python3.10/dist-packages (from requests->adapter-transformers==3.1.0) (3.3.2)\n",
            "Requirement already satisfied: idna<4,>=2.5 in /usr/local/lib/python3.10/dist-packages (from requests->adapter-transformers==3.1.0) (3.4)\n",
            "Requirement already satisfied: urllib3<3,>=1.21.1 in /usr/local/lib/python3.10/dist-packages (from requests->adapter-transformers==3.1.0) (2.0.7)\n",
            "Requirement already satisfied: certifi>=2017.4.17 in /usr/local/lib/python3.10/dist-packages (from requests->adapter-transformers==3.1.0) (2023.7.22)\n",
            "Requirement already satisfied: datasets in /usr/local/lib/python3.10/dist-packages (2.15.0)\n",
            "Requirement already satisfied: numpy>=1.17 in /usr/local/lib/python3.10/dist-packages (from datasets) (1.23.5)\n",
            "Requirement already satisfied: pyarrow>=8.0.0 in /usr/local/lib/python3.10/dist-packages (from datasets) (9.0.0)\n",
            "Requirement already satisfied: pyarrow-hotfix in /usr/local/lib/python3.10/dist-packages (from datasets) (0.6)\n",
            "Requirement already satisfied: dill<0.3.8,>=0.3.0 in /usr/local/lib/python3.10/dist-packages (from datasets) (0.3.7)\n",
            "Requirement already satisfied: pandas in /usr/local/lib/python3.10/dist-packages (from datasets) (1.5.3)\n",
            "Requirement already satisfied: requests>=2.19.0 in /usr/local/lib/python3.10/dist-packages (from datasets) (2.31.0)\n",
            "Requirement already satisfied: tqdm>=4.62.1 in /usr/local/lib/python3.10/dist-packages (from datasets) (4.66.1)\n",
            "Requirement already satisfied: xxhash in /usr/local/lib/python3.10/dist-packages (from datasets) (3.4.1)\n",
            "Requirement already satisfied: multiprocess in /usr/local/lib/python3.10/dist-packages (from datasets) (0.70.15)\n",
            "Requirement already satisfied: fsspec[http]<=2023.10.0,>=2023.1.0 in /usr/local/lib/python3.10/dist-packages (from datasets) (2023.6.0)\n",
            "Requirement already satisfied: aiohttp in /usr/local/lib/python3.10/dist-packages (from datasets) (3.8.6)\n",
            "Requirement already satisfied: huggingface-hub>=0.18.0 in /usr/local/lib/python3.10/dist-packages (from datasets) (0.19.4)\n",
            "Requirement already satisfied: packaging in /usr/local/lib/python3.10/dist-packages (from datasets) (23.2)\n",
            "Requirement already satisfied: pyyaml>=5.1 in /usr/local/lib/python3.10/dist-packages (from datasets) (6.0.1)\n",
            "Requirement already satisfied: attrs>=17.3.0 in /usr/local/lib/python3.10/dist-packages (from aiohttp->datasets) (23.1.0)\n",
            "Requirement already satisfied: charset-normalizer<4.0,>=2.0 in /usr/local/lib/python3.10/dist-packages (from aiohttp->datasets) (3.3.2)\n",
            "Requirement already satisfied: multidict<7.0,>=4.5 in /usr/local/lib/python3.10/dist-packages (from aiohttp->datasets) (6.0.4)\n",
            "Requirement already satisfied: async-timeout<5.0,>=4.0.0a3 in /usr/local/lib/python3.10/dist-packages (from aiohttp->datasets) (4.0.3)\n",
            "Requirement already satisfied: yarl<2.0,>=1.0 in /usr/local/lib/python3.10/dist-packages (from aiohttp->datasets) (1.9.2)\n",
            "Requirement already satisfied: frozenlist>=1.1.1 in /usr/local/lib/python3.10/dist-packages (from aiohttp->datasets) (1.4.0)\n",
            "Requirement already satisfied: aiosignal>=1.1.2 in /usr/local/lib/python3.10/dist-packages (from aiohttp->datasets) (1.3.1)\n",
            "Requirement already satisfied: filelock in /usr/local/lib/python3.10/dist-packages (from huggingface-hub>=0.18.0->datasets) (3.13.1)\n",
            "Requirement already satisfied: typing-extensions>=3.7.4.3 in /usr/local/lib/python3.10/dist-packages (from huggingface-hub>=0.18.0->datasets) (4.5.0)\n",
            "Requirement already satisfied: idna<4,>=2.5 in /usr/local/lib/python3.10/dist-packages (from requests>=2.19.0->datasets) (3.4)\n",
            "Requirement already satisfied: urllib3<3,>=1.21.1 in /usr/local/lib/python3.10/dist-packages (from requests>=2.19.0->datasets) (2.0.7)\n",
            "Requirement already satisfied: certifi>=2017.4.17 in /usr/local/lib/python3.10/dist-packages (from requests>=2.19.0->datasets) (2023.7.22)\n",
            "Requirement already satisfied: python-dateutil>=2.8.1 in /usr/local/lib/python3.10/dist-packages (from pandas->datasets) (2.8.2)\n",
            "Requirement already satisfied: pytz>=2020.1 in /usr/local/lib/python3.10/dist-packages (from pandas->datasets) (2023.3.post1)\n",
            "Requirement already satisfied: six>=1.5 in /usr/local/lib/python3.10/dist-packages (from python-dateutil>=2.8.1->pandas->datasets) (1.16.0)\n",
            "Requirement already satisfied: sentencepiece in /usr/local/lib/python3.10/dist-packages (0.1.99)\n"
          ]
        }
      ],
      "source": [
        "!pip install -U adapter-transformers==3.1.0\n",
        "!pip install datasets\n",
        "!pip install sentencepiece"
      ]
    },
    {
      "cell_type": "markdown",
      "metadata": {
        "id": "LUHpDE_Gtyen"
      },
      "source": [
        "### Dependencies"
      ]
    },
    {
      "cell_type": "code",
      "execution_count": 65,
      "metadata": {
        "id": "mUcFdH0HIxVe"
      },
      "outputs": [],
      "source": []
    },
    {
      "cell_type": "code",
      "execution_count": 66,
      "metadata": {
        "id": "xJZ6z8bJl25l"
      },
      "outputs": [],
      "source": [
        "import re\n",
        "import time\n",
        "# import torch\n",
        "from torch.utils.data import TensorDataset, DataLoader, RandomSampler, SequentialSampler\n",
        "from google.colab import drive\n",
        "from tqdm import tqdm\n",
        "from sklearn.metrics import classification_report\n",
        "import io\n",
        "import seaborn as sns\n",
        "from sklearn.model_selection import train_test_split\n",
        "import numpy as np\n",
        "import pandas as pd\n",
        "from transformers import AutoAdapterModel ,AutoTokenizer, AdapterConfig,AutoConfig, AutoModelWithHeads, TrainingArguments, EvalPrediction, AdamW, get_scheduler, TextClassificationPipeline, EarlyStoppingCallback,set_seed\n",
        "from transformers import  AdamW, get_linear_schedule_with_warmup,set_seed\n",
        "from transformers.adapters.composition import Fuse, Stack, Parallel\n",
        "from datasets import load_metric\n",
        "from collections import Counter\n",
        "from imblearn.over_sampling import RandomOverSampler, SMOTE, ADASYN, BorderlineSMOTE\n",
        "import matplotlib.pyplot as plt\n",
        "%matplotlib inline\n"
      ]
    },
    {
      "cell_type": "markdown",
      "metadata": {
        "id": "EzrDM6Ua-jo_"
      },
      "source": [
        "### Dataset Preprocessing"
      ]
    },
    {
      "cell_type": "code",
      "execution_count": 67,
      "metadata": {
        "id": "BB8pw1RDuDaA"
      },
      "outputs": [],
      "source": [
        "def apply_oversampling(x, y):\n",
        "\n",
        "  (unique, counts) = np.unique(y, axis=0, return_counts=True)\n",
        "  print(\"Class Distribution Without Oversampling\", counts)\n",
        "\n",
        "  # define oversampling strategy\n",
        "  if (over_sampling_technique == \"\"):\n",
        "    return x, y\n",
        "  elif (over_sampling_technique == \"ROS\"):\n",
        "    if (technique==\"humor\"):\n",
        "      oversample = RandomOverSampler(sampling_strategy = float(sampling_strategy))\n",
        "    else:\n",
        "      sampling_ratio = sampling_strategy.split(\":\");\n",
        "      oversample = RandomOverSampler(sampling_strategy = {\n",
        "          0:int(counts[0]*float(sampling_ratio[0])),\n",
        "          1:int(counts[0]*float(sampling_ratio[1])),\n",
        "          2:int(counts[0]*float(sampling_ratio[2]))\n",
        "          })\n",
        "  elif (over_sampling_technique == \"ADASYN\"):\n",
        "    oversample = ADASYN(sampling_strategy=\"minority\")\n",
        "  elif (over_sampling_technique == \"SMOTE\"):\n",
        "    oversample = SMOTE()\n",
        "  elif (over_sampling_technique == \"BorderlineSMOTE\"):\n",
        "    oversample = BorderlineSMOTE()\n",
        "\n",
        "  # fit and apply the transform\n",
        "  X_over, y_over = oversample.fit_resample(x, y)\n",
        "\n",
        "  (unique, counts) = np.unique(y_over, axis=0, return_counts=True)\n",
        "  print(\"Class Distribution After Oversampling\", counts)\n",
        "\n",
        "  return X_over, y_over"
      ]
    },
    {
      "cell_type": "code",
      "execution_count": 68,
      "metadata": {
        "id": "0MUpioPlmvMh"
      },
      "outputs": [],
      "source": [
        "dataset_path = \"/content/drive/Shareddrives/Lingua/Sinhala-English CMCS Dataset/annotated-script(all).csv\"\n",
        "model_save_path = \"/kaggle/working/\"+technique+\"/\"+experiment_no"
      ]
    },
    {
      "cell_type": "code",
      "execution_count": 69,
      "metadata": {
        "id": "yq5AMmjelqlj"
      },
      "outputs": [],
      "source": [
        "df = pd.read_csv(dataset_path)\n",
        "df = df[['Sentence', technique, script]]\n",
        "df.columns = ['Sentence', 'Label', script]\n",
        "\n",
        "df['Label'], uniq = pd.factorize(df['Label'])\n",
        "\n",
        "X, y = df[['Sentence', script]], df[['Label']]\n",
        "stratifying_col = y[\"Label\"]\n",
        "X_rem, X_test, y_rem, y_test = train_test_split(X, y, test_size=test_size, stratify=stratifying_col, random_state=split_random_state)\n",
        "stratifying_col = y_rem[\"Label\"]\n",
        "X_train, X_validation, y_train, y_validation = train_test_split(X_rem, y_rem, test_size=validation_size, stratify=stratifying_col, random_state=split_random_state)"
      ]
    },
    {
      "cell_type": "code",
      "execution_count": 70,
      "metadata": {
        "id": "Ppy0Sj5NIxVg"
      },
      "outputs": [],
      "source": [
        "del df, X, y, stratifying_col, X_rem, y_rem"
      ]
    },
    {
      "cell_type": "code",
      "execution_count": 71,
      "metadata": {
        "id": "oHELisZ0ufPM",
        "colab": {
          "base_uri": "https://localhost:8080/"
        },
        "outputId": "ab8d4528-f2f8-4731-8a95-b71bff525a69"
      },
      "outputs": [
        {
          "output_type": "execute_result",
          "data": {
            "text/plain": [
              "Index(['Negative', 'Neutral', 'Positive', 'Conflict'], dtype='object')"
            ]
          },
          "metadata": {},
          "execution_count": 71
        }
      ],
      "source": [
        "uniq"
      ]
    },
    {
      "cell_type": "code",
      "execution_count": 72,
      "metadata": {
        "id": "dkRs6oJvIxVh",
        "colab": {
          "base_uri": "https://localhost:8080/"
        },
        "outputId": "6c5b2abb-8a67-4db1-87e1-c22a35114251"
      },
      "outputs": [
        {
          "output_type": "stream",
          "name": "stdout",
          "text": [
            "X_train : Rows = 10814 , Columns =  2\n",
            "y_train : Rows = 10814 , Columns =  1\n",
            "X_validation : Rows = 1352 , Columns =  2\n",
            "y_validation : Rows = 1352 , Columns =  1\n",
            "X_test : Rows = 1352 , Columns =  2\n",
            "y_test : Rows = 1352 , Columns =  1\n"
          ]
        }
      ],
      "source": [
        "print(\"X_train : Rows =\", X_train.shape[0], \", Columns = \", X_train.shape[1])\n",
        "print(\"y_train : Rows =\", y_train.shape[0], \", Columns = \", y_train.shape[1])\n",
        "print(\"X_validation : Rows =\", X_validation.shape[0], \", Columns = \", X_validation.shape[1])\n",
        "print(\"y_validation : Rows =\", y_validation.shape[0], \", Columns = \", y_validation.shape[1])\n",
        "print(\"X_test : Rows =\", X_test.shape[0], \", Columns = \", X_test.shape[1])\n",
        "print(\"y_test : Rows =\", y_test.shape[0], \", Columns = \", y_test.shape[1])"
      ]
    },
    {
      "cell_type": "code",
      "execution_count": 73,
      "metadata": {
        "id": "UaUlvhRwIxVh",
        "colab": {
          "base_uri": "https://localhost:8080/"
        },
        "outputId": "2afe4cdc-6442-4b58-ad6c-484a5f9717f0"
      },
      "outputs": [
        {
          "output_type": "stream",
          "name": "stdout",
          "text": [
            "Labels : ['Negative', 'Neutral', 'Positive', 'Conflict']\n",
            "Train : [2913, 6877, 924, 100]\n",
            "Validation : [364, 860, 116, 12]\n",
            "Test : [364, 860, 116, 12]\n"
          ]
        }
      ],
      "source": [
        "print(\"Labels :\", ['Negative', 'Neutral', 'Positive', 'Conflict'])\n",
        "print(\"Train :\", y_train.groupby('Label').size().tolist())\n",
        "print(\"Validation :\", y_validation.groupby('Label').size().tolist())\n",
        "print(\"Test :\", y_test.groupby('Label').size().tolist())"
      ]
    },
    {
      "cell_type": "code",
      "execution_count": 74,
      "metadata": {
        "id": "7tCiiAeuIxVi"
      },
      "outputs": [],
      "source": [
        "if oversample_dataset:\n",
        "  X_train = np.array(X_train).reshape(-1, 1)\n",
        "  X_train, y_train = apply_oversampling(X_train, y_train)\n",
        "  X_train = [x[0] for x in X_train.tolist()]\n",
        "# y_train = y_train.tolist()"
      ]
    },
    {
      "cell_type": "markdown",
      "metadata": {
        "id": "Xw-aKg9RIxVi"
      },
      "source": [
        "##### **Preprocess Data**"
      ]
    },
    {
      "cell_type": "code",
      "execution_count": 75,
      "metadata": {
        "id": "T_2iifBVIxVi"
      },
      "outputs": [],
      "source": [
        "set_seed(training_seed)"
      ]
    },
    {
      "cell_type": "code",
      "execution_count": 76,
      "metadata": {
        "id": "SxzzTXwZIxVj"
      },
      "outputs": [],
      "source": [
        "X_train, y_train = X_train.values.tolist(), y_train.values.tolist()\n",
        "X_validation, y_validation = X_validation.values.tolist(), y_validation.values.tolist()\n",
        "X_test, y_test = X_test.values.tolist(), y_test.values.tolist()"
      ]
    },
    {
      "cell_type": "code",
      "execution_count": 77,
      "metadata": {
        "id": "oQbG0JmQIxVj"
      },
      "outputs": [],
      "source": [
        "X_train_arr=[]\n",
        "y_train_arr=[]\n",
        "\n",
        "for i in range(len(X_train)):\n",
        "    X_train_arr.append(X_train[i][0])\n",
        "    y_train_arr.append(y_train[i][0])\n",
        "\n",
        "\n",
        "X_validation_arr=[]\n",
        "y_validation_arr=[]\n",
        "for i in range(len(X_validation)):\n",
        "    X_validation_arr.append(X_validation[i][0])\n",
        "    y_validation_arr.append(y_validation[i][0])\n",
        "\n",
        "\n",
        "X_test_arr=[]\n",
        "y_test_arr=[]\n",
        "X_test_latin=[]\n",
        "y_test_latin=[]\n",
        "\n",
        "X_test_Sinhala=[]\n",
        "y_test_Sinhala=[]\n",
        "\n",
        "X_test_Mixed=[]\n",
        "y_test_Mixed=[]\n",
        "for i in range(len(X_test)):\n",
        "    X_test_arr.append(X_test[i][0])\n",
        "    y_test_arr.append(y_test[i][0])\n",
        "\n",
        "    if X_test[i][1]==\"Latin\":\n",
        "        X_test_latin.append(X_test[i][0])\n",
        "        y_test_latin.append(y_test[i][0])\n",
        "\n",
        "    elif X_test[i][1]==\"Sinhala\":\n",
        "        X_test_Sinhala.append(X_test[i][0])\n",
        "        y_test_Sinhala.append(y_test[i][0])\n",
        "\n",
        "    elif X_test[i][1]==\"Mixed\":\n",
        "        X_test_Mixed.append(X_test[i][0])\n",
        "        y_test_Mixed.append(y_test[i][0])"
      ]
    },
    {
      "cell_type": "code",
      "execution_count": 78,
      "metadata": {
        "id": "lCUWfe8-n0i8"
      },
      "outputs": [],
      "source": [
        "tokenizer = AutoTokenizer.from_pretrained(\"xlm-roberta-base\", do_lower_case=True)"
      ]
    },
    {
      "cell_type": "code",
      "execution_count": 79,
      "metadata": {
        "id": "TqXJtJe8oObQ"
      },
      "outputs": [],
      "source": [
        "encoded_X_train = tokenizer(X_train_arr, truncation=True, padding=True, max_length=MAX_LEN)\n",
        "encoded_X_validation = tokenizer(X_validation_arr, truncation=True, padding=True, max_length=MAX_LEN)\n",
        "encoded_X_test = tokenizer(X_test_arr, truncation=True, padding=True, max_length=MAX_LEN)\n",
        "encoded_X_test_latin = tokenizer(X_test_latin, truncation=True, padding=True, max_length=MAX_LEN)\n",
        "encoded_X_test_Sinhala = tokenizer(X_test_Sinhala, truncation=True, padding=True, max_length=MAX_LEN)\n",
        "encoded_X_test_Mixed = tokenizer(X_test_Mixed, truncation=True, padding=True, max_length=MAX_LEN)\n",
        "\n"
      ]
    },
    {
      "cell_type": "code",
      "execution_count": 80,
      "metadata": {
        "id": "6581Al-K_Nyf"
      },
      "outputs": [],
      "source": [
        "class DatasetObject(torch.utils.data.Dataset):\n",
        "    def __init__(self, encodings, labels):\n",
        "        self.encodings = encodings\n",
        "        self.labels = labels\n",
        "\n",
        "    def __getitem__(self, idx):\n",
        "        item = {key: torch.tensor(val[idx]) for key, val in self.encodings.items()}\n",
        "        item['labels'] = torch.tensor(self.labels[idx])\n",
        "        return item\n",
        "\n",
        "    def __len__(self):\n",
        "        return len(self.labels)\n",
        "\n",
        "train_dataset = DatasetObject(encoded_X_train, y_train_arr)\n",
        "validation_dataset = DatasetObject(encoded_X_validation, y_validation_arr)\n",
        "test_dataset = DatasetObject(encoded_X_test, y_test_arr)\n",
        "test_dataset_latin = DatasetObject(encoded_X_test_latin, y_test_latin)\n",
        "test_dataset_Sinhala = DatasetObject(encoded_X_test_Sinhala, y_test_Sinhala)\n",
        "test_dataset_Mixed = DatasetObject(encoded_X_test_Mixed, y_test_Mixed)\n"
      ]
    },
    {
      "cell_type": "code",
      "execution_count": 81,
      "metadata": {
        "id": "Mol-S8fDIxVk"
      },
      "outputs": [],
      "source": [
        "# train_sampler = RandomSampler(train_dataset)\n",
        "train_sampler = SequentialSampler(train_dataset)\n",
        "validation_sampler = SequentialSampler(validation_dataset)\n",
        "test_sampler = SequentialSampler(test_dataset)\n",
        "validation_sampler_latin = SequentialSampler(test_dataset_latin)\n",
        "validation_sampler_sinhala= SequentialSampler(test_dataset_Sinhala)\n",
        "validation_sampler_mixed = SequentialSampler(test_dataset_Mixed)\n",
        "\n",
        "train_loader = DataLoader(train_dataset, sampler=train_sampler , batch_size=BATCH_SIZE)\n",
        "validation_loader = DataLoader(validation_dataset, sampler=validation_sampler , batch_size=BATCH_SIZE)\n",
        "test_loader = DataLoader(test_dataset, sampler=test_sampler , batch_size=BATCH_SIZE)\n",
        "test_loader_latin = DataLoader(test_dataset_latin, sampler=validation_sampler_latin , batch_size=BATCH_SIZE)\n",
        "test_loader_Sinhala = DataLoader(test_dataset_Sinhala, sampler=validation_sampler_sinhala , batch_size=BATCH_SIZE)\n",
        "test_loader_Mixed = DataLoader(test_dataset_Mixed, sampler=validation_sampler_mixed , batch_size=BATCH_SIZE)"
      ]
    },
    {
      "cell_type": "markdown",
      "metadata": {
        "id": "cCwk6iQE_XZb"
      },
      "source": [
        "### Training"
      ]
    },
    {
      "cell_type": "code",
      "execution_count": 82,
      "metadata": {
        "id": "KNyi1nFH_TOS",
        "colab": {
          "base_uri": "https://localhost:8080/"
        },
        "outputId": "89d097b3-9136-45f7-e0af-0888f5f31279"
      },
      "outputs": [
        {
          "output_type": "stream",
          "name": "stderr",
          "text": [
            "/usr/local/lib/python3.10/dist-packages/transformers/adapters/models/roberta/adapter_model.py:255: FutureWarning: This class has been renamed to `RobertaModelWithHeads` in v3. Please use the new class instead as this class might be removed in a future version.\n",
            "  warnings.warn(\n",
            "/usr/local/lib/python3.10/dist-packages/transformers/adapters/models/roberta/adapter_model.py:233: FutureWarning: This class has been renamed to `RobertaModelWithHeads` in v3. Please use the new class instead as this class might be removed in a future version.\n",
            "  warnings.warn(\n",
            "Some weights of the model checkpoint at xlm-roberta-base were not used when initializing XLMRobertaModelWithHeads: ['lm_head.layer_norm.weight', 'lm_head.bias', 'lm_head.layer_norm.bias', 'lm_head.dense.weight', 'lm_head.decoder.weight', 'lm_head.dense.bias']\n",
            "- This IS expected if you are initializing XLMRobertaModelWithHeads from the checkpoint of a model trained on another task or with another architecture (e.g. initializing a BertForSequenceClassification model from a BertForPreTraining model).\n",
            "- This IS NOT expected if you are initializing XLMRobertaModelWithHeads from the checkpoint of a model that you expect to be exactly identical (initializing a BertForSequenceClassification model from a BertForSequenceClassification model).\n",
            "Some weights of XLMRobertaModelWithHeads were not initialized from the model checkpoint at xlm-roberta-base and are newly initialized: ['roberta.embeddings.position_ids']\n",
            "You should probably TRAIN this model on a down-stream task to be able to use it for predictions and inference.\n"
          ]
        }
      ],
      "source": [
        "config = AutoConfig.from_pretrained(\"xlm-roberta-base\", num_labels=NO_OUTPUT_LAYERS)\n",
        "model = AutoModelWithHeads.from_pretrained(\"xlm-roberta-base\", config=config)"
      ]
    },
    {
      "cell_type": "code",
      "execution_count": 83,
      "metadata": {
        "id": "7RPhSipb_diC",
        "colab": {
          "base_uri": "https://localhost:8080/"
        },
        "outputId": "94de80d7-2d88-43b4-b49c-4b2b24e493ac"
      },
      "outputs": [
        {
          "output_type": "stream",
          "name": "stdout",
          "text": [
            "adding new adapter houlsby\n"
          ]
        }
      ],
      "source": [
        "# Load an adapter\n",
        "if load_adapter:\n",
        "  print(\"loading adapter from\", pretrained_adapter_path)\n",
        "  model.load_adapter(pretrained_adapter_path, with_head=False)\n",
        "\n",
        "# Add a new adapter\n",
        "else:\n",
        "  print(\"adding new adapter\", adapter_config)\n",
        "  if adapter_config == \"pfeiffer\":\n",
        "    config = AdapterConfig.load(\"pfeiffer\", reduction_factor=12)\n",
        "  else:\n",
        "    config = AdapterConfig.load(\"houlsby\")\n",
        "  model.add_adapter(\"task_\"+technique, config=config)"
      ]
    },
    {
      "cell_type": "code",
      "execution_count": 84,
      "metadata": {
        "id": "Zq1dG4sVcDX5",
        "colab": {
          "base_uri": "https://localhost:8080/"
        },
        "outputId": "c8bc15f3-69cf-4d68-d7e2-054c158f0f31"
      },
      "outputs": [
        {
          "output_type": "stream",
          "name": "stdout",
          "text": [
            "stacking parallel language adapters set\n"
          ]
        }
      ],
      "source": [
        "# Add a classification head\n",
        "model.add_classification_head(\n",
        "  \"task_\"+technique,\n",
        "  num_labels=NO_OUTPUT_LAYERS,\n",
        "  id2label=id2label\n",
        ")\n",
        "\n",
        "# Without Language Adapters\n",
        "if lang_adapter_setting == \"none\":\n",
        "  model.set_active_adapters(\"task_\"+technique)\n",
        "\n",
        "else:\n",
        "  # Load language adapters\n",
        "  lang_adapter_config = AdapterConfig.load(\"pfeiffer+inv\")\n",
        "  model.load_adapter(\"/content/drive/Shareddrives/Lingua/adapters/lan/mlm\", config=lang_adapter_config, load_as=\"si-en\", with_head=False)\n",
        "  # model.load_adapter(\"/content/drive/Shareddrives/FYP/TrainedAdapters/si_mlm\", config=lang_adapter_config, load_as=\"si\", with_head=False)\n",
        "  model.load_adapter(\"/content/drive/Shareddrives/Lingua/adapters/lan/si_mlm\", config=lang_adapter_config, load_as=\"si\", with_head=False)\n",
        "  config = AdapterConfig.load(\"pfeiffer\", non_linearity=\"relu\", reduction_factor=2)\n",
        "  model.load_adapter(\"en/wiki@ukp\", config=config)\n",
        "\n",
        "  # Stack Language Adapters\n",
        "  if lang_adapter_setting == \"stack\":\n",
        "    print(\"stacking language adapters\")\n",
        "    model.set_active_adapters(Stack(\"en\", \"si\", \"si-en\", \"task_\"+technique))\n",
        "\n",
        "  # Parallel Language Adapters\n",
        "  else:\n",
        "    print(\"stacking parallel language adapters set\")\n",
        "    model.set_active_adapters(Stack(Parallel(\"en\", \"si\", \"si-en\"), \"task_\"+technique))\n",
        "\n",
        "# Train Adapter\n",
        "model.train_adapter(\"task_\"+technique)"
      ]
    },
    {
      "cell_type": "code",
      "execution_count": 85,
      "metadata": {
        "id": "iVTWkQaiiuhZ"
      },
      "outputs": [],
      "source": [
        "# Unfreeze the model to train both the model and adapter\n",
        "if unfreeze_model:\n",
        "  model.freeze_model(False)"
      ]
    },
    {
      "cell_type": "code",
      "execution_count": 86,
      "metadata": {
        "id": "SBMtmX77IMlZ",
        "colab": {
          "base_uri": "https://localhost:8080/"
        },
        "outputId": "07b26186-c89d-4a93-db65-a0f0a7d01770"
      },
      "outputs": [
        {
          "output_type": "stream",
          "name": "stdout",
          "text": [
            "Done\n"
          ]
        }
      ],
      "source": [
        "model.cuda()\n",
        "print(\"Done\")"
      ]
    },
    {
      "cell_type": "code",
      "execution_count": 87,
      "metadata": {
        "id": "bny18Y2qHvf0",
        "colab": {
          "base_uri": "https://localhost:8080/",
          "height": 35
        },
        "outputId": "975c63d6-e74e-4507-eb89-e78ebc43973e"
      },
      "outputs": [
        {
          "output_type": "execute_result",
          "data": {
            "text/plain": [
              "'Tesla T4'"
            ],
            "application/vnd.google.colaboratory.intrinsic+json": {
              "type": "string"
            }
          },
          "metadata": {},
          "execution_count": 87
        }
      ],
      "source": [
        "device = torch.device(\"cuda\" if torch.cuda.is_available() else \"cpu\")\n",
        "n_gpu = torch.cuda.device_count()\n",
        "torch.cuda.get_device_name(0)"
      ]
    },
    {
      "cell_type": "code",
      "execution_count": 88,
      "metadata": {
        "id": "Iu1hV1g3jAvS"
      },
      "outputs": [],
      "source": [
        "set_seed(training_seed)"
      ]
    },
    {
      "cell_type": "code",
      "execution_count": 89,
      "metadata": {
        "id": "ZDiEfZumNwYA"
      },
      "outputs": [],
      "source": [
        "def compute_metrics(allpreds,alllabels):\n",
        "    metric1 = load_metric(\"precision\")\n",
        "    metric2 = load_metric(\"recall\")\n",
        "    metric3 = load_metric(\"f1\")\n",
        "    metric4 = load_metric(\"accuracy\")\n",
        "\n",
        "    predictions, labels = allpreds,alllabels\n",
        "    precision = metric1.compute(predictions=predictions, references=labels, average=\"weighted\")[\"precision\"]\n",
        "    recall = metric2.compute(predictions=predictions, references=labels, average=\"weighted\")[\"recall\"]\n",
        "    f1 = metric3.compute(predictions=predictions, references=labels, average=\"weighted\")[\"f1\"]\n",
        "    accuracy = metric4.compute(predictions=predictions, references=labels)[\"accuracy\"]\n",
        "    macro_precision = metric1.compute(predictions=predictions, references=labels, average=\"macro\")[\"precision\"]\n",
        "    macro_recall = metric2.compute(predictions=predictions, references=labels, average=\"macro\")[\"recall\"]\n",
        "    macro_f1 = metric3.compute(predictions=predictions, references=labels, average=\"macro\")[\"f1\"]\n",
        "    return {\"accuracy\":accuracy, \"precision\": precision, \"recall\": recall, \"f1\": f1, \"macro_precision\": macro_precision, \"macro_recall\": macro_recall, \"macro_f1\": macro_f1}\n"
      ]
    },
    {
      "cell_type": "code",
      "execution_count": 90,
      "metadata": {
        "id": "ErqMNvyEGL07"
      },
      "outputs": [],
      "source": [
        "def evaluate(model, dataloader):\n",
        "    model.eval()\n",
        "    allpreds = []\n",
        "    alllabels = []\n",
        "\n",
        "    for step, batch in enumerate(dataloader):\n",
        "        batch = {k: v.to(device) for k, v in batch.items()}\n",
        "        with torch.no_grad():\n",
        "            outputs = model(**batch)\n",
        "        logits = outputs.logits\n",
        "        allpreds.extend(torch.argmax(logits, dim=-1))\n",
        "        alllabels.extend(batch[\"labels\"])\n",
        "    return compute_metrics(allpreds,alllabels)"
      ]
    },
    {
      "cell_type": "code",
      "execution_count": 91,
      "metadata": {
        "id": "_oEcPkiDGOjQ"
      },
      "outputs": [],
      "source": [
        "def calculate_loss_and_f1(model, dataloader):\n",
        "    model.eval()\n",
        "    allpreds = []\n",
        "    alllabels = []\n",
        "    total_loss = 0\n",
        "\n",
        "    for step, batch in enumerate(dataloader):\n",
        "        batch = {k: v.to(device) for k, v in batch.items()}\n",
        "        with torch.no_grad():\n",
        "            outputs = model(**batch)\n",
        "        logits = outputs.logits\n",
        "        loss = outputs.loss\n",
        "        total_loss += loss.item()\n",
        "        allpreds.extend(torch.argmax(logits, dim=-1))\n",
        "        alllabels.extend(batch[\"labels\"])\n",
        "\n",
        "    macro_f1 = load_metric(\"f1\").compute(predictions=allpreds, references=alllabels, average=\"macro\")[\"f1\"]\n",
        "    return macro_f1, (total_loss/len(dataloader))"
      ]
    },
    {
      "cell_type": "code",
      "execution_count": 92,
      "metadata": {
        "id": "oesjvk80GQZW",
        "colab": {
          "base_uri": "https://localhost:8080/"
        },
        "outputId": "dabb9bd1-c1c2-40fc-9f74-7316dbaeec03"
      },
      "outputs": [
        {
          "output_type": "stream",
          "name": "stderr",
          "text": [
            "/usr/local/lib/python3.10/dist-packages/transformers/optimization.py:306: FutureWarning: This implementation of AdamW is deprecated and will be removed in a future version. Use the PyTorch implementation torch.optim.AdamW instead, or set `no_deprecation_warning=True` to disable this warning\n",
            "  warnings.warn(\n"
          ]
        }
      ],
      "source": [
        "no_decay = ['bias', 'LayerNorm.weight']\n",
        "num_training_steps = EPOCHS * len(train_loader)\n",
        "betas = (0.9, 0.999)\n",
        "eps = 1e-08\n",
        "num_warmup_steps = 0\n",
        "param_optimizer = list(model.named_parameters())\n",
        "\n",
        "optimizer_grouped_parameters = [\n",
        "    {'params': [p for n, p in param_optimizer if not any(nd in n for nd in no_decay)],\n",
        "     'weight_decay_rate': 0.01},\n",
        "    {'params': [p for n, p in param_optimizer if any(nd in n for nd in no_decay)],\n",
        "     'weight_decay_rate': 0.0}\n",
        "]\n",
        "optimizer = AdamW(optimizer_grouped_parameters, lr=LEARNING_RATE,betas=betas,eps=eps)\n",
        "scheduler = get_linear_schedule_with_warmup(optimizer, num_warmup_steps=0, num_training_steps=num_training_steps)"
      ]
    },
    {
      "cell_type": "code",
      "execution_count": 93,
      "metadata": {
        "id": "5l6csY77GS8F"
      },
      "outputs": [],
      "source": [
        "tot_loss = 0\n",
        "log_loss = 0\n",
        "best_val_acc = 0\n",
        "\n",
        "tot_train_time = 0\n",
        "pbar_update_freq = 10\n",
        "\n",
        "glb_step = 0\n",
        "actual_step = 0\n",
        "max_grad_norm = 1.0\n",
        "eval_every_steps = 100\n",
        "gradient_accumulation_steps = 1\n",
        "\n",
        "leave_training = False\n",
        "val_metric = \"macro_f1\"\n",
        "\n",
        "best_epoch = -1\n",
        "early_stop_epoch_thresh = 5\n",
        "\n",
        "epoch_traces = []\n",
        "acc_traces = []\n",
        "validation_loss_traces = []"
      ]
    },
    {
      "cell_type": "code",
      "execution_count": 94,
      "metadata": {
        "id": "dkv8HsFgGVGY",
        "colab": {
          "base_uri": "https://localhost:8080/"
        },
        "outputId": "c6239876-e4d8-4923-9ff5-8340f85a04a6"
      },
      "outputs": [
        {
          "output_type": "stream",
          "name": "stderr",
          "text": [
            "\n",
            "Train:   0%|          | 0/6760 [00:00<?, ?it/s]\u001b[A"
          ]
        },
        {
          "output_type": "stream",
          "name": "stdout",
          "text": [
            "Begin Epoch 0\n"
          ]
        },
        {
          "output_type": "stream",
          "name": "stderr",
          "text": [
            "\rTrain:  35%|███▍      | 2360/6760 [28:50<53:45,  1.36it/s, Average Loss=0.0942, Epoch=6]\n",
            "\n",
            "Train:   0%|          | 10/6760 [00:04<53:15,  2.11it/s]\u001b[A\n",
            "Train:   0%|          | 10/6760 [00:04<53:15,  2.11it/s, Average Loss=1.04, Epoch=0]\u001b[A\n",
            "Train:   0%|          | 20/6760 [00:09<53:42,  2.09it/s, Average Loss=1.04, Epoch=0]\u001b[A\n",
            "Train:   0%|          | 20/6760 [00:09<53:42,  2.09it/s, Average Loss=0.898, Epoch=0]\u001b[A\n",
            "Train:   0%|          | 30/6760 [00:14<55:22,  2.03it/s, Average Loss=0.898, Epoch=0]\u001b[A\n",
            "Train:   0%|          | 30/6760 [00:14<55:22,  2.03it/s, Average Loss=0.936, Epoch=0]\u001b[A\n",
            "Train:   1%|          | 40/6760 [00:20<57:15,  1.96it/s, Average Loss=0.936, Epoch=0]\u001b[A\n",
            "Train:   1%|          | 40/6760 [00:20<57:15,  1.96it/s, Average Loss=0.881, Epoch=0]\u001b[A\n",
            "Train:   1%|          | 50/6760 [00:24<56:04,  1.99it/s, Average Loss=0.881, Epoch=0]\u001b[A\n",
            "Train:   1%|          | 50/6760 [00:24<56:04,  1.99it/s, Average Loss=0.897, Epoch=0]\u001b[A\n",
            "Train:   1%|          | 60/6760 [00:29<55:05,  2.03it/s, Average Loss=0.897, Epoch=0]\u001b[A\n",
            "Train:   1%|          | 60/6760 [00:29<55:05,  2.03it/s, Average Loss=0.867, Epoch=0]\u001b[A\n",
            "Train:   1%|          | 70/6760 [00:34<55:55,  1.99it/s, Average Loss=0.867, Epoch=0]\u001b[A\n",
            "Train:   1%|          | 70/6760 [00:34<55:55,  1.99it/s, Average Loss=0.914, Epoch=0]\u001b[A\n",
            "Train:   1%|          | 80/6760 [00:39<54:10,  2.06it/s, Average Loss=0.914, Epoch=0]\u001b[A\n",
            "Train:   1%|          | 80/6760 [00:39<54:10,  2.06it/s, Average Loss=0.944, Epoch=0]\u001b[A\n",
            "Train:   1%|▏         | 90/6760 [00:43<52:42,  2.11it/s, Average Loss=0.944, Epoch=0]\u001b[A\n",
            "Train:   1%|▏         | 90/6760 [00:43<52:42,  2.11it/s, Average Loss=0.808, Epoch=0]\u001b[A\n",
            "Train:   1%|▏         | 100/6760 [00:48<51:42,  2.15it/s, Average Loss=0.808, Epoch=0]\u001b[A\n",
            "Train:   1%|▏         | 100/6760 [00:48<51:42,  2.15it/s, Average Loss=0.856, Epoch=0]\u001b[A\n",
            "Train:   2%|▏         | 110/6760 [00:52<51:00,  2.17it/s, Average Loss=0.856, Epoch=0]\u001b[A\n",
            "Train:   2%|▏         | 110/6760 [00:52<51:00,  2.17it/s, Average Loss=0.769, Epoch=0]\u001b[A\n",
            "Train:   2%|▏         | 120/6760 [00:57<50:24,  2.20it/s, Average Loss=0.769, Epoch=0]\u001b[A\n",
            "Train:   2%|▏         | 120/6760 [00:57<50:24,  2.20it/s, Average Loss=0.784, Epoch=0]\u001b[A\n",
            "Train:   2%|▏         | 130/6760 [01:01<49:54,  2.21it/s, Average Loss=0.784, Epoch=0]\u001b[A\n",
            "Train:   2%|▏         | 130/6760 [01:01<49:54,  2.21it/s, Average Loss=0.719, Epoch=0]\u001b[A\n",
            "Train:   2%|▏         | 140/6760 [01:06<49:32,  2.23it/s, Average Loss=0.719, Epoch=0]\u001b[A\n",
            "Train:   2%|▏         | 140/6760 [01:06<49:32,  2.23it/s, Average Loss=0.794, Epoch=0]\u001b[A\n",
            "Train:   2%|▏         | 150/6760 [01:10<49:25,  2.23it/s, Average Loss=0.794, Epoch=0]\u001b[A\n",
            "Train:   2%|▏         | 150/6760 [01:10<49:25,  2.23it/s, Average Loss=0.805, Epoch=0]\u001b[A\n",
            "Train:   2%|▏         | 160/6760 [01:15<49:20,  2.23it/s, Average Loss=0.805, Epoch=0]\u001b[A\n",
            "Train:   2%|▏         | 160/6760 [01:15<49:20,  2.23it/s, Average Loss=0.845, Epoch=0]\u001b[A\n",
            "Train:   3%|▎         | 170/6760 [01:19<49:14,  2.23it/s, Average Loss=0.845, Epoch=0]\u001b[A\n",
            "Train:   3%|▎         | 170/6760 [01:19<49:14,  2.23it/s, Average Loss=0.738, Epoch=0]\u001b[A\n",
            "Train:   3%|▎         | 180/6760 [01:24<49:15,  2.23it/s, Average Loss=0.738, Epoch=0]\u001b[A\n",
            "Train:   3%|▎         | 180/6760 [01:24<49:15,  2.23it/s, Average Loss=0.687, Epoch=0]\u001b[A\n",
            "Train:   3%|▎         | 190/6760 [01:28<49:23,  2.22it/s, Average Loss=0.687, Epoch=0]\u001b[A\n",
            "Train:   3%|▎         | 190/6760 [01:28<49:23,  2.22it/s, Average Loss=0.69, Epoch=0] \u001b[A\n",
            "Train:   3%|▎         | 200/6760 [01:33<49:27,  2.21it/s, Average Loss=0.69, Epoch=0]\u001b[A\n",
            "Train:   3%|▎         | 200/6760 [01:33<49:27,  2.21it/s, Average Loss=0.718, Epoch=0]\u001b[A\n",
            "Train:   3%|▎         | 210/6760 [01:37<49:25,  2.21it/s, Average Loss=0.718, Epoch=0]\u001b[A\n",
            "Train:   3%|▎         | 210/6760 [01:37<49:25,  2.21it/s, Average Loss=0.728, Epoch=0]\u001b[A\n",
            "Train:   3%|▎         | 220/6760 [01:42<49:29,  2.20it/s, Average Loss=0.728, Epoch=0]\u001b[A\n",
            "Train:   3%|▎         | 220/6760 [01:42<49:29,  2.20it/s, Average Loss=0.724, Epoch=0]\u001b[A\n",
            "Train:   3%|▎         | 230/6760 [01:46<49:36,  2.19it/s, Average Loss=0.724, Epoch=0]\u001b[A\n",
            "Train:   3%|▎         | 230/6760 [01:46<49:36,  2.19it/s, Average Loss=0.713, Epoch=0]\u001b[A\n",
            "Train:   4%|▎         | 240/6760 [01:51<49:29,  2.20it/s, Average Loss=0.713, Epoch=0]\u001b[A\n",
            "Train:   4%|▎         | 240/6760 [01:51<49:29,  2.20it/s, Average Loss=0.629, Epoch=0]\u001b[A\n",
            "Train:   4%|▎         | 250/6760 [01:55<49:23,  2.20it/s, Average Loss=0.629, Epoch=0]\u001b[A\n",
            "Train:   4%|▎         | 250/6760 [01:55<49:23,  2.20it/s, Average Loss=0.679, Epoch=0]\u001b[A\n",
            "Train:   4%|▍         | 260/6760 [02:00<49:18,  2.20it/s, Average Loss=0.679, Epoch=0]\u001b[A\n",
            "Train:   4%|▍         | 260/6760 [02:00<49:18,  2.20it/s, Average Loss=0.759, Epoch=0]\u001b[A\n",
            "Train:   4%|▍         | 270/6760 [02:05<49:13,  2.20it/s, Average Loss=0.759, Epoch=0]\u001b[A\n",
            "Train:   4%|▍         | 270/6760 [02:05<49:13,  2.20it/s, Average Loss=0.703, Epoch=0]\u001b[A\n",
            "Train:   4%|▍         | 280/6760 [02:09<48:58,  2.21it/s, Average Loss=0.703, Epoch=0]\u001b[A\n",
            "Train:   4%|▍         | 280/6760 [02:09<48:58,  2.21it/s, Average Loss=0.543, Epoch=0]\u001b[A\n",
            "Train:   4%|▍         | 290/6760 [02:14<48:56,  2.20it/s, Average Loss=0.543, Epoch=0]\u001b[A\n",
            "Train:   4%|▍         | 290/6760 [02:14<48:56,  2.20it/s, Average Loss=0.59, Epoch=0] \u001b[A\n",
            "Train:   4%|▍         | 300/6760 [02:18<48:49,  2.20it/s, Average Loss=0.59, Epoch=0]\u001b[A\n",
            "Train:   4%|▍         | 300/6760 [02:18<48:49,  2.20it/s, Average Loss=0.623, Epoch=0]\u001b[A\n",
            "Train:   5%|▍         | 310/6760 [02:23<49:09,  2.19it/s, Average Loss=0.623, Epoch=0]\u001b[A\n",
            "Train:   5%|▍         | 310/6760 [02:23<49:09,  2.19it/s, Average Loss=0.63, Epoch=0] \u001b[A\n",
            "Train:   5%|▍         | 320/6760 [02:27<48:59,  2.19it/s, Average Loss=0.63, Epoch=0]\u001b[A\n",
            "Train:   5%|▍         | 320/6760 [02:27<48:59,  2.19it/s, Average Loss=0.72, Epoch=0]\u001b[A\n",
            "Train:   5%|▍         | 330/6760 [02:32<48:36,  2.20it/s, Average Loss=0.72, Epoch=0]\u001b[A\n",
            "Train:   5%|▍         | 330/6760 [02:32<48:36,  2.20it/s, Average Loss=0.62, Epoch=0]\u001b[A"
          ]
        },
        {
          "output_type": "stream",
          "name": "stdout",
          "text": [
            "Validation: [Epoch: 0, Macro F1: 0.5019278013263578, Validation Loss: 0.668956304012343, Time per Epoch: 165.2103452682495]\n",
            "Begin Epoch 1\n"
          ]
        },
        {
          "output_type": "stream",
          "name": "stderr",
          "text": [
            "\n",
            "Train:   5%|▌         | 340/6760 [02:51<1:33:56,  1.14it/s, Average Loss=0.62, Epoch=0]\u001b[A\n",
            "Train:   5%|▌         | 340/6760 [02:51<1:33:56,  1.14it/s, Average Loss=0.589, Epoch=1]\u001b[A\n",
            "Train:   5%|▌         | 350/6760 [02:55<1:19:09,  1.35it/s, Average Loss=0.589, Epoch=1]\u001b[A\n",
            "Train:   5%|▌         | 350/6760 [02:55<1:19:09,  1.35it/s, Average Loss=0.702, Epoch=1]\u001b[A\n",
            "Train:   5%|▌         | 360/6760 [02:59<1:08:51,  1.55it/s, Average Loss=0.702, Epoch=1]\u001b[A\n",
            "Train:   5%|▌         | 360/6760 [02:59<1:08:51,  1.55it/s, Average Loss=0.609, Epoch=1]\u001b[A\n",
            "Train:   5%|▌         | 370/6760 [03:03<1:01:31,  1.73it/s, Average Loss=0.609, Epoch=1]\u001b[A\n",
            "Train:   5%|▌         | 370/6760 [03:03<1:01:31,  1.73it/s, Average Loss=0.573, Epoch=1]\u001b[A\n",
            "Train:   6%|▌         | 380/6760 [03:07<56:29,  1.88it/s, Average Loss=0.573, Epoch=1]  \u001b[A\n",
            "Train:   6%|▌         | 380/6760 [03:07<56:29,  1.88it/s, Average Loss=0.619, Epoch=1]\u001b[A\n",
            "Train:   6%|▌         | 390/6760 [03:12<53:05,  2.00it/s, Average Loss=0.619, Epoch=1]\u001b[A\n",
            "Train:   6%|▌         | 390/6760 [03:12<53:05,  2.00it/s, Average Loss=0.575, Epoch=1]\u001b[A\n",
            "Train:   6%|▌         | 400/6760 [03:16<50:43,  2.09it/s, Average Loss=0.575, Epoch=1]\u001b[A\n",
            "Train:   6%|▌         | 400/6760 [03:16<50:43,  2.09it/s, Average Loss=0.561, Epoch=1]\u001b[A\n",
            "Train:   6%|▌         | 410/6760 [03:20<48:58,  2.16it/s, Average Loss=0.561, Epoch=1]\u001b[A\n",
            "Train:   6%|▌         | 410/6760 [03:20<48:58,  2.16it/s, Average Loss=0.637, Epoch=1]\u001b[A\n",
            "Train:   6%|▌         | 420/6760 [03:24<47:40,  2.22it/s, Average Loss=0.637, Epoch=1]\u001b[A\n",
            "Train:   6%|▌         | 420/6760 [03:24<47:40,  2.22it/s, Average Loss=0.581, Epoch=1]\u001b[A\n",
            "Train:   6%|▋         | 430/6760 [03:29<46:49,  2.25it/s, Average Loss=0.581, Epoch=1]\u001b[A\n",
            "Train:   6%|▋         | 430/6760 [03:29<46:49,  2.25it/s, Average Loss=0.553, Epoch=1]\u001b[A\n",
            "Train:   7%|▋         | 440/6760 [03:33<46:15,  2.28it/s, Average Loss=0.553, Epoch=1]\u001b[A\n",
            "Train:   7%|▋         | 440/6760 [03:33<46:15,  2.28it/s, Average Loss=0.51, Epoch=1] \u001b[A\n",
            "Train:   7%|▋         | 450/6760 [03:37<45:38,  2.30it/s, Average Loss=0.51, Epoch=1]\u001b[A\n",
            "Train:   7%|▋         | 450/6760 [03:37<45:38,  2.30it/s, Average Loss=0.628, Epoch=1]\u001b[A\n",
            "Train:   7%|▋         | 460/6760 [03:41<45:07,  2.33it/s, Average Loss=0.628, Epoch=1]\u001b[A\n",
            "Train:   7%|▋         | 460/6760 [03:41<45:07,  2.33it/s, Average Loss=0.575, Epoch=1]\u001b[A\n",
            "Train:   7%|▋         | 470/6760 [03:46<44:52,  2.34it/s, Average Loss=0.575, Epoch=1]\u001b[A\n",
            "Train:   7%|▋         | 470/6760 [03:46<44:52,  2.34it/s, Average Loss=0.601, Epoch=1]\u001b[A\n",
            "Train:   7%|▋         | 480/6760 [03:50<44:43,  2.34it/s, Average Loss=0.601, Epoch=1]\u001b[A\n",
            "Train:   7%|▋         | 480/6760 [03:50<44:43,  2.34it/s, Average Loss=0.558, Epoch=1]\u001b[A\n",
            "Train:   7%|▋         | 490/6760 [03:54<44:24,  2.35it/s, Average Loss=0.558, Epoch=1]\u001b[A\n",
            "Train:   7%|▋         | 490/6760 [03:54<44:24,  2.35it/s, Average Loss=0.597, Epoch=1]\u001b[A\n",
            "Train:   7%|▋         | 500/6760 [03:58<44:07,  2.36it/s, Average Loss=0.597, Epoch=1]\u001b[A\n",
            "Train:   7%|▋         | 500/6760 [03:58<44:07,  2.36it/s, Average Loss=0.561, Epoch=1]\u001b[A\n",
            "Train:   8%|▊         | 510/6760 [04:02<44:01,  2.37it/s, Average Loss=0.561, Epoch=1]\u001b[A\n",
            "Train:   8%|▊         | 510/6760 [04:03<44:01,  2.37it/s, Average Loss=0.563, Epoch=1]\u001b[A\n",
            "Train:   8%|▊         | 520/6760 [04:07<43:59,  2.36it/s, Average Loss=0.563, Epoch=1]\u001b[A\n",
            "Train:   8%|▊         | 520/6760 [04:07<43:59,  2.36it/s, Average Loss=0.523, Epoch=1]\u001b[A\n",
            "Train:   8%|▊         | 530/6760 [04:11<43:52,  2.37it/s, Average Loss=0.523, Epoch=1]\u001b[A\n",
            "Train:   8%|▊         | 530/6760 [04:11<43:52,  2.37it/s, Average Loss=0.52, Epoch=1] \u001b[A\n",
            "Train:   8%|▊         | 540/6760 [04:15<43:43,  2.37it/s, Average Loss=0.52, Epoch=1]\u001b[A\n",
            "Train:   8%|▊         | 540/6760 [04:15<43:43,  2.37it/s, Average Loss=0.617, Epoch=1]\u001b[A\n",
            "Train:   8%|▊         | 550/6760 [04:19<43:41,  2.37it/s, Average Loss=0.617, Epoch=1]\u001b[A\n",
            "Train:   8%|▊         | 550/6760 [04:19<43:41,  2.37it/s, Average Loss=0.564, Epoch=1]\u001b[A\n",
            "Train:   8%|▊         | 560/6760 [04:24<43:42,  2.36it/s, Average Loss=0.564, Epoch=1]\u001b[A\n",
            "Train:   8%|▊         | 560/6760 [04:24<43:42,  2.36it/s, Average Loss=0.601, Epoch=1]\u001b[A\n",
            "Train:   8%|▊         | 570/6760 [04:28<43:36,  2.37it/s, Average Loss=0.601, Epoch=1]\u001b[A\n",
            "Train:   8%|▊         | 570/6760 [04:28<43:36,  2.37it/s, Average Loss=0.537, Epoch=1]\u001b[A\n",
            "Train:   9%|▊         | 580/6760 [04:32<43:26,  2.37it/s, Average Loss=0.537, Epoch=1]\u001b[A\n",
            "Train:   9%|▊         | 580/6760 [04:32<43:26,  2.37it/s, Average Loss=0.501, Epoch=1]\u001b[A\n",
            "Train:   9%|▊         | 590/6760 [04:36<43:22,  2.37it/s, Average Loss=0.501, Epoch=1]\u001b[A\n",
            "Train:   9%|▊         | 590/6760 [04:36<43:22,  2.37it/s, Average Loss=0.539, Epoch=1]\u001b[A\n",
            "Train:   9%|▉         | 600/6760 [04:41<43:26,  2.36it/s, Average Loss=0.539, Epoch=1]\u001b[A\n",
            "Train:   9%|▉         | 600/6760 [04:41<43:26,  2.36it/s, Average Loss=0.569, Epoch=1]\u001b[A\n",
            "Train:   9%|▉         | 610/6760 [04:45<43:21,  2.36it/s, Average Loss=0.569, Epoch=1]\u001b[A\n",
            "Train:   9%|▉         | 610/6760 [04:45<43:21,  2.36it/s, Average Loss=0.491, Epoch=1]\u001b[A\n",
            "Train:   9%|▉         | 620/6760 [04:49<43:13,  2.37it/s, Average Loss=0.491, Epoch=1]\u001b[A\n",
            "Train:   9%|▉         | 620/6760 [04:49<43:13,  2.37it/s, Average Loss=0.43, Epoch=1] \u001b[A\n",
            "Train:   9%|▉         | 630/6760 [04:53<43:07,  2.37it/s, Average Loss=0.43, Epoch=1]\u001b[A\n",
            "Train:   9%|▉         | 630/6760 [04:53<43:07,  2.37it/s, Average Loss=0.44, Epoch=1]\u001b[A\n",
            "Train:   9%|▉         | 640/6760 [04:57<43:10,  2.36it/s, Average Loss=0.44, Epoch=1]\u001b[A\n",
            "Train:   9%|▉         | 640/6760 [04:57<43:10,  2.36it/s, Average Loss=0.494, Epoch=1]\u001b[A\n",
            "Train:  10%|▉         | 650/6760 [05:02<43:07,  2.36it/s, Average Loss=0.494, Epoch=1]\u001b[A\n",
            "Train:  10%|▉         | 650/6760 [05:02<43:07,  2.36it/s, Average Loss=0.573, Epoch=1]\u001b[A\n",
            "Train:  10%|▉         | 660/6760 [05:06<42:58,  2.37it/s, Average Loss=0.573, Epoch=1]\u001b[A\n",
            "Train:  10%|▉         | 660/6760 [05:06<42:58,  2.37it/s, Average Loss=0.581, Epoch=1]\u001b[A\n",
            "Train:  10%|▉         | 670/6760 [05:10<42:51,  2.37it/s, Average Loss=0.581, Epoch=1]\u001b[A\n",
            "Train:  10%|▉         | 670/6760 [05:10<42:51,  2.37it/s, Average Loss=0.5, Epoch=1]  \u001b[A"
          ]
        },
        {
          "output_type": "stream",
          "name": "stdout",
          "text": [
            "Validation: [Epoch: 1, Macro F1: 0.5110145620748299, Validation Loss: 0.6169580921184185, Time per Epoch: 152.28039169311523]\n",
            "Begin Epoch 2\n"
          ]
        },
        {
          "output_type": "stream",
          "name": "stderr",
          "text": [
            "\n",
            "Train:  10%|█         | 680/6760 [05:29<1:26:30,  1.17it/s, Average Loss=0.5, Epoch=1]\u001b[A\n",
            "Train:  10%|█         | 680/6760 [05:29<1:26:30,  1.17it/s, Average Loss=0.483, Epoch=2]\u001b[A\n",
            "Train:  10%|█         | 690/6760 [05:33<1:13:18,  1.38it/s, Average Loss=0.483, Epoch=2]\u001b[A\n",
            "Train:  10%|█         | 690/6760 [05:33<1:13:18,  1.38it/s, Average Loss=0.64, Epoch=2] \u001b[A\n",
            "Train:  10%|█         | 700/6760 [05:37<1:03:59,  1.58it/s, Average Loss=0.64, Epoch=2]\u001b[A\n",
            "Train:  10%|█         | 700/6760 [05:37<1:03:59,  1.58it/s, Average Loss=0.464, Epoch=2]\u001b[A\n",
            "Train:  11%|█         | 710/6760 [05:41<57:26,  1.76it/s, Average Loss=0.464, Epoch=2]  \u001b[A\n",
            "Train:  11%|█         | 710/6760 [05:41<57:26,  1.76it/s, Average Loss=0.434, Epoch=2]\u001b[A\n",
            "Train:  11%|█         | 720/6760 [05:46<52:56,  1.90it/s, Average Loss=0.434, Epoch=2]\u001b[A\n",
            "Train:  11%|█         | 720/6760 [05:46<52:56,  1.90it/s, Average Loss=0.541, Epoch=2]\u001b[A\n",
            "Train:  11%|█         | 730/6760 [05:50<49:53,  2.01it/s, Average Loss=0.541, Epoch=2]\u001b[A\n",
            "Train:  11%|█         | 730/6760 [05:50<49:53,  2.01it/s, Average Loss=0.456, Epoch=2]\u001b[A\n",
            "Train:  11%|█         | 740/6760 [05:54<47:41,  2.10it/s, Average Loss=0.456, Epoch=2]\u001b[A\n",
            "Train:  11%|█         | 740/6760 [05:54<47:41,  2.10it/s, Average Loss=0.47, Epoch=2] \u001b[A\n",
            "Train:  11%|█         | 750/6760 [05:58<46:04,  2.17it/s, Average Loss=0.47, Epoch=2]\u001b[A\n",
            "Train:  11%|█         | 750/6760 [05:58<46:04,  2.17it/s, Average Loss=0.537, Epoch=2]\u001b[A\n",
            "Train:  11%|█         | 760/6760 [06:03<44:56,  2.23it/s, Average Loss=0.537, Epoch=2]\u001b[A\n",
            "Train:  11%|█         | 760/6760 [06:03<44:56,  2.23it/s, Average Loss=0.42, Epoch=2] \u001b[A\n",
            "Train:  11%|█▏        | 770/6760 [06:07<44:15,  2.26it/s, Average Loss=0.42, Epoch=2]\u001b[A\n",
            "Train:  11%|█▏        | 770/6760 [06:07<44:15,  2.26it/s, Average Loss=0.468, Epoch=2]\u001b[A\n",
            "Train:  12%|█▏        | 780/6760 [06:11<43:39,  2.28it/s, Average Loss=0.468, Epoch=2]\u001b[A\n",
            "Train:  12%|█▏        | 780/6760 [06:11<43:39,  2.28it/s, Average Loss=0.412, Epoch=2]\u001b[A\n",
            "Train:  12%|█▏        | 790/6760 [06:15<43:06,  2.31it/s, Average Loss=0.412, Epoch=2]\u001b[A\n",
            "Train:  12%|█▏        | 790/6760 [06:15<43:06,  2.31it/s, Average Loss=0.511, Epoch=2]\u001b[A\n",
            "Train:  12%|█▏        | 800/6760 [06:20<42:39,  2.33it/s, Average Loss=0.511, Epoch=2]\u001b[A\n",
            "Train:  12%|█▏        | 800/6760 [06:20<42:39,  2.33it/s, Average Loss=0.508, Epoch=2]\u001b[A\n",
            "Train:  12%|█▏        | 810/6760 [06:24<42:29,  2.33it/s, Average Loss=0.508, Epoch=2]\u001b[A\n",
            "Train:  12%|█▏        | 810/6760 [06:24<42:29,  2.33it/s, Average Loss=0.484, Epoch=2]\u001b[A\n",
            "Train:  12%|█▏        | 820/6760 [06:28<42:17,  2.34it/s, Average Loss=0.484, Epoch=2]\u001b[A\n",
            "Train:  12%|█▏        | 820/6760 [06:28<42:17,  2.34it/s, Average Loss=0.386, Epoch=2]\u001b[A\n",
            "Train:  12%|█▏        | 830/6760 [06:32<41:59,  2.35it/s, Average Loss=0.386, Epoch=2]\u001b[A\n",
            "Train:  12%|█▏        | 830/6760 [06:32<41:59,  2.35it/s, Average Loss=0.52, Epoch=2] \u001b[A\n",
            "Train:  12%|█▏        | 840/6760 [06:36<41:45,  2.36it/s, Average Loss=0.52, Epoch=2]\u001b[A\n",
            "Train:  12%|█▏        | 840/6760 [06:36<41:45,  2.36it/s, Average Loss=0.442, Epoch=2]\u001b[A\n",
            "Train:  13%|█▎        | 850/6760 [06:41<41:42,  2.36it/s, Average Loss=0.442, Epoch=2]\u001b[A\n",
            "Train:  13%|█▎        | 850/6760 [06:41<41:42,  2.36it/s, Average Loss=0.416, Epoch=2]\u001b[A\n",
            "Train:  13%|█▎        | 860/6760 [06:45<41:39,  2.36it/s, Average Loss=0.416, Epoch=2]\u001b[A\n",
            "Train:  13%|█▎        | 860/6760 [06:45<41:39,  2.36it/s, Average Loss=0.443, Epoch=2]\u001b[A\n",
            "Train:  13%|█▎        | 870/6760 [06:49<41:27,  2.37it/s, Average Loss=0.443, Epoch=2]\u001b[A\n",
            "Train:  13%|█▎        | 870/6760 [06:49<41:27,  2.37it/s, Average Loss=0.406, Epoch=2]\u001b[A\n",
            "Train:  13%|█▎        | 880/6760 [06:53<41:19,  2.37it/s, Average Loss=0.406, Epoch=2]\u001b[A\n",
            "Train:  13%|█▎        | 880/6760 [06:53<41:19,  2.37it/s, Average Loss=0.508, Epoch=2]\u001b[A\n",
            "Train:  13%|█▎        | 890/6760 [06:58<41:18,  2.37it/s, Average Loss=0.508, Epoch=2]\u001b[A\n",
            "Train:  13%|█▎        | 890/6760 [06:58<41:18,  2.37it/s, Average Loss=0.503, Epoch=2]\u001b[A\n",
            "Train:  13%|█▎        | 900/6760 [07:02<41:19,  2.36it/s, Average Loss=0.503, Epoch=2]\u001b[A\n",
            "Train:  13%|█▎        | 900/6760 [07:02<41:19,  2.36it/s, Average Loss=0.487, Epoch=2]\u001b[A\n",
            "Train:  13%|█▎        | 910/6760 [07:06<41:11,  2.37it/s, Average Loss=0.487, Epoch=2]\u001b[A\n",
            "Train:  13%|█▎        | 910/6760 [07:06<41:11,  2.37it/s, Average Loss=0.433, Epoch=2]\u001b[A\n",
            "Train:  14%|█▎        | 920/6760 [07:10<41:02,  2.37it/s, Average Loss=0.433, Epoch=2]\u001b[A\n",
            "Train:  14%|█▎        | 920/6760 [07:10<41:02,  2.37it/s, Average Loss=0.346, Epoch=2]\u001b[A\n",
            "Train:  14%|█▍        | 930/6760 [07:14<41:02,  2.37it/s, Average Loss=0.346, Epoch=2]\u001b[A\n",
            "Train:  14%|█▍        | 930/6760 [07:14<41:02,  2.37it/s, Average Loss=0.454, Epoch=2]\u001b[A\n",
            "Train:  14%|█▍        | 940/6760 [07:19<41:06,  2.36it/s, Average Loss=0.454, Epoch=2]\u001b[A\n",
            "Train:  14%|█▍        | 940/6760 [07:19<41:06,  2.36it/s, Average Loss=0.474, Epoch=2]\u001b[A\n",
            "Train:  14%|█▍        | 950/6760 [07:23<41:01,  2.36it/s, Average Loss=0.474, Epoch=2]\u001b[A\n",
            "Train:  14%|█▍        | 950/6760 [07:23<41:01,  2.36it/s, Average Loss=0.405, Epoch=2]\u001b[A\n",
            "Train:  14%|█▍        | 960/6760 [07:27<40:54,  2.36it/s, Average Loss=0.405, Epoch=2]\u001b[A\n",
            "Train:  14%|█▍        | 960/6760 [07:27<40:54,  2.36it/s, Average Loss=0.349, Epoch=2]\u001b[A\n",
            "Train:  14%|█▍        | 970/6760 [07:31<40:51,  2.36it/s, Average Loss=0.349, Epoch=2]\u001b[A\n",
            "Train:  14%|█▍        | 970/6760 [07:31<40:51,  2.36it/s, Average Loss=0.354, Epoch=2]\u001b[A\n",
            "Train:  14%|█▍        | 980/6760 [07:36<40:51,  2.36it/s, Average Loss=0.354, Epoch=2]\u001b[A\n",
            "Train:  14%|█▍        | 980/6760 [07:36<40:51,  2.36it/s, Average Loss=0.347, Epoch=2]\u001b[A\n",
            "Train:  15%|█▍        | 990/6760 [07:40<40:45,  2.36it/s, Average Loss=0.347, Epoch=2]\u001b[A\n",
            "Train:  15%|█▍        | 990/6760 [07:40<40:45,  2.36it/s, Average Loss=0.482, Epoch=2]\u001b[A\n",
            "Train:  15%|█▍        | 1000/6760 [07:44<40:36,  2.36it/s, Average Loss=0.482, Epoch=2]\u001b[A\n",
            "Train:  15%|█▍        | 1000/6760 [07:44<40:36,  2.36it/s, Average Loss=0.471, Epoch=2]\u001b[A\n",
            "Train:  15%|█▍        | 1010/6760 [07:48<40:31,  2.36it/s, Average Loss=0.471, Epoch=2]\u001b[A\n",
            "Train:  15%|█▍        | 1010/6760 [07:48<40:31,  2.36it/s, Average Loss=0.336, Epoch=2]\u001b[A"
          ]
        },
        {
          "output_type": "stream",
          "name": "stdout",
          "text": [
            "Validation: [Epoch: 2, Macro F1: 0.5207154150518158, Validation Loss: 0.7282191965469095, Time per Epoch: 152.42829608917236]\n",
            "Begin Epoch 3\n"
          ]
        },
        {
          "output_type": "stream",
          "name": "stderr",
          "text": [
            "\n",
            "Train:  15%|█▌        | 1020/6760 [08:09<1:26:39,  1.10it/s, Average Loss=0.336, Epoch=2]\u001b[A\n",
            "Train:  15%|█▌        | 1020/6760 [08:09<1:26:39,  1.10it/s, Average Loss=0.48, Epoch=3] \u001b[A\n",
            "Train:  15%|█▌        | 1030/6760 [08:13<1:12:37,  1.32it/s, Average Loss=0.48, Epoch=3]\u001b[A\n",
            "Train:  15%|█▌        | 1030/6760 [08:13<1:12:37,  1.32it/s, Average Loss=0.413, Epoch=3]\u001b[A\n",
            "Train:  15%|█▌        | 1040/6760 [08:17<1:02:42,  1.52it/s, Average Loss=0.413, Epoch=3]\u001b[A\n",
            "Train:  15%|█▌        | 1040/6760 [08:17<1:02:42,  1.52it/s, Average Loss=0.384, Epoch=3]\u001b[A\n",
            "Train:  16%|█▌        | 1050/6760 [08:21<55:49,  1.70it/s, Average Loss=0.384, Epoch=3]  \u001b[A\n",
            "Train:  16%|█▌        | 1050/6760 [08:21<55:49,  1.70it/s, Average Loss=0.294, Epoch=3]\u001b[A\n",
            "Train:  16%|█▌        | 1060/6760 [08:26<51:12,  1.86it/s, Average Loss=0.294, Epoch=3]\u001b[A\n",
            "Train:  16%|█▌        | 1060/6760 [08:26<51:12,  1.86it/s, Average Loss=0.387, Epoch=3]\u001b[A\n",
            "Train:  16%|█▌        | 1070/6760 [08:30<47:58,  1.98it/s, Average Loss=0.387, Epoch=3]\u001b[A\n",
            "Train:  16%|█▌        | 1070/6760 [08:30<47:58,  1.98it/s, Average Loss=0.331, Epoch=3]\u001b[A\n",
            "Train:  16%|█▌        | 1080/6760 [08:34<45:38,  2.07it/s, Average Loss=0.331, Epoch=3]\u001b[A\n",
            "Train:  16%|█▌        | 1080/6760 [08:34<45:38,  2.07it/s, Average Loss=0.357, Epoch=3]\u001b[A\n",
            "Train:  16%|█▌        | 1090/6760 [08:38<43:58,  2.15it/s, Average Loss=0.357, Epoch=3]\u001b[A\n",
            "Train:  16%|█▌        | 1090/6760 [08:38<43:58,  2.15it/s, Average Loss=0.422, Epoch=3]\u001b[A\n",
            "Train:  16%|█▋        | 1100/6760 [08:43<42:51,  2.20it/s, Average Loss=0.422, Epoch=3]\u001b[A\n",
            "Train:  16%|█▋        | 1100/6760 [08:43<42:51,  2.20it/s, Average Loss=0.278, Epoch=3]\u001b[A\n",
            "Train:  16%|█▋        | 1110/6760 [08:47<42:04,  2.24it/s, Average Loss=0.278, Epoch=3]\u001b[A\n",
            "Train:  16%|█▋        | 1110/6760 [08:47<42:04,  2.24it/s, Average Loss=0.363, Epoch=3]\u001b[A\n",
            "Train:  17%|█▋        | 1120/6760 [08:51<41:18,  2.28it/s, Average Loss=0.363, Epoch=3]\u001b[A\n",
            "Train:  17%|█▋        | 1120/6760 [08:51<41:18,  2.28it/s, Average Loss=0.305, Epoch=3]\u001b[A\n",
            "Train:  17%|█▋        | 1130/6760 [08:55<40:46,  2.30it/s, Average Loss=0.305, Epoch=3]\u001b[A\n",
            "Train:  17%|█▋        | 1130/6760 [08:55<40:46,  2.30it/s, Average Loss=0.302, Epoch=3]\u001b[A\n",
            "Train:  17%|█▋        | 1140/6760 [09:00<40:24,  2.32it/s, Average Loss=0.302, Epoch=3]\u001b[A\n",
            "Train:  17%|█▋        | 1140/6760 [09:00<40:24,  2.32it/s, Average Loss=0.331, Epoch=3]\u001b[A\n",
            "Train:  17%|█▋        | 1150/6760 [09:04<40:10,  2.33it/s, Average Loss=0.331, Epoch=3]\u001b[A\n",
            "Train:  17%|█▋        | 1150/6760 [09:04<40:10,  2.33it/s, Average Loss=0.37, Epoch=3] \u001b[A\n",
            "Train:  17%|█▋        | 1160/6760 [09:08<39:48,  2.34it/s, Average Loss=0.37, Epoch=3]\u001b[A\n",
            "Train:  17%|█▋        | 1160/6760 [09:08<39:48,  2.34it/s, Average Loss=0.229, Epoch=3]\u001b[A\n",
            "Train:  17%|█▋        | 1170/6760 [09:12<39:33,  2.36it/s, Average Loss=0.229, Epoch=3]\u001b[A\n",
            "Train:  17%|█▋        | 1170/6760 [09:12<39:33,  2.36it/s, Average Loss=0.415, Epoch=3]\u001b[A\n",
            "Train:  17%|█▋        | 1180/6760 [09:17<39:25,  2.36it/s, Average Loss=0.415, Epoch=3]\u001b[A\n",
            "Train:  17%|█▋        | 1180/6760 [09:17<39:25,  2.36it/s, Average Loss=0.244, Epoch=3]\u001b[A\n",
            "Train:  18%|█▊        | 1190/6760 [09:21<39:23,  2.36it/s, Average Loss=0.244, Epoch=3]\u001b[A\n",
            "Train:  18%|█▊        | 1190/6760 [09:21<39:23,  2.36it/s, Average Loss=0.3, Epoch=3]  \u001b[A\n",
            "Train:  18%|█▊        | 1200/6760 [09:25<39:09,  2.37it/s, Average Loss=0.3, Epoch=3]\u001b[A\n",
            "Train:  18%|█▊        | 1200/6760 [09:25<39:09,  2.37it/s, Average Loss=0.309, Epoch=3]\u001b[A\n",
            "Train:  18%|█▊        | 1210/6760 [09:29<38:59,  2.37it/s, Average Loss=0.309, Epoch=3]\u001b[A\n",
            "Train:  18%|█▊        | 1210/6760 [09:29<38:59,  2.37it/s, Average Loss=0.343, Epoch=3]\u001b[A\n",
            "Train:  18%|█▊        | 1220/6760 [09:33<38:56,  2.37it/s, Average Loss=0.343, Epoch=3]\u001b[A\n",
            "Train:  18%|█▊        | 1220/6760 [09:33<38:56,  2.37it/s, Average Loss=0.37, Epoch=3] \u001b[A\n",
            "Train:  18%|█▊        | 1230/6760 [09:38<38:56,  2.37it/s, Average Loss=0.37, Epoch=3]\u001b[A\n",
            "Train:  18%|█▊        | 1230/6760 [09:38<38:56,  2.37it/s, Average Loss=0.372, Epoch=3]\u001b[A\n",
            "Train:  18%|█▊        | 1240/6760 [09:42<38:50,  2.37it/s, Average Loss=0.372, Epoch=3]\u001b[A\n",
            "Train:  18%|█▊        | 1240/6760 [09:42<38:50,  2.37it/s, Average Loss=0.35, Epoch=3] \u001b[A\n",
            "Train:  18%|█▊        | 1250/6760 [09:46<38:41,  2.37it/s, Average Loss=0.35, Epoch=3]\u001b[A\n",
            "Train:  18%|█▊        | 1250/6760 [09:46<38:41,  2.37it/s, Average Loss=0.324, Epoch=3]\u001b[A\n",
            "Train:  19%|█▊        | 1260/6760 [09:50<38:38,  2.37it/s, Average Loss=0.324, Epoch=3]\u001b[A\n",
            "Train:  19%|█▊        | 1260/6760 [09:50<38:38,  2.37it/s, Average Loss=0.279, Epoch=3]\u001b[A\n",
            "Train:  19%|█▉        | 1270/6760 [09:55<38:41,  2.36it/s, Average Loss=0.279, Epoch=3]\u001b[A\n",
            "Train:  19%|█▉        | 1270/6760 [09:55<38:41,  2.36it/s, Average Loss=0.337, Epoch=3]\u001b[A\n",
            "Train:  19%|█▉        | 1280/6760 [09:59<38:39,  2.36it/s, Average Loss=0.337, Epoch=3]\u001b[A\n",
            "Train:  19%|█▉        | 1280/6760 [09:59<38:39,  2.36it/s, Average Loss=0.396, Epoch=3]\u001b[A\n",
            "Train:  19%|█▉        | 1290/6760 [10:03<38:32,  2.37it/s, Average Loss=0.396, Epoch=3]\u001b[A\n",
            "Train:  19%|█▉        | 1290/6760 [10:03<38:32,  2.37it/s, Average Loss=0.296, Epoch=3]\u001b[A\n",
            "Train:  19%|█▉        | 1300/6760 [10:07<38:28,  2.37it/s, Average Loss=0.296, Epoch=3]\u001b[A\n",
            "Train:  19%|█▉        | 1300/6760 [10:07<38:28,  2.37it/s, Average Loss=0.27, Epoch=3] \u001b[A\n",
            "Train:  19%|█▉        | 1310/6760 [10:11<38:29,  2.36it/s, Average Loss=0.27, Epoch=3]\u001b[A\n",
            "Train:  19%|█▉        | 1310/6760 [10:11<38:29,  2.36it/s, Average Loss=0.264, Epoch=3]\u001b[A\n",
            "Train:  20%|█▉        | 1320/6760 [10:16<38:25,  2.36it/s, Average Loss=0.264, Epoch=3]\u001b[A\n",
            "Train:  20%|█▉        | 1320/6760 [10:16<38:25,  2.36it/s, Average Loss=0.36, Epoch=3] \u001b[A\n",
            "Train:  20%|█▉        | 1330/6760 [10:20<38:18,  2.36it/s, Average Loss=0.36, Epoch=3]\u001b[A\n",
            "Train:  20%|█▉        | 1330/6760 [10:20<38:18,  2.36it/s, Average Loss=0.39, Epoch=3]\u001b[A\n",
            "Train:  20%|█▉        | 1340/6760 [10:24<38:11,  2.36it/s, Average Loss=0.39, Epoch=3]\u001b[A\n",
            "Train:  20%|█▉        | 1340/6760 [10:24<38:11,  2.36it/s, Average Loss=0.275, Epoch=3]\u001b[A\n",
            "Train:  20%|█▉        | 1350/6760 [10:28<38:15,  2.36it/s, Average Loss=0.275, Epoch=3]\u001b[A\n",
            "Train:  20%|█▉        | 1350/6760 [10:28<38:15,  2.36it/s, Average Loss=0.214, Epoch=3]\u001b[A"
          ]
        },
        {
          "output_type": "stream",
          "name": "stdout",
          "text": [
            "Validation: [Epoch: 3, Macro F1: 0.5444550727893933, Validation Loss: 0.8983606952567433, Time per Epoch: 152.41724371910095]\n",
            "Begin Epoch 4\n"
          ]
        },
        {
          "output_type": "stream",
          "name": "stderr",
          "text": [
            "\n",
            "Train:  20%|██        | 1360/6760 [10:47<1:17:04,  1.17it/s, Average Loss=0.214, Epoch=3]\u001b[A\n",
            "Train:  20%|██        | 1360/6760 [10:47<1:17:04,  1.17it/s, Average Loss=0.441, Epoch=4]\u001b[A\n",
            "Train:  20%|██        | 1370/6760 [10:51<1:05:08,  1.38it/s, Average Loss=0.441, Epoch=4]\u001b[A\n",
            "Train:  20%|██        | 1370/6760 [10:51<1:05:08,  1.38it/s, Average Loss=0.201, Epoch=4]\u001b[A\n",
            "Train:  20%|██        | 1380/6760 [10:55<56:47,  1.58it/s, Average Loss=0.201, Epoch=4]  \u001b[A\n",
            "Train:  20%|██        | 1380/6760 [10:55<56:47,  1.58it/s, Average Loss=0.232, Epoch=4]\u001b[A\n",
            "Train:  21%|██        | 1390/6760 [11:00<51:02,  1.75it/s, Average Loss=0.232, Epoch=4]\u001b[A\n",
            "Train:  21%|██        | 1390/6760 [11:00<51:02,  1.75it/s, Average Loss=0.217, Epoch=4]\u001b[A\n",
            "Train:  21%|██        | 1400/6760 [11:04<47:09,  1.89it/s, Average Loss=0.217, Epoch=4]\u001b[A\n",
            "Train:  21%|██        | 1400/6760 [11:04<47:09,  1.89it/s, Average Loss=0.249, Epoch=4]\u001b[A\n",
            "Train:  21%|██        | 1410/6760 [11:08<44:21,  2.01it/s, Average Loss=0.249, Epoch=4]\u001b[A\n",
            "Train:  21%|██        | 1410/6760 [11:08<44:21,  2.01it/s, Average Loss=0.152, Epoch=4]\u001b[A\n",
            "Train:  21%|██        | 1420/6760 [11:12<42:19,  2.10it/s, Average Loss=0.152, Epoch=4]\u001b[A\n",
            "Train:  21%|██        | 1420/6760 [11:12<42:19,  2.10it/s, Average Loss=0.244, Epoch=4]\u001b[A\n",
            "Train:  21%|██        | 1430/6760 [11:17<40:54,  2.17it/s, Average Loss=0.244, Epoch=4]\u001b[A\n",
            "Train:  21%|██        | 1430/6760 [11:17<40:54,  2.17it/s, Average Loss=0.299, Epoch=4]\u001b[A\n",
            "Train:  21%|██▏       | 1440/6760 [11:21<39:56,  2.22it/s, Average Loss=0.299, Epoch=4]\u001b[A\n",
            "Train:  21%|██▏       | 1440/6760 [11:21<39:56,  2.22it/s, Average Loss=0.24, Epoch=4] \u001b[A\n",
            "Train:  21%|██▏       | 1450/6760 [11:25<39:12,  2.26it/s, Average Loss=0.24, Epoch=4]\u001b[A\n",
            "Train:  21%|██▏       | 1450/6760 [11:25<39:12,  2.26it/s, Average Loss=0.224, Epoch=4]\u001b[A\n",
            "Train:  22%|██▏       | 1460/6760 [11:29<38:34,  2.29it/s, Average Loss=0.224, Epoch=4]\u001b[A\n",
            "Train:  22%|██▏       | 1460/6760 [11:29<38:34,  2.29it/s, Average Loss=0.22, Epoch=4] \u001b[A\n",
            "Train:  22%|██▏       | 1470/6760 [11:34<38:07,  2.31it/s, Average Loss=0.22, Epoch=4]\u001b[A\n",
            "Train:  22%|██▏       | 1470/6760 [11:34<38:07,  2.31it/s, Average Loss=0.219, Epoch=4]\u001b[A\n",
            "Train:  22%|██▏       | 1480/6760 [11:38<37:57,  2.32it/s, Average Loss=0.219, Epoch=4]\u001b[A\n",
            "Train:  22%|██▏       | 1480/6760 [11:38<37:57,  2.32it/s, Average Loss=0.203, Epoch=4]\u001b[A\n",
            "Train:  22%|██▏       | 1490/6760 [11:42<37:41,  2.33it/s, Average Loss=0.203, Epoch=4]\u001b[A\n",
            "Train:  22%|██▏       | 1490/6760 [11:42<37:41,  2.33it/s, Average Loss=0.286, Epoch=4]\u001b[A\n",
            "Train:  22%|██▏       | 1500/6760 [11:46<37:21,  2.35it/s, Average Loss=0.286, Epoch=4]\u001b[A\n",
            "Train:  22%|██▏       | 1500/6760 [11:46<37:21,  2.35it/s, Average Loss=0.162, Epoch=4]\u001b[A\n",
            "Train:  22%|██▏       | 1510/6760 [11:51<37:10,  2.35it/s, Average Loss=0.162, Epoch=4]\u001b[A\n",
            "Train:  22%|██▏       | 1510/6760 [11:51<37:10,  2.35it/s, Average Loss=0.232, Epoch=4]\u001b[A\n",
            "Train:  22%|██▏       | 1520/6760 [11:55<37:05,  2.35it/s, Average Loss=0.232, Epoch=4]\u001b[A\n",
            "Train:  22%|██▏       | 1520/6760 [11:55<37:05,  2.35it/s, Average Loss=0.154, Epoch=4]\u001b[A\n",
            "Train:  23%|██▎       | 1530/6760 [11:59<36:59,  2.36it/s, Average Loss=0.154, Epoch=4]\u001b[A\n",
            "Train:  23%|██▎       | 1530/6760 [11:59<36:59,  2.36it/s, Average Loss=0.279, Epoch=4]\u001b[A\n",
            "Train:  23%|██▎       | 1540/6760 [12:03<36:46,  2.37it/s, Average Loss=0.279, Epoch=4]\u001b[A\n",
            "Train:  23%|██▎       | 1540/6760 [12:03<36:46,  2.37it/s, Average Loss=0.204, Epoch=4]\u001b[A\n",
            "Train:  23%|██▎       | 1550/6760 [12:08<36:38,  2.37it/s, Average Loss=0.204, Epoch=4]\u001b[A\n",
            "Train:  23%|██▎       | 1550/6760 [12:08<36:38,  2.37it/s, Average Loss=0.314, Epoch=4]\u001b[A\n",
            "Train:  23%|██▎       | 1560/6760 [12:12<36:36,  2.37it/s, Average Loss=0.314, Epoch=4]\u001b[A\n",
            "Train:  23%|██▎       | 1560/6760 [12:12<36:36,  2.37it/s, Average Loss=0.277, Epoch=4]\u001b[A\n",
            "Train:  23%|██▎       | 1570/6760 [12:16<36:34,  2.36it/s, Average Loss=0.277, Epoch=4]\u001b[A\n",
            "Train:  23%|██▎       | 1570/6760 [12:16<36:34,  2.36it/s, Average Loss=0.237, Epoch=4]\u001b[A\n",
            "Train:  23%|██▎       | 1580/6760 [12:20<36:26,  2.37it/s, Average Loss=0.237, Epoch=4]\u001b[A\n",
            "Train:  23%|██▎       | 1580/6760 [12:20<36:26,  2.37it/s, Average Loss=0.243, Epoch=4]\u001b[A\n",
            "Train:  24%|██▎       | 1590/6760 [12:24<36:19,  2.37it/s, Average Loss=0.243, Epoch=4]\u001b[A\n",
            "Train:  24%|██▎       | 1590/6760 [12:24<36:19,  2.37it/s, Average Loss=0.186, Epoch=4]\u001b[A\n",
            "Train:  24%|██▎       | 1600/6760 [12:29<36:21,  2.37it/s, Average Loss=0.186, Epoch=4]\u001b[A\n",
            "Train:  24%|██▎       | 1600/6760 [12:29<36:21,  2.37it/s, Average Loss=0.191, Epoch=4]\u001b[A\n",
            "Train:  24%|██▍       | 1610/6760 [12:33<36:21,  2.36it/s, Average Loss=0.191, Epoch=4]\u001b[A\n",
            "Train:  24%|██▍       | 1610/6760 [12:33<36:21,  2.36it/s, Average Loss=0.171, Epoch=4]\u001b[A\n",
            "Train:  24%|██▍       | 1620/6760 [12:37<36:13,  2.37it/s, Average Loss=0.171, Epoch=4]\u001b[A\n",
            "Train:  24%|██▍       | 1620/6760 [12:37<36:13,  2.37it/s, Average Loss=0.295, Epoch=4]\u001b[A\n",
            "Train:  24%|██▍       | 1630/6760 [12:41<36:06,  2.37it/s, Average Loss=0.295, Epoch=4]\u001b[A\n",
            "Train:  24%|██▍       | 1630/6760 [12:41<36:06,  2.37it/s, Average Loss=0.149, Epoch=4]\u001b[A\n",
            "Train:  24%|██▍       | 1640/6760 [12:46<36:05,  2.36it/s, Average Loss=0.149, Epoch=4]\u001b[A\n",
            "Train:  24%|██▍       | 1640/6760 [12:46<36:05,  2.36it/s, Average Loss=0.17, Epoch=4] \u001b[A\n",
            "Train:  24%|██▍       | 1650/6760 [12:50<36:08,  2.36it/s, Average Loss=0.17, Epoch=4]\u001b[A\n",
            "Train:  24%|██▍       | 1650/6760 [12:50<36:08,  2.36it/s, Average Loss=0.149, Epoch=4]\u001b[A\n",
            "Train:  25%|██▍       | 1660/6760 [12:54<36:00,  2.36it/s, Average Loss=0.149, Epoch=4]\u001b[A\n",
            "Train:  25%|██▍       | 1660/6760 [12:54<36:00,  2.36it/s, Average Loss=0.195, Epoch=4]\u001b[A\n",
            "Train:  25%|██▍       | 1670/6760 [12:58<35:54,  2.36it/s, Average Loss=0.195, Epoch=4]\u001b[A\n",
            "Train:  25%|██▍       | 1670/6760 [12:58<35:54,  2.36it/s, Average Loss=0.218, Epoch=4]\u001b[A\n",
            "Train:  25%|██▍       | 1680/6760 [13:03<35:52,  2.36it/s, Average Loss=0.218, Epoch=4]\u001b[A\n",
            "Train:  25%|██▍       | 1680/6760 [13:03<35:52,  2.36it/s, Average Loss=0.153, Epoch=4]\u001b[A\n",
            "Train:  25%|██▌       | 1690/6760 [13:07<35:47,  2.36it/s, Average Loss=0.153, Epoch=4]\u001b[A\n",
            "Train:  25%|██▌       | 1690/6760 [13:07<35:47,  2.36it/s, Average Loss=0.133, Epoch=4]\u001b[A"
          ]
        },
        {
          "output_type": "stream",
          "name": "stdout",
          "text": [
            "Validation: [Epoch: 4, Macro F1: 0.5038496688305829, Validation Loss: 1.044020069199939, Time per Epoch: 152.457102060318]\n",
            "Begin Epoch 5\n"
          ]
        },
        {
          "output_type": "stream",
          "name": "stderr",
          "text": [
            "\n",
            "Train:  25%|██▌       | 1700/6760 [13:20<59:17,  1.42it/s, Average Loss=0.133, Epoch=4]\u001b[A\n",
            "Train:  25%|██▌       | 1700/6760 [13:20<59:17,  1.42it/s, Average Loss=0.255, Epoch=5]\u001b[A\n",
            "Train:  25%|██▌       | 1710/6760 [13:25<52:07,  1.61it/s, Average Loss=0.255, Epoch=5]\u001b[A\n",
            "Train:  25%|██▌       | 1710/6760 [13:25<52:07,  1.61it/s, Average Loss=0.178, Epoch=5]\u001b[A\n",
            "Train:  25%|██▌       | 1720/6760 [13:29<46:59,  1.79it/s, Average Loss=0.178, Epoch=5]\u001b[A\n",
            "Train:  25%|██▌       | 1720/6760 [13:29<46:59,  1.79it/s, Average Loss=0.149, Epoch=5]\u001b[A\n",
            "Train:  26%|██▌       | 1730/6760 [13:33<43:24,  1.93it/s, Average Loss=0.149, Epoch=5]\u001b[A\n",
            "Train:  26%|██▌       | 1730/6760 [13:33<43:24,  1.93it/s, Average Loss=0.18, Epoch=5] \u001b[A\n",
            "Train:  26%|██▌       | 1740/6760 [13:37<40:56,  2.04it/s, Average Loss=0.18, Epoch=5]\u001b[A\n",
            "Train:  26%|██▌       | 1740/6760 [13:37<40:56,  2.04it/s, Average Loss=0.18, Epoch=5]\u001b[A\n",
            "Train:  26%|██▌       | 1750/6760 [13:41<39:11,  2.13it/s, Average Loss=0.18, Epoch=5]\u001b[A\n",
            "Train:  26%|██▌       | 1750/6760 [13:41<39:11,  2.13it/s, Average Loss=0.1, Epoch=5] \u001b[A\n",
            "Train:  26%|██▌       | 1760/6760 [13:46<37:54,  2.20it/s, Average Loss=0.1, Epoch=5]\u001b[A\n",
            "Train:  26%|██▌       | 1760/6760 [13:46<37:54,  2.20it/s, Average Loss=0.176, Epoch=5]\u001b[A\n",
            "Train:  26%|██▌       | 1770/6760 [13:50<36:57,  2.25it/s, Average Loss=0.176, Epoch=5]\u001b[A\n",
            "Train:  26%|██▌       | 1770/6760 [13:50<36:57,  2.25it/s, Average Loss=0.18, Epoch=5] \u001b[A\n",
            "Train:  26%|██▋       | 1780/6760 [13:54<36:17,  2.29it/s, Average Loss=0.18, Epoch=5]\u001b[A\n",
            "Train:  26%|██▋       | 1780/6760 [13:54<36:17,  2.29it/s, Average Loss=0.227, Epoch=5]\u001b[A\n",
            "Train:  26%|██▋       | 1790/6760 [13:58<35:56,  2.30it/s, Average Loss=0.227, Epoch=5]\u001b[A\n",
            "Train:  26%|██▋       | 1790/6760 [13:58<35:56,  2.30it/s, Average Loss=0.157, Epoch=5]\u001b[A\n",
            "Train:  27%|██▋       | 1800/6760 [14:03<35:33,  2.32it/s, Average Loss=0.157, Epoch=5]\u001b[A\n",
            "Train:  27%|██▋       | 1800/6760 [14:03<35:33,  2.32it/s, Average Loss=0.168, Epoch=5]\u001b[A\n",
            "Train:  27%|██▋       | 1810/6760 [14:07<35:14,  2.34it/s, Average Loss=0.168, Epoch=5]\u001b[A\n",
            "Train:  27%|██▋       | 1810/6760 [14:07<35:14,  2.34it/s, Average Loss=0.252, Epoch=5]\u001b[A\n",
            "Train:  27%|██▋       | 1820/6760 [14:11<35:02,  2.35it/s, Average Loss=0.252, Epoch=5]\u001b[A\n",
            "Train:  27%|██▋       | 1820/6760 [14:11<35:02,  2.35it/s, Average Loss=0.161, Epoch=5]\u001b[A\n",
            "Train:  27%|██▋       | 1830/6760 [14:15<34:56,  2.35it/s, Average Loss=0.161, Epoch=5]\u001b[A\n",
            "Train:  27%|██▋       | 1830/6760 [14:15<34:56,  2.35it/s, Average Loss=0.196, Epoch=5]\u001b[A\n",
            "Train:  27%|██▋       | 1840/6760 [14:19<34:48,  2.36it/s, Average Loss=0.196, Epoch=5]\u001b[A\n",
            "Train:  27%|██▋       | 1840/6760 [14:19<34:48,  2.36it/s, Average Loss=0.113, Epoch=5]\u001b[A\n",
            "Train:  27%|██▋       | 1850/6760 [14:24<34:39,  2.36it/s, Average Loss=0.113, Epoch=5]\u001b[A\n",
            "Train:  27%|██▋       | 1850/6760 [14:24<34:39,  2.36it/s, Average Loss=0.174, Epoch=5]\u001b[A\n",
            "Train:  28%|██▊       | 1860/6760 [14:28<34:32,  2.36it/s, Average Loss=0.174, Epoch=5]\u001b[A\n",
            "Train:  28%|██▊       | 1860/6760 [14:28<34:32,  2.36it/s, Average Loss=0.107, Epoch=5]\u001b[A\n",
            "Train:  28%|██▊       | 1870/6760 [14:32<34:33,  2.36it/s, Average Loss=0.107, Epoch=5]\u001b[A\n",
            "Train:  28%|██▊       | 1870/6760 [14:32<34:33,  2.36it/s, Average Loss=0.187, Epoch=5]\u001b[A\n",
            "Train:  28%|██▊       | 1880/6760 [14:36<34:28,  2.36it/s, Average Loss=0.187, Epoch=5]\u001b[A\n",
            "Train:  28%|██▊       | 1880/6760 [14:36<34:28,  2.36it/s, Average Loss=0.153, Epoch=5]\u001b[A\n",
            "Train:  28%|██▊       | 1890/6760 [14:41<34:20,  2.36it/s, Average Loss=0.153, Epoch=5]\u001b[A\n",
            "Train:  28%|██▊       | 1890/6760 [14:41<34:20,  2.36it/s, Average Loss=0.198, Epoch=5]\u001b[A\n",
            "Train:  28%|██▊       | 1900/6760 [14:45<34:14,  2.37it/s, Average Loss=0.198, Epoch=5]\u001b[A\n",
            "Train:  28%|██▊       | 1900/6760 [14:45<34:14,  2.37it/s, Average Loss=0.24, Epoch=5] \u001b[A\n",
            "Train:  28%|██▊       | 1910/6760 [14:49<34:14,  2.36it/s, Average Loss=0.24, Epoch=5]\u001b[A\n",
            "Train:  28%|██▊       | 1910/6760 [14:49<34:14,  2.36it/s, Average Loss=0.0782, Epoch=5]\u001b[A\n",
            "Train:  28%|██▊       | 1920/6760 [14:53<34:11,  2.36it/s, Average Loss=0.0782, Epoch=5]\u001b[A\n",
            "Train:  28%|██▊       | 1920/6760 [14:53<34:11,  2.36it/s, Average Loss=0.188, Epoch=5] \u001b[A\n",
            "Train:  29%|██▊       | 1930/6760 [14:57<34:03,  2.36it/s, Average Loss=0.188, Epoch=5]\u001b[A\n",
            "Train:  29%|██▊       | 1930/6760 [14:57<34:03,  2.36it/s, Average Loss=0.121, Epoch=5]\u001b[A\n",
            "Train:  29%|██▊       | 1940/6760 [15:02<33:55,  2.37it/s, Average Loss=0.121, Epoch=5]\u001b[A\n",
            "Train:  29%|██▊       | 1940/6760 [15:02<33:55,  2.37it/s, Average Loss=0.122, Epoch=5]\u001b[A\n",
            "Train:  29%|██▉       | 1950/6760 [15:06<33:55,  2.36it/s, Average Loss=0.122, Epoch=5]\u001b[A\n",
            "Train:  29%|██▉       | 1950/6760 [15:06<33:55,  2.36it/s, Average Loss=0.107, Epoch=5]\u001b[A\n",
            "Train:  29%|██▉       | 1960/6760 [15:10<33:53,  2.36it/s, Average Loss=0.107, Epoch=5]\u001b[A\n",
            "Train:  29%|██▉       | 1960/6760 [15:10<33:53,  2.36it/s, Average Loss=0.146, Epoch=5]\u001b[A\n",
            "Train:  29%|██▉       | 1970/6760 [15:14<33:46,  2.36it/s, Average Loss=0.146, Epoch=5]\u001b[A\n",
            "Train:  29%|██▉       | 1970/6760 [15:14<33:46,  2.36it/s, Average Loss=0.0555, Epoch=5]\u001b[A\n",
            "Train:  29%|██▉       | 1980/6760 [15:19<33:38,  2.37it/s, Average Loss=0.0555, Epoch=5]\u001b[A\n",
            "Train:  29%|██▉       | 1980/6760 [15:19<33:38,  2.37it/s, Average Loss=0.111, Epoch=5] \u001b[A\n",
            "Train:  29%|██▉       | 1990/6760 [15:23<33:37,  2.36it/s, Average Loss=0.111, Epoch=5]\u001b[A\n",
            "Train:  29%|██▉       | 1990/6760 [15:23<33:37,  2.36it/s, Average Loss=0.168, Epoch=5]\u001b[A\n",
            "Train:  30%|██▉       | 2000/6760 [15:27<33:38,  2.36it/s, Average Loss=0.168, Epoch=5]\u001b[A\n",
            "Train:  30%|██▉       | 2000/6760 [15:27<33:38,  2.36it/s, Average Loss=0.164, Epoch=5]\u001b[A\n",
            "Train:  30%|██▉       | 2010/6760 [15:31<33:29,  2.36it/s, Average Loss=0.164, Epoch=5]\u001b[A\n",
            "Train:  30%|██▉       | 2010/6760 [15:31<33:29,  2.36it/s, Average Loss=0.217, Epoch=5]\u001b[A\n",
            "Train:  30%|██▉       | 2020/6760 [15:36<33:22,  2.37it/s, Average Loss=0.217, Epoch=5]\u001b[A\n",
            "Train:  30%|██▉       | 2020/6760 [15:36<33:22,  2.37it/s, Average Loss=0.0931, Epoch=5]\u001b[A"
          ]
        },
        {
          "output_type": "stream",
          "name": "stdout",
          "text": [
            "Validation: [Epoch: 5, Macro F1: 0.5188610889617992, Validation Loss: 1.1200813581777174, Time per Epoch: 152.10613131523132]\n",
            "Begin Epoch 6\n"
          ]
        },
        {
          "output_type": "stream",
          "name": "stderr",
          "text": [
            "\n",
            "Train:  30%|███       | 2030/6760 [15:49<55:15,  1.43it/s, Average Loss=0.0931, Epoch=5]\u001b[A\n",
            "Train:  30%|███       | 2030/6760 [15:49<55:15,  1.43it/s, Average Loss=0.108, Epoch=6] \u001b[A\n",
            "Train:  30%|███       | 2040/6760 [15:53<48:31,  1.62it/s, Average Loss=0.108, Epoch=6]\u001b[A\n",
            "Train:  30%|███       | 2040/6760 [15:53<48:31,  1.62it/s, Average Loss=0.214, Epoch=6]\u001b[A\n",
            "Train:  30%|███       | 2050/6760 [15:57<43:53,  1.79it/s, Average Loss=0.214, Epoch=6]\u001b[A\n",
            "Train:  30%|███       | 2050/6760 [15:58<43:53,  1.79it/s, Average Loss=0.108, Epoch=6]\u001b[A\n",
            "Train:  30%|███       | 2060/6760 [16:02<40:40,  1.93it/s, Average Loss=0.108, Epoch=6]\u001b[A\n",
            "Train:  30%|███       | 2060/6760 [16:02<40:40,  1.93it/s, Average Loss=0.0795, Epoch=6]\u001b[A\n",
            "Train:  31%|███       | 2070/6760 [16:06<38:17,  2.04it/s, Average Loss=0.0795, Epoch=6]\u001b[A\n",
            "Train:  31%|███       | 2070/6760 [16:06<38:17,  2.04it/s, Average Loss=0.111, Epoch=6] \u001b[A\n",
            "Train:  31%|███       | 2080/6760 [16:10<36:38,  2.13it/s, Average Loss=0.111, Epoch=6]\u001b[A\n",
            "Train:  31%|███       | 2080/6760 [16:10<36:38,  2.13it/s, Average Loss=0.115, Epoch=6]\u001b[A\n",
            "Train:  31%|███       | 2090/6760 [16:14<35:29,  2.19it/s, Average Loss=0.115, Epoch=6]\u001b[A\n",
            "Train:  31%|███       | 2090/6760 [16:14<35:29,  2.19it/s, Average Loss=0.1, Epoch=6]  \u001b[A\n",
            "Train:  31%|███       | 2100/6760 [16:19<34:44,  2.24it/s, Average Loss=0.1, Epoch=6]\u001b[A\n",
            "Train:  31%|███       | 2100/6760 [16:19<34:44,  2.24it/s, Average Loss=0.206, Epoch=6]\u001b[A\n",
            "Train:  31%|███       | 2110/6760 [16:23<34:03,  2.28it/s, Average Loss=0.206, Epoch=6]\u001b[A\n",
            "Train:  31%|███       | 2110/6760 [16:23<34:03,  2.28it/s, Average Loss=0.131, Epoch=6]\u001b[A\n",
            "Train:  31%|███▏      | 2120/6760 [16:27<33:35,  2.30it/s, Average Loss=0.131, Epoch=6]\u001b[A\n",
            "Train:  31%|███▏      | 2120/6760 [16:27<33:35,  2.30it/s, Average Loss=0.176, Epoch=6]\u001b[A\n",
            "Train:  32%|███▏      | 2130/6760 [16:31<33:16,  2.32it/s, Average Loss=0.176, Epoch=6]\u001b[A\n",
            "Train:  32%|███▏      | 2130/6760 [16:31<33:16,  2.32it/s, Average Loss=0.112, Epoch=6]\u001b[A\n",
            "Train:  32%|███▏      | 2140/6760 [16:36<33:05,  2.33it/s, Average Loss=0.112, Epoch=6]\u001b[A\n",
            "Train:  32%|███▏      | 2140/6760 [16:36<33:05,  2.33it/s, Average Loss=0.105, Epoch=6]\u001b[A\n",
            "Train:  32%|███▏      | 2150/6760 [16:40<32:50,  2.34it/s, Average Loss=0.105, Epoch=6]\u001b[A\n",
            "Train:  32%|███▏      | 2150/6760 [16:40<32:50,  2.34it/s, Average Loss=0.136, Epoch=6]\u001b[A\n",
            "Train:  32%|███▏      | 2160/6760 [16:44<32:37,  2.35it/s, Average Loss=0.136, Epoch=6]\u001b[A\n",
            "Train:  32%|███▏      | 2160/6760 [16:44<32:37,  2.35it/s, Average Loss=0.123, Epoch=6]\u001b[A\n",
            "Train:  32%|███▏      | 2170/6760 [16:48<32:29,  2.35it/s, Average Loss=0.123, Epoch=6]\u001b[A\n",
            "Train:  32%|███▏      | 2170/6760 [16:48<32:29,  2.35it/s, Average Loss=0.141, Epoch=6]\u001b[A\n",
            "Train:  32%|███▏      | 2180/6760 [16:53<32:27,  2.35it/s, Average Loss=0.141, Epoch=6]\u001b[A\n",
            "Train:  32%|███▏      | 2180/6760 [16:53<32:27,  2.35it/s, Average Loss=0.146, Epoch=6]\u001b[A\n",
            "Train:  32%|███▏      | 2190/6760 [16:57<32:19,  2.36it/s, Average Loss=0.146, Epoch=6]\u001b[A\n",
            "Train:  32%|███▏      | 2190/6760 [16:57<32:19,  2.36it/s, Average Loss=0.0925, Epoch=6]\u001b[A\n",
            "Train:  33%|███▎      | 2200/6760 [17:01<32:09,  2.36it/s, Average Loss=0.0925, Epoch=6]\u001b[A\n",
            "Train:  33%|███▎      | 2200/6760 [17:01<32:09,  2.36it/s, Average Loss=0.0975, Epoch=6]\u001b[A\n",
            "Train:  33%|███▎      | 2210/6760 [17:05<32:03,  2.37it/s, Average Loss=0.0975, Epoch=6]\u001b[A\n",
            "Train:  33%|███▎      | 2210/6760 [17:05<32:03,  2.37it/s, Average Loss=0.116, Epoch=6] \u001b[A\n",
            "Train:  33%|███▎      | 2220/6760 [17:09<32:01,  2.36it/s, Average Loss=0.116, Epoch=6]\u001b[A\n",
            "Train:  33%|███▎      | 2220/6760 [17:09<32:01,  2.36it/s, Average Loss=0.0916, Epoch=6]\u001b[A\n",
            "Train:  33%|███▎      | 2230/6760 [17:14<31:57,  2.36it/s, Average Loss=0.0916, Epoch=6]\u001b[A\n",
            "Train:  33%|███▎      | 2230/6760 [17:14<31:57,  2.36it/s, Average Loss=0.134, Epoch=6] \u001b[A\n",
            "Train:  33%|███▎      | 2240/6760 [17:18<31:47,  2.37it/s, Average Loss=0.134, Epoch=6]\u001b[A\n",
            "Train:  33%|███▎      | 2240/6760 [17:18<31:47,  2.37it/s, Average Loss=0.132, Epoch=6]\u001b[A\n",
            "Train:  33%|███▎      | 2250/6760 [17:22<31:42,  2.37it/s, Average Loss=0.132, Epoch=6]\u001b[A\n",
            "Train:  33%|███▎      | 2250/6760 [17:22<31:42,  2.37it/s, Average Loss=0.117, Epoch=6]\u001b[A\n",
            "Train:  33%|███▎      | 2260/6760 [17:26<31:42,  2.37it/s, Average Loss=0.117, Epoch=6]\u001b[A\n",
            "Train:  33%|███▎      | 2260/6760 [17:26<31:42,  2.37it/s, Average Loss=0.158, Epoch=6]\u001b[A\n",
            "Train:  34%|███▎      | 2270/6760 [17:31<31:39,  2.36it/s, Average Loss=0.158, Epoch=6]\u001b[A\n",
            "Train:  34%|███▎      | 2270/6760 [17:31<31:39,  2.36it/s, Average Loss=0.0739, Epoch=6]\u001b[A\n",
            "Train:  34%|███▎      | 2280/6760 [17:35<31:30,  2.37it/s, Average Loss=0.0739, Epoch=6]\u001b[A\n",
            "Train:  34%|███▎      | 2280/6760 [17:35<31:30,  2.37it/s, Average Loss=0.0963, Epoch=6]\u001b[A\n",
            "Train:  34%|███▍      | 2290/6760 [17:39<31:24,  2.37it/s, Average Loss=0.0963, Epoch=6]\u001b[A\n",
            "Train:  34%|███▍      | 2290/6760 [17:39<31:24,  2.37it/s, Average Loss=0.0845, Epoch=6]\u001b[A\n",
            "Train:  34%|███▍      | 2300/6760 [17:43<31:26,  2.36it/s, Average Loss=0.0845, Epoch=6]\u001b[A\n",
            "Train:  34%|███▍      | 2300/6760 [17:43<31:26,  2.36it/s, Average Loss=0.108, Epoch=6] \u001b[A\n",
            "Train:  34%|███▍      | 2310/6760 [17:48<31:24,  2.36it/s, Average Loss=0.108, Epoch=6]\u001b[A\n",
            "Train:  34%|███▍      | 2310/6760 [17:48<31:24,  2.36it/s, Average Loss=0.0653, Epoch=6]\u001b[A\n",
            "Train:  34%|███▍      | 2320/6760 [17:52<31:16,  2.37it/s, Average Loss=0.0653, Epoch=6]\u001b[A\n",
            "Train:  34%|███▍      | 2320/6760 [17:52<31:16,  2.37it/s, Average Loss=0.104, Epoch=6] \u001b[A\n",
            "Train:  34%|███▍      | 2330/6760 [17:56<31:11,  2.37it/s, Average Loss=0.104, Epoch=6]\u001b[A\n",
            "Train:  34%|███▍      | 2330/6760 [17:56<31:11,  2.37it/s, Average Loss=0.128, Epoch=6]\u001b[A\n",
            "Train:  35%|███▍      | 2340/6760 [18:00<31:11,  2.36it/s, Average Loss=0.128, Epoch=6]\u001b[A\n",
            "Train:  35%|███▍      | 2340/6760 [18:00<31:11,  2.36it/s, Average Loss=0.14, Epoch=6] \u001b[A\n",
            "Train:  35%|███▍      | 2350/6760 [18:04<31:08,  2.36it/s, Average Loss=0.14, Epoch=6]\u001b[A\n",
            "Train:  35%|███▍      | 2350/6760 [18:04<31:08,  2.36it/s, Average Loss=0.178, Epoch=6]\u001b[A\n",
            "Train:  35%|███▍      | 2360/6760 [18:09<31:00,  2.37it/s, Average Loss=0.178, Epoch=6]\u001b[A\n",
            "Train:  35%|███▍      | 2360/6760 [18:09<31:00,  2.37it/s, Average Loss=0.0678, Epoch=6]\u001b[A"
          ]
        },
        {
          "output_type": "stream",
          "name": "stdout",
          "text": [
            "Validation: [Epoch: 6, Macro F1: 0.5366859178207218, Validation Loss: 1.1788012953691704, Time per Epoch: 152.43746185302734]\n",
            "Begin Epoch 7\n"
          ]
        },
        {
          "output_type": "stream",
          "name": "stderr",
          "text": [
            "\n",
            "Train:  35%|███▌      | 2370/6760 [18:22<51:43,  1.41it/s, Average Loss=0.0678, Epoch=6]\u001b[A\n",
            "Train:  35%|███▌      | 2370/6760 [18:22<51:43,  1.41it/s, Average Loss=0.115, Epoch=7] \u001b[A\n",
            "Train:  35%|███▌      | 2380/6760 [18:27<45:19,  1.61it/s, Average Loss=0.115, Epoch=7]\u001b[A\n",
            "Train:  35%|███▌      | 2380/6760 [18:27<45:19,  1.61it/s, Average Loss=0.16, Epoch=7] \u001b[A\n",
            "Train:  35%|███▌      | 2390/6760 [18:31<40:49,  1.78it/s, Average Loss=0.16, Epoch=7]\u001b[A\n",
            "Train:  35%|███▌      | 2390/6760 [18:31<40:49,  1.78it/s, Average Loss=0.0792, Epoch=7]\u001b[A\n",
            "Train:  36%|███▌      | 2400/6760 [18:35<37:46,  1.92it/s, Average Loss=0.0792, Epoch=7]\u001b[A\n",
            "Train:  36%|███▌      | 2400/6760 [18:35<37:46,  1.92it/s, Average Loss=0.0367, Epoch=7]\u001b[A\n",
            "Train:  36%|███▌      | 2410/6760 [18:39<35:38,  2.03it/s, Average Loss=0.0367, Epoch=7]\u001b[A\n",
            "Train:  36%|███▌      | 2410/6760 [18:39<35:38,  2.03it/s, Average Loss=0.108, Epoch=7] \u001b[A\n",
            "Train:  36%|███▌      | 2420/6760 [18:43<34:01,  2.13it/s, Average Loss=0.108, Epoch=7]\u001b[A\n",
            "Train:  36%|███▌      | 2420/6760 [18:43<34:01,  2.13it/s, Average Loss=0.12, Epoch=7] \u001b[A\n",
            "Train:  36%|███▌      | 2430/6760 [18:48<32:52,  2.19it/s, Average Loss=0.12, Epoch=7]\u001b[A\n",
            "Train:  36%|███▌      | 2430/6760 [18:48<32:52,  2.19it/s, Average Loss=0.0853, Epoch=7]\u001b[A\n",
            "Train:  36%|███▌      | 2440/6760 [18:52<32:07,  2.24it/s, Average Loss=0.0853, Epoch=7]\u001b[A\n",
            "Train:  36%|███▌      | 2440/6760 [18:52<32:07,  2.24it/s, Average Loss=0.182, Epoch=7] \u001b[A\n",
            "Train:  36%|███▌      | 2450/6760 [18:56<31:36,  2.27it/s, Average Loss=0.182, Epoch=7]\u001b[A\n",
            "Train:  36%|███▌      | 2450/6760 [18:56<31:36,  2.27it/s, Average Loss=0.0707, Epoch=7]\u001b[A\n",
            "Train:  36%|███▋      | 2460/6760 [19:00<31:08,  2.30it/s, Average Loss=0.0707, Epoch=7]\u001b[A\n",
            "Train:  36%|███▋      | 2460/6760 [19:00<31:08,  2.30it/s, Average Loss=0.105, Epoch=7] \u001b[A\n",
            "Train:  37%|███▋      | 2470/6760 [19:05<30:48,  2.32it/s, Average Loss=0.105, Epoch=7]\u001b[A\n",
            "Train:  37%|███▋      | 2470/6760 [19:05<30:48,  2.32it/s, Average Loss=0.0511, Epoch=7]\u001b[A\n",
            "Train:  37%|███▋      | 2480/6760 [19:09<30:36,  2.33it/s, Average Loss=0.0511, Epoch=7]\u001b[A\n",
            "Train:  37%|███▋      | 2480/6760 [19:09<30:36,  2.33it/s, Average Loss=0.0696, Epoch=7]\u001b[A\n",
            "Train:  37%|███▋      | 2490/6760 [19:13<30:28,  2.33it/s, Average Loss=0.0696, Epoch=7]\u001b[A\n",
            "Train:  37%|███▋      | 2490/6760 [19:13<30:28,  2.33it/s, Average Loss=0.144, Epoch=7] \u001b[A\n",
            "Train:  37%|███▋      | 2500/6760 [19:17<30:17,  2.34it/s, Average Loss=0.144, Epoch=7]\u001b[A\n",
            "Train:  37%|███▋      | 2500/6760 [19:17<30:17,  2.34it/s, Average Loss=0.0619, Epoch=7]\u001b[A\n",
            "Train:  37%|███▋      | 2510/6760 [19:22<30:06,  2.35it/s, Average Loss=0.0619, Epoch=7]\u001b[A\n",
            "Train:  37%|███▋      | 2510/6760 [19:22<30:06,  2.35it/s, Average Loss=0.0905, Epoch=7]\u001b[A\n",
            "Train:  37%|███▋      | 2520/6760 [19:26<30:00,  2.35it/s, Average Loss=0.0905, Epoch=7]\u001b[A\n",
            "Train:  37%|███▋      | 2520/6760 [19:26<30:00,  2.35it/s, Average Loss=0.129, Epoch=7] \u001b[A\n",
            "Train:  37%|███▋      | 2530/6760 [19:30<29:58,  2.35it/s, Average Loss=0.129, Epoch=7]\u001b[A\n",
            "Train:  37%|███▋      | 2530/6760 [19:30<29:58,  2.35it/s, Average Loss=0.166, Epoch=7]\u001b[A\n",
            "Train:  38%|███▊      | 2540/6760 [19:34<29:52,  2.35it/s, Average Loss=0.166, Epoch=7]\u001b[A\n",
            "Train:  38%|███▊      | 2540/6760 [19:34<29:52,  2.35it/s, Average Loss=0.0963, Epoch=7]\u001b[A\n",
            "Train:  38%|███▊      | 2550/6760 [19:39<29:43,  2.36it/s, Average Loss=0.0963, Epoch=7]\u001b[A\n",
            "Train:  38%|███▊      | 2550/6760 [19:39<29:43,  2.36it/s, Average Loss=0.14, Epoch=7]  \u001b[A\n",
            "Train:  38%|███▊      | 2560/6760 [19:43<29:38,  2.36it/s, Average Loss=0.14, Epoch=7]\u001b[A\n",
            "Train:  38%|███▊      | 2560/6760 [19:43<29:38,  2.36it/s, Average Loss=0.0729, Epoch=7]\u001b[A\n",
            "Train:  38%|███▊      | 2570/6760 [19:47<29:39,  2.35it/s, Average Loss=0.0729, Epoch=7]\u001b[A\n",
            "Train:  38%|███▊      | 2570/6760 [19:47<29:39,  2.35it/s, Average Loss=0.088, Epoch=7] \u001b[A\n",
            "Train:  38%|███▊      | 2580/6760 [19:51<29:33,  2.36it/s, Average Loss=0.088, Epoch=7]\u001b[A\n",
            "Train:  38%|███▊      | 2580/6760 [19:51<29:33,  2.36it/s, Average Loss=0.0712, Epoch=7]\u001b[A\n",
            "Train:  38%|███▊      | 2590/6760 [19:55<29:24,  2.36it/s, Average Loss=0.0712, Epoch=7]\u001b[A\n",
            "Train:  38%|███▊      | 2590/6760 [19:55<29:24,  2.36it/s, Average Loss=0.0775, Epoch=7]\u001b[A\n",
            "Train:  38%|███▊      | 2600/6760 [20:00<29:19,  2.36it/s, Average Loss=0.0775, Epoch=7]\u001b[A\n",
            "Train:  38%|███▊      | 2600/6760 [20:00<29:19,  2.36it/s, Average Loss=0.143, Epoch=7] \u001b[A\n",
            "Train:  39%|███▊      | 2610/6760 [20:04<29:18,  2.36it/s, Average Loss=0.143, Epoch=7]\u001b[A\n",
            "Train:  39%|███▊      | 2610/6760 [20:04<29:18,  2.36it/s, Average Loss=0.0923, Epoch=7]\u001b[A\n",
            "Train:  39%|███▉      | 2620/6760 [20:08<29:14,  2.36it/s, Average Loss=0.0923, Epoch=7]\u001b[A\n",
            "Train:  39%|███▉      | 2620/6760 [20:08<29:14,  2.36it/s, Average Loss=0.0755, Epoch=7]\u001b[A\n",
            "Train:  39%|███▉      | 2630/6760 [20:12<29:06,  2.36it/s, Average Loss=0.0755, Epoch=7]\u001b[A\n",
            "Train:  39%|███▉      | 2630/6760 [20:12<29:06,  2.36it/s, Average Loss=0.0638, Epoch=7]\u001b[A\n",
            "Train:  39%|███▉      | 2640/6760 [20:17<29:00,  2.37it/s, Average Loss=0.0638, Epoch=7]\u001b[A\n",
            "Train:  39%|███▉      | 2640/6760 [20:17<29:00,  2.37it/s, Average Loss=0.0568, Epoch=7]\u001b[A\n",
            "Train:  39%|███▉      | 2650/6760 [20:21<28:59,  2.36it/s, Average Loss=0.0568, Epoch=7]\u001b[A\n",
            "Train:  39%|███▉      | 2650/6760 [20:21<28:59,  2.36it/s, Average Loss=0.0821, Epoch=7]\u001b[A\n",
            "Train:  39%|███▉      | 2660/6760 [20:25<28:56,  2.36it/s, Average Loss=0.0821, Epoch=7]\u001b[A\n",
            "Train:  39%|███▉      | 2660/6760 [20:25<28:56,  2.36it/s, Average Loss=0.0984, Epoch=7]\u001b[A\n",
            "Train:  39%|███▉      | 2670/6760 [20:29<28:49,  2.37it/s, Average Loss=0.0984, Epoch=7]\u001b[A\n",
            "Train:  39%|███▉      | 2670/6760 [20:29<28:49,  2.37it/s, Average Loss=0.121, Epoch=7] \u001b[A\n",
            "Train:  40%|███▉      | 2680/6760 [20:33<28:41,  2.37it/s, Average Loss=0.121, Epoch=7]\u001b[A\n",
            "Train:  40%|███▉      | 2680/6760 [20:34<28:41,  2.37it/s, Average Loss=0.116, Epoch=7]\u001b[A\n",
            "Train:  40%|███▉      | 2690/6760 [20:38<28:40,  2.37it/s, Average Loss=0.116, Epoch=7]\u001b[A\n",
            "Train:  40%|███▉      | 2690/6760 [20:38<28:40,  2.37it/s, Average Loss=0.147, Epoch=7]\u001b[A\n",
            "Train:  40%|███▉      | 2700/6760 [20:42<28:38,  2.36it/s, Average Loss=0.147, Epoch=7]\u001b[A\n",
            "Train:  40%|███▉      | 2700/6760 [20:42<28:38,  2.36it/s, Average Loss=0.0528, Epoch=7]\u001b[A"
          ]
        },
        {
          "output_type": "stream",
          "name": "stdout",
          "text": [
            "Validation: [Epoch: 7, Macro F1: 0.5335311194157127, Validation Loss: 1.1667471777561098, Time per Epoch: 152.4079887866974]\n",
            "Begin Epoch 8\n"
          ]
        },
        {
          "output_type": "stream",
          "name": "stderr",
          "text": [
            "\n",
            "Train:  40%|████      | 2710/6760 [20:56<47:35,  1.42it/s, Average Loss=0.0528, Epoch=7]\u001b[A\n",
            "Train:  40%|████      | 2710/6760 [20:56<47:35,  1.42it/s, Average Loss=0.0881, Epoch=8]\u001b[A\n",
            "Train:  40%|████      | 2720/6760 [21:00<41:49,  1.61it/s, Average Loss=0.0881, Epoch=8]\u001b[A\n",
            "Train:  40%|████      | 2720/6760 [21:00<41:49,  1.61it/s, Average Loss=0.064, Epoch=8] \u001b[A\n",
            "Train:  40%|████      | 2730/6760 [21:04<37:41,  1.78it/s, Average Loss=0.064, Epoch=8]\u001b[A\n",
            "Train:  40%|████      | 2730/6760 [21:04<37:41,  1.78it/s, Average Loss=0.0271, Epoch=8]\u001b[A\n",
            "Train:  41%|████      | 2740/6760 [21:08<34:47,  1.93it/s, Average Loss=0.0271, Epoch=8]\u001b[A\n",
            "Train:  41%|████      | 2740/6760 [21:08<34:47,  1.93it/s, Average Loss=0.0142, Epoch=8]\u001b[A\n",
            "Train:  41%|████      | 2750/6760 [21:13<32:49,  2.04it/s, Average Loss=0.0142, Epoch=8]\u001b[A\n",
            "Train:  41%|████      | 2750/6760 [21:13<32:49,  2.04it/s, Average Loss=0.132, Epoch=8] \u001b[A\n",
            "Train:  41%|████      | 2760/6760 [21:17<31:26,  2.12it/s, Average Loss=0.132, Epoch=8]\u001b[A\n",
            "Train:  41%|████      | 2760/6760 [21:17<31:26,  2.12it/s, Average Loss=0.0767, Epoch=8]\u001b[A\n",
            "Train:  41%|████      | 2770/6760 [21:21<30:20,  2.19it/s, Average Loss=0.0767, Epoch=8]\u001b[A\n",
            "Train:  41%|████      | 2770/6760 [21:21<30:20,  2.19it/s, Average Loss=0.0852, Epoch=8]\u001b[A\n",
            "Train:  41%|████      | 2780/6760 [21:25<29:35,  2.24it/s, Average Loss=0.0852, Epoch=8]\u001b[A\n",
            "Train:  41%|████      | 2780/6760 [21:25<29:35,  2.24it/s, Average Loss=0.128, Epoch=8] \u001b[A\n",
            "Train:  41%|████▏     | 2790/6760 [21:30<29:07,  2.27it/s, Average Loss=0.128, Epoch=8]\u001b[A\n",
            "Train:  41%|████▏     | 2790/6760 [21:30<29:07,  2.27it/s, Average Loss=0.0658, Epoch=8]\u001b[A\n",
            "Train:  41%|████▏     | 2800/6760 [21:34<28:48,  2.29it/s, Average Loss=0.0658, Epoch=8]\u001b[A\n",
            "Train:  41%|████▏     | 2800/6760 [21:34<28:48,  2.29it/s, Average Loss=0.0734, Epoch=8]\u001b[A\n",
            "Train:  42%|████▏     | 2810/6760 [21:38<28:26,  2.31it/s, Average Loss=0.0734, Epoch=8]\u001b[A\n",
            "Train:  42%|████▏     | 2810/6760 [21:38<28:26,  2.31it/s, Average Loss=0.0631, Epoch=8]\u001b[A\n",
            "Train:  42%|████▏     | 2820/6760 [21:42<28:10,  2.33it/s, Average Loss=0.0631, Epoch=8]\u001b[A\n",
            "Train:  42%|████▏     | 2820/6760 [21:42<28:10,  2.33it/s, Average Loss=0.0904, Epoch=8]\u001b[A\n",
            "Train:  42%|████▏     | 2830/6760 [21:46<28:00,  2.34it/s, Average Loss=0.0904, Epoch=8]\u001b[A\n",
            "Train:  42%|████▏     | 2830/6760 [21:46<28:00,  2.34it/s, Average Loss=0.0809, Epoch=8]\u001b[A\n",
            "Train:  42%|████▏     | 2840/6760 [21:51<27:57,  2.34it/s, Average Loss=0.0809, Epoch=8]\u001b[A\n",
            "Train:  42%|████▏     | 2840/6760 [21:51<27:57,  2.34it/s, Average Loss=0.0731, Epoch=8]\u001b[A\n",
            "Train:  42%|████▏     | 2850/6760 [21:55<27:46,  2.35it/s, Average Loss=0.0731, Epoch=8]\u001b[A\n",
            "Train:  42%|████▏     | 2850/6760 [21:55<27:46,  2.35it/s, Average Loss=0.0255, Epoch=8]\u001b[A\n",
            "Train:  42%|████▏     | 2860/6760 [21:59<27:38,  2.35it/s, Average Loss=0.0255, Epoch=8]\u001b[A\n",
            "Train:  42%|████▏     | 2860/6760 [21:59<27:38,  2.35it/s, Average Loss=0.145, Epoch=8] \u001b[A\n",
            "Train:  42%|████▏     | 2870/6760 [22:03<27:32,  2.35it/s, Average Loss=0.145, Epoch=8]\u001b[A\n",
            "Train:  42%|████▏     | 2870/6760 [22:03<27:32,  2.35it/s, Average Loss=0.0553, Epoch=8]\u001b[A\n",
            "Train:  43%|████▎     | 2880/6760 [22:08<27:31,  2.35it/s, Average Loss=0.0553, Epoch=8]\u001b[A\n",
            "Train:  43%|████▎     | 2880/6760 [22:08<27:31,  2.35it/s, Average Loss=0.0635, Epoch=8]\u001b[A\n",
            "Train:  43%|████▎     | 2890/6760 [22:12<27:24,  2.35it/s, Average Loss=0.0635, Epoch=8]\u001b[A\n",
            "Train:  43%|████▎     | 2890/6760 [22:12<27:24,  2.35it/s, Average Loss=0.0929, Epoch=8]\u001b[A\n",
            "Train:  43%|████▎     | 2900/6760 [22:16<27:16,  2.36it/s, Average Loss=0.0929, Epoch=8]\u001b[A\n",
            "Train:  43%|████▎     | 2900/6760 [22:16<27:16,  2.36it/s, Average Loss=0.0445, Epoch=8]\u001b[A\n",
            "Train:  43%|████▎     | 2910/6760 [22:20<27:11,  2.36it/s, Average Loss=0.0445, Epoch=8]\u001b[A\n",
            "Train:  43%|████▎     | 2910/6760 [22:20<27:11,  2.36it/s, Average Loss=0.0737, Epoch=8]\u001b[A\n",
            "Train:  43%|████▎     | 2920/6760 [22:25<27:10,  2.36it/s, Average Loss=0.0737, Epoch=8]\u001b[A\n",
            "Train:  43%|████▎     | 2920/6760 [22:25<27:10,  2.36it/s, Average Loss=0.0661, Epoch=8]\u001b[A\n",
            "Train:  43%|████▎     | 2930/6760 [22:29<27:04,  2.36it/s, Average Loss=0.0661, Epoch=8]\u001b[A\n",
            "Train:  43%|████▎     | 2930/6760 [22:29<27:04,  2.36it/s, Average Loss=0.068, Epoch=8] \u001b[A\n",
            "Train:  43%|████▎     | 2940/6760 [22:33<26:57,  2.36it/s, Average Loss=0.068, Epoch=8]\u001b[A\n",
            "Train:  43%|████▎     | 2940/6760 [22:33<26:57,  2.36it/s, Average Loss=0.0445, Epoch=8]\u001b[A\n",
            "Train:  44%|████▎     | 2950/6760 [22:37<26:51,  2.36it/s, Average Loss=0.0445, Epoch=8]\u001b[A\n",
            "Train:  44%|████▎     | 2950/6760 [22:37<26:51,  2.36it/s, Average Loss=0.121, Epoch=8] \u001b[A\n",
            "Train:  44%|████▍     | 2960/6760 [22:42<26:51,  2.36it/s, Average Loss=0.121, Epoch=8]\u001b[A\n",
            "Train:  44%|████▍     | 2960/6760 [22:42<26:51,  2.36it/s, Average Loss=0.0885, Epoch=8]\u001b[A\n",
            "Train:  44%|████▍     | 2970/6760 [22:46<26:47,  2.36it/s, Average Loss=0.0885, Epoch=8]\u001b[A\n",
            "Train:  44%|████▍     | 2970/6760 [22:46<26:47,  2.36it/s, Average Loss=0.0718, Epoch=8]\u001b[A\n",
            "Train:  44%|████▍     | 2980/6760 [22:50<26:40,  2.36it/s, Average Loss=0.0718, Epoch=8]\u001b[A\n",
            "Train:  44%|████▍     | 2980/6760 [22:50<26:40,  2.36it/s, Average Loss=0.0359, Epoch=8]\u001b[A\n",
            "Train:  44%|████▍     | 2990/6760 [22:54<26:34,  2.36it/s, Average Loss=0.0359, Epoch=8]\u001b[A\n",
            "Train:  44%|████▍     | 2990/6760 [22:54<26:34,  2.36it/s, Average Loss=0.0622, Epoch=8]\u001b[A\n",
            "Train:  44%|████▍     | 3000/6760 [22:59<26:34,  2.36it/s, Average Loss=0.0622, Epoch=8]\u001b[A\n",
            "Train:  44%|████▍     | 3000/6760 [22:59<26:34,  2.36it/s, Average Loss=0.0456, Epoch=8]\u001b[A\n",
            "Train:  45%|████▍     | 3010/6760 [23:03<26:29,  2.36it/s, Average Loss=0.0456, Epoch=8]\u001b[A\n",
            "Train:  45%|████▍     | 3010/6760 [23:03<26:29,  2.36it/s, Average Loss=0.063, Epoch=8] \u001b[A\n",
            "Train:  45%|████▍     | 3020/6760 [23:07<26:23,  2.36it/s, Average Loss=0.063, Epoch=8]\u001b[A\n",
            "Train:  45%|████▍     | 3020/6760 [23:07<26:23,  2.36it/s, Average Loss=0.102, Epoch=8]\u001b[A\n",
            "Train:  45%|████▍     | 3030/6760 [23:11<26:16,  2.37it/s, Average Loss=0.102, Epoch=8]\u001b[A\n",
            "Train:  45%|████▍     | 3030/6760 [23:11<26:16,  2.37it/s, Average Loss=0.0491, Epoch=8]\u001b[A\n",
            "Train:  45%|████▍     | 3040/6760 [23:15<26:15,  2.36it/s, Average Loss=0.0491, Epoch=8]\u001b[A\n",
            "Train:  45%|████▍     | 3040/6760 [23:15<26:15,  2.36it/s, Average Loss=0.01, Epoch=8]  \u001b[A"
          ]
        },
        {
          "output_type": "stream",
          "name": "stdout",
          "text": [
            "Validation: [Epoch: 8, Macro F1: 0.5515786426259154, Validation Loss: 1.3141182106594707, Time per Epoch: 152.52359557151794]\n",
            "Begin Epoch 9\n"
          ]
        },
        {
          "output_type": "stream",
          "name": "stderr",
          "text": [
            "\n",
            "Train:  45%|████▌     | 3050/6760 [23:34<52:20,  1.18it/s, Average Loss=0.01, Epoch=8]\u001b[A\n",
            "Train:  45%|████▌     | 3050/6760 [23:34<52:20,  1.18it/s, Average Loss=0.0868, Epoch=9]\u001b[A\n",
            "Train:  45%|████▌     | 3060/6760 [23:38<44:19,  1.39it/s, Average Loss=0.0868, Epoch=9]\u001b[A\n",
            "Train:  45%|████▌     | 3060/6760 [23:38<44:19,  1.39it/s, Average Loss=0.0727, Epoch=9]\u001b[A\n",
            "Train:  45%|████▌     | 3070/6760 [23:42<38:42,  1.59it/s, Average Loss=0.0727, Epoch=9]\u001b[A\n",
            "Train:  45%|████▌     | 3070/6760 [23:42<38:42,  1.59it/s, Average Loss=0.0257, Epoch=9]\u001b[A\n",
            "Train:  46%|████▌     | 3080/6760 [23:46<34:46,  1.76it/s, Average Loss=0.0257, Epoch=9]\u001b[A\n",
            "Train:  46%|████▌     | 3080/6760 [23:46<34:46,  1.76it/s, Average Loss=0.0926, Epoch=9]\u001b[A\n",
            "Train:  46%|████▌     | 3090/6760 [23:51<32:07,  1.90it/s, Average Loss=0.0926, Epoch=9]\u001b[A\n",
            "Train:  46%|████▌     | 3090/6760 [23:51<32:07,  1.90it/s, Average Loss=0.0159, Epoch=9]\u001b[A\n",
            "Train:  46%|████▌     | 3100/6760 [23:55<30:13,  2.02it/s, Average Loss=0.0159, Epoch=9]\u001b[A\n",
            "Train:  46%|████▌     | 3100/6760 [23:55<30:13,  2.02it/s, Average Loss=0.0161, Epoch=9]\u001b[A\n",
            "Train:  46%|████▌     | 3110/6760 [23:59<28:50,  2.11it/s, Average Loss=0.0161, Epoch=9]\u001b[A\n",
            "Train:  46%|████▌     | 3110/6760 [23:59<28:50,  2.11it/s, Average Loss=0.0914, Epoch=9]\u001b[A\n",
            "Train:  46%|████▌     | 3120/6760 [24:03<27:52,  2.18it/s, Average Loss=0.0914, Epoch=9]\u001b[A\n",
            "Train:  46%|████▌     | 3120/6760 [24:03<27:52,  2.18it/s, Average Loss=0.0619, Epoch=9]\u001b[A\n",
            "Train:  46%|████▋     | 3130/6760 [24:08<27:13,  2.22it/s, Average Loss=0.0619, Epoch=9]\u001b[A\n",
            "Train:  46%|████▋     | 3130/6760 [24:08<27:13,  2.22it/s, Average Loss=0.0767, Epoch=9]\u001b[A\n",
            "Train:  46%|████▋     | 3140/6760 [24:12<26:45,  2.25it/s, Average Loss=0.0767, Epoch=9]\u001b[A\n",
            "Train:  46%|████▋     | 3140/6760 [24:12<26:45,  2.25it/s, Average Loss=0.00911, Epoch=9]\u001b[A\n",
            "Train:  47%|████▋     | 3150/6760 [24:16<26:19,  2.29it/s, Average Loss=0.00911, Epoch=9]\u001b[A\n",
            "Train:  47%|████▋     | 3150/6760 [24:16<26:19,  2.29it/s, Average Loss=0.0144, Epoch=9] \u001b[A\n",
            "Train:  47%|████▋     | 3160/6760 [24:20<25:59,  2.31it/s, Average Loss=0.0144, Epoch=9]\u001b[A\n",
            "Train:  47%|████▋     | 3160/6760 [24:21<25:59,  2.31it/s, Average Loss=0.0935, Epoch=9]\u001b[A\n",
            "Train:  47%|████▋     | 3170/6760 [24:25<25:49,  2.32it/s, Average Loss=0.0935, Epoch=9]\u001b[A\n",
            "Train:  47%|████▋     | 3170/6760 [24:25<25:49,  2.32it/s, Average Loss=0.0831, Epoch=9]\u001b[A\n",
            "Train:  47%|████▋     | 3180/6760 [24:29<25:39,  2.33it/s, Average Loss=0.0831, Epoch=9]\u001b[A\n",
            "Train:  47%|████▋     | 3180/6760 [24:29<25:39,  2.33it/s, Average Loss=0.00958, Epoch=9]\u001b[A\n",
            "Train:  47%|████▋     | 3190/6760 [24:33<25:24,  2.34it/s, Average Loss=0.00958, Epoch=9]\u001b[A\n",
            "Train:  47%|████▋     | 3190/6760 [24:33<25:24,  2.34it/s, Average Loss=0.0686, Epoch=9] \u001b[A\n",
            "Train:  47%|████▋     | 3200/6760 [24:37<25:14,  2.35it/s, Average Loss=0.0686, Epoch=9]\u001b[A\n",
            "Train:  47%|████▋     | 3200/6760 [24:37<25:14,  2.35it/s, Average Loss=0.0652, Epoch=9]\u001b[A\n",
            "Train:  47%|████▋     | 3210/6760 [24:42<25:07,  2.35it/s, Average Loss=0.0652, Epoch=9]\u001b[A\n",
            "Train:  47%|████▋     | 3210/6760 [24:42<25:07,  2.35it/s, Average Loss=0.0844, Epoch=9]\u001b[A\n",
            "Train:  48%|████▊     | 3220/6760 [24:46<25:03,  2.35it/s, Average Loss=0.0844, Epoch=9]\u001b[A\n",
            "Train:  48%|████▊     | 3220/6760 [24:46<25:03,  2.35it/s, Average Loss=0.102, Epoch=9] \u001b[A\n",
            "Train:  48%|████▊     | 3230/6760 [24:50<24:52,  2.36it/s, Average Loss=0.102, Epoch=9]\u001b[A\n",
            "Train:  48%|████▊     | 3230/6760 [24:50<24:52,  2.36it/s, Average Loss=0.0899, Epoch=9]\u001b[A\n",
            "Train:  48%|████▊     | 3240/6760 [24:54<24:44,  2.37it/s, Average Loss=0.0899, Epoch=9]\u001b[A\n",
            "Train:  48%|████▊     | 3240/6760 [24:54<24:44,  2.37it/s, Average Loss=0.039, Epoch=9] \u001b[A\n",
            "Train:  48%|████▊     | 3250/6760 [24:59<24:43,  2.37it/s, Average Loss=0.039, Epoch=9]\u001b[A\n",
            "Train:  48%|████▊     | 3250/6760 [24:59<24:43,  2.37it/s, Average Loss=0.0261, Epoch=9]\u001b[A\n",
            "Train:  48%|████▊     | 3260/6760 [25:03<24:42,  2.36it/s, Average Loss=0.0261, Epoch=9]\u001b[A\n",
            "Train:  48%|████▊     | 3260/6760 [25:03<24:42,  2.36it/s, Average Loss=0.0697, Epoch=9]\u001b[A\n",
            "Train:  48%|████▊     | 3270/6760 [25:07<24:35,  2.37it/s, Average Loss=0.0697, Epoch=9]\u001b[A\n",
            "Train:  48%|████▊     | 3270/6760 [25:07<24:35,  2.37it/s, Average Loss=0.0653, Epoch=9]\u001b[A\n",
            "Train:  49%|████▊     | 3280/6760 [25:11<24:29,  2.37it/s, Average Loss=0.0653, Epoch=9]\u001b[A\n",
            "Train:  49%|████▊     | 3280/6760 [25:11<24:29,  2.37it/s, Average Loss=0.0398, Epoch=9]\u001b[A\n",
            "Train:  49%|████▊     | 3290/6760 [25:15<24:25,  2.37it/s, Average Loss=0.0398, Epoch=9]\u001b[A\n",
            "Train:  49%|████▊     | 3290/6760 [25:15<24:25,  2.37it/s, Average Loss=0.0446, Epoch=9]\u001b[A\n",
            "Train:  49%|████▉     | 3300/6760 [25:20<24:25,  2.36it/s, Average Loss=0.0446, Epoch=9]\u001b[A\n",
            "Train:  49%|████▉     | 3300/6760 [25:20<24:25,  2.36it/s, Average Loss=0.045, Epoch=9] \u001b[A\n",
            "Train:  49%|████▉     | 3310/6760 [25:24<24:20,  2.36it/s, Average Loss=0.045, Epoch=9]\u001b[A\n",
            "Train:  49%|████▉     | 3310/6760 [25:24<24:20,  2.36it/s, Average Loss=0.0621, Epoch=9]\u001b[A\n",
            "Train:  49%|████▉     | 3320/6760 [25:28<24:15,  2.36it/s, Average Loss=0.0621, Epoch=9]\u001b[A\n",
            "Train:  49%|████▉     | 3320/6760 [25:28<24:15,  2.36it/s, Average Loss=0.0996, Epoch=9]\u001b[A\n",
            "Train:  49%|████▉     | 3330/6760 [25:32<24:12,  2.36it/s, Average Loss=0.0996, Epoch=9]\u001b[A\n",
            "Train:  49%|████▉     | 3330/6760 [25:32<24:12,  2.36it/s, Average Loss=0.0192, Epoch=9]\u001b[A\n",
            "Train:  49%|████▉     | 3340/6760 [25:37<24:10,  2.36it/s, Average Loss=0.0192, Epoch=9]\u001b[A\n",
            "Train:  49%|████▉     | 3340/6760 [25:37<24:10,  2.36it/s, Average Loss=0.0417, Epoch=9]\u001b[A\n",
            "Train:  50%|████▉     | 3350/6760 [25:41<24:04,  2.36it/s, Average Loss=0.0417, Epoch=9]\u001b[A\n",
            "Train:  50%|████▉     | 3350/6760 [25:41<24:04,  2.36it/s, Average Loss=0.0357, Epoch=9]\u001b[A\n",
            "Train:  50%|████▉     | 3360/6760 [25:45<23:57,  2.37it/s, Average Loss=0.0357, Epoch=9]\u001b[A\n",
            "Train:  50%|████▉     | 3360/6760 [25:45<23:57,  2.37it/s, Average Loss=0.0293, Epoch=9]\u001b[A\n",
            "Train:  50%|████▉     | 3370/6760 [25:49<23:52,  2.37it/s, Average Loss=0.0293, Epoch=9]\u001b[A\n",
            "Train:  50%|████▉     | 3370/6760 [25:49<23:52,  2.37it/s, Average Loss=0.0139, Epoch=9]\u001b[A\n",
            "Train:  50%|█████     | 3380/6760 [25:54<23:48,  2.37it/s, Average Loss=0.0139, Epoch=9]\u001b[A\n",
            "Train:  50%|█████     | 3380/6760 [25:54<23:48,  2.37it/s, Average Loss=0.0333, Epoch=9]\u001b[A"
          ]
        },
        {
          "output_type": "stream",
          "name": "stdout",
          "text": [
            "Validation: [Epoch: 9, Macro F1: 0.5728818735618124, Validation Loss: 1.4743795963220818, Time per Epoch: 152.45856738090515]\n",
            "Begin Epoch 10\n"
          ]
        },
        {
          "output_type": "stream",
          "name": "stderr",
          "text": [
            "\n",
            "Train:  50%|█████     | 3390/6760 [26:12<47:52,  1.17it/s, Average Loss=0.0333, Epoch=9]\u001b[A\n",
            "Train:  50%|█████     | 3390/6760 [26:12<47:52,  1.17it/s, Average Loss=0.0922, Epoch=10]\u001b[A\n",
            "Train:  50%|█████     | 3400/6760 [26:16<40:26,  1.38it/s, Average Loss=0.0922, Epoch=10]\u001b[A\n",
            "Train:  50%|█████     | 3400/6760 [26:16<40:26,  1.38it/s, Average Loss=0.0138, Epoch=10]\u001b[A\n",
            "Train:  50%|█████     | 3410/6760 [26:20<35:14,  1.58it/s, Average Loss=0.0138, Epoch=10]\u001b[A\n",
            "Train:  50%|█████     | 3410/6760 [26:20<35:14,  1.58it/s, Average Loss=0.0482, Epoch=10]\u001b[A\n",
            "Train:  51%|█████     | 3420/6760 [26:25<31:40,  1.76it/s, Average Loss=0.0482, Epoch=10]\u001b[A\n",
            "Train:  51%|█████     | 3420/6760 [26:25<31:40,  1.76it/s, Average Loss=0.0329, Epoch=10]\u001b[A\n",
            "Train:  51%|█████     | 3430/6760 [26:29<29:13,  1.90it/s, Average Loss=0.0329, Epoch=10]\u001b[A\n",
            "Train:  51%|█████     | 3430/6760 [26:29<29:13,  1.90it/s, Average Loss=0.0302, Epoch=10]\u001b[A\n",
            "Train:  51%|█████     | 3440/6760 [26:33<27:24,  2.02it/s, Average Loss=0.0302, Epoch=10]\u001b[A\n",
            "Train:  51%|█████     | 3440/6760 [26:33<27:24,  2.02it/s, Average Loss=0.02, Epoch=10]  \u001b[A\n",
            "Train:  51%|█████     | 3450/6760 [26:37<26:07,  2.11it/s, Average Loss=0.02, Epoch=10]\u001b[A\n",
            "Train:  51%|█████     | 3450/6760 [26:37<26:07,  2.11it/s, Average Loss=0.0661, Epoch=10]\u001b[A\n",
            "Train:  51%|█████     | 3460/6760 [26:42<25:15,  2.18it/s, Average Loss=0.0661, Epoch=10]\u001b[A\n",
            "Train:  51%|█████     | 3460/6760 [26:42<25:15,  2.18it/s, Average Loss=0.0903, Epoch=10]\u001b[A\n",
            "Train:  51%|█████▏    | 3470/6760 [26:46<24:40,  2.22it/s, Average Loss=0.0903, Epoch=10]\u001b[A\n",
            "Train:  51%|█████▏    | 3470/6760 [26:46<24:40,  2.22it/s, Average Loss=0.0312, Epoch=10]\u001b[A\n",
            "Train:  51%|█████▏    | 3480/6760 [26:50<24:10,  2.26it/s, Average Loss=0.0312, Epoch=10]\u001b[A\n",
            "Train:  51%|█████▏    | 3480/6760 [26:50<24:10,  2.26it/s, Average Loss=0.00323, Epoch=10]\u001b[A\n",
            "Train:  52%|█████▏    | 3490/6760 [26:54<23:46,  2.29it/s, Average Loss=0.00323, Epoch=10]\u001b[A\n",
            "Train:  52%|█████▏    | 3490/6760 [26:54<23:46,  2.29it/s, Average Loss=0.0264, Epoch=10] \u001b[A\n",
            "Train:  52%|█████▏    | 3500/6760 [26:59<23:28,  2.31it/s, Average Loss=0.0264, Epoch=10]\u001b[A\n",
            "Train:  52%|█████▏    | 3500/6760 [26:59<23:28,  2.31it/s, Average Loss=0.0184, Epoch=10]\u001b[A\n",
            "Train:  52%|█████▏    | 3510/6760 [27:03<23:17,  2.32it/s, Average Loss=0.0184, Epoch=10]\u001b[A\n",
            "Train:  52%|█████▏    | 3510/6760 [27:03<23:17,  2.32it/s, Average Loss=0.00865, Epoch=10]\u001b[A\n",
            "Train:  52%|█████▏    | 3520/6760 [27:07<23:05,  2.34it/s, Average Loss=0.00865, Epoch=10]\u001b[A\n",
            "Train:  52%|█████▏    | 3520/6760 [27:07<23:05,  2.34it/s, Average Loss=0.00998, Epoch=10]\u001b[A\n",
            "Train:  52%|█████▏    | 3530/6760 [27:11<22:54,  2.35it/s, Average Loss=0.00998, Epoch=10]\u001b[A\n",
            "Train:  52%|█████▏    | 3530/6760 [27:11<22:54,  2.35it/s, Average Loss=0.0346, Epoch=10] \u001b[A\n",
            "Train:  52%|█████▏    | 3540/6760 [27:16<22:48,  2.35it/s, Average Loss=0.0346, Epoch=10]\u001b[A\n",
            "Train:  52%|█████▏    | 3540/6760 [27:16<22:48,  2.35it/s, Average Loss=0.0529, Epoch=10]\u001b[A\n",
            "Train:  53%|█████▎    | 3550/6760 [27:20<22:44,  2.35it/s, Average Loss=0.0529, Epoch=10]\u001b[A\n",
            "Train:  53%|█████▎    | 3550/6760 [27:20<22:44,  2.35it/s, Average Loss=0.0105, Epoch=10]\u001b[A\n",
            "Train:  53%|█████▎    | 3560/6760 [27:24<22:38,  2.36it/s, Average Loss=0.0105, Epoch=10]\u001b[A\n",
            "Train:  53%|█████▎    | 3560/6760 [27:24<22:38,  2.36it/s, Average Loss=0.0922, Epoch=10]\u001b[A\n",
            "Train:  53%|█████▎    | 3570/6760 [27:28<22:29,  2.36it/s, Average Loss=0.0922, Epoch=10]\u001b[A\n",
            "Train:  53%|█████▎    | 3570/6760 [27:28<22:29,  2.36it/s, Average Loss=0.021, Epoch=10] \u001b[A\n",
            "Train:  53%|█████▎    | 3580/6760 [27:32<22:23,  2.37it/s, Average Loss=0.021, Epoch=10]\u001b[A\n",
            "Train:  53%|█████▎    | 3580/6760 [27:32<22:23,  2.37it/s, Average Loss=0.0288, Epoch=10]\u001b[A\n",
            "Train:  53%|█████▎    | 3590/6760 [27:37<22:22,  2.36it/s, Average Loss=0.0288, Epoch=10]\u001b[A\n",
            "Train:  53%|█████▎    | 3590/6760 [27:37<22:22,  2.36it/s, Average Loss=0.0689, Epoch=10]\u001b[A\n",
            "Train:  53%|█████▎    | 3600/6760 [27:41<22:17,  2.36it/s, Average Loss=0.0689, Epoch=10]\u001b[A\n",
            "Train:  53%|█████▎    | 3600/6760 [27:41<22:17,  2.36it/s, Average Loss=0.0245, Epoch=10]\u001b[A\n",
            "Train:  53%|█████▎    | 3610/6760 [27:45<22:11,  2.37it/s, Average Loss=0.0245, Epoch=10]\u001b[A\n",
            "Train:  53%|█████▎    | 3610/6760 [27:45<22:11,  2.37it/s, Average Loss=0.0542, Epoch=10]\u001b[A\n",
            "Train:  54%|█████▎    | 3620/6760 [27:49<22:03,  2.37it/s, Average Loss=0.0542, Epoch=10]\u001b[A\n",
            "Train:  54%|█████▎    | 3620/6760 [27:49<22:03,  2.37it/s, Average Loss=0.00196, Epoch=10]\u001b[A\n",
            "Train:  54%|█████▎    | 3630/6760 [27:54<22:02,  2.37it/s, Average Loss=0.00196, Epoch=10]\u001b[A\n",
            "Train:  54%|█████▎    | 3630/6760 [27:54<22:02,  2.37it/s, Average Loss=0.0284, Epoch=10] \u001b[A\n",
            "Train:  54%|█████▍    | 3640/6760 [27:58<21:56,  2.37it/s, Average Loss=0.0284, Epoch=10]\u001b[A\n",
            "Train:  54%|█████▍    | 3640/6760 [27:58<21:56,  2.37it/s, Average Loss=0.031, Epoch=10] \u001b[A\n",
            "Train:  54%|█████▍    | 3650/6760 [28:02<21:50,  2.37it/s, Average Loss=0.031, Epoch=10]\u001b[A\n",
            "Train:  54%|█████▍    | 3650/6760 [28:02<21:50,  2.37it/s, Average Loss=0.0459, Epoch=10]\u001b[A\n",
            "Train:  54%|█████▍    | 3660/6760 [28:06<21:44,  2.38it/s, Average Loss=0.0459, Epoch=10]\u001b[A\n",
            "Train:  54%|█████▍    | 3660/6760 [28:06<21:44,  2.38it/s, Average Loss=0.0124, Epoch=10]\u001b[A\n",
            "Train:  54%|█████▍    | 3670/6760 [28:10<21:43,  2.37it/s, Average Loss=0.0124, Epoch=10]\u001b[A\n",
            "Train:  54%|█████▍    | 3670/6760 [28:10<21:43,  2.37it/s, Average Loss=0.0236, Epoch=10]\u001b[A\n",
            "Train:  54%|█████▍    | 3680/6760 [28:15<21:42,  2.37it/s, Average Loss=0.0236, Epoch=10]\u001b[A\n",
            "Train:  54%|█████▍    | 3680/6760 [28:15<21:42,  2.37it/s, Average Loss=0.00297, Epoch=10]\u001b[A\n",
            "Train:  55%|█████▍    | 3690/6760 [28:19<21:35,  2.37it/s, Average Loss=0.00297, Epoch=10]\u001b[A\n",
            "Train:  55%|█████▍    | 3690/6760 [28:19<21:35,  2.37it/s, Average Loss=0.0343, Epoch=10] \u001b[A\n",
            "Train:  55%|█████▍    | 3700/6760 [28:23<21:31,  2.37it/s, Average Loss=0.0343, Epoch=10]\u001b[A\n",
            "Train:  55%|█████▍    | 3700/6760 [28:23<21:31,  2.37it/s, Average Loss=0.0343, Epoch=10]\u001b[A\n",
            "Train:  55%|█████▍    | 3710/6760 [28:27<21:29,  2.37it/s, Average Loss=0.0343, Epoch=10]\u001b[A\n",
            "Train:  55%|█████▍    | 3710/6760 [28:27<21:29,  2.37it/s, Average Loss=0.0167, Epoch=10]\u001b[A"
          ]
        },
        {
          "output_type": "stream",
          "name": "stdout",
          "text": [
            "Validation: [Epoch: 10, Macro F1: 0.5588998612832278, Validation Loss: 1.6597525740778722, Time per Epoch: 152.26336240768433]\n",
            "Begin Epoch 11\n"
          ]
        },
        {
          "output_type": "stream",
          "name": "stderr",
          "text": [
            "\n",
            "Train:  55%|█████▌    | 3720/6760 [28:41<35:35,  1.42it/s, Average Loss=0.0167, Epoch=10]\u001b[A\n",
            "Train:  55%|█████▌    | 3720/6760 [28:41<35:35,  1.42it/s, Average Loss=0.0128, Epoch=11]\u001b[A\n",
            "Train:  55%|█████▌    | 3730/6760 [28:45<31:15,  1.62it/s, Average Loss=0.0128, Epoch=11]\u001b[A\n",
            "Train:  55%|█████▌    | 3730/6760 [28:45<31:15,  1.62it/s, Average Loss=0.115, Epoch=11] \u001b[A\n",
            "Train:  55%|█████▌    | 3740/6760 [28:49<28:14,  1.78it/s, Average Loss=0.115, Epoch=11]\u001b[A\n",
            "Train:  55%|█████▌    | 3740/6760 [28:49<28:14,  1.78it/s, Average Loss=0.00284, Epoch=11]\u001b[A\n",
            "Train:  55%|█████▌    | 3750/6760 [28:54<26:03,  1.93it/s, Average Loss=0.00284, Epoch=11]\u001b[A\n",
            "Train:  55%|█████▌    | 3750/6760 [28:54<26:03,  1.93it/s, Average Loss=0.0286, Epoch=11] \u001b[A\n",
            "Train:  56%|█████▌    | 3760/6760 [28:58<24:30,  2.04it/s, Average Loss=0.0286, Epoch=11]\u001b[A\n",
            "Train:  56%|█████▌    | 3760/6760 [28:58<24:30,  2.04it/s, Average Loss=0.0294, Epoch=11]\u001b[A\n",
            "Train:  56%|█████▌    | 3770/6760 [29:02<23:28,  2.12it/s, Average Loss=0.0294, Epoch=11]\u001b[A\n",
            "Train:  56%|█████▌    | 3770/6760 [29:02<23:28,  2.12it/s, Average Loss=0.0113, Epoch=11]\u001b[A\n",
            "Train:  56%|█████▌    | 3780/6760 [29:06<22:44,  2.18it/s, Average Loss=0.0113, Epoch=11]\u001b[A\n",
            "Train:  56%|█████▌    | 3780/6760 [29:06<22:44,  2.18it/s, Average Loss=0.0117, Epoch=11]\u001b[A\n",
            "Train:  56%|█████▌    | 3790/6760 [29:11<22:07,  2.24it/s, Average Loss=0.0117, Epoch=11]\u001b[A\n",
            "Train:  56%|█████▌    | 3790/6760 [29:11<22:07,  2.24it/s, Average Loss=0.031, Epoch=11] \u001b[A\n",
            "Train:  56%|█████▌    | 3800/6760 [29:15<21:40,  2.28it/s, Average Loss=0.031, Epoch=11]\u001b[A\n",
            "Train:  56%|█████▌    | 3800/6760 [29:15<21:40,  2.28it/s, Average Loss=0.0349, Epoch=11]\u001b[A\n",
            "Train:  56%|█████▋    | 3810/6760 [29:19<21:22,  2.30it/s, Average Loss=0.0349, Epoch=11]\u001b[A\n",
            "Train:  56%|█████▋    | 3810/6760 [29:19<21:22,  2.30it/s, Average Loss=0.0196, Epoch=11]\u001b[A\n",
            "Train:  57%|█████▋    | 3820/6760 [29:23<21:11,  2.31it/s, Average Loss=0.0196, Epoch=11]\u001b[A\n",
            "Train:  57%|█████▋    | 3820/6760 [29:23<21:11,  2.31it/s, Average Loss=0.0337, Epoch=11]\u001b[A\n",
            "Train:  57%|█████▋    | 3830/6760 [29:28<20:58,  2.33it/s, Average Loss=0.0337, Epoch=11]\u001b[A\n",
            "Train:  57%|█████▋    | 3830/6760 [29:28<20:58,  2.33it/s, Average Loss=0.00122, Epoch=11]\u001b[A\n",
            "Train:  57%|█████▋    | 3840/6760 [29:32<20:46,  2.34it/s, Average Loss=0.00122, Epoch=11]\u001b[A\n",
            "Train:  57%|█████▋    | 3840/6760 [29:32<20:46,  2.34it/s, Average Loss=0.0525, Epoch=11] \u001b[A\n",
            "Train:  57%|█████▋    | 3850/6760 [29:36<20:38,  2.35it/s, Average Loss=0.0525, Epoch=11]\u001b[A\n",
            "Train:  57%|█████▋    | 3850/6760 [29:36<20:38,  2.35it/s, Average Loss=0.00953, Epoch=11]\u001b[A\n",
            "Train:  57%|█████▋    | 3860/6760 [29:40<20:35,  2.35it/s, Average Loss=0.00953, Epoch=11]\u001b[A\n",
            "Train:  57%|█████▋    | 3860/6760 [29:40<20:35,  2.35it/s, Average Loss=0.00488, Epoch=11]\u001b[A\n",
            "Train:  57%|█████▋    | 3870/6760 [29:45<20:28,  2.35it/s, Average Loss=0.00488, Epoch=11]\u001b[A\n",
            "Train:  57%|█████▋    | 3870/6760 [29:45<20:28,  2.35it/s, Average Loss=0.0328, Epoch=11] \u001b[A\n",
            "Train:  57%|█████▋    | 3880/6760 [29:49<20:20,  2.36it/s, Average Loss=0.0328, Epoch=11]\u001b[A\n",
            "Train:  57%|█████▋    | 3880/6760 [29:49<20:20,  2.36it/s, Average Loss=0.00489, Epoch=11]\u001b[A\n",
            "Train:  58%|█████▊    | 3890/6760 [29:53<20:13,  2.36it/s, Average Loss=0.00489, Epoch=11]\u001b[A\n",
            "Train:  58%|█████▊    | 3890/6760 [29:53<20:13,  2.36it/s, Average Loss=0.00274, Epoch=11]\u001b[A\n",
            "Train:  58%|█████▊    | 3900/6760 [29:57<20:11,  2.36it/s, Average Loss=0.00274, Epoch=11]\u001b[A\n",
            "Train:  58%|█████▊    | 3900/6760 [29:57<20:11,  2.36it/s, Average Loss=0.00137, Epoch=11]\u001b[A\n",
            "Train:  58%|█████▊    | 3910/6760 [30:01<20:07,  2.36it/s, Average Loss=0.00137, Epoch=11]\u001b[A\n",
            "Train:  58%|█████▊    | 3910/6760 [30:01<20:07,  2.36it/s, Average Loss=0.016, Epoch=11]  \u001b[A\n",
            "Train:  58%|█████▊    | 3920/6760 [30:06<20:00,  2.37it/s, Average Loss=0.016, Epoch=11]\u001b[A\n",
            "Train:  58%|█████▊    | 3920/6760 [30:06<20:00,  2.37it/s, Average Loss=0.00618, Epoch=11]\u001b[A\n",
            "Train:  58%|█████▊    | 3930/6760 [30:10<19:54,  2.37it/s, Average Loss=0.00618, Epoch=11]\u001b[A\n",
            "Train:  58%|█████▊    | 3930/6760 [30:10<19:54,  2.37it/s, Average Loss=0.00594, Epoch=11]\u001b[A\n",
            "Train:  58%|█████▊    | 3940/6760 [30:14<19:51,  2.37it/s, Average Loss=0.00594, Epoch=11]\u001b[A\n",
            "Train:  58%|█████▊    | 3940/6760 [30:14<19:51,  2.37it/s, Average Loss=0.0515, Epoch=11] \u001b[A\n",
            "Train:  58%|█████▊    | 3950/6760 [30:18<19:48,  2.36it/s, Average Loss=0.0515, Epoch=11]\u001b[A\n",
            "Train:  58%|█████▊    | 3950/6760 [30:18<19:48,  2.36it/s, Average Loss=0.00339, Epoch=11]\u001b[A\n",
            "Train:  59%|█████▊    | 3960/6760 [30:22<19:41,  2.37it/s, Average Loss=0.00339, Epoch=11]\u001b[A\n",
            "Train:  59%|█████▊    | 3960/6760 [30:23<19:41,  2.37it/s, Average Loss=0.00682, Epoch=11]\u001b[A\n",
            "Train:  59%|█████▊    | 3970/6760 [30:27<19:35,  2.37it/s, Average Loss=0.00682, Epoch=11]\u001b[A\n",
            "Train:  59%|█████▊    | 3970/6760 [30:27<19:35,  2.37it/s, Average Loss=0.0428, Epoch=11] \u001b[A\n",
            "Train:  59%|█████▉    | 3980/6760 [30:31<19:34,  2.37it/s, Average Loss=0.0428, Epoch=11]\u001b[A\n",
            "Train:  59%|█████▉    | 3980/6760 [30:31<19:34,  2.37it/s, Average Loss=0.00185, Epoch=11]\u001b[A\n",
            "Train:  59%|█████▉    | 3990/6760 [30:35<19:30,  2.37it/s, Average Loss=0.00185, Epoch=11]\u001b[A\n",
            "Train:  59%|█████▉    | 3990/6760 [30:35<19:30,  2.37it/s, Average Loss=0.00811, Epoch=11]\u001b[A\n",
            "Train:  59%|█████▉    | 4000/6760 [30:39<19:24,  2.37it/s, Average Loss=0.00811, Epoch=11]\u001b[A\n",
            "Train:  59%|█████▉    | 4000/6760 [30:39<19:24,  2.37it/s, Average Loss=0.0398, Epoch=11] \u001b[A\n",
            "Train:  59%|█████▉    | 4010/6760 [30:44<19:19,  2.37it/s, Average Loss=0.0398, Epoch=11]\u001b[A\n",
            "Train:  59%|█████▉    | 4010/6760 [30:44<19:19,  2.37it/s, Average Loss=0.00201, Epoch=11]\u001b[A\n",
            "Train:  59%|█████▉    | 4020/6760 [30:48<19:16,  2.37it/s, Average Loss=0.00201, Epoch=11]\u001b[A\n",
            "Train:  59%|█████▉    | 4020/6760 [30:48<19:16,  2.37it/s, Average Loss=0.058, Epoch=11]  \u001b[A\n",
            "Train:  60%|█████▉    | 4030/6760 [30:52<19:15,  2.36it/s, Average Loss=0.058, Epoch=11]\u001b[A\n",
            "Train:  60%|█████▉    | 4030/6760 [30:52<19:15,  2.36it/s, Average Loss=0.011, Epoch=11]\u001b[A\n",
            "Train:  60%|█████▉    | 4040/6760 [30:56<19:08,  2.37it/s, Average Loss=0.011, Epoch=11]\u001b[A\n",
            "Train:  60%|█████▉    | 4040/6760 [30:56<19:08,  2.37it/s, Average Loss=0.0182, Epoch=11]\u001b[A\n",
            "Train:  60%|█████▉    | 4050/6760 [31:00<19:03,  2.37it/s, Average Loss=0.0182, Epoch=11]\u001b[A\n",
            "Train:  60%|█████▉    | 4050/6760 [31:01<19:03,  2.37it/s, Average Loss=0.0198, Epoch=11]\u001b[A"
          ]
        },
        {
          "output_type": "stream",
          "name": "stdout",
          "text": [
            "Validation: [Epoch: 11, Macro F1: 0.5607600783153369, Validation Loss: 1.854157195534817, Time per Epoch: 152.1766746044159]\n",
            "Begin Epoch 12\n"
          ]
        },
        {
          "output_type": "stream",
          "name": "stderr",
          "text": [
            "\n",
            "Train:  60%|██████    | 4060/6760 [31:14<31:27,  1.43it/s, Average Loss=0.0198, Epoch=11]\u001b[A\n",
            "Train:  60%|██████    | 4060/6760 [31:14<31:27,  1.43it/s, Average Loss=0.0327, Epoch=12]\u001b[A\n",
            "Train:  60%|██████    | 4070/6760 [31:18<27:36,  1.62it/s, Average Loss=0.0327, Epoch=12]\u001b[A\n",
            "Train:  60%|██████    | 4070/6760 [31:18<27:36,  1.62it/s, Average Loss=0.0603, Epoch=12]\u001b[A\n",
            "Train:  60%|██████    | 4080/6760 [31:22<24:55,  1.79it/s, Average Loss=0.0603, Epoch=12]\u001b[A\n",
            "Train:  60%|██████    | 4080/6760 [31:22<24:55,  1.79it/s, Average Loss=0.0207, Epoch=12]\u001b[A\n",
            "Train:  61%|██████    | 4090/6760 [31:27<23:04,  1.93it/s, Average Loss=0.0207, Epoch=12]\u001b[A\n",
            "Train:  61%|██████    | 4090/6760 [31:27<23:04,  1.93it/s, Average Loss=0.00214, Epoch=12]\u001b[A\n",
            "Train:  61%|██████    | 4100/6760 [31:31<21:42,  2.04it/s, Average Loss=0.00214, Epoch=12]\u001b[A\n",
            "Train:  61%|██████    | 4100/6760 [31:31<21:42,  2.04it/s, Average Loss=0.0304, Epoch=12] \u001b[A\n",
            "Train:  61%|██████    | 4110/6760 [31:35<20:43,  2.13it/s, Average Loss=0.0304, Epoch=12]\u001b[A\n",
            "Train:  61%|██████    | 4110/6760 [31:35<20:43,  2.13it/s, Average Loss=0.00354, Epoch=12]\u001b[A\n",
            "Train:  61%|██████    | 4120/6760 [31:39<20:02,  2.20it/s, Average Loss=0.00354, Epoch=12]\u001b[A\n",
            "Train:  61%|██████    | 4120/6760 [31:39<20:02,  2.20it/s, Average Loss=0.0419, Epoch=12] \u001b[A\n",
            "Train:  61%|██████    | 4130/6760 [31:44<19:34,  2.24it/s, Average Loss=0.0419, Epoch=12]\u001b[A\n",
            "Train:  61%|██████    | 4130/6760 [31:44<19:34,  2.24it/s, Average Loss=0.0066, Epoch=12]\u001b[A\n",
            "Train:  61%|██████    | 4140/6760 [31:48<19:10,  2.28it/s, Average Loss=0.0066, Epoch=12]\u001b[A\n",
            "Train:  61%|██████    | 4140/6760 [31:48<19:10,  2.28it/s, Average Loss=0.00573, Epoch=12]\u001b[A\n",
            "Train:  61%|██████▏   | 4150/6760 [31:52<18:52,  2.30it/s, Average Loss=0.00573, Epoch=12]\u001b[A\n",
            "Train:  61%|██████▏   | 4150/6760 [31:52<18:52,  2.30it/s, Average Loss=0.00309, Epoch=12]\u001b[A\n",
            "Train:  62%|██████▏   | 4160/6760 [31:56<18:40,  2.32it/s, Average Loss=0.00309, Epoch=12]\u001b[A\n",
            "Train:  62%|██████▏   | 4160/6760 [31:56<18:40,  2.32it/s, Average Loss=0.00345, Epoch=12]\u001b[A\n",
            "Train:  62%|██████▏   | 4170/6760 [32:01<18:33,  2.33it/s, Average Loss=0.00345, Epoch=12]\u001b[A\n",
            "Train:  62%|██████▏   | 4170/6760 [32:01<18:33,  2.33it/s, Average Loss=0.0217, Epoch=12] \u001b[A\n",
            "Train:  62%|██████▏   | 4180/6760 [32:05<18:23,  2.34it/s, Average Loss=0.0217, Epoch=12]\u001b[A\n",
            "Train:  62%|██████▏   | 4180/6760 [32:05<18:23,  2.34it/s, Average Loss=0.0285, Epoch=12]\u001b[A\n",
            "Train:  62%|██████▏   | 4190/6760 [32:09<18:14,  2.35it/s, Average Loss=0.0285, Epoch=12]\u001b[A\n",
            "Train:  62%|██████▏   | 4190/6760 [32:09<18:14,  2.35it/s, Average Loss=0.0155, Epoch=12]\u001b[A\n",
            "Train:  62%|██████▏   | 4200/6760 [32:13<18:08,  2.35it/s, Average Loss=0.0155, Epoch=12]\u001b[A\n",
            "Train:  62%|██████▏   | 4200/6760 [32:13<18:08,  2.35it/s, Average Loss=0.00323, Epoch=12]\u001b[A\n",
            "Train:  62%|██████▏   | 4210/6760 [32:17<18:04,  2.35it/s, Average Loss=0.00323, Epoch=12]\u001b[A\n",
            "Train:  62%|██████▏   | 4210/6760 [32:17<18:04,  2.35it/s, Average Loss=0.0405, Epoch=12] \u001b[A\n",
            "Train:  62%|██████▏   | 4220/6760 [32:22<17:59,  2.35it/s, Average Loss=0.0405, Epoch=12]\u001b[A\n",
            "Train:  62%|██████▏   | 4220/6760 [32:22<17:59,  2.35it/s, Average Loss=0.00183, Epoch=12]\u001b[A\n",
            "Train:  63%|██████▎   | 4230/6760 [32:26<17:53,  2.36it/s, Average Loss=0.00183, Epoch=12]\u001b[A\n",
            "Train:  63%|██████▎   | 4230/6760 [32:26<17:53,  2.36it/s, Average Loss=0.00371, Epoch=12]\u001b[A\n",
            "Train:  63%|██████▎   | 4240/6760 [32:30<17:48,  2.36it/s, Average Loss=0.00371, Epoch=12]\u001b[A\n",
            "Train:  63%|██████▎   | 4240/6760 [32:30<17:48,  2.36it/s, Average Loss=0.00229, Epoch=12]\u001b[A\n",
            "Train:  63%|██████▎   | 4250/6760 [32:34<17:46,  2.35it/s, Average Loss=0.00229, Epoch=12]\u001b[A\n",
            "Train:  63%|██████▎   | 4250/6760 [32:34<17:46,  2.35it/s, Average Loss=0.00613, Epoch=12]\u001b[A\n",
            "Train:  63%|██████▎   | 4260/6760 [32:39<17:42,  2.35it/s, Average Loss=0.00613, Epoch=12]\u001b[A\n",
            "Train:  63%|██████▎   | 4260/6760 [32:39<17:42,  2.35it/s, Average Loss=0.000297, Epoch=12]\u001b[A\n",
            "Train:  63%|██████▎   | 4270/6760 [32:43<17:34,  2.36it/s, Average Loss=0.000297, Epoch=12]\u001b[A\n",
            "Train:  63%|██████▎   | 4270/6760 [32:43<17:34,  2.36it/s, Average Loss=0.0316, Epoch=12]  \u001b[A\n",
            "Train:  63%|██████▎   | 4280/6760 [32:47<17:28,  2.36it/s, Average Loss=0.0316, Epoch=12]\u001b[A\n",
            "Train:  63%|██████▎   | 4280/6760 [32:47<17:28,  2.36it/s, Average Loss=0.0356, Epoch=12]\u001b[A\n",
            "Train:  63%|██████▎   | 4290/6760 [32:51<17:26,  2.36it/s, Average Loss=0.0356, Epoch=12]\u001b[A\n",
            "Train:  63%|██████▎   | 4290/6760 [32:51<17:26,  2.36it/s, Average Loss=0.0573, Epoch=12]\u001b[A\n",
            "Train:  64%|██████▎   | 4300/6760 [32:56<17:22,  2.36it/s, Average Loss=0.0573, Epoch=12]\u001b[A\n",
            "Train:  64%|██████▎   | 4300/6760 [32:56<17:22,  2.36it/s, Average Loss=0.0367, Epoch=12]\u001b[A\n",
            "Train:  64%|██████▍   | 4310/6760 [33:00<17:15,  2.37it/s, Average Loss=0.0367, Epoch=12]\u001b[A\n",
            "Train:  64%|██████▍   | 4310/6760 [33:00<17:15,  2.37it/s, Average Loss=0.000433, Epoch=12]\u001b[A\n",
            "Train:  64%|██████▍   | 4320/6760 [33:04<17:10,  2.37it/s, Average Loss=0.000433, Epoch=12]\u001b[A\n",
            "Train:  64%|██████▍   | 4320/6760 [33:04<17:10,  2.37it/s, Average Loss=0.0137, Epoch=12]  \u001b[A\n",
            "Train:  64%|██████▍   | 4330/6760 [33:08<17:09,  2.36it/s, Average Loss=0.0137, Epoch=12]\u001b[A\n",
            "Train:  64%|██████▍   | 4330/6760 [33:08<17:09,  2.36it/s, Average Loss=0.000254, Epoch=12]\u001b[A\n",
            "Train:  64%|██████▍   | 4340/6760 [33:13<17:05,  2.36it/s, Average Loss=0.000254, Epoch=12]\u001b[A\n",
            "Train:  64%|██████▍   | 4340/6760 [33:13<17:05,  2.36it/s, Average Loss=0.000296, Epoch=12]\u001b[A\n",
            "Train:  64%|██████▍   | 4350/6760 [33:17<16:59,  2.36it/s, Average Loss=0.000296, Epoch=12]\u001b[A\n",
            "Train:  64%|██████▍   | 4350/6760 [33:17<16:59,  2.36it/s, Average Loss=0.00245, Epoch=12] \u001b[A\n",
            "Train:  64%|██████▍   | 4360/6760 [33:21<16:53,  2.37it/s, Average Loss=0.00245, Epoch=12]\u001b[A\n",
            "Train:  64%|██████▍   | 4360/6760 [33:21<16:53,  2.37it/s, Average Loss=0.000242, Epoch=12]\u001b[A\n",
            "Train:  65%|██████▍   | 4370/6760 [33:25<16:50,  2.36it/s, Average Loss=0.000242, Epoch=12]\u001b[A\n",
            "Train:  65%|██████▍   | 4370/6760 [33:25<16:50,  2.36it/s, Average Loss=0.0226, Epoch=12]  \u001b[A\n",
            "Train:  65%|██████▍   | 4380/6760 [33:29<16:47,  2.36it/s, Average Loss=0.0226, Epoch=12]\u001b[A\n",
            "Train:  65%|██████▍   | 4380/6760 [33:29<16:47,  2.36it/s, Average Loss=0.000229, Epoch=12]\u001b[A\n",
            "Train:  65%|██████▍   | 4390/6760 [33:34<16:42,  2.36it/s, Average Loss=0.000229, Epoch=12]\u001b[A\n",
            "Train:  65%|██████▍   | 4390/6760 [33:34<16:42,  2.36it/s, Average Loss=0.00991, Epoch=12] \u001b[A"
          ]
        },
        {
          "output_type": "stream",
          "name": "stdout",
          "text": [
            "Validation: [Epoch: 12, Macro F1: 0.5698215125078125, Validation Loss: 1.8851327133733173, Time per Epoch: 152.57233500480652]\n",
            "Begin Epoch 13\n"
          ]
        },
        {
          "output_type": "stream",
          "name": "stderr",
          "text": [
            "\n",
            "Train:  65%|██████▌   | 4400/6760 [33:47<27:49,  1.41it/s, Average Loss=0.00991, Epoch=12]\u001b[A\n",
            "Train:  65%|██████▌   | 4400/6760 [33:47<27:49,  1.41it/s, Average Loss=0.0514, Epoch=13] \u001b[A\n",
            "Train:  65%|██████▌   | 4410/6760 [33:52<24:20,  1.61it/s, Average Loss=0.0514, Epoch=13]\u001b[A\n",
            "Train:  65%|██████▌   | 4410/6760 [33:52<24:20,  1.61it/s, Average Loss=0.00156, Epoch=13]\u001b[A\n",
            "Train:  65%|██████▌   | 4420/6760 [33:56<21:52,  1.78it/s, Average Loss=0.00156, Epoch=13]\u001b[A\n",
            "Train:  65%|██████▌   | 4420/6760 [33:56<21:52,  1.78it/s, Average Loss=0.00371, Epoch=13]\u001b[A\n",
            "Train:  66%|██████▌   | 4430/6760 [34:00<20:11,  1.92it/s, Average Loss=0.00371, Epoch=13]\u001b[A\n",
            "Train:  66%|██████▌   | 4430/6760 [34:00<20:11,  1.92it/s, Average Loss=0.00989, Epoch=13]\u001b[A\n",
            "Train:  66%|██████▌   | 4440/6760 [34:04<19:00,  2.03it/s, Average Loss=0.00989, Epoch=13]\u001b[A\n",
            "Train:  66%|██████▌   | 4440/6760 [34:04<19:00,  2.03it/s, Average Loss=0.0372, Epoch=13] \u001b[A\n",
            "Train:  66%|██████▌   | 4450/6760 [34:08<18:07,  2.13it/s, Average Loss=0.0372, Epoch=13]\u001b[A\n",
            "Train:  66%|██████▌   | 4450/6760 [34:09<18:07,  2.13it/s, Average Loss=0.000402, Epoch=13]\u001b[A\n",
            "Train:  66%|██████▌   | 4460/6760 [34:13<17:28,  2.19it/s, Average Loss=0.000402, Epoch=13]\u001b[A\n",
            "Train:  66%|██████▌   | 4460/6760 [34:13<17:28,  2.19it/s, Average Loss=0.00058, Epoch=13] \u001b[A\n",
            "Train:  66%|██████▌   | 4470/6760 [34:17<17:02,  2.24it/s, Average Loss=0.00058, Epoch=13]\u001b[A\n",
            "Train:  66%|██████▌   | 4470/6760 [34:17<17:02,  2.24it/s, Average Loss=0.0108, Epoch=13] \u001b[A\n",
            "Train:  66%|██████▋   | 4480/6760 [34:21<16:43,  2.27it/s, Average Loss=0.0108, Epoch=13]\u001b[A\n",
            "Train:  66%|██████▋   | 4480/6760 [34:21<16:43,  2.27it/s, Average Loss=0.000933, Epoch=13]\u001b[A\n",
            "Train:  66%|██████▋   | 4490/6760 [34:25<16:26,  2.30it/s, Average Loss=0.000933, Epoch=13]\u001b[A\n",
            "Train:  66%|██████▋   | 4490/6760 [34:25<16:26,  2.30it/s, Average Loss=0.000631, Epoch=13]\u001b[A\n",
            "Train:  67%|██████▋   | 4500/6760 [34:30<16:13,  2.32it/s, Average Loss=0.000631, Epoch=13]\u001b[A\n",
            "Train:  67%|██████▋   | 4500/6760 [34:30<16:13,  2.32it/s, Average Loss=0.00372, Epoch=13] \u001b[A\n",
            "Train:  67%|██████▋   | 4510/6760 [34:34<16:05,  2.33it/s, Average Loss=0.00372, Epoch=13]\u001b[A\n",
            "Train:  67%|██████▋   | 4510/6760 [34:34<16:05,  2.33it/s, Average Loss=0.00131, Epoch=13]\u001b[A\n",
            "Train:  67%|██████▋   | 4520/6760 [34:38<15:58,  2.34it/s, Average Loss=0.00131, Epoch=13]\u001b[A\n",
            "Train:  67%|██████▋   | 4520/6760 [34:38<15:58,  2.34it/s, Average Loss=0.0236, Epoch=13] \u001b[A\n",
            "Train:  67%|██████▋   | 4530/6760 [34:42<15:50,  2.35it/s, Average Loss=0.0236, Epoch=13]\u001b[A\n",
            "Train:  67%|██████▋   | 4530/6760 [34:42<15:50,  2.35it/s, Average Loss=0.0161, Epoch=13]\u001b[A\n",
            "Train:  67%|██████▋   | 4540/6760 [34:47<15:42,  2.36it/s, Average Loss=0.0161, Epoch=13]\u001b[A\n",
            "Train:  67%|██████▋   | 4540/6760 [34:47<15:42,  2.36it/s, Average Loss=0.000142, Epoch=13]\u001b[A\n",
            "Train:  67%|██████▋   | 4550/6760 [34:51<15:37,  2.36it/s, Average Loss=0.000142, Epoch=13]\u001b[A\n",
            "Train:  67%|██████▋   | 4550/6760 [34:51<15:37,  2.36it/s, Average Loss=0.0321, Epoch=13]  \u001b[A\n",
            "Train:  67%|██████▋   | 4560/6760 [34:55<15:34,  2.36it/s, Average Loss=0.0321, Epoch=13]\u001b[A\n",
            "Train:  67%|██████▋   | 4560/6760 [34:55<15:34,  2.36it/s, Average Loss=0.00117, Epoch=13]\u001b[A\n",
            "Train:  68%|██████▊   | 4570/6760 [34:59<15:29,  2.36it/s, Average Loss=0.00117, Epoch=13]\u001b[A\n",
            "Train:  68%|██████▊   | 4570/6760 [34:59<15:29,  2.36it/s, Average Loss=0.00323, Epoch=13]\u001b[A\n",
            "Train:  68%|██████▊   | 4580/6760 [35:04<15:23,  2.36it/s, Average Loss=0.00323, Epoch=13]\u001b[A\n",
            "Train:  68%|██████▊   | 4580/6760 [35:04<15:23,  2.36it/s, Average Loss=0.00257, Epoch=13]\u001b[A\n",
            "Train:  68%|██████▊   | 4590/6760 [35:08<15:18,  2.36it/s, Average Loss=0.00257, Epoch=13]\u001b[A\n",
            "Train:  68%|██████▊   | 4590/6760 [35:08<15:18,  2.36it/s, Average Loss=0.002, Epoch=13]  \u001b[A\n",
            "Train:  68%|██████▊   | 4600/6760 [35:12<15:14,  2.36it/s, Average Loss=0.002, Epoch=13]\u001b[A\n",
            "Train:  68%|██████▊   | 4600/6760 [35:12<15:14,  2.36it/s, Average Loss=0.0294, Epoch=13]\u001b[A\n",
            "Train:  68%|██████▊   | 4610/6760 [35:16<15:11,  2.36it/s, Average Loss=0.0294, Epoch=13]\u001b[A\n",
            "Train:  68%|██████▊   | 4610/6760 [35:16<15:11,  2.36it/s, Average Loss=0.0313, Epoch=13]\u001b[A\n",
            "Train:  68%|██████▊   | 4620/6760 [35:20<15:05,  2.36it/s, Average Loss=0.0313, Epoch=13]\u001b[A\n",
            "Train:  68%|██████▊   | 4620/6760 [35:20<15:05,  2.36it/s, Average Loss=0.0255, Epoch=13]\u001b[A\n",
            "Train:  68%|██████▊   | 4630/6760 [35:25<15:01,  2.36it/s, Average Loss=0.0255, Epoch=13]\u001b[A\n",
            "Train:  68%|██████▊   | 4630/6760 [35:25<15:01,  2.36it/s, Average Loss=0.0158, Epoch=13]\u001b[A\n",
            "Train:  69%|██████▊   | 4640/6760 [35:29<14:59,  2.36it/s, Average Loss=0.0158, Epoch=13]\u001b[A\n",
            "Train:  69%|██████▊   | 4640/6760 [35:29<14:59,  2.36it/s, Average Loss=0.000177, Epoch=13]\u001b[A\n",
            "Train:  69%|██████▉   | 4650/6760 [35:33<14:55,  2.36it/s, Average Loss=0.000177, Epoch=13]\u001b[A\n",
            "Train:  69%|██████▉   | 4650/6760 [35:33<14:55,  2.36it/s, Average Loss=0.0174, Epoch=13]  \u001b[A\n",
            "Train:  69%|██████▉   | 4660/6760 [35:37<14:49,  2.36it/s, Average Loss=0.0174, Epoch=13]\u001b[A\n",
            "Train:  69%|██████▉   | 4660/6760 [35:37<14:49,  2.36it/s, Average Loss=0.00231, Epoch=13]\u001b[A\n",
            "Train:  69%|██████▉   | 4670/6760 [35:42<14:45,  2.36it/s, Average Loss=0.00231, Epoch=13]\u001b[A\n",
            "Train:  69%|██████▉   | 4670/6760 [35:42<14:45,  2.36it/s, Average Loss=0.000718, Epoch=13]\u001b[A\n",
            "Train:  69%|██████▉   | 4680/6760 [35:46<14:42,  2.36it/s, Average Loss=0.000718, Epoch=13]\u001b[A\n",
            "Train:  69%|██████▉   | 4680/6760 [35:46<14:42,  2.36it/s, Average Loss=0.000342, Epoch=13]\u001b[A\n",
            "Train:  69%|██████▉   | 4690/6760 [35:50<14:38,  2.36it/s, Average Loss=0.000342, Epoch=13]\u001b[A\n",
            "Train:  69%|██████▉   | 4690/6760 [35:50<14:38,  2.36it/s, Average Loss=0.000162, Epoch=13]\u001b[A\n",
            "Train:  70%|██████▉   | 4700/6760 [35:54<14:32,  2.36it/s, Average Loss=0.000162, Epoch=13]\u001b[A\n",
            "Train:  70%|██████▉   | 4700/6760 [35:54<14:32,  2.36it/s, Average Loss=0.000347, Epoch=13]\u001b[A\n",
            "Train:  70%|██████▉   | 4710/6760 [35:59<14:27,  2.36it/s, Average Loss=0.000347, Epoch=13]\u001b[A\n",
            "Train:  70%|██████▉   | 4710/6760 [35:59<14:27,  2.36it/s, Average Loss=0.000214, Epoch=13]\u001b[A\n",
            "Train:  70%|██████▉   | 4720/6760 [36:03<14:24,  2.36it/s, Average Loss=0.000214, Epoch=13]\u001b[A\n",
            "Train:  70%|██████▉   | 4720/6760 [36:03<14:24,  2.36it/s, Average Loss=0.00648, Epoch=13] \u001b[A\n",
            "Train:  70%|██████▉   | 4730/6760 [36:07<14:21,  2.36it/s, Average Loss=0.00648, Epoch=13]\u001b[A\n",
            "Train:  70%|██████▉   | 4730/6760 [36:07<14:21,  2.36it/s, Average Loss=0.0306, Epoch=13] \u001b[A"
          ]
        },
        {
          "output_type": "stream",
          "name": "stdout",
          "text": [
            "Validation: [Epoch: 13, Macro F1: 0.5641442223210607, Validation Loss: 1.870602618816287, Time per Epoch: 152.46225571632385]\n",
            "Begin Epoch 14\n"
          ]
        },
        {
          "output_type": "stream",
          "name": "stderr",
          "text": [
            "\n",
            "Train:  70%|███████   | 4740/6760 [36:21<23:44,  1.42it/s, Average Loss=0.0306, Epoch=13]\u001b[A\n",
            "Train:  70%|███████   | 4740/6760 [36:21<23:44,  1.42it/s, Average Loss=0.0401, Epoch=14]\u001b[A\n",
            "Train:  70%|███████   | 4750/6760 [36:25<20:48,  1.61it/s, Average Loss=0.0401, Epoch=14]\u001b[A\n",
            "Train:  70%|███████   | 4750/6760 [36:25<20:48,  1.61it/s, Average Loss=0.000494, Epoch=14]\u001b[A\n",
            "Train:  70%|███████   | 4760/6760 [36:29<18:42,  1.78it/s, Average Loss=0.000494, Epoch=14]\u001b[A\n",
            "Train:  70%|███████   | 4760/6760 [36:29<18:42,  1.78it/s, Average Loss=0.00335, Epoch=14] \u001b[A\n",
            "Train:  71%|███████   | 4770/6760 [36:33<17:12,  1.93it/s, Average Loss=0.00335, Epoch=14]\u001b[A\n",
            "Train:  71%|███████   | 4770/6760 [36:33<17:12,  1.93it/s, Average Loss=0.0323, Epoch=14] \u001b[A\n",
            "Train:  71%|███████   | 4780/6760 [36:38<16:11,  2.04it/s, Average Loss=0.0323, Epoch=14]\u001b[A\n",
            "Train:  71%|███████   | 4780/6760 [36:38<16:11,  2.04it/s, Average Loss=0.000422, Epoch=14]\u001b[A\n",
            "Train:  71%|███████   | 4790/6760 [36:42<15:28,  2.12it/s, Average Loss=0.000422, Epoch=14]\u001b[A\n",
            "Train:  71%|███████   | 4790/6760 [36:42<15:28,  2.12it/s, Average Loss=0.000362, Epoch=14]\u001b[A\n",
            "Train:  71%|███████   | 4800/6760 [36:46<14:53,  2.19it/s, Average Loss=0.000362, Epoch=14]\u001b[A\n",
            "Train:  71%|███████   | 4800/6760 [36:46<14:53,  2.19it/s, Average Loss=0.00505, Epoch=14] \u001b[A\n",
            "Train:  71%|███████   | 4810/6760 [36:50<14:28,  2.24it/s, Average Loss=0.00505, Epoch=14]\u001b[A\n",
            "Train:  71%|███████   | 4810/6760 [36:50<14:28,  2.24it/s, Average Loss=0.000628, Epoch=14]\u001b[A\n",
            "Train:  71%|███████▏  | 4820/6760 [36:55<14:12,  2.28it/s, Average Loss=0.000628, Epoch=14]\u001b[A\n",
            "Train:  71%|███████▏  | 4820/6760 [36:55<14:12,  2.28it/s, Average Loss=0.000893, Epoch=14]\u001b[A\n",
            "Train:  71%|███████▏  | 4830/6760 [36:59<13:59,  2.30it/s, Average Loss=0.000893, Epoch=14]\u001b[A\n",
            "Train:  71%|███████▏  | 4830/6760 [36:59<13:59,  2.30it/s, Average Loss=0.000181, Epoch=14]\u001b[A\n",
            "Train:  72%|███████▏  | 4840/6760 [37:03<13:47,  2.32it/s, Average Loss=0.000181, Epoch=14]\u001b[A\n",
            "Train:  72%|███████▏  | 4840/6760 [37:03<13:47,  2.32it/s, Average Loss=0.0346, Epoch=14]  \u001b[A\n",
            "Train:  72%|███████▏  | 4850/6760 [37:07<13:37,  2.34it/s, Average Loss=0.0346, Epoch=14]\u001b[A\n",
            "Train:  72%|███████▏  | 4850/6760 [37:07<13:37,  2.34it/s, Average Loss=0.000361, Epoch=14]\u001b[A\n",
            "Train:  72%|███████▏  | 4860/6760 [37:11<13:31,  2.34it/s, Average Loss=0.000361, Epoch=14]\u001b[A\n",
            "Train:  72%|███████▏  | 4860/6760 [37:11<13:31,  2.34it/s, Average Loss=0.00644, Epoch=14] \u001b[A\n",
            "Train:  72%|███████▏  | 4870/6760 [37:16<13:26,  2.34it/s, Average Loss=0.00644, Epoch=14]\u001b[A\n",
            "Train:  72%|███████▏  | 4870/6760 [37:16<13:26,  2.34it/s, Average Loss=0.0021, Epoch=14] \u001b[A\n",
            "Train:  72%|███████▏  | 4880/6760 [37:20<13:18,  2.35it/s, Average Loss=0.0021, Epoch=14]\u001b[A\n",
            "Train:  72%|███████▏  | 4880/6760 [37:20<13:18,  2.35it/s, Average Loss=0.000812, Epoch=14]\u001b[A\n",
            "Train:  72%|███████▏  | 4890/6760 [37:24<13:12,  2.36it/s, Average Loss=0.000812, Epoch=14]\u001b[A\n",
            "Train:  72%|███████▏  | 4890/6760 [37:24<13:12,  2.36it/s, Average Loss=0.0135, Epoch=14]  \u001b[A\n",
            "Train:  72%|███████▏  | 4900/6760 [37:28<13:08,  2.36it/s, Average Loss=0.0135, Epoch=14]\u001b[A\n",
            "Train:  72%|███████▏  | 4900/6760 [37:28<13:08,  2.36it/s, Average Loss=0.00971, Epoch=14]\u001b[A\n",
            "Train:  73%|███████▎  | 4910/6760 [37:33<13:05,  2.35it/s, Average Loss=0.00971, Epoch=14]\u001b[A\n",
            "Train:  73%|███████▎  | 4910/6760 [37:33<13:05,  2.35it/s, Average Loss=0.00021, Epoch=14]\u001b[A\n",
            "Train:  73%|███████▎  | 4920/6760 [37:37<12:59,  2.36it/s, Average Loss=0.00021, Epoch=14]\u001b[A\n",
            "Train:  73%|███████▎  | 4920/6760 [37:37<12:59,  2.36it/s, Average Loss=0.000454, Epoch=14]\u001b[A\n",
            "Train:  73%|███████▎  | 4930/6760 [37:41<12:53,  2.37it/s, Average Loss=0.000454, Epoch=14]\u001b[A\n",
            "Train:  73%|███████▎  | 4930/6760 [37:41<12:53,  2.37it/s, Average Loss=0.000447, Epoch=14]\u001b[A\n",
            "Train:  73%|███████▎  | 4940/6760 [37:45<12:49,  2.37it/s, Average Loss=0.000447, Epoch=14]\u001b[A\n",
            "Train:  73%|███████▎  | 4940/6760 [37:45<12:49,  2.37it/s, Average Loss=0.000469, Epoch=14]\u001b[A\n",
            "Train:  73%|███████▎  | 4950/6760 [37:50<12:46,  2.36it/s, Average Loss=0.000469, Epoch=14]\u001b[A\n",
            "Train:  73%|███████▎  | 4950/6760 [37:50<12:46,  2.36it/s, Average Loss=0.0248, Epoch=14]  \u001b[A\n",
            "Train:  73%|███████▎  | 4960/6760 [37:54<12:41,  2.36it/s, Average Loss=0.0248, Epoch=14]\u001b[A\n",
            "Train:  73%|███████▎  | 4960/6760 [37:54<12:41,  2.36it/s, Average Loss=0.000333, Epoch=14]\u001b[A\n",
            "Train:  74%|███████▎  | 4970/6760 [37:58<12:36,  2.37it/s, Average Loss=0.000333, Epoch=14]\u001b[A\n",
            "Train:  74%|███████▎  | 4970/6760 [37:58<12:36,  2.37it/s, Average Loss=0.00172, Epoch=14] \u001b[A\n",
            "Train:  74%|███████▎  | 4980/6760 [38:02<12:31,  2.37it/s, Average Loss=0.00172, Epoch=14]\u001b[A\n",
            "Train:  74%|███████▎  | 4980/6760 [38:02<12:31,  2.37it/s, Average Loss=0.000157, Epoch=14]\u001b[A\n",
            "Train:  74%|███████▍  | 4990/6760 [38:06<12:28,  2.37it/s, Average Loss=0.000157, Epoch=14]\u001b[A\n",
            "Train:  74%|███████▍  | 4990/6760 [38:06<12:28,  2.37it/s, Average Loss=0.000136, Epoch=14]\u001b[A\n",
            "Train:  74%|███████▍  | 5000/6760 [38:11<12:24,  2.36it/s, Average Loss=0.000136, Epoch=14]\u001b[A\n",
            "Train:  74%|███████▍  | 5000/6760 [38:11<12:24,  2.36it/s, Average Loss=0.000192, Epoch=14]\u001b[A\n",
            "Train:  74%|███████▍  | 5010/6760 [38:15<12:19,  2.37it/s, Average Loss=0.000192, Epoch=14]\u001b[A\n",
            "Train:  74%|███████▍  | 5010/6760 [38:15<12:19,  2.37it/s, Average Loss=0.00264, Epoch=14] \u001b[A\n",
            "Train:  74%|███████▍  | 5020/6760 [38:19<12:13,  2.37it/s, Average Loss=0.00264, Epoch=14]\u001b[A\n",
            "Train:  74%|███████▍  | 5020/6760 [38:19<12:13,  2.37it/s, Average Loss=0.000153, Epoch=14]\u001b[A\n",
            "Train:  74%|███████▍  | 5030/6760 [38:23<12:11,  2.37it/s, Average Loss=0.000153, Epoch=14]\u001b[A\n",
            "Train:  74%|███████▍  | 5030/6760 [38:23<12:11,  2.37it/s, Average Loss=0.000153, Epoch=14]\u001b[A\n",
            "Train:  75%|███████▍  | 5040/6760 [38:28<12:07,  2.36it/s, Average Loss=0.000153, Epoch=14]\u001b[A\n",
            "Train:  75%|███████▍  | 5040/6760 [38:28<12:07,  2.36it/s, Average Loss=0.00297, Epoch=14] \u001b[A\n",
            "Train:  75%|███████▍  | 5050/6760 [38:32<12:02,  2.37it/s, Average Loss=0.00297, Epoch=14]\u001b[A\n",
            "Train:  75%|███████▍  | 5050/6760 [38:32<12:02,  2.37it/s, Average Loss=0.00156, Epoch=14]\u001b[A\n",
            "Train:  75%|███████▍  | 5060/6760 [38:36<11:57,  2.37it/s, Average Loss=0.00156, Epoch=14]\u001b[A\n",
            "Train:  75%|███████▍  | 5060/6760 [38:36<11:57,  2.37it/s, Average Loss=0.000226, Epoch=14]\u001b[A\n",
            "Train:  75%|███████▌  | 5070/6760 [38:40<11:54,  2.37it/s, Average Loss=0.000226, Epoch=14]\u001b[A\n",
            "Train:  75%|███████▌  | 5070/6760 [38:40<11:54,  2.37it/s, Average Loss=0.00195, Epoch=14] \u001b[A"
          ]
        },
        {
          "output_type": "stream",
          "name": "stdout",
          "text": [
            "Validation: [Epoch: 14, Macro F1: 0.5596018680583923, Validation Loss: 2.0179991749830024, Time per Epoch: 152.2863471508026]\n",
            "Training stopped early at Epoch: 14\n"
          ]
        }
      ],
      "source": [
        "pbar = tqdm(total=num_training_steps, desc=\"Train\")\n",
        "for epoch in range(EPOCHS):\n",
        "    print(f\"Begin Epoch {epoch}\")\n",
        "    epoch_start_time = time.time()\n",
        "    for step, batch in enumerate(train_loader):\n",
        "        batch = {k: v.to(device) for k, v in batch.items()}\n",
        "        outputs = model(**batch)\n",
        "        loss = outputs.loss\n",
        "        loss = loss / gradient_accumulation_steps\n",
        "        loss.backward()\n",
        "        tot_loss += loss.item()\n",
        "        actual_step += 1\n",
        "\n",
        "        if actual_step % gradient_accumulation_steps == 0:\n",
        "            torch.nn.utils.clip_grad_norm_(model.parameters(), max_grad_norm)\n",
        "            glb_step += 1\n",
        "\n",
        "            if glb_step % pbar_update_freq == 0:\n",
        "                aveloss = (tot_loss - log_loss)/pbar_update_freq\n",
        "                pbar.update(pbar_update_freq)\n",
        "                pbar.set_postfix({'Average Loss': aveloss, \"Epoch\": epoch})\n",
        "                log_loss = tot_loss\n",
        "\n",
        "            if optimizer is not None:\n",
        "                optimizer.step()\n",
        "                optimizer.zero_grad()\n",
        "            if scheduler is not None:\n",
        "                scheduler.step()\n",
        "\n",
        "        if glb_step > num_training_steps:\n",
        "            leave_training = True\n",
        "            break\n",
        "\n",
        "    val_acc, val_loss = calculate_loss_and_f1(model, validation_loader)\n",
        "    epoch_traces.append(epoch)\n",
        "    acc_traces.append(val_acc)\n",
        "    validation_loss_traces.append(val_loss)\n",
        "    print(\"Validation: [Epoch: {}, Macro F1: {}, Validation Loss: {}, Time per Epoch: {}]\".format(epoch, val_acc, val_loss, time.time()-epoch_start_time), flush=True)\n",
        "\n",
        "    if val_acc > best_val_acc:\n",
        "        torch.save(model.state_dict(),f\"best_model.ckpt\")\n",
        "        best_val_acc = val_acc\n",
        "        best_epoch = epoch\n",
        "\n",
        "    elif (epoch - best_epoch) >= early_stop_epoch_thresh:\n",
        "        print(\"Training stopped early at Epoch: %d\" % epoch)\n",
        "        break  # Terminate the training loop\n",
        "\n",
        "    if leave_training:\n",
        "        break"
      ]
    },
    {
      "cell_type": "code",
      "execution_count": 95,
      "metadata": {
        "id": "hzB2Rn4-GXSS",
        "colab": {
          "base_uri": "https://localhost:8080/"
        },
        "outputId": "7cbdcaac-c688-4150-f5bd-741b46b8bb54"
      },
      "outputs": [
        {
          "output_type": "stream",
          "name": "stdout",
          "text": [
            "Done\n"
          ]
        }
      ],
      "source": [
        "model.load_state_dict(torch.load(f\"best_model.ckpt\"))\n",
        "model.cuda()\n",
        "print(\"Done\")"
      ]
    },
    {
      "cell_type": "code",
      "execution_count": 96,
      "metadata": {
        "id": "9U5FrKYZGZnZ",
        "colab": {
          "base_uri": "https://localhost:8080/"
        },
        "outputId": "9fb3c595-e364-4aad-f47e-c51736b55a23"
      },
      "outputs": [
        {
          "output_type": "execute_result",
          "data": {
            "text/plain": [
              "{'accuracy': 0.7477810650887574,\n",
              " 'precision': 0.7535532407483058,\n",
              " 'recall': 0.7477810650887574,\n",
              " 'f1': 0.7500756799333012,\n",
              " 'macro_precision': 0.5678811198252267,\n",
              " 'macro_recall': 0.5787958132484997,\n",
              " 'macro_f1': 0.5728818735618124}"
            ]
          },
          "metadata": {},
          "execution_count": 96
        }
      ],
      "source": [
        "evaluate(model, validation_loader)"
      ]
    },
    {
      "cell_type": "code",
      "execution_count": 97,
      "metadata": {
        "id": "zE3UzWNHGcnM",
        "colab": {
          "base_uri": "https://localhost:8080/",
          "height": 472
        },
        "outputId": "5797ed6e-a247-43a8-faba-294c9fc3d819"
      },
      "outputs": [
        {
          "output_type": "display_data",
          "data": {
            "text/plain": [
              "<Figure size 640x480 with 1 Axes>"
            ],
            "image/png": "[encoded data removed]"
          },
          "metadata": {}
        }
      ],
      "source": [
        "plt.plot(range(len(epoch_traces)), acc_traces)\n",
        "plt.xlabel('Epoch')\n",
        "plt.ylabel('Macro F1-Score')\n",
        "plt.title('Epoch vs Validation Macro F1-Score')\n",
        "plt.xticks(range(len(epoch_traces)), epoch_traces)\n",
        "plt.show()"
      ]
    },
    {
      "cell_type": "code",
      "execution_count": 98,
      "metadata": {
        "id": "y1y6enP6GewI",
        "colab": {
          "base_uri": "https://localhost:8080/",
          "height": 472
        },
        "outputId": "3e15db6c-1f4b-4970-cc57-7c42c60bf5f9"
      },
      "outputs": [
        {
          "output_type": "display_data",
          "data": {
            "text/plain": [
              "<Figure size 640x480 with 1 Axes>"
            ],
            "image/png": "[encoded data removed]"
          },
          "metadata": {}
        }
      ],
      "source": [
        "plt.plot(range(len(epoch_traces)), validation_loss_traces)\n",
        "plt.xlabel('Epoch')\n",
        "plt.ylabel('Loss')\n",
        "plt.title('Epoch vs Validation Loss')\n",
        "plt.xticks(range(len(epoch_traces)), epoch_traces)\n",
        "plt.show()"
      ]
    },
    {
      "cell_type": "code",
      "execution_count": 99,
      "metadata": {
        "id": "q9Aw8Z2vGgyh",
        "colab": {
          "base_uri": "https://localhost:8080/"
        },
        "outputId": "3aac435e-7c0a-4825-f5a2-6f392f48612b"
      },
      "outputs": [
        {
          "output_type": "execute_result",
          "data": {
            "text/plain": [
              "{'accuracy': 0.7869822485207101,\n",
              " 'precision': 0.7909477009918529,\n",
              " 'recall': 0.7869822485207101,\n",
              " 'f1': 0.788464027786074,\n",
              " 'macro_precision': 0.5602566773437976,\n",
              " 'macro_recall': 0.572738895693988,\n",
              " 'macro_f1': 0.5659909328485181}"
            ]
          },
          "metadata": {},
          "execution_count": 99
        }
      ],
      "source": [
        "evaluate(model, test_loader)"
      ]
    },
    {
      "cell_type": "code",
      "execution_count": 100,
      "metadata": {
        "id": "dNMicbCTGi7_",
        "colab": {
          "base_uri": "https://localhost:8080/"
        },
        "outputId": "175176e8-156d-428f-9754-d3186cc8bdd9"
      },
      "outputs": [
        {
          "output_type": "execute_result",
          "data": {
            "text/plain": [
              "{'accuracy': 0.7911522633744856,\n",
              " 'precision': 0.7972649088195254,\n",
              " 'recall': 0.7911522633744856,\n",
              " 'f1': 0.7936530060160437,\n",
              " 'macro_precision': 0.5341119270698207,\n",
              " 'macro_recall': 0.5557662925403488,\n",
              " 'macro_f1': 0.5437776501811568}"
            ]
          },
          "metadata": {},
          "execution_count": 100
        }
      ],
      "source": [
        "evaluate(model, test_loader_latin)"
      ]
    },
    {
      "cell_type": "code",
      "execution_count": 101,
      "metadata": {
        "id": "C0_4LABCGk91",
        "colab": {
          "base_uri": "https://localhost:8080/"
        },
        "outputId": "8e19bbf4-6163-4846-8fd1-1e753b0447b6"
      },
      "outputs": [
        {
          "output_type": "execute_result",
          "data": {
            "text/plain": [
              "{'accuracy': 0.7771739130434783,\n",
              " 'precision': 0.7873515165494176,\n",
              " 'recall': 0.7771739130434783,\n",
              " 'f1': 0.7756810160065651,\n",
              " 'macro_precision': 0.8329208507010232,\n",
              " 'macro_recall': 0.6574192176870748,\n",
              " 'macro_f1': 0.7135907517212492}"
            ]
          },
          "metadata": {},
          "execution_count": 101
        }
      ],
      "source": [
        "evaluate(model, test_loader_Sinhala)"
      ]
    },
    {
      "cell_type": "code",
      "execution_count": 102,
      "metadata": {
        "id": "5xfCBwDKGm9M",
        "colab": {
          "base_uri": "https://localhost:8080/"
        },
        "outputId": "29d19e6d-f9b4-4561-92df-678682cb8f20"
      },
      "outputs": [
        {
          "output_type": "execute_result",
          "data": {
            "text/plain": [
              "{'accuracy': 0.7743589743589744,\n",
              " 'precision': 0.7856015779092701,\n",
              " 'recall': 0.7743589743589744,\n",
              " 'f1': 0.7767365967365968,\n",
              " 'macro_precision': 0.541826923076923,\n",
              " 'macro_recall': 0.550666144200627,\n",
              " 'macro_f1': 0.5443181818181818}"
            ]
          },
          "metadata": {},
          "execution_count": 102
        }
      ],
      "source": [
        "evaluate(model, test_loader_Mixed)"
      ]
    },
    {
      "cell_type": "code",
      "source": [],
      "metadata": {
        "id": "FZjKnNRK_dDo"
      },
      "execution_count": 102,
      "outputs": []
    }
  ],
  "metadata": {
    "accelerator": "GPU",
    "colab": {
      "provenance": [],
      "include_colab_link": true
    },
    "gpuClass": "standard",
    "kernelspec": {
      "display_name": "Python 3",
      "language": "python",
      "name": "python3"
    },
    "language_info": {
      "codemirror_mode": {
        "name": "ipython",
        "version": 3
      },
      "file_extension": ".py",
      "mimetype": "text/x-python",
      "name": "python",
      "nbconvert_exporter": "python",
      "pygments_lexer": "ipython3",
      "version": "3.7.12"
    }
  },
  "nbformat": 4,
  "nbformat_minor": 0
}